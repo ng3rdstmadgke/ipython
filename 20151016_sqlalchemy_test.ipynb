{
 "cells": [
  {
   "cell_type": "code",
   "execution_count": 1,
   "metadata": {
    "collapsed": true
   },
   "outputs": [],
   "source": [
    "import sqlalchemy as sq\n",
    "import sqlalchemy.orm\n",
    "import sqlalchemy.ext.declarative"
   ]
  },
  {
   "cell_type": "code",
   "execution_count": 2,
   "metadata": {
    "collapsed": false
   },
   "outputs": [],
   "source": [
    "engin = sq.create_engine(\"sqlite:///:memory:\",echo=False)\n",
    "Base = sqlalchemy.ext.declarative.declarative_base()\n",
    "class Talks(Base):\n",
    "    __tablename__ = \"talks\"\n",
    "    id = sq.Column(sq.Integer, primary_key=True)\n",
    "    name = sq.Column(sq.String)\n",
    "    date = sq.Column(sq.String)\n",
    "    psw = sq.Column(sq.String)\n",
    "    body = sq.Column(sq.String)\n",
    "Base.metadata.create_all(engin)\n",
    "Session = sqlalchemy.orm.sessionmaker(bind=engin)\n",
    "session = Session()"
   ]
  },
  {
   "cell_type": "code",
   "execution_count": 3,
   "metadata": {
    "collapsed": false
   },
   "outputs": [],
   "source": [
    "session.add(Talks(name=\"西住　みほ\", date=\"2015\", psw=\"osozvi\", body=\"hello world\"))"
   ]
  },
  {
   "cell_type": "code",
   "execution_count": 4,
   "metadata": {
    "collapsed": false
   },
   "outputs": [],
   "source": [
    "session.commit()"
   ]
  },
  {
   "cell_type": "code",
   "execution_count": 6,
   "metadata": {
    "collapsed": false
   },
   "outputs": [
    {
     "name": "stdout",
     "output_type": "stream",
     "text": [
      "students id=1, name=西住　みほ, date=2015, psw=osozvi, body=hello world\n"
     ]
    }
   ],
   "source": [
    "talk_s = session.query(Talks)\n",
    "for i in talk_s:\n",
    "    print(\"students id={}, name={}, date={}, psw={}, body={}\".format(i.id, i.name, i.date, i.psw, i.body))"
   ]
  },
  {
   "cell_type": "code",
   "execution_count": 7,
   "metadata": {
    "collapsed": false
   },
   "outputs": [],
   "source": [
    "s = session.query(Talks).filter(Talks.id == 1).first()"
   ]
  },
  {
   "cell_type": "code",
   "execution_count": 8,
   "metadata": {
    "collapsed": false
   },
   "outputs": [],
   "source": [
    "s.body = \"Hello!!\""
   ]
  },
  {
   "cell_type": "code",
   "execution_count": 9,
   "metadata": {
    "collapsed": false
   },
   "outputs": [],
   "source": [
    "session.commit()"
   ]
  },
  {
   "cell_type": "code",
   "execution_count": 10,
   "metadata": {
    "collapsed": false
   },
   "outputs": [
    {
     "name": "stdout",
     "output_type": "stream",
     "text": [
      "students id=1, name=西住　みほ, date=2015, psw=osozvi, body=Hello!!\n"
     ]
    }
   ],
   "source": [
    "talk = session.query(Talks)\n",
    "for i in talk:\n",
    "    print(\"students id={}, name={}, date={}, psw={}, body={}\".format(i.id, i.name, i.date, i.psw, i.body))"
   ]
  },
  {
   "cell_type": "code",
   "execution_count": null,
   "metadata": {
    "collapsed": true
   },
   "outputs": [],
   "source": []
  }
 ],
 "metadata": {
  "kernelspec": {
   "display_name": "Python 3",
   "language": "python",
   "name": "python3"
  },
  "language_info": {
   "codemirror_mode": {
    "name": "ipython",
    "version": 3
   },
   "file_extension": ".py",
   "mimetype": "text/x-python",
   "name": "python",
   "nbconvert_exporter": "python",
   "pygments_lexer": "ipython3",
   "version": "3.4.3"
  }
 },
 "nbformat": 4,
 "nbformat_minor": 0
}
