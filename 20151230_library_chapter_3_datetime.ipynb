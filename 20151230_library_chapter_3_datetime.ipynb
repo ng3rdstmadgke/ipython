{
 "cells": [
  {
   "cell_type": "code",
   "execution_count": 20,
   "metadata": {
    "collapsed": false
   },
   "outputs": [],
   "source": [
    "#########################################################\n",
    "# 日付や日時を扱う\n",
    "#########################################################\n",
    "# datetimeモジュールのオブジェクト\n",
    "# date - 日付を扱う\n",
    "# time - 時間を扱う\n",
    "# datetime - 日時を扱う\n",
    "# timedelta - 2つの日時の差を扱う\n",
    "import datetime"
   ]
  },
  {
   "cell_type": "code",
   "execution_count": 21,
   "metadata": {
    "collapsed": true
   },
   "outputs": [],
   "source": [
    "#########################################################\n",
    "# 日付を扱う(date)\n",
    "#########################################################"
   ]
  },
  {
   "cell_type": "code",
   "execution_count": 25,
   "metadata": {
    "collapsed": false
   },
   "outputs": [
    {
     "name": "stdout",
     "output_type": "stream",
     "text": [
      "2016-01-01\n"
     ]
    }
   ],
   "source": [
    "# date(year, month, day)\n",
    "# text : 指定した日付のdateオブジェクトを生成するためのコンストラクタ\n",
    "# param : year - int, month - int, day - int\n",
    "# return : datetime.date\n",
    "newyear = datetime.date(2016, 1, 1)\n",
    "print(newyear)"
   ]
  },
  {
   "cell_type": "code",
   "execution_count": 26,
   "metadata": {
    "collapsed": false
   },
   "outputs": [
    {
     "name": "stdout",
     "output_type": "stream",
     "text": [
      "2015-12-30\n"
     ]
    }
   ],
   "source": [
    "# today()\n",
    "# text : 今日の日付のdateオブジェクトを生成するクラスメソッド\n",
    "# return : datetime.date\n",
    "ret = datetime.date.today()\n",
    "print(ret)"
   ]
  },
  {
   "cell_type": "code",
   "execution_count": 28,
   "metadata": {
    "collapsed": false
   },
   "outputs": [
    {
     "name": "stdout",
     "output_type": "stream",
     "text": [
      "4\n",
      "2\n"
     ]
    }
   ],
   "source": [
    "# weekday()\n",
    "# text : 月曜を0、日曜を6として曜日を返す\n",
    "# return : int\n",
    "print(newyear.weekday())\n",
    "print(ret.weekday())"
   ]
  },
  {
   "cell_type": "code",
   "execution_count": 30,
   "metadata": {
    "collapsed": false
   },
   "outputs": [
    {
     "name": "stdout",
     "output_type": "stream",
     "text": [
      "5\n",
      "3\n"
     ]
    }
   ],
   "source": [
    "# isoweekday()\n",
    "# text : 月曜を1、日曜を7として曜日を返す\n",
    "# return : int\n",
    "print(newyear.isoweekday())\n",
    "print(ret.isoweekday())"
   ]
  },
  {
   "cell_type": "code",
   "execution_count": 31,
   "metadata": {
    "collapsed": false
   },
   "outputs": [
    {
     "name": "stdout",
     "output_type": "stream",
     "text": [
      "2016-01-01\n",
      "2015-12-30\n"
     ]
    }
   ],
   "source": [
    "# isoformat()\n",
    "# text : iso8601形式(yyyy-mm-dd形式)の日付文字列を生成する\n",
    "# return : str\n",
    "print(newyear.isoformat())\n",
    "print(ret.isoformat())"
   ]
  },
  {
   "cell_type": "code",
   "execution_count": 33,
   "metadata": {
    "collapsed": false
   },
   "outputs": [
    {
     "name": "stdout",
     "output_type": "stream",
     "text": [
      "2016/01/01 (Fri)\n",
      "Jan\n",
      "2015年12月30日\n"
     ]
    }
   ],
   "source": [
    "# strftime(format)\n",
    "# text : 指定したフォーマットに従って日付文字列を返す。\n",
    "# param : format - str(%Y-year, %m-month, %d-day, %a-weekday, %b-month_name)\n",
    "# return : str\n",
    "print(newyear.strftime(\"%Y/%m/%d (%a)\"))\n",
    "print(newyear.strftime(\"%b\"))\n",
    "print(ret.strftime(\"%Y年%m月%d日\"))"
   ]
  },
  {
   "cell_type": "code",
   "execution_count": 35,
   "metadata": {
    "collapsed": false
   },
   "outputs": [
    {
     "name": "stdout",
     "output_type": "stream",
     "text": [
      "2016-01-01\n",
      "2016-01-01\n"
     ]
    }
   ],
   "source": [
    "# __str__()\n",
    "# text : isoformat()と同じ結果を返す\n",
    "# return : str\n",
    "print(newyear.__str__())\n",
    "print(str(newyear))"
   ]
  },
  {
   "cell_type": "code",
   "execution_count": 36,
   "metadata": {
    "collapsed": false
   },
   "outputs": [
    {
     "name": "stdout",
     "output_type": "stream",
     "text": [
      "2015\n",
      "12\n",
      "30\n"
     ]
    }
   ],
   "source": [
    "# dateのアトリビュート\n",
    "# year, month, day\n",
    "print(datetime.date.today().year)\n",
    "print(datetime.date.today().month)\n",
    "print(datetime.date.today().day)"
   ]
  },
  {
   "cell_type": "code",
   "execution_count": 38,
   "metadata": {
    "collapsed": true
   },
   "outputs": [],
   "source": [
    "#########################################################\n",
    "# 時間を扱う(time)\n",
    "#########################################################\n",
    "# dateと異なり、timeのコンストラクタは任意の値のみ指定できる点に注意"
   ]
  },
  {
   "cell_type": "code",
   "execution_count": 43,
   "metadata": {
    "collapsed": false
   },
   "outputs": [
    {
     "name": "stdout",
     "output_type": "stream",
     "text": [
      "15:43:30.123456\n"
     ]
    }
   ],
   "source": [
    "# time(hour=0, minute=0, second=0, microsecond=0, tzinfo=None)\n",
    "# text : 指定した時刻のtimeオブジェクトを生成するコンストラクタ\n",
    "# param : hour~microsecond - int, tzinfo - obj\n",
    "# return : datetime.time\n",
    "now = datetime.time(15, 43, 30, 123456)\n",
    "print(now)"
   ]
  },
  {
   "cell_type": "code",
   "execution_count": 44,
   "metadata": {
    "collapsed": false
   },
   "outputs": [
    {
     "name": "stdout",
     "output_type": "stream",
     "text": [
      "15:43:30.123456\n"
     ]
    }
   ],
   "source": [
    "# isoformat()\n",
    "# text : iso8601形式(HH:MM:SS.mmmmmm形式)の日付文字列を生成する\n",
    "# return : str\n",
    "print(now.isoformat())"
   ]
  },
  {
   "cell_type": "code",
   "execution_count": 56,
   "metadata": {
    "collapsed": false
   },
   "outputs": [
    {
     "name": "stdout",
     "output_type": "stream",
     "text": [
      "15:43:30.123456\n"
     ]
    }
   ],
   "source": [
    "# strftime(format)\n",
    "# text : 指定したフォーマットに従って日付文字列を返す。\n",
    "# param : format - str(%H-hour, %M-minute, %S-second, %f-microsecond)\n",
    "# return : str\n",
    "\"\"\"\n",
    "import string\n",
    "for i in list(string.ascii_letters):\n",
    "    text = \"{0} : %{0}\".format(i)\n",
    "    print(now.strftime(text))\n",
    "\"\"\"\n",
    "print(now.strftime(\"%H:%M:%S.%f\"))"
   ]
  },
  {
   "cell_type": "code",
   "execution_count": 57,
   "metadata": {
    "collapsed": false
   },
   "outputs": [
    {
     "name": "stdout",
     "output_type": "stream",
     "text": [
      "15:43:30.123456\n",
      "15:43:30.123456\n"
     ]
    }
   ],
   "source": [
    "# __str__()\n",
    "# text : isoformat()と同じ結果を返す\n",
    "# return : str\n",
    "print(now.__str__())\n",
    "print(str(now))"
   ]
  },
  {
   "cell_type": "code",
   "execution_count": 58,
   "metadata": {
    "collapsed": false
   },
   "outputs": [
    {
     "name": "stdout",
     "output_type": "stream",
     "text": [
      "None\n"
     ]
    }
   ],
   "source": [
    "# tzname()\n",
    "# text : タイムゾーンの名前の文字列を返す\n",
    "# return : str\n",
    "print(now.tzname())"
   ]
  },
  {
   "cell_type": "code",
   "execution_count": 60,
   "metadata": {
    "collapsed": false
   },
   "outputs": [
    {
     "name": "stdout",
     "output_type": "stream",
     "text": [
      "15\n",
      "43\n",
      "30\n",
      "123456\n",
      "None\n"
     ]
    }
   ],
   "source": [
    "# timeのアトリビュート\n",
    "# hour, minute, second, microsecond, tzinfo\n",
    "print(now.hour)\n",
    "print(now.minute)\n",
    "print(now.second)\n",
    "print(now.microsecond)\n",
    "print(now.tzinfo)"
   ]
  },
  {
   "cell_type": "code",
   "execution_count": 61,
   "metadata": {
    "collapsed": true
   },
   "outputs": [],
   "source": [
    "#########################################################\n",
    "# 日時を扱う(datetime)\n",
    "#########################################################"
   ]
  },
  {
   "cell_type": "code",
   "execution_count": 63,
   "metadata": {
    "collapsed": false
   },
   "outputs": [
    {
     "name": "stdout",
     "output_type": "stream",
     "text": [
      "2015-12-30 16:09:20.123456\n"
     ]
    }
   ],
   "source": [
    "# datetime(year, month, day, hour=0, minute=0, second=0, microsecond=0, tzinfo=None)\n",
    "# text : 指定した日時のdatetimeオブジェクトを生成するコンストラクタ\n",
    "# param : year~microsecond - int, tzinfo - obj\n",
    "# return : datetime.datetime\n",
    "aday = datetime.datetime(2015, 12, 30, 16, 9, 20, 123456)\n",
    "print(aday)"
   ]
  },
  {
   "cell_type": "code",
   "execution_count": 64,
   "metadata": {
    "collapsed": false
   },
   "outputs": [
    {
     "name": "stdout",
     "output_type": "stream",
     "text": [
      "2015-12-30 16:12:03.879063\n"
     ]
    }
   ],
   "source": [
    "# today()\n",
    "# text : デフォルトのタイムゾーンの現在日時を返すクラスメソッド\n",
    "# return : datetime.datetime\n",
    "today = datetime.datetime.today()\n",
    "print(today)"
   ]
  },
  {
   "cell_type": "code",
   "execution_count": 65,
   "metadata": {
    "collapsed": false
   },
   "outputs": [
    {
     "name": "stdout",
     "output_type": "stream",
     "text": [
      "2015-12-30 07:13:55.347580\n"
     ]
    }
   ],
   "source": [
    "# utcnow()\n",
    "# text : UTC(協定世界時)の現在日時を返すクラスメソッド\n",
    "# return : datetime.datetime\n",
    "utc = datetime.datetime.utcnow()\n",
    "print(utc)"
   ]
  },
  {
   "cell_type": "code",
   "execution_count": 69,
   "metadata": {
    "collapsed": false
   },
   "outputs": [
    {
     "name": "stdout",
     "output_type": "stream",
     "text": [
      "2015-12-30\n"
     ]
    }
   ],
   "source": [
    "# date()\n",
    "# text : 同じ年月日のdateオブジェクトを返す\n",
    "# return : datetime.date\n",
    "print(today.date())"
   ]
  },
  {
   "cell_type": "code",
   "execution_count": 70,
   "metadata": {
    "collapsed": false
   },
   "outputs": [
    {
     "name": "stdout",
     "output_type": "stream",
     "text": [
      "16:12:03.879063\n"
     ]
    }
   ],
   "source": [
    "# time()\n",
    "# text : 同じ時分秒のtimeオブジェクトを返す\n",
    "# return : datetime.time\n",
    "print(today.time())"
   ]
  },
  {
   "cell_type": "code",
   "execution_count": 71,
   "metadata": {
    "collapsed": false
   },
   "outputs": [
    {
     "name": "stdout",
     "output_type": "stream",
     "text": [
      "2015-12-30T16:12:03.879063\n"
     ]
    }
   ],
   "source": [
    "# isoformat()\n",
    "# text : iso8601形式(YYYY-MM-DDTHH:MM:SS.mmmmmm形式)の日付文字列を生成する\n",
    "# return : str\n",
    "print(today.isoformat())"
   ]
  },
  {
   "cell_type": "code",
   "execution_count": 72,
   "metadata": {
    "collapsed": false
   },
   "outputs": [
    {
     "name": "stdout",
     "output_type": "stream",
     "text": [
      "2015-12-30 16:12:03.1451459523 (Wed)(Dec)\n"
     ]
    }
   ],
   "source": [
    "# strftime(format)\n",
    "# text : 指定したフォーマットに沿って日時の文字列を返す\n",
    "# param : str \n",
    "# return : str\n",
    "print(today.strftime(\"%Y-%m-%d %H:%M:%S.%s (%a)(%b)\"))"
   ]
  },
  {
   "cell_type": "code",
   "execution_count": 74,
   "metadata": {
    "collapsed": false
   },
   "outputs": [
    {
     "name": "stdout",
     "output_type": "stream",
     "text": [
      "2015-12-30 16:12:03.879063\n",
      "2015-12-30 16:12:03.879063\n"
     ]
    }
   ],
   "source": [
    "# __str__()\n",
    "# text : isoformat()と同じ結果を返す\n",
    "# return : str\n",
    "print(today.__str__())\n",
    "print(str(today))"
   ]
  },
  {
   "cell_type": "code",
   "execution_count": 75,
   "metadata": {
    "collapsed": false
   },
   "outputs": [
    {
     "name": "stdout",
     "output_type": "stream",
     "text": [
      "None\n"
     ]
    }
   ],
   "source": [
    "# tzname()\n",
    "# text : タイムゾーンの名前の文字列を返す\n",
    "# return : str\n",
    "print(today.tzname())"
   ]
  },
  {
   "cell_type": "code",
   "execution_count": 76,
   "metadata": {
    "collapsed": true
   },
   "outputs": [],
   "source": [
    "#########################################################\n",
    "# 日時の差を扱う(timedelta)\n",
    "#########################################################"
   ]
  },
  {
   "cell_type": "code",
   "execution_count": 79,
   "metadata": {
    "collapsed": false
   },
   "outputs": [
    {
     "name": "stdout",
     "output_type": "stream",
     "text": [
      "365 days, 0:00:00\n"
     ]
    },
    {
     "data": {
      "text/plain": [
       "datetime.timedelta"
      ]
     },
     "execution_count": 79,
     "metadata": {},
     "output_type": "execute_result"
    }
   ],
   "source": [
    "# timedelta(days=0, seconds=0, microseconds=0, milliseconds=0, minutes=0, hours=0, weeks=0)\n",
    "# text : 指定した数値(int, float *負の値も可)の日時の差を生成するコンストラクタ\n",
    "# param : days~weeks - int or float\n",
    "# return : datetime.timedelta\n",
    "today = datetime.date.today()\n",
    "someday = datetime.date(2014, 12, 30)\n",
    "delta = today - someday\n",
    "print(delta)\n",
    "type(delta)"
   ]
  },
  {
   "cell_type": "code",
   "execution_count": 80,
   "metadata": {
    "collapsed": false
   },
   "outputs": [
    {
     "name": "stdout",
     "output_type": "stream",
     "text": [
      "2016-01-06\n"
     ]
    }
   ],
   "source": [
    "week = datetime.timedelta(days=7)\n",
    "next = today + week\n",
    "print(str(next))"
   ]
  },
  {
   "cell_type": "code",
   "execution_count": 81,
   "metadata": {
    "collapsed": false
   },
   "outputs": [
    {
     "name": "stdout",
     "output_type": "stream",
     "text": [
      "OK\n"
     ]
    }
   ],
   "source": [
    "# おまけ time\n",
    "# sleep(secs)\n",
    "# 指定した秒数だけ処理を停止する\n",
    "# param : int or float\n",
    "# return : なし\n",
    "import time\n",
    "time.sleep(3)\n",
    "print(\"OK\")"
   ]
  },
  {
   "cell_type": "code",
   "execution_count": null,
   "metadata": {
    "collapsed": true
   },
   "outputs": [],
   "source": []
  }
 ],
 "metadata": {
  "kernelspec": {
   "display_name": "Python 3",
   "language": "python",
   "name": "python3"
  },
  "language_info": {
   "codemirror_mode": {
    "name": "ipython",
    "version": 3
   },
   "file_extension": ".py",
   "mimetype": "text/x-python",
   "name": "python",
   "nbconvert_exporter": "python",
   "pygments_lexer": "ipython3",
   "version": "3.4.3"
  }
 },
 "nbformat": 4,
 "nbformat_minor": 0
}
