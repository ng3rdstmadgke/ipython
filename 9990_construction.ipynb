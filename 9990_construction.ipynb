{
 "cells": [
  {
   "cell_type": "code",
   "execution_count": 5,
   "metadata": {
    "collapsed": false
   },
   "outputs": [
    {
     "name": "stdout",
     "output_type": "stream",
     "text": [
      "[0, 1, 2, 3, 4, 5, 6]\n",
      "[2, 4, 6]\n"
     ]
    }
   ],
   "source": [
    "# ===================================\n",
    "# 内包表記\n",
    "# ==================================="
   ]
  },
  {
   "cell_type": "code",
   "execution_count": null,
   "metadata": {
    "collapsed": true
   },
   "outputs": [],
   "source": [
    "# リスト内包表記\n",
    "\n",
    "# 基本形\n",
    "number_list = [i for i in range(7)]\n",
    "print(number_list)\n",
    "\n",
    "# 条件式つき\n",
    "number_list = [i for i in range(7) if i % 2 == 0 and i != 0]\n",
    "print(number_list)"
   ]
  },
  {
   "cell_type": "code",
   "execution_count": 13,
   "metadata": {
    "collapsed": false
   },
   "outputs": [
    {
     "name": "stdout",
     "output_type": "stream",
     "text": [
      "{'c': 2, 'b': 2, 'e': 1, 'd': 1, 'a': 2}\n"
     ]
    }
   ],
   "source": [
    "# 辞書内包表記\n",
    "al = \"abcdeabc\"\n",
    "alnum_dict = {i: al.count(i) for i in al}\n",
    "print(alnum_dict)"
   ]
  },
  {
   "cell_type": "code",
   "execution_count": 15,
   "metadata": {
    "collapsed": false
   },
   "outputs": [
    {
     "name": "stdout",
     "output_type": "stream",
     "text": [
      "{8, 2, 4, 6}\n"
     ]
    }
   ],
   "source": [
    "# 集合内包表記\n",
    "a_set = {i for i in range(10) if i % 2 == 0 and i !=0}\n",
    "print(a_set)"
   ]
  },
  {
   "cell_type": "code",
   "execution_count": 17,
   "metadata": {
    "collapsed": false
   },
   "outputs": [
    {
     "name": "stdout",
     "output_type": "stream",
     "text": [
      "<class 'generator'>\n",
      "[1, 2, 3, 4, 5, 6, 7, 8, 9, 10]\n",
      "[]\n"
     ]
    }
   ],
   "source": [
    "# ジェネレータ内包表記\n",
    "number_thing = (i for i in range(1,11))\n",
    "print(type(number_thing))\n",
    "\n",
    "print(list(number_thing))\n",
    "print(list(number_thing))"
   ]
  },
  {
   "cell_type": "code",
   "execution_count": 18,
   "metadata": {
    "collapsed": true
   },
   "outputs": [],
   "source": [
    "# タプルの内包表記は存在しない"
   ]
  },
  {
   "cell_type": "code",
   "execution_count": 9,
   "metadata": {
    "collapsed": true
   },
   "outputs": [],
   "source": [
    "# ===================================\n",
    "# エラー処理\n",
    "# ===================================\n",
    "\"\"\"\n",
    "try : エラーが起こると、exceptブロックが実行される\n",
    "except : tryブロックで指定したエラーが起こると実行される\n",
    "else : tryブロックでエラーが発生しなかった場合に実行される\n",
    "finary : tryブロックでエラーが発生してもしなくても実行される\n",
    "\"\"\""
   ]
  },
  {
   "cell_type": "code",
   "execution_count": 13,
   "metadata": {
    "collapsed": false
   },
   "outputs": [
    {
     "name": "stdout",
     "output_type": "stream",
     "text": [
      "input : 1\n",
      "2\n",
      "ELSE\n",
      "Finally\n",
      "\n",
      "input : 2\n",
      "3\n",
      "ELSE\n",
      "Finally\n",
      "\n",
      "input : 3\n",
      "Bad index\n",
      "Finally\n",
      "\n",
      "input : two\n",
      "Something else broke\n",
      "Finally\n",
      "\n",
      "input : q\n"
     ]
    }
   ],
   "source": [
    "short_list = [1,2,3]\n",
    "while True:\n",
    "    value = input(\"input : \")\n",
    "    if value == \"q\":\n",
    "        break\n",
    "    try:\n",
    "        position = int(value)\n",
    "        print(short_list[position])\n",
    "    except IndexError as err:\n",
    "        print(\"Bad index\")\n",
    "    except Exception as other:\n",
    "        print(\"Something else broke\")\n",
    "    else:\n",
    "        print(\"ELSE\")\n",
    "    finally:\n",
    "        print(\"Finally\", end=\"\\n\\n\")"
   ]
  },
  {
   "cell_type": "code",
   "execution_count": null,
   "metadata": {
    "collapsed": true
   },
   "outputs": [],
   "source": []
  }
 ],
 "metadata": {
  "kernelspec": {
   "display_name": "Python 3",
   "language": "python",
   "name": "python3"
  },
  "language_info": {
   "codemirror_mode": {
    "name": "ipython",
    "version": 3
   },
   "file_extension": ".py",
   "mimetype": "text/x-python",
   "name": "python",
   "nbconvert_exporter": "python",
   "pygments_lexer": "ipython3",
   "version": "3.5.1+"
  }
 },
 "nbformat": 4,
 "nbformat_minor": 0
}
