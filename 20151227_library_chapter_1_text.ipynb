{
 "cells": [
  {
   "cell_type": "code",
   "execution_count": 14,
   "metadata": {
    "collapsed": false
   },
   "outputs": [
    {
     "name": "stdout",
     "output_type": "stream",
     "text": [
      "True\n",
      "True\n",
      "True\n",
      "False\n"
     ]
    }
   ],
   "source": [
    "# 文字列が数字と文字のみの場合にTrueを返す\n",
    "print(\"abc\".isalnum())\n",
    "print(\"あいう\".isalnum())\n",
    "print(\"123\".isalnum())\n",
    "print(\"#\".isalnum())"
   ]
  },
  {
   "cell_type": "code",
   "execution_count": 15,
   "metadata": {
    "collapsed": false
   },
   "outputs": [
    {
     "name": "stdout",
     "output_type": "stream",
     "text": [
      "True\n",
      "True\n",
      "False\n",
      "False\n"
     ]
    }
   ],
   "source": [
    "# 文字列が文字のみの場合にTrueを返す\n",
    "print(\"abc\".isalpha())\n",
    "print(\"あいう\".isalpha())\n",
    "print(\"123\".isalpha())\n",
    "print(\"#\".isalpha())"
   ]
  },
  {
   "cell_type": "code",
   "execution_count": 16,
   "metadata": {
    "collapsed": false
   },
   "outputs": [
    {
     "name": "stdout",
     "output_type": "stream",
     "text": [
      "False\n",
      "False\n",
      "True\n",
      "True\n",
      "False\n"
     ]
    }
   ],
   "source": [
    "#文字列が10進数を表す場合にTrueを返す。\n",
    "print(\"abc\".isdecimal())\n",
    "print(\"あいう\".isdecimal())\n",
    "print(\"123\".isdecimal())\n",
    "print(\"110101\".isdecimal())\n",
    "print(\"#\".isdecimal())"
   ]
  },
  {
   "cell_type": "code",
   "execution_count": 17,
   "metadata": {
    "collapsed": false
   },
   "outputs": [
    {
     "name": "stdout",
     "output_type": "stream",
     "text": [
      "True\n",
      "False\n"
     ]
    }
   ],
   "source": [
    "# 文字列が数字を表す文字のみの場合にTrueを返す\n",
    "print(\"123\".isdigit())\n",
    "print(\"asd\".isdigit())"
   ]
  },
  {
   "cell_type": "code",
   "execution_count": 18,
   "metadata": {
    "collapsed": false
   },
   "outputs": [
    {
     "name": "stdout",
     "output_type": "stream",
     "text": [
      "True\n",
      "False\n",
      "False\n",
      "False\n"
     ]
    }
   ],
   "source": [
    "# 文字列がすべて小文字の場合にTrueを返す\n",
    "print(\"abc\".islower())\n",
    "print(\"Abc\".islower())\n",
    "print(\"123\".islower())\n",
    "print(\"#$%\".islower())"
   ]
  },
  {
   "cell_type": "code",
   "execution_count": 19,
   "metadata": {
    "collapsed": false
   },
   "outputs": [
    {
     "name": "stdout",
     "output_type": "stream",
     "text": [
      "False\n",
      "True\n",
      "True\n",
      "True\n",
      "True\n",
      "True\n",
      "False\n"
     ]
    }
   ],
   "source": [
    "# 数を表す文字の場合にTrueを返す。漢数字なども含まれる。\n",
    "print(\"abc\".isnumeric())\n",
    "print(\"123\".isnumeric())\n",
    "print(\"１２３４\".isnumeric())\n",
    "print(\"一二三\".isnumeric())\n",
    "print(\"①\".isnumeric())\n",
    "print(\"一兆\".isnumeric())\n",
    "print(\"一京\".isnumeric())"
   ]
  },
  {
   "cell_type": "code",
   "execution_count": 20,
   "metadata": {
    "collapsed": false
   },
   "outputs": [
    {
     "name": "stdout",
     "output_type": "stream",
     "text": [
      "True\n",
      "True\n",
      "True\n",
      "True\n",
      "False\n"
     ]
    }
   ],
   "source": [
    "# スペース、タブなどの空白文字の場合にTrueを返す\n",
    "print(\" \".isspace())\n",
    "print(\"\\n\".isspace())\n",
    "print(\"\\t\".isspace())\n",
    "print(\"\\n\\r\".isspace())\n",
    "print(\"123\".isspace())"
   ]
  },
  {
   "cell_type": "code",
   "execution_count": 21,
   "metadata": {
    "collapsed": false
   },
   "outputs": [
    {
     "name": "stdout",
     "output_type": "stream",
     "text": [
      "True\n",
      "True\n",
      "False\n",
      "False\n",
      "False\n"
     ]
    }
   ],
   "source": [
    "# 先頭のみ大文字であとは小文字の文字列の場合にTrueを返す\n",
    "print(\"Hello\".istitle())\n",
    "print(\"Hello World\".istitle())\n",
    "print(\"hello\".istitle())\n",
    "print(\"HelloWorld\".istitle())\n",
    "print(\"Hello world\".istitle())"
   ]
  },
  {
   "cell_type": "code",
   "execution_count": 22,
   "metadata": {
    "collapsed": false
   },
   "outputs": [
    {
     "name": "stdout",
     "output_type": "stream",
     "text": [
      "True\n",
      "False\n",
      "False\n"
     ]
    }
   ],
   "source": [
    "# 文字列がすべて大文字の場合にTrueを返す\n",
    "print(\"ABC\".isupper())\n",
    "print(\"abc\".isupper())\n",
    "print(\"あいう\".isupper())"
   ]
  },
  {
   "cell_type": "code",
   "execution_count": 23,
   "metadata": {
    "collapsed": true
   },
   "outputs": [],
   "source": [
    "#########################################################\n",
    "# 文字列の変換メソッド\n",
    "#########################################################"
   ]
  },
  {
   "cell_type": "code",
   "execution_count": 24,
   "metadata": {
    "collapsed": false
   },
   "outputs": [
    {
     "name": "stdout",
     "output_type": "stream",
     "text": [
      "ABC\n",
      "123!\n",
      "あいう\n"
     ]
    }
   ],
   "source": [
    "# 文字列をすべて大文字に変換する\n",
    "print(\"abc\".upper())\n",
    "print(\"123!\".upper())\n",
    "print(\"あいう\".upper())"
   ]
  },
  {
   "cell_type": "code",
   "execution_count": 25,
   "metadata": {
    "collapsed": false
   },
   "outputs": [
    {
     "name": "stdout",
     "output_type": "stream",
     "text": [
      "abc\n",
      "123!\n",
      "あいう\n"
     ]
    }
   ],
   "source": [
    "# 文字列をすべて小文字に変換する\n",
    "print(\"ABC\".lower())\n",
    "print(\"123!\".lower())\n",
    "print(\"あいう\".lower())"
   ]
  },
  {
   "cell_type": "code",
   "execution_count": 26,
   "metadata": {
    "collapsed": false
   },
   "outputs": [
    {
     "name": "stdout",
     "output_type": "stream",
     "text": [
      "ABCxyz\n",
      "123!あいう\n"
     ]
    }
   ],
   "source": [
    "# 大文字を小文字に、小文字を大文字に変換する\n",
    "print(\"abcXYZ\".swapcase())\n",
    "print(\"123!あいう\".swapcase())"
   ]
  },
  {
   "cell_type": "code",
   "execution_count": 27,
   "metadata": {
    "collapsed": false
   },
   "outputs": [
    {
     "name": "stdout",
     "output_type": "stream",
     "text": [
      "Hello\n",
      "Hello\n",
      "Hello world\n",
      "Hello world\n"
     ]
    }
   ],
   "source": [
    "# 先頭の一文字を大文字にし、それ以外を小文字にする\n",
    "print(\"hello\".capitalize())\n",
    "print(\"heLLO\".capitalize())\n",
    "print(\"hello world\".capitalize())\n",
    "print(\"hello World\".capitalize())"
   ]
  },
  {
   "cell_type": "code",
   "execution_count": 28,
   "metadata": {
    "collapsed": false
   },
   "outputs": [
    {
     "name": "stdout",
     "output_type": "stream",
     "text": [
      "Hello\n",
      "Hello\n",
      "Hello World\n",
      "Hello World\n"
     ]
    }
   ],
   "source": [
    "# 単語ごとに大文字1文字 + 小文字の形式に変換する\n",
    "print(\"hello\".title())\n",
    "print(\"heLLO\".title())\n",
    "print(\"hello world\".title())\n",
    "print(\"hello World\".title())"
   ]
  },
  {
   "cell_type": "code",
   "execution_count": 29,
   "metadata": {
    "collapsed": false
   },
   "outputs": [
    {
     "name": "stdout",
     "output_type": "stream",
     "text": [
      "world\n",
      "world world hello\n"
     ]
    }
   ],
   "source": [
    "# oldをnewに変換した文字列を返す。countが指定された場合は先頭から指定した数だけ変換する\n",
    "# replace(old, new[, count])\n",
    "print(\"hello\".replace(\"hello\", \"world\"))\n",
    "print(\"hello hello hello\".replace(\"hello\", \"world\", 2))"
   ]
  },
  {
   "cell_type": "code",
   "execution_count": 30,
   "metadata": {
    "collapsed": true
   },
   "outputs": [],
   "source": [
    "#########################################################\n",
    "# 書式化メソッド\n",
    "#########################################################"
   ]
  },
  {
   "cell_type": "code",
   "execution_count": 31,
   "metadata": {
    "collapsed": false
   },
   "outputs": [
    {
     "name": "stdout",
     "output_type": "stream",
     "text": [
      "a,b,c\n",
      "b,a,c\n",
      "hello,!!,world\n",
      "hello world !!\n",
      "hello world !!\n"
     ]
    }
   ],
   "source": [
    "# format(*args, **kwargs)\n",
    "print(\"{},{},{}\".format(\"a\", \"b\", \"c\"))\n",
    "print(\"{1},{0},{2}\".format(\"a\", \"b\", \"c\"))\n",
    "print(\"{name1},{name3},{name2}\".format(name1=\"hello\", name2=\"world\", name3=\"!!\"))\n",
    "sample_list = [\"hello\", \"world\", \"!!\"]\n",
    "print(\"{0[0]} {0[1]} {0[2]}\".format(sample_list))\n",
    "sample_dict = dict(name1=\"hello\", name2=\"world\", name3=\"!!\")\n",
    "print(\"{0[name1]} {0[name2]} {0[name3]}\".format(sample_dict))"
   ]
  },
  {
   "cell_type": "code",
   "execution_count": 32,
   "metadata": {
    "collapsed": false
   },
   "outputs": [
    {
     "name": "stdout",
     "output_type": "stream",
     "text": [
      "hello,world,!!\n"
     ]
    }
   ],
   "source": [
    "# format_map(mapping)\n",
    "sample = dict(name1=\"hello\", name2=\"world\", name3=\"!!\")\n",
    "print(\"{name1},{name2},{name3}\".format_map(sample))"
   ]
  },
  {
   "cell_type": "code",
   "execution_count": 33,
   "metadata": {
    "collapsed": false
   },
   "outputs": [
    {
     "name": "stdout",
     "output_type": "stream",
     "text": [
      "hello                         ,            hello             ,                         hello\n"
     ]
    }
   ],
   "source": [
    "# 指定した幅で左寄せ、右寄せ、中央添えする\n",
    "print(\"{0:<30},{0:^30},{0:>30}\".format(\"hello\"))"
   ]
  },
  {
   "cell_type": "code",
   "execution_count": 34,
   "metadata": {
    "collapsed": false
   },
   "outputs": [
    {
     "name": "stdout",
     "output_type": "stream",
     "text": [
      "hello------------------------- ############hello############# =========================hello\n"
     ]
    }
   ],
   "source": [
    "# 左寄せ、右寄せ、中央添えでスペースの代わりに指定した文字で埋める\n",
    "print(\"{0:-<30} {0:#^30} {0:=>30}\".format(\"hello\"))"
   ]
  },
  {
   "cell_type": "code",
   "execution_count": 35,
   "metadata": {
    "collapsed": false
   },
   "outputs": [
    {
     "name": "stdout",
     "output_type": "stream",
     "text": [
      "1111101000 1750 1000 3e8 3E8\n"
     ]
    }
   ],
   "source": [
    "# 2進数、8進数、10進数、16進数(小文字)、16進数(大文字)に変換する\n",
    "# :b, :o, :d, :x, :X\n",
    "print(\"{num:b} {num:o} {num:d} {num:x} {num:X}\".format(num=1000))"
   ]
  },
  {
   "cell_type": "code",
   "execution_count": 36,
   "metadata": {
    "collapsed": false
   },
   "outputs": [
    {
     "name": "stdout",
     "output_type": "stream",
     "text": [
      "2.450000\n"
     ]
    }
   ],
   "source": [
    "# 固定小数点の文字列に変換する\n",
    "print(\"{num:f}\".format(num=2.45))"
   ]
  },
  {
   "cell_type": "code",
   "execution_count": 37,
   "metadata": {
    "collapsed": false
   },
   "outputs": [
    {
     "name": "stdout",
     "output_type": "stream",
     "text": [
      "45.000000%\n"
     ]
    }
   ],
   "source": [
    "# 百分率の表記に変換する\n",
    "print(\"{num:%}\".format(num=0.45))"
   ]
  },
  {
   "cell_type": "code",
   "execution_count": 38,
   "metadata": {
    "collapsed": false
   },
   "outputs": [
    {
     "name": "stdout",
     "output_type": "stream",
     "text": [
      "1,234,567,890\n"
     ]
    }
   ],
   "source": [
    "# 数値の3桁ごとにカンマを挿入する\n",
    "print(\"{num:,}\".format(num=1234567890))"
   ]
  },
  {
   "cell_type": "code",
   "execution_count": 39,
   "metadata": {
    "collapsed": false
   },
   "outputs": [
    {
     "name": "stdout",
     "output_type": "stream",
     "text": [
      "    0.04,   4.50%\n"
     ]
    }
   ],
   "source": [
    "# 表示する桁数を指定する6は全体の桁数、2は小数点以下の桁数\n",
    "# :6.2f\n",
    "print(\"{num:8.2f},{num:8.2%}\".format(num=0.045))"
   ]
  },
  {
   "cell_type": "code",
   "execution_count": 40,
   "metadata": {
    "collapsed": false
   },
   "outputs": [
    {
     "name": "stdout",
     "output_type": "stream",
     "text": [
      "2015年12月28日 14時39分40秒\n"
     ]
    }
   ],
   "source": [
    "# 日付型特有の書式で、年月日などに変換する\n",
    "import datetime\n",
    "today_now = datetime.datetime.now()\n",
    "print(\"{now:%Y年%m月%d日 %H時%M分%S秒}\".format(now=today_now))"
   ]
  },
  {
   "cell_type": "code",
   "execution_count": 41,
   "metadata": {
    "collapsed": true
   },
   "outputs": [],
   "source": [
    "#########################################################\n",
    "# その他の文字列メソッド\n",
    "#########################################################"
   ]
  },
  {
   "cell_type": "code",
   "execution_count": 42,
   "metadata": {
    "collapsed": false
   },
   "outputs": [
    {
     "name": "stdout",
     "output_type": "stream",
     "text": [
      "6\n",
      "7\n",
      "-1\n"
     ]
    }
   ],
   "source": [
    "# 文字列中にsubが出現する位置を返す。存在しない場合は-1を返す\n",
    "# find(sub[,start[,end]])\n",
    "text = \"hello world !!\"\n",
    "print(text.find(\"world\"))\n",
    "print(text.find(\"o\", 6, 10))\n",
    "print(text.find(\"Hello\"))"
   ]
  },
  {
   "cell_type": "code",
   "execution_count": 43,
   "metadata": {
    "collapsed": false
   },
   "outputs": [
    {
     "name": "stdout",
     "output_type": "stream",
     "text": [
      "['hello', 'world', '!!']\n",
      "['hello', 'world', '!!']\n"
     ]
    }
   ],
   "source": [
    "# 文字列を分割する。デフォルトでは空白文字で分割する\n",
    "text = \"hello world !!\"\n",
    "csv = \"hello,world,!!\"\n",
    "print(text.split())\n",
    "print(csv.split(\",\"))"
   ]
  },
  {
   "cell_type": "code",
   "execution_count": 44,
   "metadata": {
    "collapsed": false
   },
   "outputs": [
    {
     "data": {
      "text/plain": [
       "'hello==world==!!'"
      ]
     },
     "execution_count": 44,
     "metadata": {},
     "output_type": "execute_result"
    }
   ],
   "source": [
    "# 引数に文字列のリストをとり、任意の文字列で連結する\n",
    "\"==\".join(['hello', 'world', '!!'])"
   ]
  },
  {
   "cell_type": "code",
   "execution_count": 45,
   "metadata": {
    "collapsed": false
   },
   "outputs": [
    {
     "name": "stdout",
     "output_type": "stream",
     "text": [
      "True\n",
      "False\n"
     ]
    }
   ],
   "source": [
    "# 指定した接頭辞を持つ文字列化を調べる。prefixにはタプルで複数の候補が指定できる。start,endは調査する位置の指定に使用する\n",
    "# startswith(prefix[,start[,end]])\n",
    "print(\"Hello World\".startswith((\"hello\", \"Hello\"), 0, 10))\n",
    "print(\"Hello World\".startswith(\"hello\", 0, 10))"
   ]
  },
  {
   "cell_type": "code",
   "execution_count": 46,
   "metadata": {
    "collapsed": false
   },
   "outputs": [
    {
     "name": "stdout",
     "output_type": "stream",
     "text": [
      "True\n",
      "True\n"
     ]
    }
   ],
   "source": [
    "# 指定した接尾辞を持つ文字列化を調べる。prefixにはタプルで複数の候補が指定できる。start,endは調査する位置の指定に使用する\n",
    "# endswith(prefix[,start[,end]])\n",
    "print(\"Hello World !!\".endswith((\"world\", \"World\"), 0, -3))\n",
    "print(\"Hello World !!\".endswith(\"World\", 5, 11))"
   ]
  },
  {
   "cell_type": "code",
   "execution_count": 47,
   "metadata": {
    "collapsed": false
   },
   "outputs": [
    {
     "name": "stdout",
     "output_type": "stream",
     "text": [
      "b'\\xe3\\x81\\x93\\xe3\\x82\\x93\\xe3\\x81\\xab\\xe3\\x81\\xa1\\xe3\\x81\\xaf'\n",
      "b'?????world!'\n",
      "b'world!'\n"
     ]
    },
    {
     "ename": "UnicodeEncodeError",
     "evalue": "'ascii' codec can't encode characters in position 0-4: ordinal not in range(128)",
     "output_type": "error",
     "traceback": [
      "\u001b[1;31m---------------------------------------------------------------------------\u001b[0m",
      "\u001b[1;31mUnicodeEncodeError\u001b[0m                        Traceback (most recent call last)",
      "\u001b[1;32m<ipython-input-47-e209c0ddfd95>\u001b[0m in \u001b[0;36m<module>\u001b[1;34m()\u001b[0m\n\u001b[0;32m      5\u001b[0m \u001b[0mprint\u001b[0m\u001b[1;33m(\u001b[0m\u001b[1;34m\"こんにちはworld!\"\u001b[0m\u001b[1;33m.\u001b[0m\u001b[0mencode\u001b[0m\u001b[1;33m(\u001b[0m\u001b[0mencoding\u001b[0m\u001b[1;33m=\u001b[0m\u001b[1;34m\"ascii\"\u001b[0m\u001b[1;33m,\u001b[0m \u001b[0merrors\u001b[0m\u001b[1;33m=\u001b[0m\u001b[1;34m\"replace\"\u001b[0m\u001b[1;33m)\u001b[0m\u001b[1;33m)\u001b[0m\u001b[1;33m\u001b[0m\u001b[0m\n\u001b[0;32m      6\u001b[0m \u001b[0mprint\u001b[0m\u001b[1;33m(\u001b[0m\u001b[1;34m\"こんにちはworld!\"\u001b[0m\u001b[1;33m.\u001b[0m\u001b[0mencode\u001b[0m\u001b[1;33m(\u001b[0m\u001b[0mencoding\u001b[0m\u001b[1;33m=\u001b[0m\u001b[1;34m\"ascii\"\u001b[0m\u001b[1;33m,\u001b[0m \u001b[0merrors\u001b[0m\u001b[1;33m=\u001b[0m\u001b[1;34m\"ignore\"\u001b[0m\u001b[1;33m)\u001b[0m\u001b[1;33m)\u001b[0m\u001b[1;33m\u001b[0m\u001b[0m\n\u001b[1;32m----> 7\u001b[1;33m \u001b[0mprint\u001b[0m\u001b[1;33m(\u001b[0m\u001b[1;34m\"こんにちはworld!\"\u001b[0m\u001b[1;33m.\u001b[0m\u001b[0mencode\u001b[0m\u001b[1;33m(\u001b[0m\u001b[0mencoding\u001b[0m\u001b[1;33m=\u001b[0m\u001b[1;34m\"ascii\"\u001b[0m\u001b[1;33m,\u001b[0m \u001b[0merrors\u001b[0m\u001b[1;33m=\u001b[0m\u001b[1;34m\"strict\"\u001b[0m\u001b[1;33m)\u001b[0m\u001b[1;33m)\u001b[0m\u001b[1;33m\u001b[0m\u001b[0m\n\u001b[0m",
      "\u001b[1;31mUnicodeEncodeError\u001b[0m: 'ascii' codec can't encode characters in position 0-4: ordinal not in range(128)"
     ]
    }
   ],
   "source": [
    "# 文字列を指定したエンコード形式に変換する\n",
    "# errorでは変換できない文字列があった場合の対処を記述。strict=エラーを出力、ignore=対象の文字を無視する、replace=?に置き換える\n",
    "# encode(encoding=\"utf8\", errors=\"strict)\n",
    "print(\"こんにちは\".encode(\"utf8\"))\n",
    "print(\"こんにちはworld!\".encode(encoding=\"ascii\", errors=\"replace\"))\n",
    "print(\"こんにちはworld!\".encode(encoding=\"ascii\", errors=\"ignore\"))\n",
    "print(\"こんにちはworld!\".encode(encoding=\"ascii\", errors=\"strict\"))"
   ]
  },
  {
   "cell_type": "code",
   "execution_count": 48,
   "metadata": {
    "collapsed": false
   },
   "outputs": [
    {
     "name": "stdout",
     "output_type": "stream",
     "text": [
      "こんにちは\n"
     ]
    }
   ],
   "source": [
    "print(b'\\xe3\\x81\\x93\\xe3\\x82\\x93\\xe3\\x81\\xab\\xe3\\x81\\xa1\\xe3\\x81\\xaf'.decode(\"utf8\"))"
   ]
  },
  {
   "cell_type": "code",
   "execution_count": 49,
   "metadata": {
    "collapsed": true
   },
   "outputs": [],
   "source": [
    "#########################################################\n",
    "# 文字列定数を利用する\n",
    "#########################################################\n",
    "import string"
   ]
  },
  {
   "cell_type": "code",
   "execution_count": 50,
   "metadata": {
    "collapsed": false,
    "scrolled": true
   },
   "outputs": [
    {
     "name": "stdout",
     "output_type": "stream",
     "text": [
      "abcdefghijklmnopqrstuvwxyz\n",
      "ABCDEFGHIJKLMNOPQRSTUVWXYZ\n",
      "abcdefghijklmnopqrstuvwxyzABCDEFGHIJKLMNOPQRSTUVWXYZ\n",
      "0123456789\n",
      "0123456789abcdefABCDEF\n",
      "01234567\n",
      "!\"#$%&'()*+,-./:;<=>?@[\\]^_`{|}~\n",
      " \t\n",
      "\r",
      "\u000b",
      "\f",
      "\n",
      "0123456789abcdefghijklmnopqrstuvwxyzABCDEFGHIJKLMNOPQRSTUVWXYZ!\"#$%&'()*+,-./:;<=>?@[\\]^_`{|}~ \t\n",
      "\r",
      "\u000b",
      "\f",
      "\n"
     ]
    }
   ],
   "source": [
    "# 英小文字\n",
    "print(string.ascii_lowercase)\n",
    "# 英大文字\n",
    "print(string.ascii_uppercase)\n",
    "# 英小文字 + 英大文字\n",
    "print(string.ascii_letters)\n",
    "# 10進数の数字\n",
    "print(string.digits)\n",
    "# 16進数の数字\n",
    "print(string.hexdigits)\n",
    "# 8進数の数字\n",
    "print(string.octdigits)\n",
    "# 記号の文字列\n",
    "print(string.punctuation)\n",
    "# 空白文字の文字列(\\n, \\t, \\r, \\x0b, \\x0c)\n",
    "print(string.whitespace)\n",
    "# ascii_letter, digits, punctuation, whitespaceを全部合わせたもの\n",
    "print(string.printable)"
   ]
  },
  {
   "cell_type": "code",
   "execution_count": 3,
   "metadata": {
    "collapsed": false
   },
   "outputs": [
    {
     "name": "stdout",
     "output_type": "stream",
     "text": [
      " hello world !!\n",
      "\n",
      "hello world !!\n",
      " hello world \n",
      "world !!\n",
      "\n"
     ]
    }
   ],
   "source": [
    "# 指定文字列の削除\n",
    "# strip : 文字列の両端の指定文字を削除(引数を指定しないと空白文字を削除)\n",
    "# rstrip : 文字列の右側の指定文字を削除\n",
    "# lstrip : 文字列の左側の指定文字を削除\n",
    "sample_text = \" hello world !!\\n\"\n",
    "print(sample_text)\n",
    "print(sample_text.strip()) \n",
    "print(sample_text.rstrip(\"!!\\n\"))\n",
    "print(sample_text.lstrip(\" hello \"))"
   ]
  },
  {
   "cell_type": "code",
   "execution_count": 7,
   "metadata": {
    "collapsed": false
   },
   "outputs": [
    {
     "name": "stdout",
     "output_type": "stream",
     "text": [
      "['a', 'b', 'c', 'd', 'e', 'f', 'g', 'h', 'i', 'j', 'k', 'l', 'm', 'n', 'o', 'p', 'q', 'r', 's', 't', 'u', 'v', 'w', 'x', 'y', 'z']\n",
      "[97, 98, 99, 100, 101, 102, 103, 104, 105, 106, 107, 108, 109, 110, 111, 112, 113, 114, 115, 116, 117, 118, 119, 120, 121, 122]\n",
      "['a', 'b', 'c', 'd', 'e', 'f', 'g', 'h', 'i', 'j', 'k', 'l', 'm', 'n', 'o', 'p', 'q', 'r', 's', 't', 'u', 'v', 'w', 'x', 'y', 'z']\n",
      "['!', '\"', '#', '$', '%', '&', \"'\", '(', ')', '*', '+', ',', '-', '.', '/', ':', ';', '<', '=', '>', '?', '@', '[', '\\\\', ']', '^', '_', '`', '{', '|', '}', '~']\n",
      "[33, 34, 35, 36, 37, 38, 39, 40, 41, 42, 43, 44, 45, 46, 47, 58, 59, 60, 61, 62, 63, 64, 91, 92, 93, 94, 95, 96, 123, 124, 125, 126]\n"
     ]
    }
   ],
   "source": [
    "# ord(str) : 文字列をasciiコードに変換\n",
    "# chr(str) : asciiコードを文字列に変換\n",
    "import string\n",
    "letters_list = list(string.ascii_lowercase)\n",
    "print(letters_list)\n",
    "\n",
    "for i in range(len(letters_list)):\n",
    "    letters_list[i] = ord(letters_list[i])\n",
    "print(letters_list)\n",
    "\n",
    "for i in range(len(letters_list)):\n",
    "    letters_list[i] = chr(letters_list[i])\n",
    "print(letters_list)\n",
    "\n",
    "punctuation_list = list(string.punctuation)\n",
    "print(punctuation_list)\n",
    "for i in range(len(punctuation_list)):\n",
    "    punctuation_list[i] = ord(punctuation_list[i])\n",
    "print(punctuation_list)"
   ]
  },
  {
   "cell_type": "code",
   "execution_count": null,
   "metadata": {
    "collapsed": true
   },
   "outputs": [],
   "source": []
  }
 ],
 "metadata": {
  "kernelspec": {
   "display_name": "Python 3",
   "language": "python",
   "name": "python3"
  },
  "language_info": {
   "codemirror_mode": {
    "name": "ipython",
    "version": 3
   },
   "file_extension": ".py",
   "mimetype": "text/x-python",
   "name": "python",
   "nbconvert_exporter": "python",
   "pygments_lexer": "ipython3",
   "version": "3.4.3"
  }
 },
 "nbformat": 4,
 "nbformat_minor": 0
}
