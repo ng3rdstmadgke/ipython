{
 "cells": [
  {
   "cell_type": "code",
   "execution_count": 7,
   "metadata": {
    "collapsed": false
   },
   "outputs": [
    {
     "name": "stdout",
     "output_type": "stream",
     "text": [
      "[(1, 2, 3), (2, 4, 6), (3, 6, 9)]\n",
      "index = 1 : 1, 2, 3\n",
      "index = 1 : 2, 4, 6\n",
      "index = 1 : 3, 6, 9\n",
      "[(2, 3, 4), (4, 6, 8), (6, 9, 12)]\n"
     ]
    }
   ],
   "source": [
    "# zip(*arg)\n",
    "# text : 複数のシーケンスを引数にとり、同インデックスの要素をタプルにまとめたイテレータを作成する。\n",
    "#        引数にとったシーケンスの要素数が異なる場合、最も小さいシーケンスを処理し終わった時に止まる\n",
    "# param :　list, tuple\n",
    "# return : zipオブジェクト\n",
    "a = [1, 2, 3]\n",
    "b = [2, 4, 6]\n",
    "c = [3, 6, 9]\n",
    "d = [4, 8, 12, 16]\n",
    "\n",
    "zip_1 = zip(a, b, c)\n",
    "print(list(zip_1))\n",
    "\n",
    "zip_1 = zip(a, b, c)\n",
    "for i, j, k in zip_1:\n",
    "    print(\"index = 1 : {}, {}, {}\".format(i, j, k))\n",
    "\n",
    "zip_2 = zip(b, c, d)\n",
    "print(list(zip_2))\n"
   ]
  },
  {
   "cell_type": "code",
   "execution_count": null,
   "metadata": {
    "collapsed": true
   },
   "outputs": [],
   "source": []
  }
 ],
 "metadata": {
  "kernelspec": {
   "display_name": "Python 3",
   "language": "python",
   "name": "python3"
  },
  "language_info": {
   "codemirror_mode": {
    "name": "ipython",
    "version": 3
   },
   "file_extension": ".py",
   "mimetype": "text/x-python",
   "name": "python",
   "nbconvert_exporter": "python",
   "pygments_lexer": "ipython3",
   "version": "3.5.1+"
  }
 },
 "nbformat": 4,
 "nbformat_minor": 0
}
