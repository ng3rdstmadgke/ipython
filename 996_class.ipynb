{
 "cells": [
  {
   "cell_type": "code",
   "execution_count": 4,
   "metadata": {
    "collapsed": true
   },
   "outputs": [],
   "source": [
    "###############################################\n",
    "# class\n",
    "###############################################"
   ]
  },
  {
   "cell_type": "code",
   "execution_count": 1,
   "metadata": {
    "collapsed": true
   },
   "outputs": [],
   "source": [
    "# クラスの継承\n",
    "# ================================\n",
    "# 子クラスで通常通り__init__を定義すると親の__init__がオーバーライドされてしまうため、\n",
    "# 子クラスの__init__内でsuper().__init__()メソッドお呼び出す。\n",
    "# 親のインスタンス作成時に必要な引数はsuper().__init__(param1, param2, ...)というように指定する。\n",
    "\n",
    "# 親クラス\n",
    "class Person():\n",
    "    def __init__(self, name):\n",
    "        self.name = name\n",
    "\n",
    "# 子クラス\n",
    "class EmailPerson(Person):\n",
    "    def __init__(self, name, email):\n",
    "        super().__init__(name)\n",
    "        self.email = email\n",
    "\n",
    "bob = EmailPerson(\"Bob Frapples\", \"bob@frapples.com\")"
   ]
  },
  {
   "cell_type": "code",
   "execution_count": 2,
   "metadata": {
    "collapsed": false
   },
   "outputs": [
    {
     "name": "stdout",
     "output_type": "stream",
     "text": [
      "Bob Frapples\n",
      "bob@frapples.com\n"
     ]
    }
   ],
   "source": [
    "print(bob.name)\n",
    "print(bob.email)"
   ]
  },
  {
   "cell_type": "code",
   "execution_count": 4,
   "metadata": {
    "collapsed": false
   },
   "outputs": [
    {
     "name": "stdout",
     "output_type": "stream",
     "text": [
      "A has  3  instance\n"
     ]
    }
   ],
   "source": [
    "# クラスメソッド\n",
    "# ================================\n",
    "# メソッドの第一引数がclsとなっており、@classmethodというデコレータがついたメソッド。(第一引数から、クラス自体を取得する)\n",
    "# クラスメソッドは、クラス全体に影響を与える。\n",
    "\n",
    "class A():\n",
    "    count = 0\n",
    "    def __init__(self):\n",
    "        A.count += 1\n",
    "    def exclaim(self):\n",
    "        print(\"I'm an A!\")\n",
    "    @classmethod\n",
    "    def kids(cls):\n",
    "        print(\"A has \", cls.count, \" instance\")\n",
    "\n",
    "easy_a = A()\n",
    "breezy_a = A()\n",
    "wheezy_a = A()\n",
    "\n",
    "A.kids()"
   ]
  },
  {
   "cell_type": "code",
   "execution_count": 7,
   "metadata": {
    "collapsed": false
   },
   "outputs": [
    {
     "name": "stdout",
     "output_type": "stream",
     "text": [
      "hello!\n"
     ]
    }
   ],
   "source": [
    "# スタティックメソッド\n",
    "# ================================\n",
    "# @staticmethiodというデコレータがついたメソッド。\n",
    "# スタティックメソッドはクラスにもオブジェクトにも影響を与えない。\n",
    "\n",
    "class Greeting():\n",
    "    @staticmethod\n",
    "    def greet():\n",
    "        print(\"hello!\")\n",
    "\n",
    "Greeting.greet()"
   ]
  },
  {
   "cell_type": "code",
   "execution_count": 8,
   "metadata": {
    "collapsed": true
   },
   "outputs": [],
   "source": [
    "# 特殊メソッド\n",
    "# ================================\n",
    "# メソッドの先頭と末尾が__で囲まれたメソッド。\n",
    "# ==, !=, +, -, /, *などはこの特殊メソッドで定義されている。\n",
    "# 例えば「a = 3 + 8」では、値3や8を持つオブジェクトは特殊メソッド「__add__」から「+」の実装方法を知ることができる。"
   ]
  },
  {
   "cell_type": "markdown",
   "metadata": {},
   "source": [
    "|メソッド|意味|\n",
    "|:--:|:--:|\n",
    "|比較のための特殊メソッド||\n",
    "|\\__eq__(self, other)|self == other|\n",
    "|\\__ne__(self, other)|self != other |\n",
    "|\\__lt__(self, other)|self < other|\n",
    "|\\__gt__(self, other)|self > other|\n",
    "|\\__le__(self, other)|self <= other|\n",
    "|\\__ge__(self, other)|self >= other|\n",
    "|計算のための特殊メソッド||\n",
    "|\\__add__(self, other)|self + other|\n",
    "|\\__sub__(self, other)|self - other|\n",
    "|\\__mul__(self, other)|self * other|\n",
    "|\\__floordiv__(self, other)|self // other|\n",
    "|\\__truediv__(self, other)| self / other |\n",
    "|\\__mod__(self, other)|self % oter|\n",
    "|\\__pow__(self, other)|self ** other|\n",
    "|その他の特殊メソッド||\n",
    "|\\__str__(self)|str(self)|\n",
    "|\\__repr__(self)|repr(self)|\n",
    "|\\__len__(self)|len(self)|"
   ]
  },
  {
   "cell_type": "code",
   "execution_count": 24,
   "metadata": {
    "collapsed": false
   },
   "outputs": [
    {
     "name": "stdout",
     "output_type": "stream",
     "text": [
      "True\n",
      "False\n",
      "2\n",
      "2.5\n",
      "5\n"
     ]
    },
    {
     "data": {
      "text/plain": [
       "'5'"
      ]
     },
     "execution_count": 24,
     "metadata": {},
     "output_type": "execute_result"
    }
   ],
   "source": [
    "# 特殊メソッドを使ってみる\n",
    "a = 5\n",
    "b = 2\n",
    "c = \"hello\"\n",
    "print(c.__eq__(c))\n",
    "print(a.__eq__(b))\n",
    "print(a.__floordiv__(b))\n",
    "print(a.__truediv__(b))\n",
    "print(c.__len__())\n",
    "a.__str__()"
   ]
  },
  {
   "cell_type": "code",
   "execution_count": 26,
   "metadata": {
    "collapsed": true
   },
   "outputs": [],
   "source": [
    "# 特殊メソッドを書き換えてみる\n",
    "\n",
    "class Word():\n",
    "    def __init__(self, text):\n",
    "        self.text = text\n",
    "    def __eq__(self, word):\n",
    "        ret = self.text.lower() == word.text.lower()\n",
    "        return ret\n",
    "first = Word(\"hello\")\n",
    "second = Word(\"HELLO\")\n",
    "third = Word(\"spam\")"
   ]
  },
  {
   "cell_type": "code",
   "execution_count": 27,
   "metadata": {
    "collapsed": false
   },
   "outputs": [
    {
     "name": "stdout",
     "output_type": "stream",
     "text": [
      "True\n",
      "True\n",
      "False\n"
     ]
    }
   ],
   "source": [
    "print(first == first)\n",
    "print(first == second)\n",
    "print(first == third)"
   ]
  },
  {
   "cell_type": "code",
   "execution_count": null,
   "metadata": {
    "collapsed": true
   },
   "outputs": [],
   "source": []
  }
 ],
 "metadata": {
  "kernelspec": {
   "display_name": "Python 3",
   "language": "python",
   "name": "python3"
  },
  "language_info": {
   "codemirror_mode": {
    "name": "ipython",
    "version": 3
   },
   "file_extension": ".py",
   "mimetype": "text/x-python",
   "name": "python",
   "nbconvert_exporter": "python",
   "pygments_lexer": "ipython3",
   "version": "3.5.1+"
  }
 },
 "nbformat": 4,
 "nbformat_minor": 0
}
