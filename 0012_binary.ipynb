{
 "cells": [
  {
   "cell_type": "code",
   "execution_count": 1,
   "metadata": {
    "collapsed": true
   },
   "outputs": [],
   "source": [
    "###########################################\n",
    "# バイナリ\n",
    "###########################################"
   ]
  },
  {
   "cell_type": "code",
   "execution_count": 2,
   "metadata": {
    "collapsed": true
   },
   "outputs": [],
   "source": [
    "# バイト列\n",
    "# Python3は0 - 255までの値を取る8ビットの整数(16進数)の2種類のシーケンスが存在する\n",
    "# 1) bytes : イミュータブルで、バイトのタプルのようなデータ型\n",
    "# 2) bytearray : ミュータブルで、バイトのリストのようなデータ型"
   ]
  },
  {
   "cell_type": "code",
   "execution_count": 5,
   "metadata": {
    "collapsed": false
   },
   "outputs": [
    {
     "name": "stdout",
     "output_type": "stream",
     "text": [
      "b'\\x01\\x02\\x03\\xff'\n"
     ]
    },
    {
     "ename": "TypeError",
     "evalue": "'bytes' object does not support item assignment",
     "output_type": "error",
     "traceback": [
      "\u001b[0;31m---------------------------------------------------------------------------\u001b[0m",
      "\u001b[0;31mTypeError\u001b[0m                                 Traceback (most recent call last)",
      "\u001b[0;32m<ipython-input-5-46f1a4dae9a2>\u001b[0m in \u001b[0;36m<module>\u001b[0;34m()\u001b[0m\n\u001b[1;32m      6\u001b[0m \u001b[0;34m\u001b[0m\u001b[0m\n\u001b[1;32m      7\u001b[0m \u001b[0;31m# bytesはイミュータブルなシーケンスなので値を書き換えることはできない\u001b[0m\u001b[0;34m\u001b[0m\u001b[0;34m\u001b[0m\u001b[0m\n\u001b[0;32m----> 8\u001b[0;31m \u001b[0mthe_bytes\u001b[0m\u001b[0;34m[\u001b[0m\u001b[0;36m1\u001b[0m\u001b[0;34m]\u001b[0m \u001b[0;34m=\u001b[0m \u001b[0;36m127\u001b[0m\u001b[0;34m\u001b[0m\u001b[0m\n\u001b[0m",
      "\u001b[0;31mTypeError\u001b[0m: 'bytes' object does not support item assignment"
     ]
    }
   ],
   "source": [
    "# bytes\n",
    "# バイト列は「\\x00」という形で表す。(00は16進数)\n",
    "blist = [1,2,3,255]\n",
    "the_bytes = bytes(blist)\n",
    "print(the_bytes)\n",
    "\n",
    "# bytesはイミュータブルなシーケンスなので値を書き換えることはできない\n",
    "the_bytes[1] = 127"
   ]
  },
  {
   "cell_type": "code",
   "execution_count": 6,
   "metadata": {
    "collapsed": false
   },
   "outputs": [
    {
     "name": "stdout",
     "output_type": "stream",
     "text": [
      "bytearray(b'\\x01\\x02\\x03\\xff')\n",
      "bytearray(b'\\x01\\x7f\\x03\\xff')\n"
     ]
    }
   ],
   "source": [
    "# bytearray\n",
    "the_byte_array = bytearray(blist)\n",
    "print(the_byte_array)\n",
    "\n",
    "# bytearrayはミュータブルなシーケンスなので書き換え可能\n",
    "the_byte_array[1] = 127\n",
    "print(the_byte_array)"
   ]
  },
  {
   "cell_type": "code",
   "execution_count": 9,
   "metadata": {
    "collapsed": false
   },
   "outputs": [
    {
     "name": "stdout",
     "output_type": "stream",
     "text": [
      "b'\\x00\\x01\\x02\\x03\\x04\\x05\\x06\\x07\\x08\\t\\n\\x0b\\x0c\\r\\x0e\\x0f\\x10\\x11\\x12\\x13\\x14\\x15\\x16\\x17\\x18\\x19\\x1a\\x1b\\x1c\\x1d\\x1e\\x1f !\"#$%&\\'()*+,-./0123456789:;<=>?@ABCDEFGHIJKLMNOPQRSTUVWXYZ[\\\\]^_`abcdefghijklmnopqrstuvwxyz{|}~\\x7f\\x80\\x81\\x82\\x83\\x84\\x85\\x86\\x87\\x88\\x89\\x8a\\x8b\\x8c\\x8d\\x8e\\x8f\\x90\\x91\\x92\\x93\\x94\\x95\\x96\\x97\\x98\\x99\\x9a\\x9b\\x9c\\x9d\\x9e\\x9f\\xa0\\xa1\\xa2\\xa3\\xa4\\xa5\\xa6\\xa7\\xa8\\xa9\\xaa\\xab\\xac\\xad\\xae\\xaf\\xb0\\xb1\\xb2\\xb3\\xb4\\xb5\\xb6\\xb7\\xb8\\xb9\\xba\\xbb\\xbc\\xbd\\xbe\\xbf\\xc0\\xc1\\xc2\\xc3\\xc4\\xc5\\xc6\\xc7\\xc8\\xc9\\xca\\xcb\\xcc\\xcd\\xce\\xcf\\xd0\\xd1\\xd2\\xd3\\xd4\\xd5\\xd6\\xd7\\xd8\\xd9\\xda\\xdb\\xdc\\xdd\\xde\\xdf\\xe0\\xe1\\xe2\\xe3\\xe4\\xe5\\xe6\\xe7\\xe8\\xe9\\xea\\xeb\\xec\\xed\\xee\\xef\\xf0\\xf1\\xf2\\xf3\\xf4\\xf5\\xf6\\xf7\\xf8\\xf9\\xfa\\xfb\\xfc\\xfd\\xfe\\xff'\n",
      "\n",
      "bytearray(b'\\x00\\x01\\x02\\x03\\x04\\x05\\x06\\x07\\x08\\t\\n\\x0b\\x0c\\r\\x0e\\x0f\\x10\\x11\\x12\\x13\\x14\\x15\\x16\\x17\\x18\\x19\\x1a\\x1b\\x1c\\x1d\\x1e\\x1f !\"#$%&\\'()*+,-./0123456789:;<=>?@ABCDEFGHIJKLMNOPQRSTUVWXYZ[\\\\]^_`abcdefghijklmnopqrstuvwxyz{|}~\\x7f\\x80\\x81\\x82\\x83\\x84\\x85\\x86\\x87\\x88\\x89\\x8a\\x8b\\x8c\\x8d\\x8e\\x8f\\x90\\x91\\x92\\x93\\x94\\x95\\x96\\x97\\x98\\x99\\x9a\\x9b\\x9c\\x9d\\x9e\\x9f\\xa0\\xa1\\xa2\\xa3\\xa4\\xa5\\xa6\\xa7\\xa8\\xa9\\xaa\\xab\\xac\\xad\\xae\\xaf\\xb0\\xb1\\xb2\\xb3\\xb4\\xb5\\xb6\\xb7\\xb8\\xb9\\xba\\xbb\\xbc\\xbd\\xbe\\xbf\\xc0\\xc1\\xc2\\xc3\\xc4\\xc5\\xc6\\xc7\\xc8\\xc9\\xca\\xcb\\xcc\\xcd\\xce\\xcf\\xd0\\xd1\\xd2\\xd3\\xd4\\xd5\\xd6\\xd7\\xd8\\xd9\\xda\\xdb\\xdc\\xdd\\xde\\xdf\\xe0\\xe1\\xe2\\xe3\\xe4\\xe5\\xe6\\xe7\\xe8\\xe9\\xea\\xeb\\xec\\xed\\xee\\xef\\xf0\\xf1\\xf2\\xf3\\xf4\\xf5\\xf6\\xf7\\xf8\\xf9\\xfa\\xfb\\xfc\\xfd\\xfe\\xff')\n"
     ]
    }
   ],
   "source": [
    "### bytes, bytearrayデータの表示\n",
    "# 印字不可能なバイトについては\\x00形式を使い、印字可能なバイトについてはASCII文字を表示する。\n",
    "# ASCII文字が表示されるからと言っても、これらは文字ではなく、8ビットの数字である\n",
    "the_bytes = bytes(range(0, 256))\n",
    "the_byte_array = bytearray(range(0, 256))\n",
    "\n",
    "print(the_bytes, end=\"\\n\\n\")\n",
    "print(the_byte_array)"
   ]
  },
  {
   "cell_type": "code",
   "execution_count": 12,
   "metadata": {
    "collapsed": false
   },
   "outputs": [
    {
     "name": "stdout",
     "output_type": "stream",
     "text": [
      "154 141\n"
     ]
    }
   ],
   "source": [
    "### バイナリデータの変換\n",
    "# =========================================\n",
    "# struct.unpack(書式指定, binary_data)\n",
    "# バイナリデータを指定された書式指定にしたがって変換する\n",
    "# param : 書式指定 - 後述, binary_data - bytes型のデータ\n",
    "# return : int\n",
    "import struct\n",
    "data = b\"\\x00\\x00\\x00\\x9a\\x00\\x00\\x00\\x8d\"\n",
    "width, height = struct.unpack(\">LL\", data)\n",
    "print(width, height)"
   ]
  },
  {
   "cell_type": "code",
   "execution_count": 15,
   "metadata": {
    "collapsed": false
   },
   "outputs": [
    {
     "name": "stdout",
     "output_type": "stream",
     "text": [
      "b'\\x00\\x00\\x04\\xd2'\n",
      "b'\\xd2\\x04\\x00\\x00'\n"
     ]
    }
   ],
   "source": [
    "# struct.pack(書式指定, int)\n",
    "# 整数を指定された書式指定にしたがってバイナリデータに変換する\n",
    "# param : 書式指定 - 後述, int - int型\n",
    "# return : bytes型\n",
    "data = 1234\n",
    "print(struct.pack(\">L\", data))\n",
    "print(struct.pack(\"<L\", data))"
   ]
  },
  {
   "cell_type": "markdown",
   "metadata": {},
   "source": [
    "### エンディアン指定子\n",
    "|指定子|バイト順|\n",
    "|:--|:--|\n",
    "|<|リトルエンディアン|\n",
    "|>|ビッグエンディアン|\n",
    "\n",
    "### 書式指定子\n",
    "|指定子|説明|バイト数|\n",
    "|:--|:--|:--|\n",
    "|x|1バイト読み飛ばし|1|\n",
    "|b|符号付きバイト|1|\n",
    "|B|符号なしバイト|1|\n",
    "|h|符号付き短整数|2|\n",
    "|H|符号なし短整数|2|\n",
    "|i|符号付き整数|4|\n",
    "|I|符号なし整数|4|\n",
    "|l|符号付き長整数|4|\n",
    "|L|符号なし長整数|4|\n",
    "|Q|符号なし長長整数|8|\n",
    "|f|単精度浮動小数点数|4|\n",
    "|d|倍精度浮動小数点数|8|\n",
    "|p|countと文字シーケンス|1 + count|\n",
    "|s|文字シーケンス|count|"
   ]
  },
  {
   "cell_type": "code",
   "execution_count": 24,
   "metadata": {
    "collapsed": false
   },
   "outputs": [
    {
     "name": "stdout",
     "output_type": "stream",
     "text": [
      "(b'pqrst',)\n",
      "(154, 141)\n"
     ]
    }
   ],
   "source": [
    "print(struct.unpack(\">5s\", b\"\\x70\\x71\\x72\\x73\\x74\"))\n",
    "data = b\"\\x89PNG\\r\\n\\x1a\\n\\x00\\x00\\x00\\rIHDR\\x00\\x00\\x00\\x9a\\x00\\x00\\x00\\x8d\\08\\02\\x00\\x00\\x00\"\n",
    "print(struct.unpack(\">16x2L6x\", data))"
   ]
  },
  {
   "cell_type": "code",
   "execution_count": 28,
   "metadata": {
    "collapsed": false
   },
   "outputs": [
    {
     "name": "stdout",
     "output_type": "stream",
     "text": [
      "b'89504e470d0a1a0a'\n",
      "b'\\x89PNG\\r\\n\\x1a\\n'\n"
     ]
    }
   ],
   "source": [
    "# binascii.hexlify(bytes) binascii.unhexlify(bytes)\n",
    "# text : pythonのbytesの表示(\\x00とASCIIの混合)を16進値のシーケンスに変換する。また、その逆\n",
    "# param : bytes型\n",
    "# return : bytes型\n",
    "import binascii\n",
    "print(binascii.hexlify(b\"\\x89PNG\\r\\n\\x1a\\n\"))\n",
    "\n",
    "# 逆\n",
    "print(binascii.unhexlify(b'89504e470d0a1a0a'))"
   ]
  },
  {
   "cell_type": "code",
   "execution_count": 44,
   "metadata": {
    "collapsed": false
   },
   "outputs": [
    {
     "name": "stdout",
     "output_type": "stream",
     "text": [
      "5 = 0b101\n",
      "1 = 0b1\n",
      "\n",
      "1 0b1\n",
      "5 0b101\n",
      "4 0b100\n",
      "-6 -0b110\n",
      "10 0b1010\n",
      "2 0b10\n"
     ]
    }
   ],
   "source": [
    "# ビット演算子\n",
    "# =======================\n",
    "# a & b : aとb両方にセットされているビットを返す(AND)\n",
    "# a | b : aとbどちらかにセットされているビットを返す(OR)\n",
    "# a ^ b : aとbどちらかひとつだけにのみセットされているビットを返す(XOR)\n",
    "# ~a : ビット反転\n",
    "# a << num : 左にnumビットシフト(1ビット左にシフトは、掛ける2と同じ)\n",
    "# a >> num : 右にnumビットシフト(1ビット右にシフトは、小数点なしの割り算と同じ)\n",
    "print(\"5 = {}\\n1 = {}\".format(bin(5), bin(1)), end=\"\\n\\n\")\n",
    "a = 5\n",
    "b = 1\n",
    "print(a & b, bin(a&b))\n",
    "print(a | b, bin(a|b))\n",
    "print(a ^ b, bin(a^b))\n",
    "print(~a, bin(~a))\n",
    "print(a << 1, bin(a << 1))\n",
    "print(a >> 1, bin(a >> 1))"
   ]
  },
  {
   "cell_type": "code",
   "execution_count": 43,
   "metadata": {
    "collapsed": false
   },
   "outputs": [
    {
     "data": {
      "text/plain": [
       "2"
      ]
     },
     "execution_count": 43,
     "metadata": {},
     "output_type": "execute_result"
    }
   ],
   "source": []
  },
  {
   "cell_type": "code",
   "execution_count": null,
   "metadata": {
    "collapsed": true
   },
   "outputs": [],
   "source": []
  }
 ],
 "metadata": {
  "kernelspec": {
   "display_name": "Python 3",
   "language": "python",
   "name": "python3"
  },
  "language_info": {
   "codemirror_mode": {
    "name": "ipython",
    "version": 3
   },
   "file_extension": ".py",
   "mimetype": "text/x-python",
   "name": "python",
   "nbconvert_exporter": "python",
   "pygments_lexer": "ipython3",
   "version": "3.5.1+"
  }
 },
 "nbformat": 4,
 "nbformat_minor": 0
}
