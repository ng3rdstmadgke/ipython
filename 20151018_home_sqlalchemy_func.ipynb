{
 "cells": [
  {
   "cell_type": "code",
   "execution_count": 1,
   "metadata": {
    "collapsed": true
   },
   "outputs": [],
   "source": [
    "import sqlalchemy as sq\n",
    "import sqlalchemy.orm\n",
    "import sqlalchemy.ext.declarative\n",
    "import datetime"
   ]
  },
  {
   "cell_type": "code",
   "execution_count": 2,
   "metadata": {
    "collapsed": true
   },
   "outputs": [],
   "source": [
    "engine = sq.create_engine(\"sqlite:///:memory:\", echo=False)\n",
    "Base = sqlalchemy.ext.declarative.declarative_base()\n",
    "class Sample(Base):\n",
    "    __tablename__ = \"sample\"\n",
    "    id = sq.Column(sq.Integer, primary_key=True)\n",
    "    name = sq.Column(sq.String)\n",
    "    date = sq.Column(sq.String)\n",
    "    point = sq.Column(sq.Integer)\n",
    "Base.metadata.create_all(engine)\n",
    "session = sqlalchemy.orm.sessionmaker(bind=engine)()"
   ]
  },
  {
   "cell_type": "code",
   "execution_count": 3,
   "metadata": {
    "collapsed": false
   },
   "outputs": [],
   "source": [
    "def add_data(session, rname, rpoint):\n",
    "    date = datetime.datetime.now()\n",
    "    rdate = \"{}/{}/{}\".format(date.year, date.month, date.day)\n",
    "    session.add(Sample(name=rname, date=rdate, point=rpoint))\n",
    "    session.commit()"
   ]
  },
  {
   "cell_type": "code",
   "execution_count": 4,
   "metadata": {
    "collapsed": false
   },
   "outputs": [],
   "source": [
    "add_data(session, \"midorikawa\", 100)"
   ]
  },
  {
   "cell_type": "code",
   "execution_count": 5,
   "metadata": {
    "collapsed": false
   },
   "outputs": [
    {
     "name": "stdout",
     "output_type": "stream",
     "text": [
      "1 midorikawa 2015/11/20 100\n"
     ]
    }
   ],
   "source": [
    "data = session.query(Sample)\n",
    "for i in data:\n",
    "    print(i.id, i.name, i.date, i.point)"
   ]
  },
  {
   "cell_type": "code",
   "execution_count": 6,
   "metadata": {
    "collapsed": true
   },
   "outputs": [],
   "source": [
    "def take_data_all(session):\n",
    "    data = session.query(Sample)\n",
    "    rlist = []\n",
    "    for i in data:\n",
    "        rdict = {}\n",
    "        rdict[\"id\"] = i.id\n",
    "        rdict[\"name\"] = i.name\n",
    "        rdict[\"data\"] = i.date\n",
    "        rdict[\"point\"] = i.point\n",
    "        rlist.append(rdict)\n",
    "    return rlist"
   ]
  },
  {
   "cell_type": "code",
   "execution_count": 7,
   "metadata": {
    "collapsed": false
   },
   "outputs": [
    {
     "data": {
      "text/plain": [
       "[{'data': '2015/11/20', 'id': 1, 'name': 'midorikawa', 'point': 100}]"
      ]
     },
     "execution_count": 7,
     "metadata": {},
     "output_type": "execute_result"
    }
   ],
   "source": [
    "take_data_all(session)"
   ]
  },
  {
   "cell_type": "code",
   "execution_count": 8,
   "metadata": {
    "collapsed": true
   },
   "outputs": [],
   "source": [
    "add_data(session,\"kimura\", 30)"
   ]
  },
  {
   "cell_type": "code",
   "execution_count": 9,
   "metadata": {
    "collapsed": true
   },
   "outputs": [],
   "source": [
    "add_data(session,\"kitagawa\", 98)"
   ]
  },
  {
   "cell_type": "code",
   "execution_count": 10,
   "metadata": {
    "collapsed": true
   },
   "outputs": [],
   "source": [
    "add_data(session,\"sato\", 69)"
   ]
  },
  {
   "cell_type": "code",
   "execution_count": 11,
   "metadata": {
    "collapsed": false
   },
   "outputs": [
    {
     "data": {
      "text/plain": [
       "[{'data': '2015/11/20', 'id': 1, 'name': 'midorikawa', 'point': 100},\n",
       " {'data': '2015/11/20', 'id': 2, 'name': 'kimura', 'point': 30},\n",
       " {'data': '2015/11/20', 'id': 3, 'name': 'kitagawa', 'point': 98},\n",
       " {'data': '2015/11/20', 'id': 4, 'name': 'sato', 'point': 69}]"
      ]
     },
     "execution_count": 11,
     "metadata": {},
     "output_type": "execute_result"
    }
   ],
   "source": [
    "take_data_all(session)"
   ]
  },
  {
   "cell_type": "code",
   "execution_count": 12,
   "metadata": {
    "collapsed": true
   },
   "outputs": [],
   "source": [
    "dat = session.query(Sample)"
   ]
  },
  {
   "cell_type": "code",
   "execution_count": 13,
   "metadata": {
    "collapsed": false
   },
   "outputs": [
    {
     "data": {
      "text/plain": [
       "<sqlalchemy.orm.query.Query at 0x7fdaea7b9ba8>"
      ]
     },
     "execution_count": 13,
     "metadata": {},
     "output_type": "execute_result"
    }
   ],
   "source": [
    "dat"
   ]
  },
  {
   "cell_type": "code",
   "execution_count": 19,
   "metadata": {
    "collapsed": false
   },
   "outputs": [
    {
     "name": "stdout",
     "output_type": "stream",
     "text": [
      "1\n",
      "2\n",
      "3\n",
      "4\n"
     ]
    }
   ],
   "source": [
    "for i in dat :\n",
    "    print(i.id)\n",
    "        "
   ]
  },
  {
   "cell_type": "code",
   "execution_count": 20,
   "metadata": {
    "collapsed": true
   },
   "outputs": [],
   "source": [
    "td = \"<>{}<>\""
   ]
  },
  {
   "cell_type": "code",
   "execution_count": 21,
   "metadata": {
    "collapsed": false
   },
   "outputs": [
    {
     "name": "stdout",
     "output_type": "stream",
     "text": [
      "<>a<>\n",
      "<>b<>\n",
      "<>c<>\n",
      "<>d<>\n",
      "<>e<>\n"
     ]
    }
   ],
   "source": [
    "print(td.format(\"a\"))\n",
    "print(td.format(\"b\"))\n",
    "print(td.format(\"c\"))\n",
    "print(td.format(\"d\"))\n",
    "print(td.format(\"e\"))"
   ]
  },
  {
   "cell_type": "code",
   "execution_count": null,
   "metadata": {
    "collapsed": true
   },
   "outputs": [],
   "source": []
  }
 ],
 "metadata": {
  "kernelspec": {
   "display_name": "Python 3",
   "language": "python",
   "name": "python3"
  },
  "language_info": {
   "codemirror_mode": {
    "name": "ipython",
    "version": 3
   },
   "file_extension": ".py",
   "mimetype": "text/x-python",
   "name": "python",
   "nbconvert_exporter": "python",
   "pygments_lexer": "ipython3",
   "version": "3.4.3"
  }
 },
 "nbformat": 4,
 "nbformat_minor": 0
}
