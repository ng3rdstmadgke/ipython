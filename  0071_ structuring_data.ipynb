{
 "cells": [
  {
   "cell_type": "code",
   "execution_count": 15,
   "metadata": {
    "collapsed": true
   },
   "outputs": [],
   "source": [
    "##################################################################\n",
    "# csv\n",
    "##################################################################\n",
    "sample_csv = [[\"Doctor\", \"No\"],[\"Rosa\", \"klebb\"], [\"Mister\", \"Big\"], [\"Auric\", \"Goldfinger\"], [\"Ernst\", \"Blofeld\"]]"
   ]
  },
  {
   "cell_type": "code",
   "execution_count": 16,
   "metadata": {
    "collapsed": false
   },
   "outputs": [],
   "source": [
    "# csvの書き込み\n",
    "#==================================================\n",
    "import csv\n",
    "with open(\"test.csv\", \"wt\") as f:\n",
    "    csvout = csv.writer(f)\n",
    "    csvout.writerows(sample_csv)"
   ]
  },
  {
   "cell_type": "code",
   "execution_count": 17,
   "metadata": {
    "collapsed": false
   },
   "outputs": [
    {
     "name": "stdout",
     "output_type": "stream",
     "text": [
      "[['Doctor', 'No'], ['Rosa', 'klebb'], ['Mister', 'Big'], ['Auric', 'Goldfinger'], ['Ernst', 'Blofeld']]\n"
     ]
    }
   ],
   "source": [
    "# csvの読み込み\n",
    "#==================================================\n",
    "with open(\"test.csv\", \"rt\") as f:\n",
    "    csvin = csv.reader(f)   # イテレータを返す\n",
    "    ret = [i for i in csvin]\n",
    "print(ret)"
   ]
  },
  {
   "cell_type": "code",
   "execution_count": 18,
   "metadata": {
    "collapsed": false
   },
   "outputs": [
    {
     "name": "stdout",
     "output_type": "stream",
     "text": [
      "[{'last': 'No', 'first': 'Doctor'}, {'last': 'klebb', 'first': 'Rosa'}, {'last': 'Big', 'first': 'Mister'}, {'last': 'Goldfinger', 'first': 'Auric'}, {'last': 'Blofeld', 'first': 'Ernst'}]\n"
     ]
    }
   ],
   "source": [
    "# 辞書として読み込む\n",
    "with open(\"test.csv\", \"rt\") as f:\n",
    "    csvin = csv.DictReader(f, [\"first\", \"last\"])  # イテレータを返す\n",
    "    ret = [i for i in csvin]\n",
    "print(ret)"
   ]
  },
  {
   "cell_type": "code",
   "execution_count": 19,
   "metadata": {
    "collapsed": true
   },
   "outputs": [],
   "source": [
    "import os\n",
    "os.remove(\"test.csv\")"
   ]
  },
  {
   "cell_type": "code",
   "execution_count": 25,
   "metadata": {
    "collapsed": false
   },
   "outputs": [],
   "source": [
    "##################################################################\n",
    "# XML\n",
    "##################################################################\n",
    "# タグ : <hoge>開始タグ、</hoge>終了タグ\n",
    "# 値 : 開始タグと終了タグで囲まれた文字列。例)itemタグの値はpancakes\n",
    "# 属性 : タグに組み込まれたkey=value。例)priceはitemタグの属性\n",
    "sample_xml = \"\"\"<?xml version=\"1.0\"?>\n",
    "<menu>\n",
    "  <breakfast hours=\"7-11\">\n",
    "    <item price=\"$6.00\">breakfast burritos</item>\n",
    "    <item price=\"$4.00\">pancakes</item>\n",
    "  </breakfast>\n",
    "  <lunch hours=\"11-3\">\n",
    "    <item price=\"$5.00\">hamburger</item>\n",
    "  </lunch>\n",
    "  <dinner hours=\"3-10\">\n",
    "    <item price=\"8.00$\">spaghetti</item>\n",
    "  </dinner>\n",
    "</menu>\n",
    "\"\"\"\n",
    "with open(\"test.xml\", \"wt\") as f:\n",
    "    f.write(sample_xml)"
   ]
  },
  {
   "cell_type": "code",
   "execution_count": 26,
   "metadata": {
    "collapsed": true
   },
   "outputs": [],
   "source": [
    "# xmlの読み込み\n",
    "#==================================================\n",
    "import xml.etree.ElementTree as et\n",
    "tree = et.ElementTree(file=\"test.xml\")\n",
    "root = tree.getroot()"
   ]
  },
  {
   "cell_type": "code",
   "execution_count": 27,
   "metadata": {
    "collapsed": false
   },
   "outputs": [
    {
     "name": "stdout",
     "output_type": "stream",
     "text": [
      "menu\n"
     ]
    }
   ],
   "source": [
    "print(root.tag)"
   ]
  },
  {
   "cell_type": "code",
   "execution_count": 52,
   "metadata": {
    "collapsed": false
   },
   "outputs": [
    {
     "name": "stdout",
     "output_type": "stream",
     "text": [
      "tag:breakfast   attr:{'hours': '7-11'}\n",
      "\ttag:item   attr:{'price': '$6.00'}   text:breakfast burritos\n",
      "\ttag:item   attr:{'price': '$4.00'}   text:pancakes\n",
      "tag:lunch   attr:{'hours': '11-3'}\n",
      "\ttag:item   attr:{'price': '$5.00'}   text:hamburger\n",
      "tag:dinner   attr:{'hours': '3-10'}\n",
      "\ttag:item   attr:{'price': '8.00$'}   text:spaghetti\n"
     ]
    }
   ],
   "source": [
    "for i in root:\n",
    "    print(\"tag:\", i.tag, \"   attr:\", i.attrib, sep=\"\")\n",
    "    for j in i:\n",
    "        print(\"\\ttag:\", j.tag, \"   attr:\", j.attrib, \"   text:\", j.text, sep=\"\")"
   ]
  },
  {
   "cell_type": "code",
   "execution_count": 53,
   "metadata": {
    "collapsed": false
   },
   "outputs": [
    {
     "name": "stdout",
     "output_type": "stream",
     "text": [
      "pancakes\n"
     ]
    }
   ],
   "source": [
    "# 特定のタグの値\n",
    "print(root[0][1].text)"
   ]
  },
  {
   "cell_type": "code",
   "execution_count": 55,
   "metadata": {
    "collapsed": false
   },
   "outputs": [
    {
     "name": "stdout",
     "output_type": "stream",
     "text": [
      "3\n"
     ]
    }
   ],
   "source": [
    "# 子タグの数\n",
    "print(len(root))"
   ]
  },
  {
   "cell_type": "code",
   "execution_count": 56,
   "metadata": {
    "collapsed": true
   },
   "outputs": [],
   "source": [
    "import os\n",
    "os.remove(\"test.xml\")"
   ]
  },
  {
   "cell_type": "code",
   "execution_count": 75,
   "metadata": {
    "collapsed": false
   },
   "outputs": [],
   "source": [
    "##################################################################\n",
    "# json\n",
    "##################################################################\n",
    "import json\n",
    "sample_json = \\\n",
    "{\n",
    "    \"breakfast\": {\"hours\": \"7-11\", \"items\": {\"breakfast burritos\": \"$6.00\", \"pancakes\": \"$4.00\"}},\n",
    "    \"lunch\": {\"hours\": \"11-3\", \"items\": {\"hamburger\": \"$5.00\"}},\n",
    "    \"dinner\": {\"hours\": \"3-10\", \"items\": {\"spaghetti\": \"$8.00\"}}\n",
    "}"
   ]
  },
  {
   "cell_type": "code",
   "execution_count": 76,
   "metadata": {
    "collapsed": false
   },
   "outputs": [
    {
     "name": "stdout",
     "output_type": "stream",
     "text": [
      "<class 'str'>\n",
      "{\"lunch\": {\"hours\": \"11-3\", \"items\": {\"hamburger\": \"$5.00\"}}, \"dinner\": {\"hours\": \"3-10\", \"items\": {\"spaghetti\": \"$8.00\"}}, \"breakfast\": {\"hours\": \"7-11\", \"items\": {\"pancakes\": \"$4.00\", \"breakfast burritos\": \"$6.00\"}}}\n"
     ]
    }
   ],
   "source": [
    "# オブジェクトをjson文字列にエンコード\n",
    "#==================================================\n",
    "menu_json = json.dumps(sample_json)\n",
    "print(type(menu_json), menu_json, sep=\"\\n\")"
   ]
  },
  {
   "cell_type": "code",
   "execution_count": 77,
   "metadata": {
    "collapsed": false
   },
   "outputs": [
    {
     "name": "stdout",
     "output_type": "stream",
     "text": [
      "{'lunch': {'hours': '11-3', 'items': {'hamburger': '$5.00'}}, 'dinner': {'hours': '3-10', 'items': {'spaghetti': '$8.00'}}, 'breakfast': {'hours': '7-11', 'items': {'pancakes': '$4.00', 'breakfast burritos': '$6.00'}}}\n"
     ]
    }
   ],
   "source": [
    "# son文字列をpythonオブジェクトにデコード\n",
    "#==================================================\n",
    "menu = json.loads(menu_json)\n",
    "print(menu)"
   ]
  },
  {
   "cell_type": "code",
   "execution_count": 78,
   "metadata": {
    "collapsed": false
   },
   "outputs": [],
   "source": [
    "# オブジェクトをjson文字列にエンコードしてファイルに保存\n",
    "#==================================================\n",
    "with open(\"test.json\", \"wt\") as f:\n",
    "    json.dump(sample_json, f, indent=2)"
   ]
  },
  {
   "cell_type": "code",
   "execution_count": 74,
   "metadata": {
    "collapsed": false
   },
   "outputs": [
    {
     "name": "stdout",
     "output_type": "stream",
     "text": [
      "{'lunch': {'hours': '11-3', 'items': {'hamburger': '$5.00'}}, 'dinner': {'hours': '3-10', 'items': {'spaghetti': '$8.00'}}, 'breakfast': {'hours': '7-11', 'items': {'pancakes': '$4.00', 'breakfast burritos': '$6.00'}}}\n"
     ]
    }
   ],
   "source": [
    "# jsonファイルをpythonオブジェクトにデコード\n",
    "#==================================================\n",
    "with open(\"test.json\", \"rt\") as f:\n",
    "    menu = json.load(f)\n",
    "print(menu)"
   ]
  },
  {
   "cell_type": "code",
   "execution_count": null,
   "metadata": {
    "collapsed": true
   },
   "outputs": [],
   "source": []
  }
 ],
 "metadata": {
  "kernelspec": {
   "display_name": "Python 3",
   "language": "python",
   "name": "python3"
  },
  "language_info": {
   "codemirror_mode": {
    "name": "ipython",
    "version": 3
   },
   "file_extension": ".py",
   "mimetype": "text/x-python",
   "name": "python",
   "nbconvert_exporter": "python",
   "pygments_lexer": "ipython3",
   "version": "3.5.1+"
  }
 },
 "nbformat": 4,
 "nbformat_minor": 0
}
