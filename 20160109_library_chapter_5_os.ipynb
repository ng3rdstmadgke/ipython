{
 "cells": [
  {
   "cell_type": "code",
   "execution_count": 1,
   "metadata": {
    "collapsed": true
   },
   "outputs": [],
   "source": [
    "# ============ OSの機能を利用する ================="
   ]
  },
  {
   "cell_type": "code",
   "execution_count": 2,
   "metadata": {
    "collapsed": true
   },
   "outputs": [],
   "source": [
    "####################################################\n",
    "# 実行中のプロセス属性の操作\n",
    "####################################################\n",
    "import os"
   ]
  },
  {
   "cell_type": "code",
   "execution_count": 3,
   "metadata": {
    "collapsed": false
   },
   "outputs": [
    {
     "name": "stdout",
     "output_type": "stream",
     "text": [
      "environ({'PWD': '/home/k-ta', 'XAUTHORITY': '/home/k-ta/.Xauthority', 'DISPLAY': ':0', 'LOGNAME': 'k-ta', 'SESSION_MANAGER': 'local/kta-dynabook-R632-F:@/tmp/.ICE-unix/1692,unix/kta-dynabook-R632-F:/tmp/.ICE-unix/1692', 'LESSCLOSE': '/usr/bin/lesspipe %s %s', 'TEXTDOMAIN': 'im-config', 'COLORTERM': 'mate-terminal', 'WINDOWID': '50331678', 'GNOME_KEYRING_PID': '1615', 'XDG_SESSION_ID': 'c1', 'SHELL': '/bin/bash', 'VIRTUALENVWRAPPER_PROJECT_FILENAME': '.project', 'MDM_LANG': 'ja_JP.UTF-8', 'PATH': '/home/k-ta/.virtualenvs/k-ta/bin:/usr/local/sbin:/usr/local/bin:/usr/sbin:/usr/bin:/sbin:/bin:/usr/games:/usr/local/games', 'XMODIFIERS': '@im=ibus', 'GNOME_KEYRING_CONTROL': '/run/user/1000/keyring-asxebo', 'DESKTOP_SESSION': 'mate', 'XDG_RUNTIME_DIR': '/run/user/1000', 'VIRTUALENVWRAPPER_HOOK_DIR': '/home/k-ta/.virtualenvs', 'PS1': '(k-ta)${debian_chroot:+($debian_chroot)}\\\\[\\\\033[01;32m\\\\]\\\\u@\\\\h\\\\[\\\\033[01;34m\\\\] \\\\w \\\\$\\\\[\\\\033[00m\\\\] ', 'GDMSESSION': 'mate', 'SSH_AUTH_SOCK': '/run/user/1000/keyring-asxebo/ssh', 'TEXTDOMAINDIR': '/usr/share/locale/', 'JPY_PARENT_PID': '2419', 'CLUTTER_IM_MODULE': 'xim', 'IBUS_ENABLE_SYNC_MODE': '1', 'XDG_SEAT': 'seat0', 'USER': 'k-ta', 'LESSOPEN': '| /usr/bin/lesspipe %s', 'GTK_OVERLAY_SCROLLING': '0', 'MATE_DESKTOP_SESSION_ID': 'this-is-deprecated', 'XDG_DATA_DIRS': '/usr/share/mate:/usr/local/share/:/usr/share/:/usr/share/mdm/', 'PAGER': 'cat', 'MANDATORY_PATH': '/usr/share/gconf/mate.mandatory.path', 'XDG_VTNR': '8', 'USERNAME': 'k-ta', 'MDMSESSION': 'mate', 'GIT_PAGER': 'cat', 'XDG_CONFIG_DIRS': '/etc/xdg/xdg-mate:/etc/xdg', 'GDM_XSERVER_LOCATION': 'local', 'VIRTUALENVWRAPPER_SCRIPT': '/usr/local/bin/virtualenvwrapper.sh', 'QT4_IM_MODULE': 'xim', 'QT_IM_MODULE': 'ibus', 'LANG': 'ja_JP.UTF-8', 'MDM_XSERVER_LOCATION': 'local', 'GTK_IM_MODULE': 'xim', 'WINDOWPATH': '8', '_': '/home/k-ta/.virtualenvs/k-ta/bin/ipython', 'GPG_AGENT_INFO': '/run/user/1000/keyring-asxebo/gpg:0:1', 'TERM': 'xterm-color', 'XDG_SESSION_DESKTOP': 'mate', 'WORKON_HOME': '/home/k-ta/.virtualenvs', 'LS_COLORS': 'rs=0:di=01;34:ln=01;36:mh=00:pi=40;33:so=01;35:do=01;35:bd=40;33;01:cd=40;33;01:or=40;31;01:su=37;41:sg=30;43:ca=30;41:tw=30;42:ow=34;42:st=37;44:ex=01;32:*.tar=01;31:*.tgz=01;31:*.arj=01;31:*.taz=01;31:*.lzh=01;31:*.lzma=01;31:*.tlz=01;31:*.txz=01;31:*.zip=01;31:*.z=01;31:*.Z=01;31:*.dz=01;31:*.gz=01;31:*.lz=01;31:*.xz=01;31:*.bz2=01;31:*.bz=01;31:*.tbz=01;31:*.tbz2=01;31:*.tz=01;31:*.deb=01;31:*.rpm=01;31:*.jar=01;31:*.war=01;31:*.ear=01;31:*.sar=01;31:*.rar=01;31:*.ace=01;31:*.zoo=01;31:*.cpio=01;31:*.7z=01;31:*.rz=01;31:*.jpg=01;35:*.jpeg=01;35:*.gif=01;35:*.bmp=01;35:*.pbm=01;35:*.pgm=01;35:*.ppm=01;35:*.tga=01;35:*.xbm=01;35:*.xpm=01;35:*.tif=01;35:*.tiff=01;35:*.png=01;35:*.svg=01;35:*.svgz=01;35:*.mng=01;35:*.pcx=01;35:*.mov=01;35:*.mpg=01;35:*.mpeg=01;35:*.m2v=01;35:*.mkv=01;35:*.webm=01;35:*.ogm=01;35:*.mp4=01;35:*.m4v=01;35:*.mp4v=01;35:*.vob=01;35:*.qt=01;35:*.nuv=01;35:*.wmv=01;35:*.asf=01;35:*.rm=01;35:*.rmvb=01;35:*.flc=01;35:*.avi=01;35:*.fli=01;35:*.flv=01;35:*.gl=01;35:*.dl=01;35:*.xcf=01;35:*.xwd=01;35:*.yuv=01;35:*.cgm=01;35:*.emf=01;35:*.axv=01;35:*.anx=01;35:*.ogv=01;35:*.ogx=01;35:*.aac=00;36:*.au=00;36:*.flac=00;36:*.mid=00;36:*.midi=00;36:*.mka=00;36:*.mp3=00;36:*.mpc=00;36:*.ogg=00;36:*.ra=00;36:*.wav=00;36:*.axa=00;36:*.oga=00;36:*.spx=00;36:*.xspf=00;36:', 'CLICOLOR': '1', 'DBUS_SESSION_BUS_ADDRESS': 'unix:abstract=/tmp/dbus-9zKjy1lg9P,guid=ada5276e56575bdf2ed8c5c6569f71a5', 'PROJECT_HOME': '/home/k-ta/Devel', 'VIRTUALENVWRAPPER_WORKON_CD': '1', 'VIRTUAL_ENV': '/home/k-ta/.virtualenvs/k-ta', 'SHLVL': '1', 'SSH_AGENT_PID': '1755', 'DEFAULTS_PATH': '/usr/share/gconf/mate.default.path', 'XDG_SESSION_COOKIE': 'a8bbe5e45c44b01239ae3012567ce555-1453289893.236735-632183557', 'HOME': '/home/k-ta', 'XDG_CURRENT_DESKTOP': 'MATE'})\n",
      "\n",
      "/home/k-ta/.virtualenvs/k-ta/bin:/usr/local/sbin:/usr/local/bin:/usr/sbin:/usr/bin:/sbin:/bin:/usr/games:/usr/local/games\n"
     ]
    }
   ],
   "source": [
    "# 環境変数を返す　environ\n",
    "print(os.environ, end=\"\\n\\n\")\n",
    "print(os.environ[\"PATH\"])"
   ]
  },
  {
   "cell_type": "code",
   "execution_count": 4,
   "metadata": {
    "collapsed": false
   },
   "outputs": [
    {
     "name": "stdout",
     "output_type": "stream",
     "text": [
      "/home/k-ta/.virtualenvs/k-ta/bin:/usr/local/sbin:/usr/local/bin:/usr/sbin:/usr/bin:/sbin:/bin:/usr/games:/usr/local/games\n"
     ]
    }
   ],
   "source": [
    "# 環境変数名を指定して取得する　getenv(env, default)\n",
    "print(os.getenv(\"PATH\", \"/home/k-ta\"))"
   ]
  },
  {
   "cell_type": "code",
   "execution_count": 5,
   "metadata": {
    "collapsed": false
   },
   "outputs": [
    {
     "data": {
      "text/plain": [
       "1000"
      ]
     },
     "execution_count": 5,
     "metadata": {},
     "output_type": "execute_result"
    }
   ],
   "source": [
    "# ユーザーIDを取得\n",
    "os.getuid()"
   ]
  },
  {
   "cell_type": "code",
   "execution_count": 6,
   "metadata": {
    "collapsed": false
   },
   "outputs": [
    {
     "data": {
      "text/plain": [
       "1000"
      ]
     },
     "execution_count": 6,
     "metadata": {},
     "output_type": "execute_result"
    }
   ],
   "source": [
    "# グループIDを取得\n",
    "os.getgid()"
   ]
  },
  {
   "cell_type": "code",
   "execution_count": 7,
   "metadata": {
    "collapsed": false
   },
   "outputs": [
    {
     "data": {
      "text/plain": [
       "2707"
      ]
     },
     "execution_count": 7,
     "metadata": {},
     "output_type": "execute_result"
    }
   ],
   "source": [
    "# プロセスIDを取得\n",
    "os.getpid()"
   ]
  },
  {
   "cell_type": "code",
   "execution_count": 8,
   "metadata": {
    "collapsed": false
   },
   "outputs": [
    {
     "data": {
      "text/plain": [
       "'/home/k-ta/ipython'"
      ]
     },
     "execution_count": 8,
     "metadata": {},
     "output_type": "execute_result"
    }
   ],
   "source": [
    "# カレントワーキングディレクトリを取得\n",
    "os.getcwd()"
   ]
  },
  {
   "cell_type": "code",
   "execution_count": 9,
   "metadata": {
    "collapsed": false
   },
   "outputs": [],
   "source": [
    "# ディレクトリを作成mkdir(path, mode=0o777)pri\n",
    "os.chdir(\"/home/k-ta/ipython\")\n",
    "os.mkdir(\"chapter_5_os\")"
   ]
  },
  {
   "cell_type": "code",
   "execution_count": 10,
   "metadata": {
    "collapsed": false
   },
   "outputs": [
    {
     "name": "stdout",
     "output_type": "stream",
     "text": [
      "['Untitled2.ipynb', '20151018_home_sqlalchemy.ipynb', 'Iterator_generator.ipynb', 'sample_file', 'mako_gijutu.ipynb', 'sample.sqlite', '20151228_library_chapter_1_re.ipynb', '20151017_mokumokuo_meeting.ipynb', 'hash.ipynb', 'hoge.txt', '20151210raise_exception.ipynb', '20151231_library_chapter_4_container.ipynb', 'super_class.ipynb', '20151218_MagicMock.ipynb', 'sample_file2', '20151231_library_chapter_5_base_sysos.ipynb', '20151109lambda.ipynb', '20151229_library_chapter_2_calculation.ipynb', 'test.txt', '.ipynb_checkpoints', '20151018_home_sqlalchemy_func.ipynb', '20151227_library_chapter_1_text.ipynb', 'chapter_5_os', '20151211mock_test.ipynb', 'access', '20151219_sqlite3.ipynb', '20151230_library_chapter_4_basic_collection.ipynb', '20151018_home_os.ipynb', '20160109_library_chapter_5_os.ipynb', '20151016_sqlalchemy_test.ipynb', '20151230_library_chapter_3_datetime.ipynb', '20151231_library_chapter_4_collections.ipynb']\n",
      "chapter_5_os\n"
     ]
    }
   ],
   "source": [
    "# 指定されたpathにあるファイル・ディレクトリをリストで返す listdir(path=\".\")\n",
    "fd_list = os.listdir()\n",
    "index = fd_list.index(\"chapter_5_os\")\n",
    "print(fd_list)\n",
    "print(fd_list[22])"
   ]
  },
  {
   "cell_type": "code",
   "execution_count": 11,
   "metadata": {
    "collapsed": false
   },
   "outputs": [
    {
     "name": "stdout",
     "output_type": "stream",
     "text": [
      "os.stat_result(st_mode=16877, st_ino=6032833, st_dev=2049, st_nlink=2, st_uid=1000, st_gid=1000, st_size=4096, st_atime=1453289994, st_mtime=1453289994, st_ctime=1453289994)\n",
      "os.stat_result(st_mode=33188, st_ino=5819966, st_dev=2049, st_nlink=1, st_uid=1000, st_gid=1000, st_size=41007, st_atime=1453250168, st_mtime=1453250162, st_ctime=1453250162)\n",
      "16877\n"
     ]
    }
   ],
   "source": [
    "# ファイルやディレクトリのステータスを返す stat(fd)\n",
    "# stat.ST_MODE : Iノードの保護モード。\n",
    "# stat.ST_INO : Iノード番号。\n",
    "# stat.ST_DEV : Iノードが存在するデバイス。\n",
    "# stat.ST_NLINK : 該当する Iノードへのリンク数。\n",
    "# stat.ST_UID : ファイルの所持者のユーザ ID。\n",
    "# stat.ST_GID : ファイルの所持者のグループ ID。\n",
    "# stat.ST_SIZE : 通常ファイルではバイトサイズ; いくつかの特殊ファイルでは処理待ちのデータ量。\n",
    "# stat.ST_ATIME : 最後にアクセスした時刻。\n",
    "# stat.ST_MTIME : 最後に変更された時刻。\n",
    "# stat.ST_CTIME : オペレーティングシステムから返される”ctime”。最後にメタデータが更新された時間となる\n",
    "print(os.stat(\"chapter_5_os\"))\n",
    "print(os.stat(\"20160109_library_chapter_5_os.ipynb\"))\n",
    "c5o = os.stat(\"chapter_5_os\")\n",
    "print(c5o.st_mode)"
   ]
  },
  {
   "cell_type": "code",
   "execution_count": 12,
   "metadata": {
    "collapsed": false
   },
   "outputs": [
    {
     "name": "stdout",
     "output_type": "stream",
     "text": [
      "/home/k-ta/ipython/chapter_5_os\n"
     ]
    }
   ],
   "source": [
    "# カレントワーキングディレクトリを変更する chdir(path)\n",
    "os.chdir(\"/home/k-ta/ipython/chapter_5_os\")\n",
    "print(os.getcwd())"
   ]
  },
  {
   "cell_type": "code",
   "execution_count": 13,
   "metadata": {
    "collapsed": false
   },
   "outputs": [
    {
     "name": "stdout",
     "output_type": "stream",
     "text": [
      "['sample.txt']\n"
     ]
    }
   ],
   "source": [
    "# ファイルを作成 open(fielname, mode)\n",
    "with open(\"sample.txt\", \"w\") as f:\n",
    "    f.write(\"Hello World!!\")\n",
    "print(os.listdir())"
   ]
  },
  {
   "cell_type": "code",
   "execution_count": 14,
   "metadata": {
    "collapsed": true
   },
   "outputs": [],
   "source": [
    "# ファイル・ディレクトリのパーミッションを変更する chmod(path, mode)\n",
    "os.chmod(\"sample.txt\", 0o755) #モードは8進数で指定する"
   ]
  },
  {
   "cell_type": "code",
   "execution_count": 15,
   "metadata": {
    "collapsed": false
   },
   "outputs": [
    {
     "name": "stdout",
     "output_type": "stream",
     "text": [
      "['sample.txt', 'a']\n"
     ]
    }
   ],
   "source": [
    "# 指定されたディレクトリを再帰的に作成する mkdirs(name, mode=0o777)\n",
    "os.makedirs(\"a/b/c/d\", mode=0o755)\n",
    "print(os.listdir())"
   ]
  },
  {
   "cell_type": "code",
   "execution_count": 16,
   "metadata": {
    "collapsed": false
   },
   "outputs": [
    {
     "name": "stdout",
     "output_type": "stream",
     "text": [
      "['a']\n"
     ]
    }
   ],
   "source": [
    "# pathで指定されたファイルを削除する remove(path)\n",
    "os.remove(\"sample.txt\")\n",
    "print(os.listdir())"
   ]
  },
  {
   "cell_type": "code",
   "execution_count": 17,
   "metadata": {
    "collapsed": false
   },
   "outputs": [
    {
     "name": "stdout",
     "output_type": "stream",
     "text": [
      "[]\n"
     ]
    }
   ],
   "source": [
    "# pathで指定されたディレクトリを削除(ディレクトリがからでない場合はError) rmdir(path)\n",
    "os.rmdir(\"a/b/c/d\")\n",
    "print(os.listdir(\"a/b/c\"))"
   ]
  },
  {
   "cell_type": "code",
   "execution_count": 18,
   "metadata": {
    "collapsed": false
   },
   "outputs": [
    {
     "name": "stdout",
     "output_type": "stream",
     "text": [
      "[]\n"
     ]
    }
   ],
   "source": [
    "# nameで指定されたディレクトリをパスの末端から再帰的に削除\n",
    "import shutil\n",
    "shutil.rmtree(\"a\")\n",
    "print(os.listdir())"
   ]
  },
  {
   "cell_type": "code",
   "execution_count": 19,
   "metadata": {
    "collapsed": false
   },
   "outputs": [
    {
     "name": "stdout",
     "output_type": "stream",
     "text": [
      "['sample.txt', 'a']\n",
      "['test.txt', 'c']\n"
     ]
    }
   ],
   "source": [
    "with open(\"sample.txt\", \"w\") as f:\n",
    "    f.write(\"Hello\")\n",
    "\n",
    "os.makedirs(\"a/b/c\", mode=0o755)\n",
    "with open(\"a/b/test.txt\", \"w\") as f:\n",
    "    f.write(\"Hello\")\n",
    "\n",
    "print(os.listdir())\n",
    "print(os.listdir(\"a/b\"))"
   ]
  },
  {
   "cell_type": "code",
   "execution_count": 20,
   "metadata": {
    "collapsed": false
   },
   "outputs": [
    {
     "name": "stdout",
     "output_type": "stream",
     "text": [
      "['spam.txt', 'a']\n",
      "['e']\n"
     ]
    }
   ],
   "source": [
    "# ファイル・ディレクトリの名前を変更する rename(old, new)\n",
    "os.rename(\"sample.txt\", \"spam.txt\")\n",
    "os.rename(\"a/b\", \"a/e\")\n",
    "print(os.listdir())\n",
    "print(os.listdir(\"a\"))"
   ]
  },
  {
   "cell_type": "code",
   "execution_count": 21,
   "metadata": {
    "collapsed": false
   },
   "outputs": [
    {
     "name": "stdout",
     "output_type": "stream",
     "text": [
      "['x', 'spam.txt']\n",
      "['z.txt']\n"
     ]
    }
   ],
   "source": [
    "# ファイル・ディレクトリの名称を再帰的に変更する renames(oldpath, newpath)\n",
    "# ※古いパスは消去されない\n",
    "os.renames(\"a/e/test.txt\", \"x/y/z.txt\")\n",
    "shutil.rmtree(\"a\")\n",
    "print(os.listdir())\n",
    "print(os.listdir(\"x/y\"))"
   ]
  },
  {
   "cell_type": "code",
   "execution_count": 22,
   "metadata": {
    "collapsed": false
   },
   "outputs": [
    {
     "name": "stdout",
     "output_type": "stream",
     "text": [
      "['srv', 'etc', 'proc', 'lib', 'sbin', 'home', 'tmp', 'initrd.img', 'lib64', 'boot', 'lost+found', 'vmlinuz', 'media', 'opt', 'mnt', 'sys', 'run', 'root', 'var', 'bin', 'cdrom', 'usr', 'dev']\n"
     ]
    }
   ],
   "source": [
    "# sourceを指すシンボリックリンクを、link_nameで指定したファイル名で作成する symlink(source, link_name)\n",
    "os.symlink(\"/\", \"root_dir\")\n",
    "os.chdir(\"root_dir\")\n",
    "print(os.listdir())"
   ]
  },
  {
   "cell_type": "code",
   "execution_count": 23,
   "metadata": {
    "collapsed": false
   },
   "outputs": [
    {
     "name": "stdout",
     "output_type": "stream",
     "text": [
      "['x', 'spam.txt', 'root_dir']\n"
     ]
    }
   ],
   "source": [
    "os.chdir(\"/home/k-ta/ipython/chapter_5_os\")\n",
    "print(os.listdir())"
   ]
  },
  {
   "cell_type": "code",
   "execution_count": 24,
   "metadata": {
    "collapsed": false
   },
   "outputs": [
    {
     "name": "stdout",
     "output_type": "stream",
     "text": [
      "chapter_5_os is not in list\n"
     ]
    }
   ],
   "source": [
    "# リセット\n",
    "os.chdir(\"/home/k-ta/ipython\")\n",
    "shutil.rmtree(\"chapter_5_os\")\n",
    "try:\n",
    "    print(os.listdir().index(\"chapter_5_os\"))\n",
    "except ValueError:\n",
    "    print(\"chapter_5_os is not in list\")"
   ]
  },
  {
   "cell_type": "code",
   "execution_count": 25,
   "metadata": {
    "collapsed": false
   },
   "outputs": [
    {
     "name": "stdout",
     "output_type": "stream",
     "text": [
      "{'CS_XBS5_LPBIG_OFFBIG_LIBS': 1114, 'CS_XBS5_LP64_OFF64_LDFLAGS': 1109, 'CS_GNU_LIBPTHREAD_VERSION': 3, 'CS_XBS5_ILP32_OFFBIG_CFLAGS': 1104, 'CS_XBS5_ILP32_OFF32_CFLAGS': 1100, 'CS_XBS5_LP64_OFF64_LIBS': 1110, 'CS_XBS5_LP64_OFF64_LINTFLAGS': 1111, 'CS_LFS_LIBS': 1002, 'CS_GNU_LIBC_VERSION': 2, 'CS_PATH': 0, 'CS_XBS5_LPBIG_OFFBIG_CFLAGS': 1112, 'CS_XBS5_ILP32_OFFBIG_LINTFLAGS': 1107, 'CS_XBS5_LPBIG_OFFBIG_LDFLAGS': 1113, 'CS_LFS_LINTFLAGS': 1003, 'CS_LFS_CFLAGS': 1000, 'CS_XBS5_LPBIG_OFFBIG_LINTFLAGS': 1115, 'CS_XBS5_LP64_OFF64_CFLAGS': 1108, 'CS_XBS5_ILP32_OFF32_LINTFLAGS': 1103, 'CS_XBS5_ILP32_OFF32_LDFLAGS': 1101, 'CS_LFS64_CFLAGS': 1004, 'CS_LFS64_LDFLAGS': 1005, 'CS_LFS64_LIBS': 1006, 'CS_XBS5_ILP32_OFFBIG_LDFLAGS': 1105, 'CS_XBS5_ILP32_OFF32_LIBS': 1102, 'CS_LFS64_LINTFLAGS': 1007, 'CS_XBS5_ILP32_OFFBIG_LIBS': 1106, 'CS_LFS_LDFLAGS': 1001}\n",
      "/bin:/usr/bin\n"
     ]
    }
   ],
   "source": [
    "# システム設定値を取得する　\n",
    "conf = os.confstr_names\n",
    "print(conf)\n",
    "print(os.confstr(\"CS_PATH\"))"
   ]
  },
  {
   "cell_type": "code",
   "execution_count": 26,
   "metadata": {
    "collapsed": false
   },
   "outputs": [
    {
     "name": "stdout",
     "output_type": "stream",
     "text": [
      "{'SC_XBS5_LP64_OFF64': 127, 'SC_NPROCESSORS_ONLN': 84, 'SC_PII_OSI': 57, 'SC_ATEXIT_MAX': 87, 'SC_PHYS_PAGES': 85, 'SC_SHRT_MAX': 113, 'SC_BC_BASE_MAX': 36, 'SC_THREAD_PRIO_INHERIT': 80, 'SC_SCHAR_MIN': 112, 'SC_THREAD_KEYS_MAX': 74, 'SC_THREAD_SAFE_FUNCTIONS': 68, 'SC_PAGE_SIZE': 30, 'SC_PII_OSI_M': 65, 'SC_INT_MIN': 105, 'SC_AIO_LISTIO_MAX': 23, 'SC_CHARCLASS_NAME_MAX': 45, 'SC_TIMER_MAX': 35, 'SC_SEM_NSEMS_MAX': 32, 'SC_VERSION': 29, 'SC_NL_LANGMAX': 120, 'SC_PRIORITY_SCHEDULING': 10, 'SC_REALTIME_SIGNALS': 9, 'SC_NZERO': 109, 'SC_NL_SETMAX': 123, 'SC_PAGESIZE': 30, 'SC_XBS5_ILP32_OFF32': 125, 'SC_THREAD_THREADS_MAX': 76, 'SC_PII': 53, 'SC_XOPEN_XPG2': 98, 'SC_EXPR_NEST_MAX': 42, 'SC_SHRT_MIN': 114, 'SC_ASYNCHRONOUS_IO': 12, 'SC_UCHAR_MAX': 115, 'SC_TIMERS': 11, 'SC_MESSAGE_PASSING': 20, 'SC_ULONG_MAX': 117, 'SC_PII_INTERNET_STREAM': 61, 'SC_XOPEN_SHM': 94, 'SC_T_IOV_MAX': 66, 'SC_2_VERSION': 46, 'SC_THREAD_DESTRUCTOR_ITERATIONS': 73, 'SC_SAVED_IDS': 8, 'SC_XOPEN_LEGACY': 129, 'SC_2_FORT_DEV': 49, 'SC_XOPEN_REALTIME_THREADS': 131, 'SC_2_LOCALEDEF': 52, 'SC_GETGR_R_SIZE_MAX': 69, 'SC_EQUIV_CLASS_MAX': 41, 'SC_SSIZE_MAX': 110, 'SC_MQ_OPEN_MAX': 27, 'SC_SHARED_MEMORY_OBJECTS': 22, 'SC_USHRT_MAX': 118, 'SC_2_C_VERSION': 96, 'SC_PII_OSI_CLTS': 64, 'SC_XOPEN_ENH_I18N': 93, 'SC_NL_ARGMAX': 119, 'SC_XBS5_ILP32_OFFBIG': 126, 'SC_BC_SCALE_MAX': 38, 'SC_NGROUPS_MAX': 3, 'SC_SEMAPHORES': 21, 'SC_XOPEN_XPG3': 99, 'SC_2_FORT_RUN': 50, 'SC_SEM_VALUE_MAX': 33, 'SC_MEMLOCK': 17, 'SC_MB_LEN_MAX': 108, 'SC_PII_INTERNET_DGRAM': 62, 'SC_WORD_BIT': 107, 'SC_JOB_CONTROL': 7, 'SC_2_SW_DEV': 51, 'SC_LONG_BIT': 106, 'SC_POLL': 58, 'SC_PII_INTERNET': 56, 'SC_TTY_NAME_MAX': 72, 'SC_LINE_MAX': 43, 'SC_PRIORITIZED_IO': 13, 'SC_INT_MAX': 104, 'SC_THREAD_ATTR_STACKADDR': 77, 'SC_RE_DUP_MAX': 44, 'SC_SYNCHRONIZED_IO': 14, 'SC_UINT_MAX': 116, 'SC_COLL_WEIGHTS_MAX': 40, 'SC_SCHAR_MAX': 111, 'SC_ARG_MAX': 0, 'SC_UIO_MAXIOV': 60, 'SC_IOV_MAX': 60, 'SC_STREAM_MAX': 5, 'SC_AIO_PRIO_DELTA_MAX': 25, 'SC_FSYNC': 15, 'SC_CHAR_BIT': 101, 'SC_XOPEN_UNIX': 91, 'SC_XOPEN_REALTIME': 130, 'SC_THREAD_PRIORITY_SCHEDULING': 79, 'SC_MQ_PRIO_MAX': 28, 'SC_XBS5_LPBIG_OFFBIG': 128, 'SC_XOPEN_XCU_VERSION': 90, 'SC_2_C_BIND': 47, 'SC_TZNAME_MAX': 6, 'SC_AIO_MAX': 24, 'SC_2_CHAR_TERM': 95, 'SC_THREAD_PROCESS_SHARED': 82, 'SC_AVPHYS_PAGES': 86, 'SC_PII_SOCKET': 55, 'SC_BC_DIM_MAX': 37, 'SC_RTSIG_MAX': 31, 'SC_2_UPE': 97, 'SC_XOPEN_XPG4': 100, 'SC_MEMORY_PROTECTION': 19, 'SC_CLK_TCK': 2, 'SC_MEMLOCK_RANGE': 18, 'SC_NL_NMAX': 122, 'SC_BC_STRING_MAX': 39, 'SC_THREAD_ATTR_STACKSIZE': 78, 'SC_THREAD_STACK_MIN': 75, 'SC_THREAD_PRIO_PROTECT': 81, 'SC_NPROCESSORS_CONF': 83, 'SC_PII_OSI_COTS': 63, 'SC_DELAYTIMER_MAX': 26, 'SC_NL_TEXTMAX': 124, 'SC_MAPPED_FILES': 16, 'SC_PII_XTI': 54, 'SC_XOPEN_CRYPT': 92, 'SC_CHILD_MAX': 1, 'SC_THREADS': 67, 'SC_GETPW_R_SIZE_MAX': 70, 'SC_LOGIN_NAME_MAX': 71, 'SC_CHAR_MIN': 103, 'SC_SIGQUEUE_MAX': 34, 'SC_CHAR_MAX': 102, 'SC_SELECT': 59, 'SC_PASS_MAX': 88, 'SC_2_C_DEV': 48, 'SC_NL_MSGMAX': 121, 'SC_XOPEN_VERSION': 89, 'SC_OPEN_MAX': 4}\n",
      "-2147483648\n"
     ]
    }
   ],
   "source": [
    "# sysconf()に渡すことのできる値を定義した辞書\n",
    "sysconf = os.sysconf_names\n",
    "print(sysconf)\n",
    "print(os.sysconf(\"SC_INT_MIN\"))"
   ]
  },
  {
   "cell_type": "code",
   "execution_count": 27,
   "metadata": {
    "collapsed": false
   },
   "outputs": [
    {
     "data": {
      "text/plain": [
       "4"
      ]
     },
     "execution_count": 27,
     "metadata": {},
     "output_type": "execute_result"
    }
   ],
   "source": [
    "# CPU数を取得する\n",
    "os.cpu_count()"
   ]
  },
  {
   "cell_type": "code",
   "execution_count": 28,
   "metadata": {
    "collapsed": false
   },
   "outputs": [
    {
     "name": "stdout",
     "output_type": "stream",
     "text": [
      "カレントディレクトリを表す文字 : .\n",
      "親ディレクトリを表す文字 : ..\n",
      "パス名の区切り文字 : /\n",
      "ファイル名と拡張子を分ける文字 : .\n",
      "行の終端を表す文字列 : \n",
      "\n"
     ]
    }
   ],
   "source": [
    "# ファイルパス関連の定数\n",
    "print(\"カレントディレクトリを表す文字 : {}\".format(os.curdir))\n",
    "print(\"親ディレクトリを表す文字 : {}\".format(os.pardir))\n",
    "print(\"パス名の区切り文字 : {}\".format(os.sep))\n",
    "print(\"ファイル名と拡張子を分ける文字 : {}\".format(os.extsep))\n",
    "print(\"行の終端を表す文字列 : {}\".format(os.linesep)) # \\n"
   ]
  },
  {
   "cell_type": "code",
   "execution_count": 29,
   "metadata": {
    "collapsed": false
   },
   "outputs": [],
   "source": [
    "####################################################\n",
    "# Shutil\n",
    "####################################################\n",
    "import shutil\n",
    "import os"
   ]
  },
  {
   "cell_type": "code",
   "execution_count": 30,
   "metadata": {
    "collapsed": false
   },
   "outputs": [
    {
     "data": {
      "text/plain": [
       "'/home/k-ta/ipython/chapter_5_shutil'"
      ]
     },
     "execution_count": 30,
     "metadata": {},
     "output_type": "execute_result"
    }
   ],
   "source": [
    "os.mkdir(\"/home/k-ta/ipython/chapter_5_shutil\")\n",
    "os.chdir(\"/home/k-ta/ipython/chapter_5_shutil\")\n",
    "os.getcwd()"
   ]
  },
  {
   "cell_type": "code",
   "execution_count": 31,
   "metadata": {
    "collapsed": false
   },
   "outputs": [
    {
     "name": "stdout",
     "output_type": "stream",
     "text": [
      "/home/k-ta/ipython/chapter_5_shutil\n",
      "['spam.txt', 'a']\n"
     ]
    }
   ],
   "source": [
    "os.makedirs(\"a/b/c\")\n",
    "with open(\"spam.txt\", \"w\") as f:\n",
    "    f.write(\"Spam Spam\")\n",
    "with open(\"a/b/ham.txt\", \"w\") as f:\n",
    "    f.write(\"Ham Ham\")\n",
    "print(os.getcwd())\n",
    "print(os.listdir())"
   ]
  },
  {
   "cell_type": "code",
   "execution_count": 32,
   "metadata": {
    "collapsed": false
   },
   "outputs": [
    {
     "name": "stdout",
     "output_type": "stream",
     "text": [
      "['spam.txt', 'egg.txt', 'a']\n"
     ]
    }
   ],
   "source": [
    "# copyfile(src, dst)\n",
    "# srcという名前のファイルの内容（メタデータを含まない）をdstという名前のファイルにコピー\n",
    "# dstを返す。コピー元とコピー先のファイル名が同じだとエラー\n",
    "shutil.copyfile(\"spam.txt\", \"egg.txt\")\n",
    "print(os.listdir())"
   ]
  },
  {
   "cell_type": "code",
   "execution_count": 33,
   "metadata": {
    "collapsed": false
   },
   "outputs": [
    {
     "name": "stdout",
     "output_type": "stream",
     "text": [
      "Spam Spam\n"
     ]
    }
   ],
   "source": [
    "with open(\"egg.txt\", \"r\") as f:\n",
    "    print(f.read())"
   ]
  },
  {
   "cell_type": "code",
   "execution_count": 34,
   "metadata": {
    "collapsed": false
   },
   "outputs": [
    {
     "data": {
      "text/plain": [
       "['spam.txt', 'b', 'egg.txt']"
      ]
     },
     "execution_count": 34,
     "metadata": {},
     "output_type": "execute_result"
    }
   ],
   "source": [
    "# copy(src, dst)\n",
    "# ファイル src をファイルまたはディレクトリ dst にコピー\n",
    "# dst がディレクトリを指定している場合、srcのベースファイル名を使ってコピーされる\n",
    "# 新しく作成されたファイルパスを返す。\n",
    "shutil.copy(\"spam.txt\", \"a\")\n",
    "shutil.copy(\"spam.txt\", \"a/egg.txt\")\n",
    "os.listdir(\"a\")"
   ]
  },
  {
   "cell_type": "code",
   "execution_count": 35,
   "metadata": {
    "collapsed": false
   },
   "outputs": [
    {
     "data": {
      "text/plain": [
       "['spam.txt', 'b', 'egg.txt']"
      ]
     },
     "execution_count": 35,
     "metadata": {},
     "output_type": "execute_result"
    }
   ],
   "source": [
    "# copytree(src, dst)\n",
    "# srcをルートにしたディレクトリツリーを再帰的にdstにコピー。\n",
    "# dstは事前に存在していてはならない\n",
    "#　コピー先ディレクトリを返す。\n",
    "shutil.copytree(\"a\", \"copytree\")\n",
    "os.listdir(\"copytree\")"
   ]
  },
  {
   "cell_type": "code",
   "execution_count": 36,
   "metadata": {
    "collapsed": false
   },
   "outputs": [
    {
     "data": {
      "text/plain": [
       "['spam.txt', 'egg.txt', 'a', 'copytree']"
      ]
     },
     "execution_count": 36,
     "metadata": {},
     "output_type": "execute_result"
    }
   ],
   "source": [
    "os.listdir()"
   ]
  },
  {
   "cell_type": "code",
   "execution_count": 37,
   "metadata": {
    "collapsed": false
   },
   "outputs": [
    {
     "data": {
      "text/plain": [
       "['spam.txt', 'egg.txt', 'a']"
      ]
     },
     "execution_count": 37,
     "metadata": {},
     "output_type": "execute_result"
    }
   ],
   "source": [
    "# rmtree(path)\n",
    "# ディレクトリを再帰的に削除\n",
    "shutil.rmtree(\"copytree\")\n",
    "os.listdir()"
   ]
  },
  {
   "cell_type": "code",
   "execution_count": 38,
   "metadata": {
    "collapsed": false
   },
   "outputs": [
    {
     "data": {
      "text/plain": [
       "'container/move'"
      ]
     },
     "execution_count": 38,
     "metadata": {},
     "output_type": "execute_result"
    }
   ],
   "source": [
    "# move(src, dst)\n",
    "# ファイルまたはディレクトリ(src)を再帰的に別の場所(dst)に移動する\n",
    "# 移動先を返す\n",
    "shutil.copytree(\"a\", \"move\")\n",
    "os.mkdir(\"container\")\n",
    "shutil.move(\"move\", \"container\")"
   ]
  },
  {
   "cell_type": "code",
   "execution_count": 39,
   "metadata": {
    "collapsed": false
   },
   "outputs": [
    {
     "name": "stdout",
     "output_type": "stream",
     "text": [
      "['spam.txt', 'egg.txt', 'container', 'a']\n",
      "['move']\n"
     ]
    }
   ],
   "source": [
    "print(os.listdir())\n",
    "print(os.listdir(\"container\"))"
   ]
  },
  {
   "cell_type": "code",
   "execution_count": 40,
   "metadata": {
    "collapsed": false
   },
   "outputs": [
    {
     "name": "stdout",
     "output_type": "stream",
     "text": [
      "usage(total=121772453888, used=11221422080, free=104341733376)\n",
      "121,772,453,888\n"
     ]
    }
   ],
   "source": [
    "# disk_usage(path)\n",
    "# 指定されたパスのディスクの利用状況を、名前付きタプル(nameed tuple)で返す\n",
    "disk = shutil.disk_usage(\"/home/k-ta\")\n",
    "print(disk)\n",
    "print(\"{:,}\".format(disk.total))"
   ]
  },
  {
   "cell_type": "code",
   "execution_count": 41,
   "metadata": {
    "collapsed": false
   },
   "outputs": [
    {
     "data": {
      "text/plain": [
       "'/home/k-ta/.virtualenvs/k-ta/bin/python3'"
      ]
     },
     "execution_count": 41,
     "metadata": {},
     "output_type": "execute_result"
    }
   ],
   "source": [
    "# which(cmd)\n",
    "# コマンドを実行した時に実行される実行ファイルのパスを返す\n",
    "shutil.which(\"python3\")"
   ]
  },
  {
   "cell_type": "code",
   "execution_count": 42,
   "metadata": {
    "collapsed": false
   },
   "outputs": [
    {
     "data": {
      "text/plain": [
       "['spam.txt', 'container.tar.gz', 'egg.txt', 'container', 'container.zip', 'a']"
      ]
     },
     "execution_count": 42,
     "metadata": {},
     "output_type": "execute_result"
    }
   ],
   "source": [
    "# make_archive(base_name, format)\n",
    "# ディレクトリをアーカイブ化する\n",
    "# base_name - アーカイブ化したいディレクトリ, format - gztar, zip, tar\n",
    "shutil.make_archive(\"container\", \"gztar\")\n",
    "shutil.make_archive(\"container\", \"zip\")\n",
    "os.listdir()"
   ]
  },
  {
   "cell_type": "code",
   "execution_count": 43,
   "metadata": {
    "collapsed": false
   },
   "outputs": [
    {
     "name": "stdout",
     "output_type": "stream",
     "text": [
      "['spam.txt', 'container.tar.gz', 'egg.txt', 'container.zip', 'a']\n",
      "['spam.txt', 'container.tar.gz', 'egg.txt', 'container', 'container.zip', 'a']\n"
     ]
    }
   ],
   "source": [
    "# unpack_archive(filename[, extract_dir[, format]])\n",
    "# アーカイブをアンパックする\n",
    "# filename - アンパックするディレクトリ, extract_dir - アンパック先ディレクトリ\n",
    "# format - アーカイブフォーマット\n",
    "shutil.rmtree(\"container\")\n",
    "print(os.listdir())\n",
    "shutil.unpack_archive(\"container.tar.gz\")\n",
    "print(os.listdir())"
   ]
  },
  {
   "cell_type": "code",
   "execution_count": 44,
   "metadata": {
    "collapsed": false
   },
   "outputs": [
    {
     "name": "stdout",
     "output_type": "stream",
     "text": [
      "/home/k-ta/ipython\n",
      "chapter_5_shutil is not in list\n"
     ]
    }
   ],
   "source": [
    "os.chdir(\"/home/k-ta/ipython\")\n",
    "print(os.getcwd())\n",
    "shutil.rmtree(\"chapter_5_shutil\")\n",
    "dirs = os.listdir()\n",
    "try:\n",
    "    dirs.index(\"chapter_5_shutil\")\n",
    "except:\n",
    "    print(\"chapter_5_shutil is not in list\")"
   ]
  },
  {
   "cell_type": "code",
   "execution_count": 1,
   "metadata": {
    "collapsed": false
   },
   "outputs": [],
   "source": [
    "####################################################\n",
    "# おまけ\n",
    "####################################################\n",
    "import os\n",
    "import shutil"
   ]
  },
  {
   "cell_type": "code",
   "execution_count": 2,
   "metadata": {
    "collapsed": false
   },
   "outputs": [
    {
     "name": "stdout",
     "output_type": "stream",
     "text": [
      "/home/k-ta/ipython/access\n"
     ]
    }
   ],
   "source": [
    "os.chdir(\"/home/k-ta/ipython\")\n",
    "try:\n",
    "    os.mkdir(\"/home/k-ta/ipython/access\")\n",
    "except:\n",
    "    shutil.rmtree(\"access\")\n",
    "    os.mkdir(\"/home/k-ta/ipython/access\")\n",
    "\n",
    "os.chdir(\"/home/k-ta/ipython/access\")\n",
    "print(os.getcwd())\n",
    "os.mknod(\"spam\", 0o100)"
   ]
  },
  {
   "cell_type": "code",
   "execution_count": 3,
   "metadata": {
    "collapsed": false
   },
   "outputs": [
    {
     "data": {
      "text/plain": [
       "['spam']"
      ]
     },
     "execution_count": 3,
     "metadata": {},
     "output_type": "execute_result"
    }
   ],
   "source": [
    "os.listdir()"
   ]
  },
  {
   "cell_type": "code",
   "execution_count": 4,
   "metadata": {
    "collapsed": false
   },
   "outputs": [
    {
     "name": "stdout",
     "output_type": "stream",
     "text": [
      "True\n",
      "True\n",
      "False\n",
      "False\n"
     ]
    }
   ],
   "source": [
    "# access(file_dir_name, flag)\n",
    "# ファイルの属性を確認する（r, w, x）\n",
    "# file_dir_name - ファイル名またはディレクトリ名, flag - 確認したい属性\n",
    "print(os.access(\"spam\", os.F_OK))  # 存在するか\n",
    "print(os.access(\"spam\", os.X_OK))  # 実行可能か\n",
    "print(os.access(\"spam\", os.R_OK))  # 読み込み可能か\n",
    "print(os.access(\"spam\", os.W_OK))  # 書き込み可能か"
   ]
  },
  {
   "cell_type": "code",
   "execution_count": 5,
   "metadata": {
    "collapsed": false
   },
   "outputs": [
    {
     "name": "stdout",
     "output_type": "stream",
     "text": [
      "['nanagogo', 'spam']\n"
     ]
    }
   ],
   "source": [
    "# mknod(filename, mode)\n",
    "# ファイルの作成\n",
    "# mode - 0o755みたいな感じで指定。何故か755までしか指定できない\n",
    "os.mknod(\"nanagogo\", 0o755)\n",
    "print(os.listdir())"
   ]
  },
  {
   "cell_type": "code",
   "execution_count": 6,
   "metadata": {
    "collapsed": false
   },
   "outputs": [
    {
     "name": "stdout",
     "output_type": "stream",
     "text": [
      "os.stat_result(st_mode=33261, st_ino=6032834, st_dev=2049, st_nlink=1, st_uid=1000, st_gid=1000, st_size=0, st_atime=1453333452, st_mtime=1453333452, st_ctime=1453333452)\n",
      "0o100755\n",
      "os.stat_result(st_mode=16877, st_ino=6032837, st_dev=2049, st_nlink=2, st_uid=1000, st_gid=1000, st_size=4096, st_atime=1453333457, st_mtime=1453333457, st_ctime=1453333457)\n",
      "0o40755\n",
      "os.stat_result(st_mode=16877, st_ino=5767170, st_dev=2049, st_nlink=38, st_uid=1000, st_gid=1000, st_size=4096, st_atime=1453333181, st_mtime=1453333178, st_ctime=1453333178)\n",
      "0o40755\n"
     ]
    }
   ],
   "source": [
    "print(os.stat(\"nanagogo\"))\n",
    "print(oct(33261))\n",
    "\n",
    "os.mkdir(\"ddd\", 0o755)\n",
    "print(os.stat(\"ddd\"))\n",
    "print(oct(16877))\n",
    "\n",
    "os.symlink(\"/home/k-ta\", \"sym\")\n",
    "print(os.stat(\"sym\"))\n",
    "print(oct(16877))"
   ]
  },
  {
   "cell_type": "code",
   "execution_count": 7,
   "metadata": {
    "collapsed": false
   },
   "outputs": [
    {
     "name": "stdout",
     "output_type": "stream",
     "text": [
      "(b'#37~14.04.1-Ubuntu SMP Thu Oct 22 09:41:40 UTC 2015\\n', None)\n",
      "\n",
      "(None, b\"uname: \\xe7\\x84\\xa1\\xe5\\x8a\\xb9\\xe3\\x81\\xaa\\xe3\\x82\\xaa\\xe3\\x83\\x97\\xe3\\x82\\xb7\\xe3\\x83\\xa7\\xe3\\x83\\xb3 -- 'l'\\nTry 'uname --help' for more information.\\n\")\n",
      "\n",
      "uname: 無効なオプション -- 'l'\n",
      "Try 'uname --help' for more information.\n",
      "\n"
     ]
    }
   ],
   "source": [
    "import shutil, os, subprocess\n",
    "os.chdir(\"/home/k-ta/ipython\")\n",
    "# subprocess.Popen(args, *, stdin=None, stdout=None, stderr=None, shell=False, cwd=none)\n",
    "# linuxコマンドを実行する\n",
    "# args - コマンド。[\"ls\", \"-alF\"]\n",
    "# stdin, stdout, stderr - subprocess.PIPE(変数にin,out,errを渡すパイプ)\n",
    "# stdin, stdout, stderr - file_obj(out, errをファイルに出力, stdinもファイルから？)\n",
    "# stdin, stdout, stderr - subprocess.STDOUT(stderrがstdoutと同じハンドルに出力される)\n",
    "# shell - Trueだとsh -c \"cmd\"という方式でコマンドを実行>>その際argは\"ls -alF\"で良い\n",
    "# shell - \"ls | grep hoge.txt\"などパイプを使いたいときに便利\n",
    "# cwd - 子プロセスが実行される直前にcwdに指定されたパスに移動。(実行ファイルを探す段階では考慮されない)\n",
    "# subprocess.Popenオブジェクトを返す\n",
    "p = subprocess.Popen([\"uname\", \"-v\"], stdout=subprocess.PIPE)\n",
    "print(p.communicate(), end=\"\\n\\n\")\n",
    "\n",
    "p = subprocess.Popen(\"uname -ll\", stderr=subprocess.PIPE, shell=True)\n",
    "com = p.communicate()\n",
    "print(com, end=\"\\n\\n\")\n",
    "print(com[1].decode(\"utf8\"))"
   ]
  },
  {
   "cell_type": "code",
   "execution_count": 8,
   "metadata": {
    "collapsed": false
   },
   "outputs": [
    {
     "name": "stdout",
     "output_type": "stream",
     "text": [
      "None\n",
      "0\n"
     ]
    }
   ],
   "source": [
    "import time\n",
    "# poll()\n",
    "# 子プロセスが終了しているか検査\n",
    "# retuncode属性を返す。プロセス終了 : 0, プロセスが終了していない : None\n",
    "# シグナルNによってプロセスを中止させられた時は-Nを返す\n",
    "p = subprocess.Popen([\"ls\"])\n",
    "print(p.poll())\n",
    "time.sleep(1)\n",
    "print(p.poll())"
   ]
  },
  {
   "cell_type": "code",
   "execution_count": 9,
   "metadata": {
    "collapsed": false
   },
   "outputs": [
    {
     "name": "stdout",
     "output_type": "stream",
     "text": [
      "0\n",
      "process end !\n"
     ]
    }
   ],
   "source": [
    "# wait()\n",
    "# 子プロセスが終了するまで待つ\n",
    "# 終了したら0を返す\n",
    "p = subprocess.Popen(\"sleep 3\", shell=True)\n",
    "print(p.wait())\n",
    "print(\"process end !\")"
   ]
  },
  {
   "cell_type": "code",
   "execution_count": 10,
   "metadata": {
    "collapsed": false
   },
   "outputs": [
    {
     "name": "stdout",
     "output_type": "stream",
     "text": [
      "/home/k-ta/PycharmProjects/thoth/thoth/tests.py:149:                                        \"signup.psw\": \"osozvi97\",\n",
      "/home/k-ta/PycharmProjects/thoth/thoth/tests.py:150:                                        \"signup.psw.confirm\": \"osozvi97\",\n",
      "/home/k-ta/PycharmProjects/thoth/thoth/tests.py:162:                                        \"signup.psw\": \"osozvi97\",\n",
      "/home/k-ta/PycharmProjects/thoth/thoth/tests.py:330:                                        \"login.psw\": \"osozvi97\",\n",
      "/home/k-ta/PycharmProjects/thoth/thoth/tests.py:390:                                        \"login.psw\": \"osozvi97\",\n",
      "/home/k-ta/PycharmProjects/thoth/thoth/tests.py:423:    editor_login = \"/login?login.id=midorikawa&login.psw=osozvi97&login.submit=login\"\n",
      "バイナリファイル /home/k-ta/PycharmProjects/thoth/thoth/__pycache__/tests.cpython-34.pyc に一致しました\n",
      "\n",
      "\n"
     ]
    }
   ],
   "source": [
    "# communicate(input=None)\n",
    "# プロセスと通信する。EOFまでstdinにデータを送信。stdout,errからデータを受信\n",
    "# プロセスが終了するまで待つ。\n",
    "# (b\"stdout\", b\"stderr\")を返す。\n",
    "p = subprocess.Popen(\"grep -rn osozvi97 /home/k-ta/PycharmProjects/*\", stdout=subprocess.PIPE, stderr=subprocess.PIPE, shell=True)\n",
    "result = p.communicate()\n",
    "out = result[0].decode(\"utf-8\")\n",
    "err = result[1].decode(\"utf-8\")\n",
    "print(out)\n",
    "print(err)"
   ]
  },
  {
   "cell_type": "markdown",
   "metadata": {
    "collapsed": false
   },
   "source": [
    "|種別|意味|\n",
    "|:----:|:----:|\n",
    "|Term|プロセス終了。|\n",
    "|Ign|このシグナルの無視。|\n",
    "|Core|プロセス終了とコアダンプ出力 。|\n",
    "|Stop|プロセスの一時停止。|\n",
    "|Cont|、プロセスが停止中の場合にその実行の再開。|\n",
    "\n",
    "\n",
    "\n",
    "\n",
    "|番号|シグナル|説明|\n",
    "|:----:|:----:|:----:|\n",
    "|0|NULL|アクセスチェック|\n",
    "|1|Term|端末との接続が切断された(Hangup)ことによるプロセスの終了|\n",
    "|2|Term|ユーザーからの強制終了命令（Ctrl＋Cキーと同じ）|\n",
    "|3|Core|端末からの終了命令（Ctrl＋\\キーと同じ）|\n",
    "|4|Core|不正な命令|\n",
    "|5|Core|トラップの追跡|\n",
    "|6|Core|abort関数によるプロセスの中断|\n",
    "|8|Core|誤りの算術処理|\n",
    "|9|Term|プロセスの強制終了|\n",
    "|10|Term|メモリオブジェクトが未定義の場所へのアクセス|\n",
    "|11|Core|無効なメモリ参照|\n",
    "|12|Term|誤りのシステムコール|\n",
    "|13|Term|読みこまれないパイプへの書き込み|\n",
    "|14|Term|alerm関数によるプロセスの終了|\n",
    "|15|Term|正常な終了動作を行わせて安全に終了|\n",
    "|17|Stop|プロセスの一時停止 (stop)|\n",
    "|18|Cont|一時停止 (stop) からの再開,bgコマンドと同様|\n",
    "\n",
    "https://linuxjm.osdn.jp/html/LDP_man-pages/man7/signal.7.html"
   ]
  },
  {
   "cell_type": "code",
   "execution_count": 11,
   "metadata": {
    "collapsed": false
   },
   "outputs": [
    {
     "name": "stdout",
     "output_type": "stream",
     "text": [
      "None\n",
      "-9\n"
     ]
    }
   ],
   "source": [
    "# send_signal(signal)\n",
    "# 子プロセスにシグナルを送る\n",
    "# signal - 上記の表を参照\n",
    "p = subprocess.Popen(\"sleep 10\", shell=True)\n",
    "print(p.poll())\n",
    "p.send_signal(9)\n",
    "time.sleep(1)\n",
    "print(p.poll())"
   ]
  },
  {
   "cell_type": "code",
   "execution_count": 12,
   "metadata": {
    "collapsed": false
   },
   "outputs": [
    {
     "name": "stdout",
     "output_type": "stream",
     "text": [
      "None\n",
      "-15\n"
     ]
    }
   ],
   "source": [
    "p = subprocess.Popen(\"sleep 10\", shell=True)\n",
    "print(p.poll())\n",
    "p.send_signal(15)\n",
    "time.sleep(1)\n",
    "print(p.poll())"
   ]
  },
  {
   "cell_type": "code",
   "execution_count": 13,
   "metadata": {
    "collapsed": false
   },
   "outputs": [
    {
     "name": "stdout",
     "output_type": "stream",
     "text": [
      "None\n",
      "-9\n"
     ]
    }
   ],
   "source": [
    "# kill()\n",
    "# 子プロセスを止める kill -9 pid\n",
    "p = subprocess.Popen(\"sleep 10\", shell=True)\n",
    "print(p.poll())\n",
    "p.kill()\n",
    "time.sleep(1)\n",
    "print(p.poll())"
   ]
  },
  {
   "cell_type": "code",
   "execution_count": 14,
   "metadata": {
    "collapsed": false
   },
   "outputs": [
    {
     "name": "stdout",
     "output_type": "stream",
     "text": [
      "None\n",
      "-15\n"
     ]
    }
   ],
   "source": [
    "# terminate()\n",
    "# 子プロセスを止める kill -15 pid\n",
    "p = subprocess.Popen(\"sleep 10\", shell=True)\n",
    "print(p.poll())\n",
    "p.terminate()\n",
    "time.sleep(1)\n",
    "print(p.poll())"
   ]
  },
  {
   "cell_type": "code",
   "execution_count": 15,
   "metadata": {
    "collapsed": false
   },
   "outputs": [
    {
     "name": "stdout",
     "output_type": "stream",
     "text": [
      "None\n",
      "<_io.BufferedReader name=38>\n",
      "None\n",
      "2935\n",
      "0\n"
     ]
    }
   ],
   "source": [
    "p = subprocess.Popen(\"grep -rn thoth ~/PycharmProjects/*\", stdout=subprocess.PIPE, shell=True)\n",
    "print(p.stdin)\n",
    "print(p.stdout)\n",
    "print(p.stderr)\n",
    "print(p.pid)\n",
    "c = p.communicate()\n",
    "print(p.returncode)\n",
    "# print(c[0].decode(\"utf-8\"))"
   ]
  },
  {
   "cell_type": "code",
   "execution_count": 20,
   "metadata": {
    "collapsed": false
   },
   "outputs": [
    {
     "data": {
      "text/plain": [
       "0"
      ]
     },
     "execution_count": 20,
     "metadata": {},
     "output_type": "execute_result"
    }
   ],
   "source": [
    "# subprocess.call(args, *, stdin=None, stdout=None, stderr=None, shell=False, cwd=none)\n",
    "# linuxコマンドを実行する\n",
    "# 終了コードを返す。p.wait()が返すもの\n",
    "subprocess.call(\"sleep 3\", shell=True)"
   ]
  },
  {
   "cell_type": "code",
   "execution_count": 29,
   "metadata": {
    "collapsed": false
   },
   "outputs": [
    {
     "name": "stdout",
     "output_type": "stream",
     "text": [
      "合計 352\n",
      "drwx------  6 k-ta k-ta  4096  1月 21 09:01 ./\n",
      "drwxr-xr-x 38 k-ta k-ta  4096  1月 21 08:58 ../\n",
      "drwx------  2 k-ta k-ta  4096  1月 14 08:37 .ipynb_checkpoints/\n",
      "-rw-r--r--  1 k-ta k-ta  3454 12月  7 14:51 20151016_sqlalchemy_test.ipynb\n",
      "-rw-r--r--  1 k-ta k-ta  5171 11月  2 08:10 20151017_mokumokuo_meeting.ipynb\n",
      "-rw-r--r--  1 k-ta k-ta  5672 10月 18 06:50 20151018_home_os.ipynb\n",
      "-rw-r--r--  1 k-ta k-ta  4867 11月  8 11:50 20151018_home_sqlalchemy.ipynb\n",
      "-rw-r--r--  1 k-ta k-ta  6091 11月 20 11:46 20151018_home_sqlalchemy_func.ipynb\n",
      "-rw-r--r--  1 k-ta k-ta  2647 11月  9 11:18 20151109lambda.ipynb\n",
      "-rw-r--r--  1 k-ta k-ta  7209 12月  6 10:22 20151210raise_exception.ipynb\n",
      "-rw-r--r--  1 k-ta k-ta  2921 12月 11 14:57 20151211mock_test.ipynb\n",
      "-rw-r--r--  1 k-ta k-ta  6956 12月 19 08:21 20151218_MagicMock.ipynb\n",
      "-rw-r--r--  1 k-ta k-ta  4037 12月 19 06:29 20151219_sqlite3.ipynb\n",
      "-rw-r--r--  1 k-ta k-ta 24437  1月 10 10:42 20151227_library_chapter_1_text.ipynb\n",
      "-rw-r--r--  1 k-ta k-ta 16329  1月 14 01:41 201512\n",
      "call_sample.txt is deleted!!\n"
     ]
    }
   ],
   "source": [
    "with open(\"call_sample.txt\", \"w\") as f:\n",
    "    subprocess.call(\"ls -alF\", stdout=f, shell=True)\n",
    "\n",
    "with open(\"call_sample.txt\", \"r\") as f:\n",
    "    print(f.read(1000))\n",
    "\n",
    "os.remove(\"call_sample.txt\")\n",
    "\n",
    "try:\n",
    "    os.listdir().index(\"call_sample.txt\")\n",
    "except:\n",
    "    print(\"call_sample.txt is deleted!!\")"
   ]
  },
  {
   "cell_type": "code",
   "execution_count": 37,
   "metadata": {
    "collapsed": false
   },
   "outputs": [
    {
     "name": "stdout",
     "output_type": "stream",
     "text": [
      "0\n"
     ]
    },
    {
     "ename": "CalledProcessError",
     "evalue": "Command 'll' returned non-zero exit status 127",
     "output_type": "error",
     "traceback": [
      "\u001b[1;31m---------------------------------------------------------------------------\u001b[0m",
      "\u001b[1;31mCalledProcessError\u001b[0m                        Traceback (most recent call last)",
      "\u001b[1;32m<ipython-input-37-f73fe2e042aa>\u001b[0m in \u001b[0;36m<module>\u001b[1;34m()\u001b[0m\n\u001b[0;32m      4\u001b[0m \u001b[1;31m# CalledProcessError オブジェクトにはリターンコードが returncode 属性として収められています。\u001b[0m\u001b[1;33m\u001b[0m\u001b[1;33m\u001b[0m\u001b[0m\n\u001b[0;32m      5\u001b[0m \u001b[0mprint\u001b[0m\u001b[1;33m(\u001b[0m\u001b[0msubprocess\u001b[0m\u001b[1;33m.\u001b[0m\u001b[0mcheck_call\u001b[0m\u001b[1;33m(\u001b[0m\u001b[1;34m\"ls\"\u001b[0m\u001b[1;33m,\u001b[0m \u001b[0mshell\u001b[0m\u001b[1;33m=\u001b[0m\u001b[1;32mTrue\u001b[0m\u001b[1;33m)\u001b[0m\u001b[1;33m)\u001b[0m\u001b[1;33m\u001b[0m\u001b[0m\n\u001b[1;32m----> 6\u001b[1;33m \u001b[0msubprocess\u001b[0m\u001b[1;33m.\u001b[0m\u001b[0mcheck_call\u001b[0m\u001b[1;33m(\u001b[0m\u001b[1;34m\"ll\"\u001b[0m\u001b[1;33m,\u001b[0m \u001b[0mshell\u001b[0m\u001b[1;33m=\u001b[0m\u001b[1;32mTrue\u001b[0m\u001b[1;33m)\u001b[0m\u001b[1;33m\u001b[0m\u001b[0m\n\u001b[0m",
      "\u001b[1;32m/usr/lib/python3.4/subprocess.py\u001b[0m in \u001b[0;36mcheck_call\u001b[1;34m(*popenargs, **kwargs)\u001b[0m\n\u001b[0;32m    559\u001b[0m         \u001b[1;32mif\u001b[0m \u001b[0mcmd\u001b[0m \u001b[1;32mis\u001b[0m \u001b[1;32mNone\u001b[0m\u001b[1;33m:\u001b[0m\u001b[1;33m\u001b[0m\u001b[0m\n\u001b[0;32m    560\u001b[0m             \u001b[0mcmd\u001b[0m \u001b[1;33m=\u001b[0m \u001b[0mpopenargs\u001b[0m\u001b[1;33m[\u001b[0m\u001b[1;36m0\u001b[0m\u001b[1;33m]\u001b[0m\u001b[1;33m\u001b[0m\u001b[0m\n\u001b[1;32m--> 561\u001b[1;33m         \u001b[1;32mraise\u001b[0m \u001b[0mCalledProcessError\u001b[0m\u001b[1;33m(\u001b[0m\u001b[0mretcode\u001b[0m\u001b[1;33m,\u001b[0m \u001b[0mcmd\u001b[0m\u001b[1;33m)\u001b[0m\u001b[1;33m\u001b[0m\u001b[0m\n\u001b[0m\u001b[0;32m    562\u001b[0m     \u001b[1;32mreturn\u001b[0m \u001b[1;36m0\u001b[0m\u001b[1;33m\u001b[0m\u001b[0m\n\u001b[0;32m    563\u001b[0m \u001b[1;33m\u001b[0m\u001b[0m\n",
      "\u001b[1;31mCalledProcessError\u001b[0m: Command 'll' returned non-zero exit status 127"
     ]
    }
   ],
   "source": [
    "# subprocess.check_call(args, *, stdin=None, stdout=None, stderr=None, shell=False, cwd=none)\n",
    "# コマンドを引数付きで実行します。コマンドが完了するのを待ちます。\n",
    "# 終了コードがゼロならば終わりますが、そうでなければ CalledProcessError 例外を送出します。 \n",
    "# CalledProcessError オブジェクトにはリターンコードが returncode 属性として収められています。\n",
    "print(subprocess.check_call(\"ls\", shell=True))\n",
    "subprocess.check_call(\"ll\", shell=True)"
   ]
  },
  {
   "cell_type": "code",
   "execution_count": 38,
   "metadata": {
    "collapsed": false
   },
   "outputs": [
    {
     "data": {
      "text/plain": [
       "b'20151016_sqlalchemy_test.ipynb\\n20151017_mokumokuo_meeting.ipynb\\n20151018_home_os.ipynb\\n20151018_home_sqlalchemy.ipynb\\n20151018_home_sqlalchemy_func.ipynb\\n20151109lambda.ipynb\\n20151210raise_exception.ipynb\\n20151211mock_test.ipynb\\n20151218_MagicMock.ipynb\\n20151219_sqlite3.ipynb\\n20151227_library_chapter_1_text.ipynb\\n20151228_library_chapter_1_re.ipynb\\n20151229_library_chapter_2_calculation.ipynb\\n20151230_library_chapter_3_datetime.ipynb\\n20151230_library_chapter_4_basic_collection.ipynb\\n20151231_library_chapter_4_collections.ipynb\\n20151231_library_chapter_4_container.ipynb\\n20151231_library_chapter_5_base_sysos.ipynb\\n20160109_library_chapter_5_os.ipynb\\nIterator_generator.ipynb\\nUntitled.ipynb\\nUntitled2.ipynb\\naccess\\nhash.ipynb\\nhoge.txt\\nmako_gijutu.ipynb\\nsample.sqlite\\nsample_file\\nsample_file2\\nsuper_class.ipynb\\ntest.txt\\n'"
      ]
     },
     "execution_count": 38,
     "metadata": {},
     "output_type": "execute_result"
    }
   ],
   "source": [
    "# subprocess.check_output(args, *, stdin=None, stdout=None, stderr=None, shell=False, cwd=none)\n",
    "# 引数でコマンドを実行し、その出力をバイト文字列として返します。\n",
    "# 終了コードが非 0 なら、CalledProcessErrorを送出します。\n",
    "# CalledProcessError オブジェクトは、戻りコードを returncode 属性に、出力を output 属性に保持します\n",
    "p = subprocess.check_output(\"ls\", shell=True)\n",
    "p"
   ]
  },
  {
   "cell_type": "code",
   "execution_count": 39,
   "metadata": {
    "collapsed": false
   },
   "outputs": [
    {
     "name": "stdout",
     "output_type": "stream",
     "text": [
      "20151016_sqlalchemy_test.ipynb\n",
      "20151017_mokumokuo_meeting.ipynb\n",
      "20151018_home_os.ipynb\n",
      "20151018_home_sqlalchemy.ipynb\n",
      "20151018_home_sqlalchemy_func.ipynb\n",
      "20151109lambda.ipynb\n",
      "20151210raise_exception.ipynb\n",
      "20151211mock_test.ipynb\n",
      "20151218_MagicMock.ipynb\n",
      "20151219_sqlite3.ipynb\n",
      "20151227_library_chapter_1_text.ipynb\n",
      "20151228_library_chapter_1_re.ipynb\n",
      "20151229_library_chapter_2_calculation.ipynb\n",
      "20151230_library_chapter_3_datetime.ipynb\n",
      "20151230_library_chapter_4_basic_collection.ipynb\n",
      "20151231_library_chapter_4_collections.ipynb\n",
      "20151231_library_chapter_4_container.ipynb\n",
      "20151231_library_chapter_5_base_sysos.ipynb\n",
      "20160109_library_chapter_5_os.ipynb\n",
      "Iterator_generator.ipynb\n",
      "Untitled.ipynb\n",
      "Untitled2.ipynb\n",
      "access\n",
      "hash.ipynb\n",
      "hoge.txt\n",
      "mako_gijutu.ipynb\n",
      "sample.sqlite\n",
      "sample_file\n",
      "sample_file2\n",
      "super_class.ipynb\n",
      "test.txt\n",
      "\n"
     ]
    }
   ],
   "source": [
    "print(p.decode(\"utf-8\"))"
   ]
  },
  {
   "cell_type": "code",
   "execution_count": 40,
   "metadata": {
    "collapsed": false
   },
   "outputs": [
    {
     "ename": "CalledProcessError",
     "evalue": "Command 'll' returned non-zero exit status 127",
     "output_type": "error",
     "traceback": [
      "\u001b[1;31m---------------------------------------------------------------------------\u001b[0m",
      "\u001b[1;31mCalledProcessError\u001b[0m                        Traceback (most recent call last)",
      "\u001b[1;32m<ipython-input-40-efcbaf37c23a>\u001b[0m in \u001b[0;36m<module>\u001b[1;34m()\u001b[0m\n\u001b[1;32m----> 1\u001b[1;33m \u001b[0mp\u001b[0m \u001b[1;33m=\u001b[0m \u001b[0msubprocess\u001b[0m\u001b[1;33m.\u001b[0m\u001b[0mcheck_output\u001b[0m\u001b[1;33m(\u001b[0m\u001b[1;34m\"ll\"\u001b[0m\u001b[1;33m,\u001b[0m \u001b[0mshell\u001b[0m\u001b[1;33m=\u001b[0m\u001b[1;32mTrue\u001b[0m\u001b[1;33m)\u001b[0m\u001b[1;33m\u001b[0m\u001b[0m\n\u001b[0m\u001b[0;32m      2\u001b[0m \u001b[0mp\u001b[0m\u001b[1;33m\u001b[0m\u001b[0m\n",
      "\u001b[1;32m/usr/lib/python3.4/subprocess.py\u001b[0m in \u001b[0;36mcheck_output\u001b[1;34m(timeout, *popenargs, **kwargs)\u001b[0m\n\u001b[0;32m    618\u001b[0m         \u001b[0mretcode\u001b[0m \u001b[1;33m=\u001b[0m \u001b[0mprocess\u001b[0m\u001b[1;33m.\u001b[0m\u001b[0mpoll\u001b[0m\u001b[1;33m(\u001b[0m\u001b[1;33m)\u001b[0m\u001b[1;33m\u001b[0m\u001b[0m\n\u001b[0;32m    619\u001b[0m         \u001b[1;32mif\u001b[0m \u001b[0mretcode\u001b[0m\u001b[1;33m:\u001b[0m\u001b[1;33m\u001b[0m\u001b[0m\n\u001b[1;32m--> 620\u001b[1;33m             \u001b[1;32mraise\u001b[0m \u001b[0mCalledProcessError\u001b[0m\u001b[1;33m(\u001b[0m\u001b[0mretcode\u001b[0m\u001b[1;33m,\u001b[0m \u001b[0mprocess\u001b[0m\u001b[1;33m.\u001b[0m\u001b[0margs\u001b[0m\u001b[1;33m,\u001b[0m \u001b[0moutput\u001b[0m\u001b[1;33m=\u001b[0m\u001b[0moutput\u001b[0m\u001b[1;33m)\u001b[0m\u001b[1;33m\u001b[0m\u001b[0m\n\u001b[0m\u001b[0;32m    621\u001b[0m     \u001b[1;32mreturn\u001b[0m \u001b[0moutput\u001b[0m\u001b[1;33m\u001b[0m\u001b[0m\n\u001b[0;32m    622\u001b[0m \u001b[1;33m\u001b[0m\u001b[0m\n",
      "\u001b[1;31mCalledProcessError\u001b[0m: Command 'll' returned non-zero exit status 127"
     ]
    }
   ],
   "source": [
    "p = subprocess.check_output(\"ll\", shell=True)\n",
    "p"
   ]
  },
  {
   "cell_type": "code",
   "execution_count": 46,
   "metadata": {
    "collapsed": false
   },
   "outputs": [
    {
     "ename": "AttributeError",
     "evalue": "'Popen' object has no attribute 'STD_INPUT_HANDLE'",
     "output_type": "error",
     "traceback": [
      "\u001b[1;31m---------------------------------------------------------------------------\u001b[0m",
      "\u001b[1;31mAttributeError\u001b[0m                            Traceback (most recent call last)",
      "\u001b[1;32m<ipython-input-46-23ad94a3a327>\u001b[0m in \u001b[0;36m<module>\u001b[1;34m()\u001b[0m\n\u001b[0;32m      1\u001b[0m \u001b[0mp\u001b[0m \u001b[1;33m=\u001b[0m \u001b[0msubprocess\u001b[0m\u001b[1;33m.\u001b[0m\u001b[0mPopen\u001b[0m\u001b[1;33m(\u001b[0m\u001b[1;34m\"ls\"\u001b[0m\u001b[1;33m,\u001b[0m \u001b[0mshell\u001b[0m\u001b[1;33m=\u001b[0m\u001b[1;32mTrue\u001b[0m\u001b[1;33m)\u001b[0m\u001b[1;33m\u001b[0m\u001b[0m\n\u001b[1;32m----> 2\u001b[1;33m \u001b[0mp\u001b[0m\u001b[1;33m.\u001b[0m\u001b[0mSTD_INPUT_HANDLE\u001b[0m\u001b[1;33m\u001b[0m\u001b[0m\n\u001b[0m",
      "\u001b[1;31mAttributeError\u001b[0m: 'Popen' object has no attribute 'STD_INPUT_HANDLE'"
     ]
    }
   ],
   "source": [
    "p = subprocess.Popen(\"ls\", shell=True)\n",
    "p.STD_INPUT_HANDLE"
   ]
  },
  {
   "cell_type": "code",
   "execution_count": 47,
   "metadata": {
    "collapsed": false
   },
   "outputs": [
    {
     "ename": "AttributeError",
     "evalue": "'Popen' object has no attribute 'STD_OUTPUT_HANDLE'",
     "output_type": "error",
     "traceback": [
      "\u001b[1;31m---------------------------------------------------------------------------\u001b[0m",
      "\u001b[1;31mAttributeError\u001b[0m                            Traceback (most recent call last)",
      "\u001b[1;32m<ipython-input-47-850f33009783>\u001b[0m in \u001b[0;36m<module>\u001b[1;34m()\u001b[0m\n\u001b[1;32m----> 1\u001b[1;33m \u001b[0mp\u001b[0m\u001b[1;33m.\u001b[0m\u001b[0mSTD_OUTPUT_HANDLE\u001b[0m\u001b[1;33m\u001b[0m\u001b[0m\n\u001b[0m",
      "\u001b[1;31mAttributeError\u001b[0m: 'Popen' object has no attribute 'STD_OUTPUT_HANDLE'"
     ]
    }
   ],
   "source": [
    "p.STD_OUTPUT_HANDLE"
   ]
  },
  {
   "cell_type": "code",
   "execution_count": 2,
   "metadata": {
    "collapsed": false
   },
   "outputs": [
    {
     "data": {
      "text/plain": [
       "b'20151016_sqlalchemy_test.ipynb\\n20151017_mokumokuo_meeting.ipynb\\n20151018_home_os.ipynb\\n20151018_home_sqlalchemy.ipynb\\n20151018_home_sqlalchemy_func.ipynb\\n20151109lambda.ipynb\\n20151210raise_exception.ipynb\\n20151211mock_test.ipynb\\n20151218_MagicMock.ipynb\\n20151219_sqlite3.ipynb\\n20151227_library_chapter_1_text.ipynb\\n20151228_library_chapter_1_re.ipynb\\n20151229_library_chapter_2_calculation.ipynb\\n20151230_library_chapter_3_datetime.ipynb\\n20151230_library_chapter_4_basic_collection.ipynb\\n20151231_library_chapter_4_collections.ipynb\\n20151231_library_chapter_4_container.ipynb\\n20151231_library_chapter_5_base_sysos.ipynb\\n20160109_library_chapter_5_os.ipynb\\nIterator_generator.ipynb\\nUntitled.ipynb\\nUntitled2.ipynb\\naccess\\nhash.ipynb\\nhoge.txt\\nmako_gijutu.ipynb\\nsample.sqlite\\nsample_file\\nsample_file2\\nshutil\\nsuper_class.ipynb\\ntest.txt\\n'"
      ]
     },
     "execution_count": 2,
     "metadata": {},
     "output_type": "execute_result"
    }
   ],
   "source": [
    "import subprocess\n",
    "getattr(subprocess, \"check_output\")(\"ls\", shell=True)"
   ]
  },
  {
   "cell_type": "code",
   "execution_count": null,
   "metadata": {
    "collapsed": true
   },
   "outputs": [],
   "source": []
  }
 ],
 "metadata": {
  "kernelspec": {
   "display_name": "Python 3",
   "language": "python",
   "name": "python3"
  },
  "language_info": {
   "codemirror_mode": {
    "name": "ipython",
    "version": 3
   },
   "file_extension": ".py",
   "mimetype": "text/x-python",
   "name": "python",
   "nbconvert_exporter": "python",
   "pygments_lexer": "ipython3",
   "version": "3.4.3"
  }
 },
 "nbformat": 4,
 "nbformat_minor": 0
}
