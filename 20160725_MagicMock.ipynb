{
 "cells": [
  {
   "cell_type": "code",
   "execution_count": 2,
   "metadata": {
    "collapsed": true
   },
   "outputs": [],
   "source": [
    "# 参考：http://akiyoko.hatenablog.jp/entry/2015/01/04/114642\n",
    "# 置換対象クラス\n",
    "\"\"\"\n",
    "############\n",
    "# models.py#\n",
    "############\n",
    "import random\n",
    "\n",
    "class User(object):\n",
    "    def __init__(self, name, gender='m'):\n",
    "        self.name = name\n",
    "        self.gender = gender\n",
    "\n",
    "    def get_name(self):\n",
    "        return self.name\n",
    "\n",
    "    def get_gender(self):\n",
    "        return self.gender\n",
    "\n",
    "    def vote(self, *seq):\n",
    "        return random.choice(seq)\n",
    "\n",
    "    @classmethod\n",
    "    def class_method(cls):\n",
    "        return 'class method'\n",
    "\n",
    "    @staticmethod\n",
    "    def static_method():\n",
    "        return 'static method'\n",
    "\"\"\""
   ]
  },
  {
   "cell_type": "code",
   "execution_count": 3,
   "metadata": {
    "collapsed": true
   },
   "outputs": [],
   "source": [
    "###########################################\n",
    "#          直接mockで置き換える           #\n",
    "###########################################\n",
    "import models\n",
    "from unittest import mock"
   ]
  },
  {
   "cell_type": "code",
   "execution_count": 4,
   "metadata": {
    "collapsed": false
   },
   "outputs": [
    {
     "name": "stdout",
     "output_type": "stream",
     "text": [
      "mock\n"
     ]
    }
   ],
   "source": [
    "### get_nameメソッドをMagicMockオブジェクトで直接置き換える\n",
    "user = models.User(\"midorikwa\")\n",
    "user.get_name = mock.MagicMock()\n",
    "user.get_name.return_value = \"mock\"\n",
    "# user.get_name = mock.MagicMock(return_value=\"mock\")としてもOK\n",
    "print(user.get_name())"
   ]
  },
  {
   "cell_type": "code",
   "execution_count": 5,
   "metadata": {
    "collapsed": false
   },
   "outputs": [
    {
     "name": "stdout",
     "output_type": "stream",
     "text": [
      "<MagicMock name='mock().get_name' id='139830785833672'>\n"
     ]
    }
   ],
   "source": [
    "### UserクラスをMagicMockオブジェクトで直接置き換える\n",
    "models.User = mock.MagicMock()\n",
    "models.User.return_value.get_name.return_value = \"mock\"\n",
    "user = models.User(\"midorikawa\")\n",
    "print(user.get_name)"
   ]
  },
  {
   "cell_type": "code",
   "execution_count": null,
   "metadata": {
    "collapsed": true
   },
   "outputs": [],
   "source": []
  },
  {
   "cell_type": "code",
   "execution_count": 1,
   "metadata": {
    "collapsed": true
   },
   "outputs": [],
   "source": [
    "###########################################\n",
    "#           クラスを置き換える            #\n",
    "###########################################\n",
    "import models\n",
    "from unittest import mock\n",
    "\n",
    "# この章を始めるときは一度ipython notebookを再起動しましょう"
   ]
  },
  {
   "cell_type": "code",
   "execution_count": 9,
   "metadata": {
    "collapsed": false
   },
   "outputs": [
    {
     "data": {
      "text/plain": [
       "'\\npatch でモック化したオブジェクトは as で受け取ることができるので、\\n受け取ったモックオブジェクトに対して後から振る舞いを規定することができる。\\n\\n※第一引数（target）は、、、\\n1. import できる形の文字列であること\\n2. クラス名、メソッド名、関数名のいずれかであること(モジュール名は不可)\\n'"
      ]
     },
     "execution_count": 9,
     "metadata": {},
     "output_type": "execute_result"
    }
   ],
   "source": [
    "# patch(target) as ... で後から振る舞いを規定する\n",
    "# =================================================\n",
    "\"\"\"\n",
    "patch でモック化したオブジェクトは as で受け取ることができるので、\n",
    "受け取ったモックオブジェクトに対して後から振る舞いを規定することができる。\n",
    "\n",
    "※第一引数（target）は、、、\n",
    "1. import できる形の文字列であること\n",
    "2. クラス名、メソッド名、関数名のいずれかであること(モジュール名は不可)\n",
    "\"\"\""
   ]
  },
  {
   "cell_type": "code",
   "execution_count": 4,
   "metadata": {
    "collapsed": false
   },
   "outputs": [
    {
     "name": "stdout",
     "output_type": "stream",
     "text": [
      "mock\n"
     ]
    }
   ],
   "source": [
    "#■with構文\n",
    "with mock.patch(\"models.User\") as mock_user:\n",
    "    mock_user.return_value.get_name.return_value = \"mock\"\n",
    "    user = models.User(\"midorikawa\")\n",
    "    print(user.get_name())"
   ]
  },
  {
   "cell_type": "code",
   "execution_count": 5,
   "metadata": {
    "collapsed": false
   },
   "outputs": [
    {
     "name": "stdout",
     "output_type": "stream",
     "text": [
      "mock\n"
     ]
    }
   ],
   "source": [
    "#■デコレータ\n",
    "@mock.patch(\"models.User\")\n",
    "def test_user(mock_user):\n",
    "    mock_user.return_value.get_name.return_value = \"mock\"\n",
    "    user = models.User()\n",
    "    print(user.get_name())\n",
    "test_user()"
   ]
  },
  {
   "cell_type": "code",
   "execution_count": 6,
   "metadata": {
    "collapsed": false
   },
   "outputs": [
    {
     "name": "stdout",
     "output_type": "stream",
     "text": [
      "<MagicMock name='User().get_name' id='140121700246752'>\n"
     ]
    }
   ],
   "source": [
    "#■置換対象のモジュールをfrom hoge import hogehogeとインポートしている場合\n",
    "from models import User\n",
    "with mock.patch(\"__main__.User\") as mock_user:\n",
    "    mock_user.return_value.get_name.return_value = \"mock\"\n",
    "    user = User(\"midorikawa\")\n",
    "    print(user.get_name)"
   ]
  },
  {
   "cell_type": "code",
   "execution_count": null,
   "metadata": {
    "collapsed": true
   },
   "outputs": [],
   "source": []
  },
  {
   "cell_type": "code",
   "execution_count": 1,
   "metadata": {
    "collapsed": true
   },
   "outputs": [],
   "source": [
    "###########################################\n",
    "#        メソッドを置き換える             #\n",
    "###########################################\n",
    "import models\n",
    "from unittest import mock\n",
    "\n",
    "# この章を始めるときは一度ipython notebookを再起動しましょう"
   ]
  },
  {
   "cell_type": "code",
   "execution_count": 2,
   "metadata": {
    "collapsed": false
   },
   "outputs": [
    {
     "data": {
      "text/plain": [
       "'\\nreturn_value で、メソッドが実行されたときの戻り値を規定することができる。\\n'"
      ]
     },
     "execution_count": 2,
     "metadata": {},
     "output_type": "execute_result"
    }
   ],
   "source": [
    "# patch(target, return_value=...) を使う\n",
    "# =================================================\n",
    "\"\"\"\n",
    "return_value で、メソッドが実行されたときの戻り値を規定することができる。\n",
    "\"\"\""
   ]
  },
  {
   "cell_type": "code",
   "execution_count": 3,
   "metadata": {
    "collapsed": false
   },
   "outputs": [
    {
     "name": "stdout",
     "output_type": "stream",
     "text": [
      "mock\n"
     ]
    }
   ],
   "source": [
    "#■patch, with構文\n",
    "with mock.patch(\"models.User.get_name\", return_value=\"mock\") as _mock_get_name:\n",
    "    user = models.User(\"midorikawa\")\n",
    "    print(user.get_name())"
   ]
  },
  {
   "cell_type": "code",
   "execution_count": 4,
   "metadata": {
    "collapsed": false
   },
   "outputs": [
    {
     "name": "stdout",
     "output_type": "stream",
     "text": [
      "mock\n"
     ]
    }
   ],
   "source": [
    "#■patch.object, with構文\n",
    "with mock.patch.object(models.User, \"get_name\", return_value=\"mock\") as _mock_get_name:\n",
    "    user = models.User(\"midorikawa\")\n",
    "    print(user.get_name())"
   ]
  },
  {
   "cell_type": "code",
   "execution_count": 5,
   "metadata": {
    "collapsed": false
   },
   "outputs": [
    {
     "name": "stdout",
     "output_type": "stream",
     "text": [
      "mock\n"
     ]
    }
   ],
   "source": [
    "#■patch, デコレータ\n",
    "@mock.patch(\"models.User.get_name\", return_value=\"mock\")\n",
    "def test_user(_mock_get_name):\n",
    "    user = models.User(\"midorikawa\")\n",
    "    print(user.get_name())\n",
    "test_user()"
   ]
  },
  {
   "cell_type": "code",
   "execution_count": 6,
   "metadata": {
    "collapsed": false
   },
   "outputs": [
    {
     "name": "stdout",
     "output_type": "stream",
     "text": [
      "mock\n"
     ]
    }
   ],
   "source": [
    "#■patch.object, デコレータ\n",
    "@mock.patch.object(models.User, \"get_name\", return_value=\"mock\")\n",
    "def test_user(_mock_get_name):\n",
    "    user = models.User(\"midorikawa\")\n",
    "    print(user.get_name())\n",
    "test_user()"
   ]
  },
  {
   "cell_type": "code",
   "execution_count": 7,
   "metadata": {
    "collapsed": false
   },
   "outputs": [
    {
     "data": {
      "text/plain": [
       "'\\nside_effectは、メソッドの定義そのものの書き換え、\\nエラー出力、イテレータで順に戻り値を指定することができる。\\n'"
      ]
     },
     "execution_count": 7,
     "metadata": {},
     "output_type": "execute_result"
    }
   ],
   "source": [
    "# patch(target, side_effect=...) を使う\n",
    "# =================================================\n",
    "\"\"\"\n",
    "side_effectは、メソッドの定義そのものの書き換え、\n",
    "エラー出力、イテレータで順に戻り値を指定することができる。\n",
    "\"\"\""
   ]
  },
  {
   "cell_type": "code",
   "execution_count": 8,
   "metadata": {
    "collapsed": false
   },
   "outputs": [
    {
     "name": "stdout",
     "output_type": "stream",
     "text": [
      "mock\n"
     ]
    }
   ],
   "source": [
    "#■メソッドの定義そのものの書き換え\n",
    "def mock_get_name():\n",
    "    return \"mock\"\n",
    "\n",
    "with mock.patch(\"models.User.get_name\", side_effect=mock_get_name) as _mock_get_name:\n",
    "    user = models.User(\"midorikawa\")\n",
    "    print(user.get_name())"
   ]
  },
  {
   "cell_type": "code",
   "execution_count": 10,
   "metadata": {
    "collapsed": false
   },
   "outputs": [
    {
     "ename": "Exception",
     "evalue": "hello",
     "output_type": "error",
     "traceback": [
      "\u001b[0;31m---------------------------------------------------------------------------\u001b[0m",
      "\u001b[0;31mException\u001b[0m                                 Traceback (most recent call last)",
      "\u001b[0;32m<ipython-input-10-43af342372e2>\u001b[0m in \u001b[0;36m<module>\u001b[0;34m()\u001b[0m\n\u001b[1;32m      2\u001b[0m \u001b[0;32mwith\u001b[0m \u001b[0mmock\u001b[0m\u001b[0;34m.\u001b[0m\u001b[0mpatch\u001b[0m\u001b[0;34m(\u001b[0m\u001b[0;34m\"models.User.get_name\"\u001b[0m\u001b[0;34m,\u001b[0m \u001b[0mside_effect\u001b[0m\u001b[0;34m=\u001b[0m\u001b[0mException\u001b[0m\u001b[0;34m(\u001b[0m\u001b[0;34m\"hello\"\u001b[0m\u001b[0;34m)\u001b[0m\u001b[0;34m)\u001b[0m \u001b[0;32mas\u001b[0m \u001b[0m_mock_get_name\u001b[0m\u001b[0;34m:\u001b[0m\u001b[0;34m\u001b[0m\u001b[0m\n\u001b[1;32m      3\u001b[0m     \u001b[0muser\u001b[0m \u001b[0;34m=\u001b[0m \u001b[0mmodels\u001b[0m\u001b[0;34m.\u001b[0m\u001b[0mUser\u001b[0m\u001b[0;34m(\u001b[0m\u001b[0;34m\"midorikawa\"\u001b[0m\u001b[0;34m)\u001b[0m\u001b[0;34m\u001b[0m\u001b[0m\n\u001b[0;32m----> 4\u001b[0;31m     \u001b[0muser\u001b[0m\u001b[0;34m.\u001b[0m\u001b[0mget_name\u001b[0m\u001b[0;34m(\u001b[0m\u001b[0;34m)\u001b[0m\u001b[0;34m\u001b[0m\u001b[0m\n\u001b[0m",
      "\u001b[0;32m/usr/lib/python3.5/unittest/mock.py\u001b[0m in \u001b[0;36m__call__\u001b[0;34m(_mock_self, *args, **kwargs)\u001b[0m\n\u001b[1;32m    915\u001b[0m         \u001b[0;31m# in the signature\u001b[0m\u001b[0;34m\u001b[0m\u001b[0;34m\u001b[0m\u001b[0m\n\u001b[1;32m    916\u001b[0m         \u001b[0m_mock_self\u001b[0m\u001b[0;34m.\u001b[0m\u001b[0m_mock_check_sig\u001b[0m\u001b[0;34m(\u001b[0m\u001b[0;34m*\u001b[0m\u001b[0margs\u001b[0m\u001b[0;34m,\u001b[0m \u001b[0;34m**\u001b[0m\u001b[0mkwargs\u001b[0m\u001b[0;34m)\u001b[0m\u001b[0;34m\u001b[0m\u001b[0m\n\u001b[0;32m--> 917\u001b[0;31m         \u001b[0;32mreturn\u001b[0m \u001b[0m_mock_self\u001b[0m\u001b[0;34m.\u001b[0m\u001b[0m_mock_call\u001b[0m\u001b[0;34m(\u001b[0m\u001b[0;34m*\u001b[0m\u001b[0margs\u001b[0m\u001b[0;34m,\u001b[0m \u001b[0;34m**\u001b[0m\u001b[0mkwargs\u001b[0m\u001b[0;34m)\u001b[0m\u001b[0;34m\u001b[0m\u001b[0m\n\u001b[0m\u001b[1;32m    918\u001b[0m \u001b[0;34m\u001b[0m\u001b[0m\n\u001b[1;32m    919\u001b[0m \u001b[0;34m\u001b[0m\u001b[0m\n",
      "\u001b[0;32m/usr/lib/python3.5/unittest/mock.py\u001b[0m in \u001b[0;36m_mock_call\u001b[0;34m(_mock_self, *args, **kwargs)\u001b[0m\n\u001b[1;32m    971\u001b[0m         \u001b[0;32mif\u001b[0m \u001b[0meffect\u001b[0m \u001b[0;32mis\u001b[0m \u001b[0;32mnot\u001b[0m \u001b[0;32mNone\u001b[0m\u001b[0;34m:\u001b[0m\u001b[0;34m\u001b[0m\u001b[0m\n\u001b[1;32m    972\u001b[0m             \u001b[0;32mif\u001b[0m \u001b[0m_is_exception\u001b[0m\u001b[0;34m(\u001b[0m\u001b[0meffect\u001b[0m\u001b[0;34m)\u001b[0m\u001b[0;34m:\u001b[0m\u001b[0;34m\u001b[0m\u001b[0m\n\u001b[0;32m--> 973\u001b[0;31m                 \u001b[0;32mraise\u001b[0m \u001b[0meffect\u001b[0m\u001b[0;34m\u001b[0m\u001b[0m\n\u001b[0m\u001b[1;32m    974\u001b[0m \u001b[0;34m\u001b[0m\u001b[0m\n\u001b[1;32m    975\u001b[0m             \u001b[0;32mif\u001b[0m \u001b[0;32mnot\u001b[0m \u001b[0m_callable\u001b[0m\u001b[0;34m(\u001b[0m\u001b[0meffect\u001b[0m\u001b[0;34m)\u001b[0m\u001b[0;34m:\u001b[0m\u001b[0;34m\u001b[0m\u001b[0m\n",
      "\u001b[0;31mException\u001b[0m: hello"
     ]
    }
   ],
   "source": [
    "#■エラー出力\n",
    "with mock.patch(\"models.User.get_name\", side_effect=Exception(\"hello\")) as _mock_get_name:\n",
    "    user = models.User(\"midorikawa\")\n",
    "    user.get_name()"
   ]
  },
  {
   "cell_type": "code",
   "execution_count": 12,
   "metadata": {
    "collapsed": false
   },
   "outputs": [
    {
     "name": "stdout",
     "output_type": "stream",
     "text": [
      "spam\n",
      "ham\n",
      "egg\n"
     ]
    },
    {
     "ename": "StopIteration",
     "evalue": "",
     "output_type": "error",
     "traceback": [
      "\u001b[0;31m---------------------------------------------------------------------------\u001b[0m",
      "\u001b[0;31mStopIteration\u001b[0m                             Traceback (most recent call last)",
      "\u001b[0;32m<ipython-input-12-01cbfc7e230e>\u001b[0m in \u001b[0;36m<module>\u001b[0;34m()\u001b[0m\n\u001b[1;32m      3\u001b[0m     \u001b[0muser\u001b[0m \u001b[0;34m=\u001b[0m \u001b[0mmodels\u001b[0m\u001b[0;34m.\u001b[0m\u001b[0mUser\u001b[0m\u001b[0;34m(\u001b[0m\u001b[0;34m\"midorikawa\"\u001b[0m\u001b[0;34m)\u001b[0m\u001b[0;34m\u001b[0m\u001b[0m\n\u001b[1;32m      4\u001b[0m     \u001b[0;32mfor\u001b[0m \u001b[0mi\u001b[0m \u001b[0;32min\u001b[0m \u001b[0mrange\u001b[0m\u001b[0;34m(\u001b[0m\u001b[0;36m4\u001b[0m\u001b[0;34m)\u001b[0m\u001b[0;34m:\u001b[0m\u001b[0;34m\u001b[0m\u001b[0m\n\u001b[0;32m----> 5\u001b[0;31m         \u001b[0mprint\u001b[0m\u001b[0;34m(\u001b[0m\u001b[0muser\u001b[0m\u001b[0;34m.\u001b[0m\u001b[0mget_name\u001b[0m\u001b[0;34m(\u001b[0m\u001b[0;34m)\u001b[0m\u001b[0;34m)\u001b[0m\u001b[0;34m\u001b[0m\u001b[0m\n\u001b[0m",
      "\u001b[0;32m/usr/lib/python3.5/unittest/mock.py\u001b[0m in \u001b[0;36m__call__\u001b[0;34m(_mock_self, *args, **kwargs)\u001b[0m\n\u001b[1;32m    915\u001b[0m         \u001b[0;31m# in the signature\u001b[0m\u001b[0;34m\u001b[0m\u001b[0;34m\u001b[0m\u001b[0m\n\u001b[1;32m    916\u001b[0m         \u001b[0m_mock_self\u001b[0m\u001b[0;34m.\u001b[0m\u001b[0m_mock_check_sig\u001b[0m\u001b[0;34m(\u001b[0m\u001b[0;34m*\u001b[0m\u001b[0margs\u001b[0m\u001b[0;34m,\u001b[0m \u001b[0;34m**\u001b[0m\u001b[0mkwargs\u001b[0m\u001b[0;34m)\u001b[0m\u001b[0;34m\u001b[0m\u001b[0m\n\u001b[0;32m--> 917\u001b[0;31m         \u001b[0;32mreturn\u001b[0m \u001b[0m_mock_self\u001b[0m\u001b[0;34m.\u001b[0m\u001b[0m_mock_call\u001b[0m\u001b[0;34m(\u001b[0m\u001b[0;34m*\u001b[0m\u001b[0margs\u001b[0m\u001b[0;34m,\u001b[0m \u001b[0;34m**\u001b[0m\u001b[0mkwargs\u001b[0m\u001b[0;34m)\u001b[0m\u001b[0;34m\u001b[0m\u001b[0m\n\u001b[0m\u001b[1;32m    918\u001b[0m \u001b[0;34m\u001b[0m\u001b[0m\n\u001b[1;32m    919\u001b[0m \u001b[0;34m\u001b[0m\u001b[0m\n",
      "\u001b[0;32m/usr/lib/python3.5/unittest/mock.py\u001b[0m in \u001b[0;36m_mock_call\u001b[0;34m(_mock_self, *args, **kwargs)\u001b[0m\n\u001b[1;32m    974\u001b[0m \u001b[0;34m\u001b[0m\u001b[0m\n\u001b[1;32m    975\u001b[0m             \u001b[0;32mif\u001b[0m \u001b[0;32mnot\u001b[0m \u001b[0m_callable\u001b[0m\u001b[0;34m(\u001b[0m\u001b[0meffect\u001b[0m\u001b[0;34m)\u001b[0m\u001b[0;34m:\u001b[0m\u001b[0;34m\u001b[0m\u001b[0m\n\u001b[0;32m--> 976\u001b[0;31m                 \u001b[0mresult\u001b[0m \u001b[0;34m=\u001b[0m \u001b[0mnext\u001b[0m\u001b[0;34m(\u001b[0m\u001b[0meffect\u001b[0m\u001b[0;34m)\u001b[0m\u001b[0;34m\u001b[0m\u001b[0m\n\u001b[0m\u001b[1;32m    977\u001b[0m                 \u001b[0;32mif\u001b[0m \u001b[0m_is_exception\u001b[0m\u001b[0;34m(\u001b[0m\u001b[0mresult\u001b[0m\u001b[0;34m)\u001b[0m\u001b[0;34m:\u001b[0m\u001b[0;34m\u001b[0m\u001b[0m\n\u001b[1;32m    978\u001b[0m                     \u001b[0;32mraise\u001b[0m \u001b[0mresult\u001b[0m\u001b[0;34m\u001b[0m\u001b[0m\n",
      "\u001b[0;31mStopIteration\u001b[0m: "
     ]
    }
   ],
   "source": [
    "#■イテレータで順に戻り値を指定\n",
    "with mock.patch(\"models.User.get_name\", side_effect=[\"spam\", \"ham\", \"egg\"]) as _mock_get_name:\n",
    "    user = models.User(\"midorikawa\")\n",
    "    for i in range(4):\n",
    "        print(user.get_name())"
   ]
  },
  {
   "cell_type": "code",
   "execution_count": 13,
   "metadata": {
    "collapsed": false
   },
   "outputs": [
    {
     "data": {
      "text/plain": [
       "'\\npatch の第2引数、および patch.object の第3引数に、置き換えるモックオブジェクトを指定することができる。\\nただし、指定できるのはモックオブジェクトに限る。\\n'"
      ]
     },
     "execution_count": 13,
     "metadata": {},
     "output_type": "execute_result"
    }
   ],
   "source": [
    "# patch(target, new) を使う\n",
    "# =================================================\n",
    "\"\"\"\n",
    "patch の第2引数、および patch.object の第3引数に、置き換えるモックオブジェクトを指定することができる。\n",
    "ただし、指定できるのはモックオブジェクトに限る。\n",
    "\"\"\""
   ]
  },
  {
   "cell_type": "code",
   "execution_count": 16,
   "metadata": {
    "collapsed": false
   },
   "outputs": [
    {
     "name": "stdout",
     "output_type": "stream",
     "text": [
      "mock\n",
      "mock\n"
     ]
    }
   ],
   "source": [
    "mock_get_name = mock.MagicMock(return_value=\"mock\")\n",
    "with mock.patch(\"models.User.get_name\", mock_get_name) as _mock_get_name:\n",
    "    user = models.User(\"midorikawa\")\n",
    "    print(user.get_name())\n",
    "    \n",
    "#　↑と↓は同義\n",
    "\n",
    "with mock.patch(\"models.User.get_name\", mock.MagicMock(return_value=\"mock\")) as _mock_get_name:\n",
    "    user = models.User(\"midorikawa\")\n",
    "    print(user.get_name())"
   ]
  },
  {
   "cell_type": "code",
   "execution_count": 17,
   "metadata": {
    "collapsed": false
   },
   "outputs": [
    {
     "data": {
      "text/plain": [
       "'\\npatch でモック化したオブジェクトは as で（デコレータを使った場合はメソッドの引数として）受け取ることができるので、\\n受け取ったモックオブジェクトに対して後から振る舞いを規定することができる。\\n'"
      ]
     },
     "execution_count": 17,
     "metadata": {},
     "output_type": "execute_result"
    }
   ],
   "source": [
    "# patch(target) as ... で後から振る舞いを規定する\n",
    "# =================================================\n",
    "\"\"\"\n",
    "patch でモック化したオブジェクトは as で（デコレータを使った場合はメソッドの引数として）受け取ることができるので、\n",
    "受け取ったモックオブジェクトに対して後から振る舞いを規定することができる。\n",
    "\"\"\""
   ]
  },
  {
   "cell_type": "code",
   "execution_count": 18,
   "metadata": {
    "collapsed": false
   },
   "outputs": [
    {
     "name": "stdout",
     "output_type": "stream",
     "text": [
      "mock\n"
     ]
    }
   ],
   "source": [
    "with mock.patch(\"models.User.get_name\") as _mock_get_name:\n",
    "    _mock_get_name.return_value = \"mock\"\n",
    "    user = models.User(\"midorikawa\")\n",
    "    print(user.get_name())"
   ]
  },
  {
   "cell_type": "code",
   "execution_count": 20,
   "metadata": {
    "collapsed": false
   },
   "outputs": [
    {
     "name": "stdout",
     "output_type": "stream",
     "text": [
      "spam\n",
      "ham\n",
      "egg\n"
     ]
    }
   ],
   "source": [
    "with mock.patch(\"models.User.get_name\") as _mock_get_name:\n",
    "    _mock_get_name.side_effect = [\"spam\", \"ham\", \"egg\"]\n",
    "    user = models.User(\"midorikawa\")\n",
    "    for i in range(3):\n",
    "        print(user.get_name())"
   ]
  },
  {
   "cell_type": "code",
   "execution_count": null,
   "metadata": {
    "collapsed": true
   },
   "outputs": [],
   "source": []
  },
  {
   "cell_type": "code",
   "execution_count": 21,
   "metadata": {
    "collapsed": true
   },
   "outputs": [],
   "source": [
    "###########################################\n",
    "#           関数を置き換える             #\n",
    "###########################################\n",
    "import models\n",
    "from unittest import mock\n",
    "\n",
    "# この章を始めるときは一度ipython notebookを再起動しましょう"
   ]
  },
  {
   "cell_type": "code",
   "execution_count": 22,
   "metadata": {
    "collapsed": false
   },
   "outputs": [
    {
     "name": "stdout",
     "output_type": "stream",
     "text": [
      "0\n"
     ]
    }
   ],
   "source": [
    "#■関数をmockに置き換える(with構文)\n",
    "with mock.patch(\"random.choice\", return_value=0) as _mock_choice:\n",
    "    user = models.User(\"midorikawa\")\n",
    "    print(user.vote(1,2,3))"
   ]
  },
  {
   "cell_type": "code",
   "execution_count": 27,
   "metadata": {
    "collapsed": false
   },
   "outputs": [
    {
     "name": "stdout",
     "output_type": "stream",
     "text": [
      "0\n"
     ]
    }
   ],
   "source": [
    "#■関数をmockに置き換える(デコレータ)\n",
    "@mock.patch(\"random.choice\", return_value=0)\n",
    "def test_user(_mock_choice):\n",
    "    user = models.User(\"midorikawa\")\n",
    "    print(user.vote(1,2,3))\n",
    "test_user()"
   ]
  },
  {
   "cell_type": "code",
   "execution_count": 29,
   "metadata": {
    "collapsed": false
   },
   "outputs": [
    {
     "name": "stdout",
     "output_type": "stream",
     "text": [
      "hello\n",
      "hello\n",
      "hello\n",
      "hello\n"
     ]
    }
   ],
   "source": [
    "#■組み込み関数を置き換える\n",
    "with mock.patch(\"builtins.input\", return_value=\"hello\") as _mock_input:\n",
    "    ret = input(\"input : \")\n",
    "    print(ret)\n",
    "\n",
    "with mock.patch(\"__main__.input\", return_value=\"hello\") as _mock_input:\n",
    "    ret = input(\"input : \")\n",
    "    print(ret)\n",
    "\n",
    "@mock.patch(\"builtins.input\", return_value=\"hello\")\n",
    "def test_input(_mock_input):\n",
    "    ret = input(\"input : \")\n",
    "    print(ret)\n",
    "test_input()\n",
    "\n",
    "@mock.patch(\"__main__.input\", return_value=\"hello\")\n",
    "def test_input(_mock_input):\n",
    "    ret = input(\"input : \")\n",
    "    print(ret)\n",
    "test_input()"
   ]
  },
  {
   "cell_type": "code",
   "execution_count": null,
   "metadata": {
    "collapsed": true
   },
   "outputs": [],
   "source": []
  },
  {
   "cell_type": "code",
   "execution_count": 30,
   "metadata": {
    "collapsed": true
   },
   "outputs": [],
   "source": [
    "######################################################################################\n",
    "#      （クラスがインスタンス化された際の）インスタンスオブジェクトを置き換える      #\n",
    "######################################################################################\n",
    "import models\n",
    "from unittest import mock\n",
    "\n",
    "# この章を始めるときは一度ipython notebookを再起動しましょう"
   ]
  },
  {
   "cell_type": "code",
   "execution_count": 31,
   "metadata": {
    "collapsed": false
   },
   "outputs": [
    {
     "data": {
      "text/plain": [
       "'\\npatch(クラス名, return_value=...) を使うと、クラスがインスタンス化された際のインスタンスオブジェクトを置き換えることができる。\\n'"
      ]
     },
     "execution_count": 31,
     "metadata": {},
     "output_type": "execute_result"
    }
   ],
   "source": [
    "# patch(クラス名, return_value=...) を使う\n",
    "# =================================================\n",
    "\"\"\"\n",
    "patch(クラス名, return_value=...) を使うと、クラスがインスタンス化された際のインスタンスオブジェクトを置き換えることができる。\n",
    "\"\"\""
   ]
  },
  {
   "cell_type": "code",
   "execution_count": 34,
   "metadata": {
    "collapsed": false
   },
   "outputs": [
    {
     "name": "stdout",
     "output_type": "stream",
     "text": [
      "mock\n"
     ]
    }
   ],
   "source": [
    "#■patch, with\n",
    "mock_user = mock.MagicMock()\n",
    "mock_user.get_name.return_value = 'mock'\n",
    "with mock.patch(\"models.User\", return_value=mock_user) as _mock_user:\n",
    "    user = models.User(\"midorikawa\")\n",
    "    print(user.get_name())"
   ]
  },
  {
   "cell_type": "code",
   "execution_count": 36,
   "metadata": {
    "collapsed": false
   },
   "outputs": [
    {
     "name": "stdout",
     "output_type": "stream",
     "text": [
      "mock\n"
     ]
    }
   ],
   "source": [
    "#■patch, デコレータ\n",
    "mock_user = mock.MagicMock()\n",
    "mock_user.get_name.return_value = \"mock\"\n",
    "\n",
    "@mock.patch(\"models.User\", return_value=mock_user)\n",
    "def test_user(_mock_user):\n",
    "    user = models.User(\"midorikawa\")\n",
    "    print(user.get_name())\n",
    "test_user()"
   ]
  },
  {
   "cell_type": "code",
   "execution_count": null,
   "metadata": {
    "collapsed": true
   },
   "outputs": [],
   "source": []
  }
 ],
 "metadata": {
  "kernelspec": {
   "display_name": "Python 3",
   "language": "python",
   "name": "python3"
  },
  "language_info": {
   "codemirror_mode": {
    "name": "ipython",
    "version": 3
   },
   "file_extension": ".py",
   "mimetype": "text/x-python",
   "name": "python",
   "nbconvert_exporter": "python",
   "pygments_lexer": "ipython3",
   "version": "3.5.1+"
  }
 },
 "nbformat": 4,
 "nbformat_minor": 0
}
