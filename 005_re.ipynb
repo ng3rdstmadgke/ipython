{
 "cells": [
  {
   "cell_type": "markdown",
   "metadata": {},
   "source": [
    "## 特殊文字\n",
    "|パターン|マッチ対象|\n",
    "|:--|:--|\n",
    "|\\\\d|1個の数字|\n",
    "|\\\\D|1個の数字以外の文字|\n",
    "|\\\\w|1個の英字|\n",
    "|\\\\W|1個の英字以外の文字|\n",
    "|\\\\s|1個の空白文字|\n",
    "|\\\\S|1個の空白文字以外の文字|\n",
    "|\\\\b|単語の境界(\\\\wと\\\\Wの間。順番はどちらでも良い)|\n",
    "|\\\\B|単語の境界以外の文字間|\n",
    "\n",
    "## メタ文字\n",
    "- . : とにかく何でもいい一文字(\"a.c\" >> \"abc\")\n",
    "- ^ : 行の先頭(\"^Hello\" >> \"Hello World\")\n",
    "- \\$ : 行の末尾(\"World$\" >> \"Hello World\")\n",
    "- \\* : 直前の文字が0個以上連続する(\"hel*o\" >> \"hello\", \"heo\", \"helllllo\")\n",
    "- \\+ : 直前の文字が1個以上連続する(\"hel+o\" >> \"hello\", \"helllllo\", \"helo\")\n",
    "- ? : 直前の文字が0個か1個ある(\"Windows?\" >> \"Windows\", \"Window\")\n",
    "- {n} : 直前の文字がn個連続する(\"a{3}\" >> \"aaa\")\n",
    "- {n, m} : 直前の文字がn個以上m個未満連続する(\"a{1, 3}\" >> \"a\", \"aa\"\n",
    "- A | B : AかBいずれかの文字(\"Windows|Mac\" >> \"Windows\", \"Mac\")\n",
    "- []  : 指定した文字のどれか(\"R[AU]N\" >> \"RUN\", \"RAN\") ※次のような書き方もある[A-Z], [0-9]\n",
    "- [^] : 指定した文字以外(\"R[^B-Z]N\" >> \"RAN\")\n",
    "- () : グループ化(\"(Hey!)+\" >>  \"Hey!\", \"Hey!Hey!\", \"Hey!Hey!Hey!\")\n",
    "- prev(?= next) : nextが続いているprev(\"hello (?= world)\" >> \"hello\")\n",
    "- prev(?! next) : nextが続いていないprev\n",
    "- (?<= prev)next : prevが前にあるnext\n",
    "- (?<! prev)next : prevが前にないnext\n"
   ]
  },
  {
   "cell_type": "code",
   "execution_count": 4,
   "metadata": {
    "collapsed": true
   },
   "outputs": [],
   "source": [
    "#########################################################\n",
    "# 正規表現基本的なメソッド\n",
    "#########################################################\n",
    "import re"
   ]
  },
  {
   "cell_type": "code",
   "execution_count": 5,
   "metadata": {
    "collapsed": false,
    "scrolled": false
   },
   "outputs": [
    {
     "name": "stdout",
     "output_type": "stream",
     "text": [
      "<_sre.SRE_Match object; span=(4, 7), match='abc'>\n",
      "None\n"
     ]
    }
   ],
   "source": [
    "# re.search(pattern, string, flags=0)\n",
    "# 解説 : 指定された文字列が正規表現にマッチするか調べる\n",
    "# 引数 : pattern=正規表現の文字列を指定, string=確認対象の文字列, flags=正規表現コンパイル時の振る舞いを変更するフラグを指定\n",
    "# 戻り値 : マッチした場合はマッチオブジェクト、しなかった場合はNoneを返す\n",
    "print(re.search(\"a.c\", \"asdfabc\"))\n",
    "print(re.search(\"a.c\", \"add\"))"
   ]
  },
  {
   "cell_type": "code",
   "execution_count": 6,
   "metadata": {
    "collapsed": false
   },
   "outputs": [
    {
     "name": "stdout",
     "output_type": "stream",
     "text": [
      "<_sre.SRE_Match object; span=(0, 3), match='abc'>\n",
      "None\n",
      "None\n"
     ]
    }
   ],
   "source": [
    "# re.match(pattern, string, flags=0)\n",
    "# 文字列の先頭にマッチするかどうかを判定\n",
    "print(re.match(\"a.c\", \"abc\"))\n",
    "print(re.match(\"a.c\", \"fabc\"))\n",
    "print(re.match(\"a.c\", \"abb\"))"
   ]
  },
  {
   "cell_type": "code",
   "execution_count": 7,
   "metadata": {
    "collapsed": false
   },
   "outputs": [
    {
     "name": "stdout",
     "output_type": "stream",
     "text": [
      "<_sre.SRE_Match object; span=(0, 1), match='あ'>\n",
      "<_sre.SRE_Match object; span=(5, 6), match='A'>\n"
     ]
    }
   ],
   "source": [
    "# reモジュールのflag\n",
    "# A(ASCII)=\\wなどのマッチング処理でASCII文字のみを使用する (\\w=文字と数字それにアンダースコア のいずれかにマッチ)\n",
    "print(re.search(\"\\w\", \"あいうえおABC\"))\n",
    "print(re.search(\"\\w\", \"あいうえおABC\", flags=re.A))"
   ]
  },
  {
   "cell_type": "code",
   "execution_count": 8,
   "metadata": {
    "collapsed": false
   },
   "outputs": [
    {
     "name": "stdout",
     "output_type": "stream",
     "text": [
      "None\n",
      "<_sre.SRE_Match object; span=(0, 3), match='ABC'>\n"
     ]
    }
   ],
   "source": [
    "# I(IGNORECASE)=大文字小文字を区別せずにマッチする\n",
    "print(re.search(\"abc\", \"ABC\"))\n",
    "print(re.search(\"abc\", \"ABC\", flags=re.I))"
   ]
  },
  {
   "cell_type": "code",
   "execution_count": 9,
   "metadata": {
    "collapsed": false
   },
   "outputs": [
    {
     "name": "stdout",
     "output_type": "stream",
     "text": [
      "<_sre.SRE_Match object; span=(4, 7), match='abc'>\n"
     ]
    }
   ],
   "source": [
    "# M(MULTILINE)=^と$が各行の先頭と行末にマッチする\n",
    "print(re.search(\"^abc\", \"dge\\nabcwer\\ndfg\", flags=re.M))"
   ]
  },
  {
   "cell_type": "code",
   "execution_count": 10,
   "metadata": {
    "collapsed": false
   },
   "outputs": [
    {
     "name": "stdout",
     "output_type": "stream",
     "text": [
      "None\n",
      "<_sre.SRE_Match object; span=(0, 4), match='ab\\nc'>\n"
     ]
    }
   ],
   "source": [
    "# S(DOTALL)=.を改行も含めてマッチする\n",
    "print(re.search(\"a..c\", \"ab\\ncdefg\"))\n",
    "print(re.search(\"a..c\", \"ab\\ncdefg\", flags=re.S))\n"
   ]
  },
  {
   "cell_type": "code",
   "execution_count": 11,
   "metadata": {
    "collapsed": true
   },
   "outputs": [],
   "source": [
    "#########################################################\n",
    "# 正規表現オブジェクト(compile)\n",
    "#########################################################\n",
    "# 正規表現を使用するには、searchやmatch以外に正規表現オブジェクトを作成し、そのオブジェクトに対して処理を行うことができる。\n",
    "# 正規表現オブジェクトはre.compileで作成する"
   ]
  },
  {
   "cell_type": "code",
   "execution_count": 12,
   "metadata": {
    "collapsed": false
   },
   "outputs": [
    {
     "name": "stdout",
     "output_type": "stream",
     "text": [
      "re.compile('a..c')\n"
     ]
    },
    {
     "data": {
      "text/plain": [
       "_sre.SRE_Pattern"
      ]
     },
     "execution_count": 12,
     "metadata": {},
     "output_type": "execute_result"
    }
   ],
   "source": [
    "# re.compile(pattern, flags=0)\n",
    "# 解説 : 指定された正規表現パターンをコンパイルして制菌表現オブジェクトを返す\n",
    "# 引数 : pattern=正規表現の文字列を指定する, flags=正規表現コンパイル時の振る舞いを変更するフラグを指定する\n",
    "# 戻り値 : 正規表現オブジェクト\n",
    "regex = re.compile(\"a..c\")\n",
    "print(regex)\n",
    "type(regex)"
   ]
  },
  {
   "cell_type": "code",
   "execution_count": 13,
   "metadata": {
    "collapsed": true
   },
   "outputs": [],
   "source": [
    "################### re.compileのメソッド ###################"
   ]
  },
  {
   "cell_type": "code",
   "execution_count": 14,
   "metadata": {
    "collapsed": false
   },
   "outputs": [
    {
     "name": "stdout",
     "output_type": "stream",
     "text": [
      "<_sre.SRE_Match object; span=(0, 4), match='abbc'>\n",
      "None\n",
      "<_sre.SRE_Match object; span=(8, 12), match='affc'>\n"
     ]
    }
   ],
   "source": [
    "# search(string[, pos[, endpos]])\n",
    "# 解説 : 指定した文字列(string)が正規表現にマッチするかどうかを調べる。pos,endposは検索開始、終了位置\n",
    "# 戻り値 : マッチオブジェクトまたはNone\n",
    "print(regex.search(\"abbcdefg\"))\n",
    "print(regex.search(\"asdfghj\"))\n",
    "print(regex.search(\"abbcdefgaffcdefg\", 5, 13))"
   ]
  },
  {
   "cell_type": "code",
   "execution_count": 15,
   "metadata": {
    "collapsed": false
   },
   "outputs": [
    {
     "name": "stdout",
     "output_type": "stream",
     "text": [
      "<_sre.SRE_Match object; span=(0, 4), match='abbc'>\n",
      "None\n",
      "<_sre.SRE_Match object; span=(2, 6), match='abbc'>\n"
     ]
    }
   ],
   "source": [
    "# match(string[, pos[, endpos]])\n",
    "# 解説 : 文字列の先頭にマッチするかどうかを判定\n",
    "# 戻り値 : マッチオブジェクトまたはNone\n",
    "print(regex.match(\"abbcdfg\"))\n",
    "print(regex.match(\"aaabbcdfg\"))\n",
    "print(regex.match(\"aaabbcdfg\", 2, 10))"
   ]
  },
  {
   "cell_type": "code",
   "execution_count": 16,
   "metadata": {
    "collapsed": false
   },
   "outputs": [
    {
     "name": "stdout",
     "output_type": "stream",
     "text": [
      "<_sre.SRE_Match object; span=(0, 4), match='abbc'>\n",
      "None\n",
      "<_sre.SRE_Match object; span=(1, 5), match='abbc'>\n"
     ]
    }
   ],
   "source": [
    "# fullmatch(string[, pos[, endpos]])\n",
    "# 解説 : 指定した文字列全体が正規表現にマッチするかを返す\n",
    "# 戻り値 : マッチオブジェクトまたはNone\n",
    "print(regex.fullmatch(\"abbc\"))\n",
    "print(regex.fullmatch(\"aabbc\"))\n",
    "print(regex.fullmatch(\"aabbcc\", 1, 5))"
   ]
  },
  {
   "cell_type": "code",
   "execution_count": 17,
   "metadata": {
    "collapsed": false
   },
   "outputs": [
    {
     "name": "stdout",
     "output_type": "stream",
     "text": [
      "['a', 'b', 'c', 'd', 'e']\n",
      "['a', 'b', 'cabbcdabbce']\n",
      "['', '']\n",
      "['abc']\n"
     ]
    }
   ],
   "source": [
    "# split(string, maxsplit=0)\n",
    "# 解説 : 指定した文字列を正規表現パターンにマッチした文字列で分割する。maxxplitは分割の最大数\n",
    "# 文字列のlist\n",
    "print(regex.split(\"aabbcbabbccabbcdabbce\"))\n",
    "print(regex.split(\"aabbcbabbccabbcdabbce\", 2))\n",
    "print(regex.split(\"abbc\"))\n",
    "print(regex.split(\"abc\"))"
   ]
  },
  {
   "cell_type": "code",
   "execution_count": 18,
   "metadata": {
    "collapsed": false
   },
   "outputs": [
    {
     "name": "stdout",
     "output_type": "stream",
     "text": [
      "a@b@c@d@e\n",
      "a@b@cabbcdabbce\n",
      "abc\n"
     ]
    }
   ],
   "source": [
    "# sub(repl, string, count=0)\n",
    "# 解説 : 文字列中の正規表現パターンにマッチした文字列をreplに置き換える。countは変換する上限を指定する。\n",
    "# str\n",
    "print(regex.sub(\"@\", \"aabbcbabbccabbcdabbce\"))\n",
    "print(regex.sub(\"@\", \"aabbcbabbccabbcdabbce\", 2))\n",
    "print(regex.sub(\"@\", \"abc\"))"
   ]
  },
  {
   "cell_type": "code",
   "execution_count": 19,
   "metadata": {
    "collapsed": false
   },
   "outputs": [
    {
     "name": "stdout",
     "output_type": "stream",
     "text": [
      "['aaac', 'abbc', 'accc', 'addc']\n",
      "['abbc', 'accc', 'addc']\n",
      "[]\n"
     ]
    }
   ],
   "source": [
    "# findall(string[, pos[, endpos]])\n",
    "# 解説 : 指定した文字列中の正規表現にマッチした文字列をリストで返す\n",
    "# 文字列のlist\n",
    "print(regex.findall(\"aaaacbabbccacccdaddce\"))\n",
    "print(regex.findall(\"aaaacbabbccacccdaddce\", 3, 20))\n",
    "print(regex.findall(\"abc\"))"
   ]
  },
  {
   "cell_type": "code",
   "execution_count": 20,
   "metadata": {
    "collapsed": false
   },
   "outputs": [
    {
     "name": "stdout",
     "output_type": "stream",
     "text": [
      "<_sre.SRE_Match object; span=(1, 5), match='aaac'>\n",
      "<_sre.SRE_Match object; span=(6, 10), match='abbc'>\n",
      "<_sre.SRE_Match object; span=(11, 15), match='accc'>\n",
      "<_sre.SRE_Match object; span=(16, 20), match='addc'>\n"
     ]
    }
   ],
   "source": [
    "# finditer(string[, pos[, endpos]])\n",
    "# 解説 : 指定した文字列中の正規表現にマッチしたマッチオブジェクトをイテレータで返す。\n",
    "# 戻り値 : マッチオブジェクトもしくはNone\n",
    "match_iter = regex.finditer(\"aaaacbabbccacccdaddce\")\n",
    "for i in match_iter:\n",
    "    print(i)"
   ]
  },
  {
   "cell_type": "code",
   "execution_count": 21,
   "metadata": {
    "collapsed": true
   },
   "outputs": [],
   "source": [
    "#########################################################\n",
    "# マッチオブジェクト\n",
    "#########################################################\n",
    "# マッチオブジェクトはre.match()やre.search()などで正規表現にマッチした文字列に関する情報を保持するオブジェクト。"
   ]
  },
  {
   "cell_type": "code",
   "execution_count": 22,
   "metadata": {
    "collapsed": false
   },
   "outputs": [
    {
     "name": "stdout",
     "output_type": "stream",
     "text": [
      "080-6620-7047\n",
      "080-6620-7047\n",
      "('080', '6620', '7047')\n"
     ]
    }
   ],
   "source": [
    "# group([group1, ...])\n",
    "# 解説 : 指定したサブグループにマッチした文字列を返す。複数のサブグループを指定した場合は文字列をタプルで返す。\n",
    "# 戻り値 : 文字列または文字列のタプル\n",
    "regex2 = re.compile(\"(\\d+)-(\\d+)-(\\d+)\")\n",
    "match = regex2.search(\"080-6620-7047\")\n",
    "print(match.group())\n",
    "print(match.group(0))\n",
    "print(match.group(1, 2, 3))"
   ]
  },
  {
   "cell_type": "code",
   "execution_count": 23,
   "metadata": {
    "collapsed": false
   },
   "outputs": [
    {
     "name": "stdout",
     "output_type": "stream",
     "text": [
      "keita midorikawa\n",
      "('keita', 'midorikawa')\n"
     ]
    }
   ],
   "source": [
    "# ?P<xxxx>でグループの名前を指定できる\n",
    "regex3 = re.compile(r\"(?P<first>\\w+) (?P<last>\\w+)\")\n",
    "match2 = regex3.search(\"keita midorikawa : PyCon JP Chair\")\n",
    "print(match2.group(0))\n",
    "print(match2.group(\"first\", \"last\"))"
   ]
  },
  {
   "cell_type": "code",
   "execution_count": 24,
   "metadata": {
    "collapsed": false
   },
   "outputs": [
    {
     "name": "stdout",
     "output_type": "stream",
     "text": [
      "('080', '6620', '7047')\n"
     ]
    }
   ],
   "source": [
    "# groups(default=None)\n",
    "# 解説 : パターンにマッチしたサブグループの文字列をタプルで返す。defaultはマッチする文字列存在しない場合に返す値を指定する。\n",
    "# 戻り値 : タプル\n",
    "print(match.groups())"
   ]
  },
  {
   "cell_type": "code",
   "execution_count": 25,
   "metadata": {
    "collapsed": false
   },
   "outputs": [
    {
     "name": "stdout",
     "output_type": "stream",
     "text": [
      "{'last': 'midorikawa', 'first': 'keita'}\n"
     ]
    }
   ],
   "source": [
    "# groupdict(default=None)\n",
    "# パターンにマッチしたサブグループを辞書形式で返す。\n",
    "# 戻り値 : dict\n",
    "print(match2.groupdict())"
   ]
  },
  {
   "cell_type": "code",
   "execution_count": 26,
   "metadata": {
    "collapsed": false
   },
   "outputs": [
    {
     "name": "stdout",
     "output_type": "stream",
     "text": [
      "苗字:midorikawa  名前:keita\n"
     ]
    }
   ],
   "source": [
    "# expand(template)\n",
    "# テンプレート文字列に対して、\\1または\\<name>の形式でサブグループを指定すると、マッチした文字列に置き換えられる\n",
    "# 戻り値 : str\n",
    "print(match2.expand(r\"苗字:\\g<last>  名前:\\1\"))"
   ]
  },
  {
   "cell_type": "code",
   "execution_count": 27,
   "metadata": {
    "collapsed": false
   },
   "outputs": [
    {
     "name": "stdout",
     "output_type": "stream",
     "text": [
      "('Tokyo City', 'Tokyo', 'City')\n",
      "('Kanagawa City', 'Kanagawa', 'City')\n",
      "Tokyo City\n"
     ]
    }
   ],
   "source": [
    "import re\n",
    "regex = re.compile(\"(.+) (City)\")\n",
    "match = regex.search(\"Tokyo City\")\n",
    "match2 = regex.search(\"Kanagawa City\")\n",
    "print(match.group(0, 1, 2))\n",
    "print(match2.group(0, 1, 2))\n",
    "print(match.expand(r\"\\1 \\2\"))"
   ]
  },
  {
   "cell_type": "code",
   "execution_count": 28,
   "metadata": {
    "collapsed": true
   },
   "outputs": [],
   "source": [
    "#################################################\n",
    "# 特殊文字のマッチング\n",
    "#################################################\n",
    "import re\n",
    "import string"
   ]
  },
  {
   "cell_type": "code",
   "execution_count": 63,
   "metadata": {
    "collapsed": false
   },
   "outputs": [
    {
     "name": "stdout",
     "output_type": "stream",
     "text": [
      "108\n",
      "0123456789abcdefghijklmnopqrstuvwxyzABCDEFGHIJKLMNOPQRSTUVWXYZ!\"#$%&'()*+,-./:;<=>?@[\\]^_`{|}~ \t\n",
      "\r",
      "\u000b",
      "\f",
      "あいうえお一二三\n"
     ]
    }
   ],
   "source": [
    "printable = string.printable + \"あいうえお一二三\"\n",
    "print(len(printable))\n",
    "print(printable)"
   ]
  },
  {
   "cell_type": "code",
   "execution_count": 72,
   "metadata": {
    "collapsed": false
   },
   "outputs": [
    {
     "name": "stdout",
     "output_type": "stream",
     "text": [
      "['0', '1', '2', '3', '4', '5', '6', '7', '8', '9']\n"
     ]
    }
   ],
   "source": [
    "print(re.findall(r\"\\d\", printable))"
   ]
  },
  {
   "cell_type": "code",
   "execution_count": 73,
   "metadata": {
    "collapsed": false
   },
   "outputs": [
    {
     "name": "stdout",
     "output_type": "stream",
     "text": [
      "['a', 'b', 'c', 'd', 'e', 'f', 'g', 'h', 'i', 'j', 'k', 'l', 'm', 'n', 'o', 'p', 'q', 'r', 's', 't', 'u', 'v', 'w', 'x', 'y', 'z', 'A', 'B', 'C', 'D', 'E', 'F', 'G', 'H', 'I', 'J', 'K', 'L', 'M', 'N', 'O', 'P', 'Q', 'R', 'S', 'T', 'U', 'V', 'W', 'X', 'Y', 'Z', '!', '\"', '#', '$', '%', '&', \"'\", '(', ')', '*', '+', ',', '-', '.', '/', ':', ';', '<', '=', '>', '?', '@', '[', '\\\\', ']', '^', '_', '`', '{', '|', '}', '~', ' ', '\\t', '\\n', '\\r', '\\x0b', '\\x0c', 'あ', 'い', 'う', 'え', 'お', '一', '二', '三']\n"
     ]
    }
   ],
   "source": [
    "print(re.findall(r\"\\D\", printable))"
   ]
  },
  {
   "cell_type": "code",
   "execution_count": 74,
   "metadata": {
    "collapsed": false
   },
   "outputs": [
    {
     "name": "stdout",
     "output_type": "stream",
     "text": [
      "['0', '1', '2', '3', '4', '5', '6', '7', '8', '9', 'a', 'b', 'c', 'd', 'e', 'f', 'g', 'h', 'i', 'j', 'k', 'l', 'm', 'n', 'o', 'p', 'q', 'r', 's', 't', 'u', 'v', 'w', 'x', 'y', 'z', 'A', 'B', 'C', 'D', 'E', 'F', 'G', 'H', 'I', 'J', 'K', 'L', 'M', 'N', 'O', 'P', 'Q', 'R', 'S', 'T', 'U', 'V', 'W', 'X', 'Y', 'Z', '_', 'あ', 'い', 'う', 'え', 'お', '一', '二', '三']\n"
     ]
    }
   ],
   "source": [
    "print(re.findall(r\"\\w\", printable))"
   ]
  },
  {
   "cell_type": "code",
   "execution_count": 75,
   "metadata": {
    "collapsed": false
   },
   "outputs": [
    {
     "name": "stdout",
     "output_type": "stream",
     "text": [
      "['!', '\"', '#', '$', '%', '&', \"'\", '(', ')', '*', '+', ',', '-', '.', '/', ':', ';', '<', '=', '>', '?', '@', '[', '\\\\', ']', '^', '`', '{', '|', '}', '~', ' ', '\\t', '\\n', '\\r', '\\x0b', '\\x0c']\n"
     ]
    }
   ],
   "source": [
    "print(re.findall(r\"\\W\", printable))"
   ]
  },
  {
   "cell_type": "code",
   "execution_count": 76,
   "metadata": {
    "collapsed": false
   },
   "outputs": [
    {
     "name": "stdout",
     "output_type": "stream",
     "text": [
      "[' ', '\\t', '\\n', '\\r', '\\x0b', '\\x0c']\n"
     ]
    }
   ],
   "source": [
    "print(re.findall(r\"\\s\", printable))"
   ]
  },
  {
   "cell_type": "code",
   "execution_count": 77,
   "metadata": {
    "collapsed": false
   },
   "outputs": [
    {
     "name": "stdout",
     "output_type": "stream",
     "text": [
      "['0', '1', '2', '3', '4', '5', '6', '7', '8', '9', 'a', 'b', 'c', 'd', 'e', 'f', 'g', 'h', 'i', 'j', 'k', 'l', 'm', 'n', 'o', 'p', 'q', 'r', 's', 't', 'u', 'v', 'w', 'x', 'y', 'z', 'A', 'B', 'C', 'D', 'E', 'F', 'G', 'H', 'I', 'J', 'K', 'L', 'M', 'N', 'O', 'P', 'Q', 'R', 'S', 'T', 'U', 'V', 'W', 'X', 'Y', 'Z', '!', '\"', '#', '$', '%', '&', \"'\", '(', ')', '*', '+', ',', '-', '.', '/', ':', ';', '<', '=', '>', '?', '@', '[', '\\\\', ']', '^', '_', '`', '{', '|', '}', '~', 'あ', 'い', 'う', 'え', 'お', '一', '二', '三']\n"
     ]
    }
   ],
   "source": [
    "print(re.findall(r\"\\S\", printable))"
   ]
  },
  {
   "cell_type": "code",
   "execution_count": 95,
   "metadata": {
    "collapsed": false
   },
   "outputs": [
    {
     "name": "stdout",
     "output_type": "stream",
     "text": [
      "['ham1', 'ham2', 'ham3', 'ham4', 'ham5']\n",
      "[]\n"
     ]
    }
   ],
   "source": [
    "# 先頭に単語の区切り文字がある単語を抽出\n",
    "print(re.findall(r\"\\bham\\d\", \"spam ham1 egg,ham2.ham3\\nham4\\tham5_ham6\"))\n",
    "print(re.findall(r\"\\bam\", \"spam ham egg\"))"
   ]
  },
  {
   "cell_type": "code",
   "execution_count": 87,
   "metadata": {
    "collapsed": false
   },
   "outputs": [
    {
     "name": "stdout",
     "output_type": "stream",
     "text": [
      "['am', 'am']\n"
     ]
    }
   ],
   "source": [
    "# 先頭に単語の区切り文字がない単語を抽出\n",
    "print(re.findall(r\"\\Bam\", \"spam ham egg\"))"
   ]
  },
  {
   "cell_type": "code",
   "execution_count": null,
   "metadata": {
    "collapsed": true
   },
   "outputs": [],
   "source": []
  }
 ],
 "metadata": {
  "kernelspec": {
   "display_name": "Python 3",
   "language": "python",
   "name": "python3"
  },
  "language_info": {
   "codemirror_mode": {
    "name": "ipython",
    "version": 3
   },
   "file_extension": ".py",
   "mimetype": "text/x-python",
   "name": "python",
   "nbconvert_exporter": "python",
   "pygments_lexer": "ipython3",
   "version": "3.5.1+"
  }
 },
 "nbformat": 4,
 "nbformat_minor": 0
}
