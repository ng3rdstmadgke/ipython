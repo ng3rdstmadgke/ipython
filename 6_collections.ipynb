{
 "cells": [
  {
   "cell_type": "code",
   "execution_count": 1,
   "metadata": {
    "collapsed": true
   },
   "outputs": [],
   "source": [
    "# ================= 様々なコンテナ型を扱う ================= "
   ]
  },
  {
   "cell_type": "code",
   "execution_count": 2,
   "metadata": {
    "collapsed": true
   },
   "outputs": [],
   "source": [
    "#########################################################\n",
    "# データの件数をカウントする(collections.Counter())\n",
    "#########################################################"
   ]
  },
  {
   "cell_type": "code",
   "execution_count": 3,
   "metadata": {
    "collapsed": false
   },
   "outputs": [
    {
     "name": "stdout",
     "output_type": "stream",
     "text": [
      "Counter({100: 2, 'spam': 1})\n"
     ]
    },
    {
     "data": {
      "text/plain": [
       "collections.Counter"
      ]
     },
     "execution_count": 3,
     "metadata": {},
     "output_type": "execute_result"
    }
   ],
   "source": [
    "# collections.Counter([iterable-or-mapping], [, key=value, key=value, ...])\n",
    "# text : 辞書型から派生したクラス。辞書にデータの件数をカウントする機能を追加している。\n",
    "# param : iterable - イテレータオブジェクト, mapping - 辞書オブジェクト, key - Counterオブジェクトに登録するキー, value - なんでも\n",
    "# return : Counterオブジェクト\n",
    "import collections\n",
    "c = collections.Counter()\n",
    "c[\"spam\"] += 1\n",
    "c[100] += 2\n",
    "print(c)\n",
    "type(c)"
   ]
  },
  {
   "cell_type": "code",
   "execution_count": 4,
   "metadata": {
    "collapsed": false
   },
   "outputs": [],
   "source": [
    "sample = \"spam,hello,world,foo,hoge,hoge,spam,hello,hello,world,world,foo,spam,spam\"\n",
    "l = sample.split(\",\")"
   ]
  },
  {
   "cell_type": "code",
   "execution_count": 5,
   "metadata": {
    "collapsed": false
   },
   "outputs": [
    {
     "name": "stdout",
     "output_type": "stream",
     "text": [
      "Counter({'spam': 4, 'hello': 3, 'world': 3, 'hoge': 2, 'foo': 2})\n"
     ]
    }
   ],
   "source": [
    "counter = collections.Counter(l)\n",
    "print(counter)"
   ]
  },
  {
   "cell_type": "code",
   "execution_count": 6,
   "metadata": {
    "collapsed": false
   },
   "outputs": [
    {
     "name": "stdout",
     "output_type": "stream",
     "text": [
      "4\n",
      "0\n"
     ]
    }
   ],
   "source": [
    "print(counter[\"spam\"])\n",
    "print(counter[\"k-ta\"]) # 存在しない要素を参照してもエラーにならない"
   ]
  },
  {
   "cell_type": "code",
   "execution_count": 7,
   "metadata": {
    "collapsed": false
   },
   "outputs": [
    {
     "name": "stdout",
     "output_type": "stream",
     "text": [
      "hoge\n",
      "hoge\n",
      "hello\n",
      "hello\n",
      "hello\n",
      "foo\n",
      "foo\n",
      "spam\n",
      "spam\n",
      "spam\n",
      "spam\n",
      "world\n",
      "world\n",
      "world\n"
     ]
    }
   ],
   "source": [
    "# Counterオブジェクトのメソッド\n",
    "# elements()\n",
    "# text : 要素のキーを、値の数だけ繰り返すイテレータを返す\n",
    "# return : iter\n",
    "for i in counter.elements():\n",
    "    print(i)"
   ]
  },
  {
   "cell_type": "code",
   "execution_count": 8,
   "metadata": {
    "collapsed": false
   },
   "outputs": [
    {
     "name": "stdout",
     "output_type": "stream",
     "text": [
      "[('spam', 4), ('hello', 3), ('world', 3), ('hoge', 2), ('foo', 2)]\n",
      "[('spam', 4), ('hello', 3), ('world', 3)]\n"
     ]
    }
   ],
   "source": [
    "# Counterオブジェクトのメソッド\n",
    "# most_common([n])\n",
    "# text : 値が大きい順に、キーと値のタプルのリストを返す。nに整数値を指定するト、最大n件の要素を返す。\n",
    "# param : n - int\n",
    "# retern : list\n",
    "print(counter.most_common())\n",
    "print(counter.most_common(3))"
   ]
  },
  {
   "cell_type": "code",
   "execution_count": 9,
   "metadata": {
    "collapsed": false
   },
   "outputs": [
    {
     "name": "stdout",
     "output_type": "stream",
     "text": [
      "Counter({'hello': 3, 'world': 3, 'hoge': 2, 'foo': 2, 'spam': 1})\n",
      "Counter({'world': 3, 'hoge': 2, 'foo': 2, 'spam': 1, 'hello': -2})\n"
     ]
    }
   ],
   "source": [
    "# Counterオブジェクトのメソッド\n",
    "# subtract([iterable-or-mapping])\n",
    "# text : 要素から、iterableまたは、mappingの値を減算する。\n",
    "# param : iterable - listなど, mapping - dictなど\n",
    "# return : なし\n",
    "counter = collections.Counter(l)\n",
    "counter.subtract([\"spam\", \"spam\", \"spam\"])\n",
    "print(counter)\n",
    "counter = collections.Counter(l)\n",
    "counter.subtract(dict(spam=3, hello=5))\n",
    "print(counter)"
   ]
  },
  {
   "cell_type": "code",
   "execution_count": 10,
   "metadata": {
    "collapsed": false
   },
   "outputs": [
    {
     "name": "stdout",
     "output_type": "stream",
     "text": [
      "------------------------------------------------初期値-------------------------------------------------\n",
      "Counter({'spam': 4, 'hello': 3, 'world': 3, 'hoge': 2, 'foo': 2})   # cnt1\n",
      "Counter({'hello': 4, 'hoge': 2, 'k-ta': 2, 'spam': 2, 'midori': 2})   # cnt2\n",
      "----------------------------------------------------------------------------------------------------\n",
      "Counter({'hello': 7, 'spam': 6, 'hoge': 4, 'world': 3, 'k-ta': 2, 'midori': 2, 'foo': 2})\n",
      "Counter({'world': 3, 'spam': 2, 'foo': 2})\n",
      "Counter({'hello': 3, 'hoge': 2, 'spam': 2})\n",
      "Counter({'spam': 4, 'hello': 4, 'world': 3, 'k-ta': 2, 'hoge': 2, 'midori': 2, 'foo': 2})\n"
     ]
    }
   ],
   "source": [
    "# Counterオブジェクトがサポートする2項演算子\n",
    "# + : 2つのCounterオブジェクトの要素を合わせる\n",
    "# - : 左から右のCounterオブジェクトの要素を減算する。（減算の結果valueが負の値になる要素は含まれない）\n",
    "# & : 2つのCounterオブジェクトに存在する要素をまとめる。要素の値は、小さい方の値となる。\n",
    "# | : ２つ2つのCounterオブジェクトのどちらかに存在する要素をまとめる。要素の値は、大きい方の値となる。\n",
    "sample1 = \"spam,hello,world,foo,hoge,hoge,spam,hello,hello,world,world,foo,spam,spam\"\n",
    "sample2 = \"spam,spam,hello,hello,hello,hello,k-ta,k-ta,hoge,hoge,midori,midori\"\n",
    "l1 = sample1.split(\",\")\n",
    "l2 = sample2.split(\",\")\n",
    "cnt1 = collections.Counter(l1)\n",
    "cnt2 = collections.Counter(l2)\n",
    "print(\"{0:-^100}\".format(\"初期値\"))\n",
    "print(cnt1, end=\"   # cnt1\\n\")\n",
    "print(cnt2, end=\"   # cnt2\\n\")\n",
    "print(\"{0:-^100}\".format(\"\"))\n",
    "# --------------------------------------------------------------------------------------------------\n",
    "print(cnt1 + cnt2)\n",
    "print(cnt1 - cnt2)\n",
    "print(cnt1 & cnt2)\n",
    "print(cnt1 | cnt2)"
   ]
  },
  {
   "cell_type": "code",
   "execution_count": 11,
   "metadata": {
    "collapsed": false
   },
   "outputs": [
    {
     "name": "stdout",
     "output_type": "stream",
     "text": [
      "------------------------------------------------初期値-------------------------------------------------\n",
      "[('spam', 4), ('hello', 3), ('world', 3), ('hoge', 2), ('foo', 2)]   # cnt1\n",
      "[('hello', 4), ('hoge', 2), ('k-ta', 2), ('spam', 2), ('midori', 2)]   # cnt2\n",
      "----------------------------------------------------------------------------------------------------\n",
      "Counter({'hello': 7, 'spam': 6, 'hoge': 4, 'world': 3, 'k-ta': 2, 'midori': 2, 'foo': 2})\n",
      "Counter({'world': 3, 'spam': 2, 'foo': 2})\n",
      "Counter({'hello': 3, 'hoge': 2, 'spam': 2})\n",
      "Counter({'hello': 4, 'spam': 4, 'world': 3, 'k-ta': 2, 'hoge': 2, 'midori': 2, 'foo': 2})\n"
     ]
    }
   ],
   "source": [
    "# Counterオブジェクトがサポートする累算演算子\n",
    "# += : 左辺のCounterオブジェクトに右辺のCounterオブジェクトの要素の値を追加する。\n",
    "# -= : 左辺から右辺のCounterオブジェクトの要素の値を減算する\n",
    "# &= : 左辺から右辺のCounterオブジェクトに含まれない要素を削除する\n",
    "# |= : ２つ2つのCounterオブジェクトのどちらかに存在する要素をまとめる。要素の値は、大きい方の値となる。\n",
    "sample1 = \"spam,hello,world,foo,hoge,hoge,spam,hello,hello,world,world,foo,spam,spam\"\n",
    "sample2 = \"spam,spam,hello,hello,hello,hello,k-ta,k-ta,hoge,hoge,midori,midori\"\n",
    "l1 = sample1.split(\",\")\n",
    "l2 = sample2.split(\",\")\n",
    "cnt1 = collections.Counter(l1)\n",
    "cnt2 = collections.Counter(l2)\n",
    "print(\"{0:-^100}\".format(\"初期値\"))\n",
    "print(cnt1.most_common(), end=\"   # cnt1\\n\")\n",
    "print(cnt2.most_common(), end=\"   # cnt2\\n\")\n",
    "print(\"{0:-^100}\".format(\"\"))\n",
    "# --------------------------------------------------------------------------------------------------\n",
    "cnt1 += cnt2\n",
    "print(cnt1)\n",
    "\n",
    "cnt1 = collections.Counter(l1)\n",
    "cnt2 = collections.Counter(l2)\n",
    "cnt1 -= cnt2\n",
    "print(cnt1)\n",
    "\n",
    "cnt1 = collections.Counter(l1)\n",
    "cnt2 = collections.Counter(l2)\n",
    "cnt1 &= cnt2\n",
    "print(cnt1)\n",
    "\n",
    "cnt1 = collections.Counter(l1)\n",
    "cnt2 = collections.Counter(l2)\n",
    "cnt1 |= cnt2\n",
    "print(cnt1)"
   ]
  },
  {
   "cell_type": "code",
   "execution_count": 12,
   "metadata": {
    "collapsed": true
   },
   "outputs": [],
   "source": [
    "#########################################################\n",
    "# 複数の辞書の要素をまとめて1つの辞書にする(collections.ChainMap())\n",
    "#########################################################\n",
    "import collections"
   ]
  },
  {
   "cell_type": "code",
   "execution_count": 13,
   "metadata": {
    "collapsed": false
   },
   "outputs": [
    {
     "name": "stdout",
     "output_type": "stream",
     "text": [
      "ChainMap({'first': 'keita', 'last': 'midorikawa', 'age': '25'}, {'first': 'k-ta', 'month': '12', 'day': '25', 'year': '1990'})\n",
      "keita\n"
     ]
    }
   ],
   "source": [
    "# collections.ChainMap([map1, map2, ...])\n",
    "# text : 複数の辞書オブジェクトを集約して、ひとつの辞書のように検索できるようにする。検索は登録された順番で行われる。\n",
    "# param : map - dictなど\n",
    "# return : ChainMapオブジェクト\n",
    "d1 = {\"first\": \"keita\", \"last\": \"midorikawa\", \"age\": \"25\"}\n",
    "d2 = {\"year\": \"1990\", \"month\": \"12\", \"day\": \"25\", \"first\": \"k-ta\"}\n",
    "chain = collections.ChainMap(d1, d2)\n",
    "print(chain)\n",
    "print(chain[\"first\"])"
   ]
  },
  {
   "cell_type": "code",
   "execution_count": 14,
   "metadata": {
    "collapsed": false
   },
   "outputs": [
    {
     "name": "stdout",
     "output_type": "stream",
     "text": [
      "takuji\n",
      "midorikawa keita\n"
     ]
    }
   ],
   "source": [
    "# ChainMapの更新と追加\n",
    "chain[\"first\"] = \"takuji\"  # 辞書を更新\n",
    "chain[\"name\"] = \"midorikawa keita\"  # 辞書を追加\n",
    "print(chain[\"first\"])\n",
    "print(chain[\"name\"])"
   ]
  },
  {
   "cell_type": "code",
   "execution_count": 15,
   "metadata": {
    "collapsed": false
   },
   "outputs": [
    {
     "name": "stdout",
     "output_type": "stream",
     "text": [
      "ChainMap({}, {'first': 'k-ta', 'month': '12', 'day': '25', 'year': '1990'})\n",
      "{}\n",
      "{'first': 'k-ta', 'month': '12', 'day': '25', 'year': '1990'}\n"
     ]
    }
   ],
   "source": [
    "# 辞書d1をクリア\n",
    "chain.clear()\n",
    "print(chain)\n",
    "print(d1)\n",
    "print(d2)"
   ]
  },
  {
   "cell_type": "code",
   "execution_count": 16,
   "metadata": {
    "collapsed": false
   },
   "outputs": [
    {
     "name": "stdout",
     "output_type": "stream",
     "text": [
      "[{'first': 'keita', 'last': 'midorikawa', 'age': '25'}, {'first': 'k-ta', 'month': '12', 'day': '25', 'year': '1990'}]\n"
     ]
    }
   ],
   "source": [
    "d1 = {\"first\": \"keita\", \"last\": \"midorikawa\", \"age\": \"25\"}\n",
    "d2 = {\"year\": \"1990\", \"month\": \"12\", \"day\": \"25\", \"first\": \"k-ta\"}\n",
    "chain = collections.ChainMap(d1, d2)\n",
    "# collections.ChainMapのアトリビュート\n",
    "# map\n",
    "# text : 登録されたマッピングオブジェクトをリストで返す\n",
    "print(chain.maps)"
   ]
  },
  {
   "cell_type": "code",
   "execution_count": 17,
   "metadata": {
    "collapsed": false
   },
   "outputs": [
    {
     "name": "stdout",
     "output_type": "stream",
     "text": [
      "ChainMap({'first': 'k-ta', 'month': '12', 'day': '25', 'year': '1990'})\n"
     ]
    }
   ],
   "source": [
    "# collections.ChainMapのアトリビュート\n",
    "# parents\n",
    "# text : 先頭に登録されたマッピングオブジェクト以外のマッピングオブジェクトを要素とする、新しいChainMapオブジェクトを作成する。\n",
    "# return : ChainMapオブジェクト\n",
    "new_chain = chain.parents\n",
    "print(new_chain)"
   ]
  },
  {
   "cell_type": "code",
   "execution_count": 18,
   "metadata": {
    "collapsed": false
   },
   "outputs": [
    {
     "name": "stdout",
     "output_type": "stream",
     "text": [
      "ChainMap({'greet': 'Hello!'}, {'first': 'keita', 'last': 'midorikawa', 'age': '25'}, {'first': 'k-ta', 'month': '12', 'day': '25', 'year': '1990'})\n"
     ]
    }
   ],
   "source": [
    "# collections.ChainMapのメソッド\n",
    "# new_child(m=None)\n",
    "# text : 引数m(mapping)ト登録されたすべてのマッピングオブジェクトを要素とする新しいChainMapオブジェクトを作成する。\n",
    "# param : m - mapping\n",
    "# return : ChainMapオブジェクト\n",
    "d3 = dict(greet=\"Hello!\")\n",
    "new_chain = chain.new_child(d3)\n",
    "print(new_chain)"
   ]
  },
  {
   "cell_type": "code",
   "execution_count": 19,
   "metadata": {
    "collapsed": true
   },
   "outputs": [],
   "source": [
    "#########################################################\n",
    "# 登録順を保存する辞書(collections.OrderdDict)\n",
    "#########################################################\n",
    "import collections"
   ]
  },
  {
   "cell_type": "code",
   "execution_count": 20,
   "metadata": {
    "collapsed": false
   },
   "outputs": [
    {
     "name": "stdout",
     "output_type": "stream",
     "text": [
      "{'k3': 'midorikawa', 'k1': 'midorikawa keita', 'k4': '25', 'k2': 'keita'}\n",
      "k3 : midorikawa\n",
      "k1 : midorikawa keita\n",
      "k4 : 25\n",
      "k2 : keita\n"
     ]
    }
   ],
   "source": [
    "# 通常のdict型では登録した順序は保存されない\n",
    "sample_dict = dict(k1=\"midorikawa keita\", k2=\"keita\", k3=\"midorikawa\", k4=\"25\")\n",
    "print(sample_dict)\n",
    "for i in sample_dict:\n",
    "    print(\"{key} : {value}\".format(key=i, value=sample_dict[i]))"
   ]
  },
  {
   "cell_type": "code",
   "execution_count": 21,
   "metadata": {
    "collapsed": false
   },
   "outputs": [
    {
     "name": "stdout",
     "output_type": "stream",
     "text": [
      "OrderedDict([('1', 'midorikawa keita'), ('2', 'keita'), ('3', 'midorikawa'), ('4', '25')])\n",
      "1 : midorikawa keita\n",
      "2 : keita\n",
      "3 : midorikawa\n",
      "4 : 25\n"
     ]
    }
   ],
   "source": [
    "# collections.OrderedDict([(key1, value1), (key2, value2), ...])\n",
    "# text : 要素を登録した順番を記録して、要素の一覧は常に登録された順番で取得する。\n",
    "# param : keyとvalueのタプルのリスト\n",
    "# return : OrderedDictオブジェクト\n",
    "odict = collections.OrderedDict([(\"1\", \"midorikawa keita\"), (\"2\", \"keita\"), (\"3\", \"midorikawa\"), (\"4\", \"25\")])\n",
    "print(odict)\n",
    "for i in odict:\n",
    "    print(\"{key} : {value}\".format(key=i, value=odict[i]))"
   ]
  },
  {
   "cell_type": "code",
   "execution_count": 22,
   "metadata": {
    "collapsed": false
   },
   "outputs": [
    {
     "name": "stdout",
     "output_type": "stream",
     "text": [
      "OrderedDict([('k3', 'midorikawa'), ('k1', 'midorikawa keita'), ('k4', '25'), ('k2', 'keita')])\n",
      "OrderedDict([('k3', 'midorikawa'), ('k1', 'midorikawa keita'), ('k2', 'keita'), ('k4', '25')])\n"
     ]
    }
   ],
   "source": [
    "# 下記のやり方では順番は保存されない\n",
    "odict2 = collections.OrderedDict(k1=\"midorikawa keita\", k2=\"keita\", k3=\"midorikawa\", k4=\"25\")\n",
    "print(odict2)\n",
    "odict3 = collections.OrderedDict({'k1': 'midorikawa keita', 'k2': 'keita', 'k3': 'midorikawa', 'k4': '25'})\n",
    "print(odict3)"
   ]
  },
  {
   "cell_type": "code",
   "execution_count": 23,
   "metadata": {
    "collapsed": false
   },
   "outputs": [
    {
     "name": "stdout",
     "output_type": "stream",
     "text": [
      "OrderedDict([('1', 'midorikawa keita'), ('2', 'keita'), ('3', 'midorikawa'), ('4', '25')])\n",
      "OrderedDict([('1', 'midorikawa keita'), ('2', 'keita'), ('3', 'midorikawa')])\n",
      "('4', '25')\n",
      "OrderedDict([('2', 'keita'), ('3', 'midorikawa')])\n",
      "('1', 'midorikawa keita')\n"
     ]
    }
   ],
   "source": [
    "# OrderedDictオブジェクトのメソッド\n",
    "# popitem(last=True)\n",
    "# text : lastがTrueの場合は、最後に登録した要素を辞書から削除して返す。lastがTrueでなければ、最初に登録した要素を辞書から削除して返す。\n",
    "# param : last - bool\n",
    "# retrun : 削除したOrderedDictオブジェクト\n",
    "odict = collections.OrderedDict([(\"1\", \"midorikawa keita\"), (\"2\", \"keita\"), (\"3\", \"midorikawa\"), (\"4\", \"25\")])\n",
    "print(odict)\n",
    "ret = odict.popitem(last=True)\n",
    "print(odict)\n",
    "print(ret)\n",
    "ret = odict.popitem(last=False)\n",
    "print(odict)\n",
    "print(ret)"
   ]
  },
  {
   "cell_type": "code",
   "execution_count": 24,
   "metadata": {
    "collapsed": false
   },
   "outputs": [
    {
     "name": "stdout",
     "output_type": "stream",
     "text": [
      "OrderedDict([('1', 'midorikawa keita'), ('2', 'keita'), ('3', 'midorikawa'), ('4', '25')])\n",
      "OrderedDict([('2', 'keita'), ('3', 'midorikawa'), ('4', '25'), ('1', 'midorikawa keita')])\n",
      "OrderedDict([('4', '25'), ('2', 'keita'), ('3', 'midorikawa'), ('1', 'midorikawa keita')])\n"
     ]
    }
   ],
   "source": [
    "# OrderedDictオブジェクトのメソッド\n",
    "# move_to_end(key, last=True)\n",
    "# text : lastがTrueであれば指定したキーを末尾に移動する。lastがTrueでなければ、指定したキーを先頭に移動する。\n",
    "# param : key - 要素のkey, last - bool\n",
    "# retrun : なし\n",
    "odict = collections.OrderedDict([(\"1\", \"midorikawa keita\"), (\"2\", \"keita\"), (\"3\", \"midorikawa\"), (\"4\", \"25\")])\n",
    "print(odict)\n",
    "odict.move_to_end(\"1\", last=True)\n",
    "print(odict)\n",
    "odict.move_to_end(\"4\", last=False)\n",
    "print(odict)"
   ]
  },
  {
   "cell_type": "code",
   "execution_count": 25,
   "metadata": {
    "collapsed": false
   },
   "outputs": [],
   "source": [
    "#########################################################\n",
    "# タプルを構造体として利用する(collections.namedtuple)\n",
    "#########################################################\n",
    "import collections"
   ]
  },
  {
   "cell_type": "code",
   "execution_count": 26,
   "metadata": {
    "collapsed": false
   },
   "outputs": [
    {
     "name": "stdout",
     "output_type": "stream",
     "text": [
      "subclass_name(x=100, y=50, z=200)\n"
     ]
    }
   ],
   "source": [
    "# collections.namedtuple(typename, field_names, verbose=False, rename=False)\n",
    "# text : タプルの各要素にkeyをもたせることができる\n",
    "# param : typename - 作成するtupleの新しいサブクラスの名前, field_names - タプルの各要素名を指定する(seq-or-カンマ区切りのstr)\n",
    "# param2 : verbose - クラスを定義するスクリプトを出力, rename - Trueの時、不正な要素名を自動的に正しい名前に変更する\n",
    "# return : namedtupleオブジェクト\n",
    "Coordinate = collections.namedtuple(typename=\"subclass_name\", field_names=\"x, y, z\")\n",
    "c = Coordinate(100, 50, 200)\n",
    "print(c)"
   ]
  },
  {
   "cell_type": "code",
   "execution_count": 27,
   "metadata": {
    "collapsed": false
   },
   "outputs": [
    {
     "name": "stdout",
     "output_type": "stream",
     "text": [
      "<class '__main__.subclass_name'>\n",
      "subclass_name(x=100, y=200, z=300)\n",
      "100\n",
      "200\n",
      "\n",
      "100\n",
      "200\n",
      "300\n"
     ]
    }
   ],
   "source": [
    "NewTupleClass = collections.namedtuple(\"subclass_name\", [\"x\", \"y\", \"z\"])\n",
    "c2 = NewTupleClass(100, 200, 300)\n",
    "print(type(c2))\n",
    "print(c2)\n",
    "print(c2.x)\n",
    "print(c2[1], end=\"\\n\\n\")\n",
    "for i in c2:\n",
    "    print(i)"
   ]
  },
  {
   "cell_type": "code",
   "execution_count": 28,
   "metadata": {
    "collapsed": true
   },
   "outputs": [],
   "source": [
    "#########################################################\n",
    "# 両端リストを利用する(collections.deque)\n",
    "#########################################################\n",
    "import collections"
   ]
  },
  {
   "cell_type": "code",
   "execution_count": 42,
   "metadata": {
    "collapsed": false
   },
   "outputs": [
    {
     "name": "stdout",
     "output_type": "stream",
     "text": [
      "deque(['s', 'p', 'a', 'm'])\n",
      "deque(['s', 'p', 'a', 'm'])\n",
      "deque([1, 2, 3, 4, 5, 6, 7, 8, 9, 10])\n"
     ]
    }
   ],
   "source": [
    "# collections.deque(iterable, [maxlen])\n",
    "# text : 両端キューと呼ばれるデータ構造で、キューの先頭と末尾への追加や削除はデータ数によらず一定の速度でできる。\n",
    "# text : スライスはサポートしてない。list()のような使い方ができる\n",
    "# param : iterable - dequeの初期値を指定する\n",
    "# param2 : maxlen - dequeの最大要素数を指定する。最大要素数以上になると先頭または末尾の要素が削除される。\n",
    "# dequeオブジェクト\n",
    "deq = collections.deque(\"spam\")\n",
    "print(deq)\n",
    "deq2 = collections.deque([\"s\", \"p\", \"a\", \"m\"])\n",
    "print(deq2)\n",
    "deq3 = collections.deque(range(1,11))\n",
    "print(deq3)"
   ]
  },
  {
   "cell_type": "code",
   "execution_count": 43,
   "metadata": {
    "collapsed": false
   },
   "outputs": [
    {
     "name": "stdout",
     "output_type": "stream",
     "text": [
      "deque(['s', 'p', 'a', 'm', 's'])\n"
     ]
    }
   ],
   "source": [
    "# collections.dequeのメソッド\n",
    "# append(x)\n",
    "# text : dequeの末尾に追加する\n",
    "# param : x - 何でも\n",
    "# return : なし\n",
    "deq.append(\"s\")\n",
    "print(deq)"
   ]
  },
  {
   "cell_type": "code",
   "execution_count": 44,
   "metadata": {
    "collapsed": false
   },
   "outputs": [
    {
     "name": "stdout",
     "output_type": "stream",
     "text": [
      "deque(['s', 's', 'p', 'a', 'm', 's'])\n"
     ]
    }
   ],
   "source": [
    "# collections.dequeのメソッド\n",
    "# appendleft(x)\n",
    "# text : dequeの先頭に追加する\n",
    "# param : x - 何でも\n",
    "# return : なし\n",
    "deq.appendleft(\"s\")\n",
    "print(deq)"
   ]
  },
  {
   "cell_type": "code",
   "execution_count": 45,
   "metadata": {
    "collapsed": false
   },
   "outputs": [
    {
     "name": "stdout",
     "output_type": "stream",
     "text": [
      "deque(['s', 's', 'p', 'a', 'm', 's', 'h', 'a', 'm'])\n"
     ]
    }
   ],
   "source": [
    "# collections.dequeのメソッド\n",
    "# extend(iterable)\n",
    "# text : dequeの末尾にリストなどのiterableオブジェクトを追加する\n",
    "# param : iterable - listなど\n",
    "# return : なし\n",
    "deq.extend([\"h\", \"a\", \"m\"])\n",
    "print(deq)"
   ]
  },
  {
   "cell_type": "code",
   "execution_count": 46,
   "metadata": {
    "collapsed": false
   },
   "outputs": [
    {
     "name": "stdout",
     "output_type": "stream",
     "text": [
      "deque(['e', 'g', 'g', 's', 's', 'p', 'a', 'm', 's', 'h', 'a', 'm'])\n"
     ]
    }
   ],
   "source": [
    "# collections.dequeのメソッド\n",
    "# extendleft(iterable)\n",
    "# text : dequeの先頭にリストなどのiterableオブジェクトを追加する。\n",
    "# text2 : 先頭から順に登録していくため、引数にとったオブジェクトとは逆の順序でdequeに格納される。\n",
    "# param : iterable - listなど\n",
    "# return : なし\n",
    "deq.extendleft([\"g\", \"g\", \"e\"])\n",
    "print(deq)"
   ]
  },
  {
   "cell_type": "code",
   "execution_count": 47,
   "metadata": {
    "collapsed": false
   },
   "outputs": [
    {
     "name": "stdout",
     "output_type": "stream",
     "text": [
      "deque(['e', 'g', 'g', 's', 's', 'p', 'a', 'm', 's', 'h', 'a'])\n",
      "m\n"
     ]
    }
   ],
   "source": [
    "# collections.dequeのメソッド\n",
    "# pop()\n",
    "# text : dequeから末尾の値を取り除き、その値を返す。要素が存在しない場合はIndexError\n",
    "# return : 取り除いたdequeオブジェクト\n",
    "deq_r = deq.pop()\n",
    "print(deq)\n",
    "print(deq_r)"
   ]
  },
  {
   "cell_type": "code",
   "execution_count": 48,
   "metadata": {
    "collapsed": false
   },
   "outputs": [
    {
     "name": "stdout",
     "output_type": "stream",
     "text": [
      "deque(['g', 'g', 's', 's', 'p', 'a', 'm', 's', 'h', 'a'])\n",
      "e\n"
     ]
    }
   ],
   "source": [
    "# collections.dequeのメソッド\n",
    "# popleft()\n",
    "# text : dequeから先頭の値を取り除き、その値を返す。要素が存在しない場合はIndexError\n",
    "# return : 取り除いたdequeオブジェクト\n",
    "deq_r = deq.popleft()\n",
    "print(deq)\n",
    "print(deq_r)"
   ]
  },
  {
   "cell_type": "code",
   "execution_count": 50,
   "metadata": {
    "collapsed": false
   },
   "outputs": [
    {
     "name": "stdout",
     "output_type": "stream",
     "text": [
      "[0, 1, 2, 3, 4] 2.0\n",
      "[1, 2, 3, 4, 5] 3.0\n",
      "[2, 3, 4, 5, 6] 4.0\n",
      "[3, 4, 5, 6, 7] 5.0\n",
      "[4, 5, 6, 7, 8] 6.0\n",
      "[5, 6, 7, 8, 9] 7.0\n"
     ]
    }
   ],
   "source": [
    "# 応用 : 移動平均の算出\n",
    "import statistics\n",
    "deq = collections.deque(maxlen=5)\n",
    "for i in range(10):\n",
    "    deq.append(i)\n",
    "    if len(deq) >=5:\n",
    "        print(list(deq), statistics.mean(deq))"
   ]
  },
  {
   "cell_type": "code",
   "execution_count": 5,
   "metadata": {
    "collapsed": false
   },
   "outputs": [
    {
     "name": "stdout",
     "output_type": "stream",
     "text": [
      "deque([5, 1, 2, 3, 4])\n",
      "deque([2, 3, 4, 5, 1])\n"
     ]
    }
   ],
   "source": [
    "# rotate(n)\n",
    "# text : dequeオブジェクトを回転する。正の整数の場合は右方向、府の整数の場合は左方向\n",
    "# param : int\n",
    "# retun : なし\n",
    "deq = collections.deque([1,2,3,4,5])\n",
    "deq.rotate(1)\n",
    "print(deq)\n",
    "deq.rotate(-2)\n",
    "print(deq)"
   ]
  },
  {
   "cell_type": "code",
   "execution_count": 1,
   "metadata": {
    "collapsed": true
   },
   "outputs": [],
   "source": [
    "######################################\n",
    "# オブジェクトを整形して出力\n",
    "######################################\n",
    "import pprint"
   ]
  },
  {
   "cell_type": "code",
   "execution_count": 2,
   "metadata": {
    "collapsed": false
   },
   "outputs": [
    {
     "name": "stdout",
     "output_type": "stream",
     "text": [
      "{'blog': {'category': ['旅行', '温泉', 'ドライブ'],\n",
      "          'name': 'SYNCER',\n",
      "          'published': '2014-06-10'},\n",
      " 'gender': '男',\n",
      " 'name': 'あらゆ'}\n"
     ]
    }
   ],
   "source": [
    "# pprint(object, stream=None, indent=1, width=80, depth=None)\n",
    "# text : オブジェクトを整形して出力する\n",
    "# param : object - 出力するオブジェクトを指定する, stream - 出力先のオブジェクトを指定する\n",
    "# param2 : indent - ネストしたオブジェクトの子要素を出力するときのインデントカラム数\n",
    "# param3 : width : 出力幅\n",
    "# depth : ネストしたオブジェクトを出力する際の最大レベル\n",
    "sample = {\"name\": \"あらゆ\",\"gender\": \"男\",\"blog\": {\"name\": \"SYNCER\",\"published\": \"2014-06-10\",\"category\": [\"旅行\",\"温泉\",\"ドライブ\"]}}\n",
    "pprint.pprint(sample)"
   ]
  },
  {
   "cell_type": "code",
   "execution_count": null,
   "metadata": {
    "collapsed": true
   },
   "outputs": [],
   "source": []
  }
 ],
 "metadata": {
  "kernelspec": {
   "display_name": "Python 3",
   "language": "python",
   "name": "python3"
  },
  "language_info": {
   "codemirror_mode": {
    "name": "ipython",
    "version": 3
   },
   "file_extension": ".py",
   "mimetype": "text/x-python",
   "name": "python",
   "nbconvert_exporter": "python",
   "pygments_lexer": "ipython3",
   "version": "3.5.1+"
  }
 },
 "nbformat": 4,
 "nbformat_minor": 0
}
