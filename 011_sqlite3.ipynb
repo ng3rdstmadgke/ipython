{
 "cells": [
  {
   "cell_type": "code",
   "execution_count": 18,
   "metadata": {
    "collapsed": false
   },
   "outputs": [
    {
     "data": {
      "text/plain": [
       "<sqlite3.Cursor at 0x7fe2f057bb90>"
      ]
     },
     "execution_count": 18,
     "metadata": {},
     "output_type": "execute_result"
    }
   ],
   "source": [
    "import sqlite3\n",
    "# コネクションを作成(DBファイル名を:memory:とすると、メモリ上にDBを作成する)\n",
    "con = sqlite3.connect(\":memory:\")\n",
    "# カーソルを作成\n",
    "cur = con.cursor()\n",
    "\n",
    "# テーブルを作成\n",
    "cur.execute(\"create table sample(id integer primary key, name text)\")"
   ]
  },
  {
   "cell_type": "code",
   "execution_count": 19,
   "metadata": {
    "collapsed": false
   },
   "outputs": [],
   "source": [
    "# データを挿入\n",
    "cur.execute(\"insert into sample (name) values ('mido'),('kane')\")\n",
    "# プレースホルダーを使用する\n",
    "sql = \"insert into sample (name) values (?)\"\n",
    "cur.execute(sql, [\"misa\"])\n",
    "# 操作をコミットする\n",
    "con.commit()\n",
    "\n",
    "# ロールバック\n",
    "cur.execute(\"insert into sample (name) values ('kino'),('tomi')\")\n",
    "con.rollback()"
   ]
  },
  {
   "cell_type": "code",
   "execution_count": 20,
   "metadata": {
    "collapsed": false
   },
   "outputs": [
    {
     "name": "stdout",
     "output_type": "stream",
     "text": [
      "[(1, 'mido'), (2, 'kane'), (3, 'misa')]\n",
      "(1, 'mido')\n"
     ]
    }
   ],
   "source": [
    "# 値を全て取得\n",
    "cur.execute(\"select * from sample\")\n",
    "all_data = cur.fetchall()\n",
    "print(all_data)\n",
    "\n",
    "# 最初のひとつだけ取得\n",
    "cur.execute(\"select * from sample\")\n",
    "one_data = cur.fetchone()\n",
    "print(one_data)\n",
    "\n",
    "# カーソルとコネクションを閉じる\n",
    "cur.close()\n",
    "con.close()"
   ]
  },
  {
   "cell_type": "code",
   "execution_count": null,
   "metadata": {
    "collapsed": true
   },
   "outputs": [],
   "source": []
  }
 ],
 "metadata": {
  "kernelspec": {
   "display_name": "Python 3",
   "language": "python",
   "name": "python3"
  },
  "language_info": {
   "codemirror_mode": {
    "name": "ipython",
    "version": 3
   },
   "file_extension": ".py",
   "mimetype": "text/x-python",
   "name": "python",
   "nbconvert_exporter": "python",
   "pygments_lexer": "ipython3",
   "version": "3.5.1+"
  }
 },
 "nbformat": 4,
 "nbformat_minor": 0
}
