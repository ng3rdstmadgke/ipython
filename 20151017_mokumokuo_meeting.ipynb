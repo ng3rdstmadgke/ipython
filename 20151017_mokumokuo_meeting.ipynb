{
 "cells": [
  {
   "cell_type": "code",
   "execution_count": 1,
   "metadata": {
    "collapsed": false
   },
   "outputs": [],
   "source": [
    "import sqlalchemy as sq\n",
    "import sqlalchemy.orm\n",
    "import sqlalchemy.ext.declarative"
   ]
  },
  {
   "cell_type": "code",
   "execution_count": 2,
   "metadata": {
    "collapsed": false
   },
   "outputs": [],
   "source": [
    "engine = sq.create_engine(\"sqlite:///:memory:\",echo=False)\n",
    "Base = sqlalchemy.ext.declarative.declarative_base()\n",
    "class Data(Base):\n",
    "    __tablename__=\"data\"\n",
    "    id = sq.Column(sq.Integer,primary_key=True)\n",
    "    name = sq.Column(sq.String)\n",
    "    age = sq.Column(sq.Integer)\n",
    "    \n",
    "class Test(Base):\n",
    "    __tablename__=\"test\"\n",
    "    id = sq.Column(sq.Integer, primary_key=True)\n",
    "    num = sq.Column(sq.Integer)\n",
    "    point = sq.Column(sq.Integer)\n",
    "\n",
    "Base.metadata.create_all(engine)\n",
    "pre_session = sqlalchemy.orm.sessionmaker(bind=engine)\n",
    "session = pre_session()"
   ]
  },
  {
   "cell_type": "code",
   "execution_count": 3,
   "metadata": {
    "collapsed": false
   },
   "outputs": [],
   "source": [
    "session.add_all([Data(name=\"midorikawa\", age=24),\n",
    "               Data(name=\"suzuki\", age=23),\n",
    "               Data(name=\"tamura\", age=20)])\n",
    "session.add_all([Test(num=1, point=100),\n",
    "                 Test(num=2, point=98),\n",
    "                 Test(num=4, point=50),\n",
    "                 Test(num=3, point=80)])"
   ]
  },
  {
   "cell_type": "code",
   "execution_count": 4,
   "metadata": {
    "collapsed": true
   },
   "outputs": [],
   "source": [
    "session.commit()"
   ]
  },
  {
   "cell_type": "code",
   "execution_count": 5,
   "metadata": {
    "collapsed": false
   },
   "outputs": [
    {
     "name": "stdout",
     "output_type": "stream",
     "text": [
      "1 1 100\n",
      "2 2 98\n",
      "3 4 50\n",
      "4 3 80\n",
      "1 midorikawa 24\n",
      "2 suzuki 23\n",
      "3 tamura 20\n"
     ]
    }
   ],
   "source": [
    "t = session.query(Test)\n",
    "for i in t:\n",
    "    print(i.id, i.num, i.point)\n",
    "s = session.query(Data)\n",
    "for i in s:\n",
    "    print(i.id, i.name, i.age)"
   ]
  },
  {
   "cell_type": "code",
   "execution_count": 6,
   "metadata": {
    "collapsed": true
   },
   "outputs": [],
   "source": [
    "age_23 = session.query(Data).filter(Data.age == 23).first()"
   ]
  },
  {
   "cell_type": "code",
   "execution_count": 7,
   "metadata": {
    "collapsed": false
   },
   "outputs": [
    {
     "name": "stdout",
     "output_type": "stream",
     "text": [
      "2 suzuki 23\n"
     ]
    }
   ],
   "source": [
    "print(age_23.id, age_23.name, age_23.age)"
   ]
  },
  {
   "cell_type": "code",
   "execution_count": 8,
   "metadata": {
    "collapsed": false
   },
   "outputs": [
    {
     "name": "stdout",
     "output_type": "stream",
     "text": [
      "1 1 100\n"
     ]
    }
   ],
   "source": [
    "num_1 =session.query(Test).filter(Test.num == 1).first()\n",
    "print(num_1.id, num_1.num, num_1.point)"
   ]
  },
  {
   "cell_type": "code",
   "execution_count": 9,
   "metadata": {
    "collapsed": false
   },
   "outputs": [
    {
     "name": "stdout",
     "output_type": "stream",
     "text": [
      "2 2 98\n",
      "3 4 50\n",
      "4 3 80\n"
     ]
    }
   ],
   "source": [
    "up = session.query(Test).filter(Test.num >= 2)\n",
    "for i in up:\n",
    "    print(i.id, i.num, i.point)"
   ]
  },
  {
   "cell_type": "code",
   "execution_count": 10,
   "metadata": {
    "collapsed": true
   },
   "outputs": [],
   "source": [
    "update = session.query(Data).filter(Data.id == 1).first()\n",
    "update.name = \"makoto\"\n",
    "update.age = 15"
   ]
  },
  {
   "cell_type": "code",
   "execution_count": 11,
   "metadata": {
    "collapsed": true
   },
   "outputs": [],
   "source": [
    "session.commit()"
   ]
  },
  {
   "cell_type": "code",
   "execution_count": 12,
   "metadata": {
    "collapsed": false
   },
   "outputs": [
    {
     "name": "stdout",
     "output_type": "stream",
     "text": [
      "1 1 100\n",
      "2 2 98\n",
      "3 4 50\n",
      "4 3 80\n",
      "1 makoto 15\n",
      "2 suzuki 23\n",
      "3 tamura 20\n"
     ]
    }
   ],
   "source": [
    "t = session.query(Test)\n",
    "for i in t:\n",
    "    print(i.id, i.num, i.point)\n",
    "s = session.query(Data)\n",
    "for i in s:\n",
    "    print(i.id, i.name, i.age)"
   ]
  },
  {
   "cell_type": "code",
   "execution_count": null,
   "metadata": {
    "collapsed": true
   },
   "outputs": [],
   "source": []
  }
 ],
 "metadata": {
  "kernelspec": {
   "display_name": "Python 3",
   "language": "python",
   "name": "python3"
  },
  "language_info": {
   "codemirror_mode": {
    "name": "ipython",
    "version": 3
   },
   "file_extension": ".py",
   "mimetype": "text/x-python",
   "name": "python",
   "nbconvert_exporter": "python",
   "pygments_lexer": "ipython3",
   "version": "3.4.3"
  }
 },
 "nbformat": 4,
 "nbformat_minor": 0
}
