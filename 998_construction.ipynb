{
 "cells": [
  {
   "cell_type": "code",
   "execution_count": 5,
   "metadata": {
    "collapsed": false
   },
   "outputs": [
    {
     "name": "stdout",
     "output_type": "stream",
     "text": [
      "[0, 1, 2, 3, 4, 5, 6]\n",
      "[2, 4, 6]\n"
     ]
    }
   ],
   "source": [
    "# ===================================\n",
    "# 内包表記\n",
    "# ==================================="
   ]
  },
  {
   "cell_type": "code",
   "execution_count": null,
   "metadata": {
    "collapsed": true
   },
   "outputs": [],
   "source": [
    "# リスト内包表記\n",
    "\n",
    "# 基本形\n",
    "number_list = [i for i in range(7)]\n",
    "print(number_list)\n",
    "\n",
    "# 条件式つき\n",
    "number_list = [i for i in range(7) if i % 2 == 0 and i != 0]\n",
    "print(number_list)"
   ]
  },
  {
   "cell_type": "code",
   "execution_count": 13,
   "metadata": {
    "collapsed": false
   },
   "outputs": [
    {
     "name": "stdout",
     "output_type": "stream",
     "text": [
      "{'c': 2, 'b': 2, 'e': 1, 'd': 1, 'a': 2}\n"
     ]
    }
   ],
   "source": [
    "# 辞書内包表記\n",
    "al = \"abcdeabc\"\n",
    "alnum_dict = {i: al.count(i) for i in al}\n",
    "print(alnum_dict)"
   ]
  },
  {
   "cell_type": "code",
   "execution_count": 15,
   "metadata": {
    "collapsed": false
   },
   "outputs": [
    {
     "name": "stdout",
     "output_type": "stream",
     "text": [
      "{8, 2, 4, 6}\n"
     ]
    }
   ],
   "source": [
    "# 集合内包表記\n",
    "a_set = {i for i in range(10) if i % 2 == 0 and i !=0}\n",
    "print(a_set)"
   ]
  },
  {
   "cell_type": "code",
   "execution_count": 17,
   "metadata": {
    "collapsed": false
   },
   "outputs": [
    {
     "name": "stdout",
     "output_type": "stream",
     "text": [
      "<class 'generator'>\n",
      "[1, 2, 3, 4, 5, 6, 7, 8, 9, 10]\n",
      "[]\n"
     ]
    }
   ],
   "source": [
    "# ジェネレータ内包表記\n",
    "number_thing = (i for i in range(1,11))\n",
    "print(type(number_thing))\n",
    "\n",
    "print(list(number_thing))\n",
    "print(list(number_thing))"
   ]
  },
  {
   "cell_type": "code",
   "execution_count": 18,
   "metadata": {
    "collapsed": true
   },
   "outputs": [],
   "source": [
    "# タプルの内包表記は存在しない"
   ]
  },
  {
   "cell_type": "code",
   "execution_count": null,
   "metadata": {
    "collapsed": true
   },
   "outputs": [],
   "source": [
    "# ===================================\n",
    "# 関数\n",
    "# ==================================="
   ]
  },
  {
   "cell_type": "code",
   "execution_count": 3,
   "metadata": {
    "collapsed": false
   },
   "outputs": [
    {
     "data": {
      "text/plain": [
       "'We are the knights who say: Ni!'"
      ]
     },
     "execution_count": 3,
     "metadata": {},
     "output_type": "execute_result"
    }
   ],
   "source": [
    "# 関数内関数\n",
    "# ===================================\n",
    "# 関数を他の関数の中で定義する。ループやコードの重複を避けるために役立つ\n",
    "def knights(saying):\n",
    "    def inner(quote):\n",
    "        return \"We are the knights who say: {}\".format(quote)\n",
    "    return inner(saying)\n",
    "knights(\"Ni!\")"
   ]
  },
  {
   "cell_type": "code",
   "execution_count": 5,
   "metadata": {
    "collapsed": false
   },
   "outputs": [
    {
     "name": "stdout",
     "output_type": "stream",
     "text": [
      "<class 'function'> We are the knights who say: Hello\n",
      "<class 'function'> We are the knights who say: World\n"
     ]
    }
   ],
   "source": [
    "# クロージャー\n",
    "# ===================================\n",
    "# 他の関数によって動的に生成される関数。関数の外で作られた変数の値を覚えておいたり、変えたりすることができる\n",
    "# 先ほどとの違いは2点\n",
    "# 1. innerは引数を要求せず、外側の関数に対するsaying引数を直接扱う\n",
    "# 2. innerを呼び出すのではなく、その関数名を返す\n",
    "def knights(saying):\n",
    "    def inner():\n",
    "        return \"We are the knights who say: {}\".format(saying)\n",
    "    return inner\n",
    "\n",
    "a = knights(\"Hello\")\n",
    "b = knights(\"World\")\n",
    "print(type(a), a())\n",
    "print(type(b), b())\n",
    "# aとbは自分たちが作られるときに使われていたsayingの内容を覚えている"
   ]
  },
  {
   "cell_type": "code",
   "execution_count": 8,
   "metadata": {
    "collapsed": false
   },
   "outputs": [
    {
     "name": "stdout",
     "output_type": "stream",
     "text": [
      "Spam!\n",
      "Ham!\n",
      "Egg!\n",
      "Spam!\n",
      "Ham!\n",
      "Egg!\n"
     ]
    }
   ],
   "source": [
    "# 無名関数・ラムダ\n",
    "# ===================================\n",
    "# ラムダ関数とはひとつの文で表現される無名関数\n",
    "words = [\"spam\", \"ham\", \"egg\"]\n",
    "def edit_story(words, func):\n",
    "    for word in words:\n",
    "        print(func(word))\n",
    "\n",
    "# ラムダを使わない例\n",
    "def enliven(word):\n",
    "    return word.capitalize() + \"!\"\n",
    "\n",
    "edit_story(words, enliven)\n",
    "\n",
    "# ラムダを使用\n",
    "# lambda <引数>: <return値>\n",
    "edit_story(words, lambda word: word.capitalize() + \"!\")"
   ]
  },
  {
   "cell_type": "code",
   "execution_count": 1,
   "metadata": {
    "collapsed": false
   },
   "outputs": [
    {
     "name": "stdout",
     "output_type": "stream",
     "text": [
      "<generator object my_range at 0x7f467d7a9fc0>\n",
      "1\n",
      "2\n",
      "3\n",
      "4\n"
     ]
    }
   ],
   "source": [
    "# ジェネレータ\n",
    "# ===================================\n",
    "# Pyhonのシーケンスを作成するオブジェクト。\n",
    "# ジェネレータは通常の関数と異なり、値がメモリ上に保存されない。\n",
    "# 呼び出されるたびに値を生成して、その値を返す。最後まで値を生成し終わると終了する。\n",
    "# そのため、ジェネレータは一度しか実行できない。\n",
    "def my_range(first=0, last=10, step=1):\n",
    "    number = first\n",
    "    while number < last:\n",
    "        yield number\n",
    "        number += step\n",
    "\n",
    "ranger = my_range(1,5)\n",
    "print(ranger)\n",
    "\n",
    "# ジェネレータオブジェクトを対象としてforによる反復処理を行うことができる\n",
    "for i in ranger:\n",
    "    print(i)"
   ]
  },
  {
   "cell_type": "code",
   "execution_count": 16,
   "metadata": {
    "collapsed": false
   },
   "outputs": [
    {
     "name": "stdout",
     "output_type": "stream",
     "text": [
      "Running function: add_ints\n",
      "Positional arguments: (5, 3)\n",
      "Keyword arguments: {}\n",
      "Result: 8\n",
      "Running function: add_ints\n",
      "Positional arguments: (5, 8)\n",
      "Keyword arguments: {}\n",
      "Result: 13\n"
     ]
    },
    {
     "data": {
      "text/plain": [
       "13"
      ]
     },
     "execution_count": 16,
     "metadata": {},
     "output_type": "execute_result"
    }
   ],
   "source": [
    "# デコレータ\n",
    "# ===================================\n",
    "# 関数を引数としてとり、前後に処理を加えた別の関数を返す。\n",
    "\n",
    "# デコレータ\n",
    "def document_it(func):\n",
    "    def new_function(*args, **kwargs):\n",
    "        print(\"Running function:\", func.__name__)\n",
    "        print(\"Positional arguments:\", args)\n",
    "        print(\"Keyword arguments:\", kwargs)\n",
    "        result = func(*args, **kwargs)\n",
    "        print(\"Result:\", result)\n",
    "        return result\n",
    "    return new_function\n",
    "\n",
    "\n",
    "#### デコレータを実行1(手動で実行)\n",
    "def add_ints(a, b):\n",
    "    return a + b\n",
    "# new_functionという関数オブジェクトを返す\n",
    "cooler_add_ints = document_it(add_ints)\n",
    "# 関数オブジェクトに()をつけて実行する\n",
    "cooler_add_ints(5, 3)\n",
    "\n",
    "#### デコレータを実行2\n",
    "@document_it\n",
    "def add_ints(a, b):\n",
    "    return a + b\n",
    "\n",
    "add_ints(5, 8)"
   ]
  },
  {
   "cell_type": "code",
   "execution_count": null,
   "metadata": {
    "collapsed": true
   },
   "outputs": [],
   "source": []
  },
  {
   "cell_type": "code",
   "execution_count": 1,
   "metadata": {
    "collapsed": true
   },
   "outputs": [],
   "source": [
    "# 引数\n",
    "# ==================================="
   ]
  },
  {
   "cell_type": "code",
   "execution_count": 24,
   "metadata": {
    "collapsed": false
   },
   "outputs": [
    {
     "name": "stdout",
     "output_type": "stream",
     "text": [
      "id : 1, name: mido, greet: hey\n",
      "id : 1, name: mido, greet: hey\n",
      "id : 1, name: mido, greet: hello\n"
     ]
    }
   ],
   "source": [
    "def student(id, name, greet=\"hello\"):\n",
    "    print(\"id : {}, name: {}, greet: {}\".format(id, name, greet))\n",
    "\n",
    "# 位置引数(仮引数の順番通りに実引数を入力する)\n",
    "student(1, \"mido\", \"hey\")\n",
    "\n",
    "# キーワード引数(仮引数を指定して実引数を入力する)\n",
    "student(name=\"mido\", id=1, greet=\"hey\")\n",
    "    \n",
    "# デフォルト引数\n",
    "student(1, \"mido\")"
   ]
  },
  {
   "cell_type": "code",
   "execution_count": 28,
   "metadata": {
    "collapsed": false
   },
   "outputs": [
    {
     "name": "stdout",
     "output_type": "stream",
     "text": [
      "(1, 'mido', [1, 2])\n",
      "{'id': 1, 'name': 'k-ta', 'point': [1, 2, 3]}\n"
     ]
    }
   ],
   "source": [
    "# 可変長引数\n",
    "# 仮引数に*hogeを取ると、位置引数はhogeにタプルとしてまとめられる。\n",
    "# 仮引数に**hogeを取ると、キーワード引数はhogeにdictとしてまとめられる。\n",
    "def sample(*args, **kwargs):\n",
    "    arg_tuple = args\n",
    "    arg_dict = kwargs\n",
    "    print(arg_tuple)\n",
    "    print(arg_dict)\n",
    "\n",
    "sample(1, \"mido\", [1,2], id=1, name=\"k-ta\", point=[1,2,3])"
   ]
  },
  {
   "cell_type": "code",
   "execution_count": 2,
   "metadata": {
    "collapsed": true
   },
   "outputs": [],
   "source": [
    "# docstring\n",
    "# ==================================="
   ]
  },
  {
   "cell_type": "code",
   "execution_count": 31,
   "metadata": {
    "collapsed": false
   },
   "outputs": [
    {
     "name": "stdout",
     "output_type": "stream",
     "text": [
      "\n",
      "    echoは与えられた引数を表示する\n",
      "    \n"
     ]
    }
   ],
   "source": [
    "# 関数定義のドキュメントを表示する\n",
    "def echo(body):\n",
    "    \"\"\"\n",
    "    echoは与えられた引数を表示する\n",
    "    \"\"\"\n",
    "    print(body)\n",
    "print(echo.__doc__)"
   ]
  },
  {
   "cell_type": "code",
   "execution_count": 9,
   "metadata": {
    "collapsed": false
   },
   "outputs": [],
   "source": [
    "# 名前空間\n",
    "# ===================================\n"
   ]
  },
  {
   "cell_type": "code",
   "execution_count": 10,
   "metadata": {
    "collapsed": false
   },
   "outputs": [
    {
     "name": "stdout",
     "output_type": "stream",
     "text": [
      "fruitbat\n",
      "wombat\n"
     ]
    },
    {
     "name": "stderr",
     "output_type": "stream",
     "text": [
      "<ipython-input-10-c46f744d6b91>:6: SyntaxWarning: name 'animal' is used prior to global declaration\n",
      "  global animal\n"
     ]
    }
   ],
   "source": [
    "### 関数内からグローバル変数を扱う\n",
    "# global <hoge>でローカル名前空間からグローバル変数にアクセスする。\n",
    "animal = \"fruitbat\"\n",
    "def change_global():\n",
    "    print(animal)\n",
    "    global animal\n",
    "    animal = \"wombat\"\n",
    "    print(animal)\n",
    "change_global()"
   ]
  },
  {
   "cell_type": "code",
   "execution_count": 14,
   "metadata": {
    "collapsed": false
   },
   "outputs": [
    {
     "name": "stdout",
     "output_type": "stream",
     "text": [
      "wombat\n",
      "fruitbat\n"
     ]
    }
   ],
   "source": [
    "# local()はローカル名前空間の内容を示す辞書を返す\n",
    "# global()はグローバル名前空間の内容を示す辞書を返す\n",
    "animal = \"fruitbat\"\n",
    "def change_local():\n",
    "    animal = \"wombat\"\n",
    "    print(locals()[\"animal\"])\n",
    "change_local()\n",
    "print(globals()[\"animal\"])"
   ]
  },
  {
   "cell_type": "code",
   "execution_count": null,
   "metadata": {
    "collapsed": true
   },
   "outputs": [],
   "source": []
  }
 ],
 "metadata": {
  "kernelspec": {
   "display_name": "Python 3",
   "language": "python",
   "name": "python3"
  },
  "language_info": {
   "codemirror_mode": {
    "name": "ipython",
    "version": 3
   },
   "file_extension": ".py",
   "mimetype": "text/x-python",
   "name": "python",
   "nbconvert_exporter": "python",
   "pygments_lexer": "ipython3",
   "version": "3.5.1+"
  }
 },
 "nbformat": 4,
 "nbformat_minor": 0
}
