{
 "cells": [
  {
   "cell_type": "code",
   "execution_count": 1,
   "metadata": {
    "collapsed": true
   },
   "outputs": [],
   "source": [
    "########################################\n",
    "# list\n",
    "########################################"
   ]
  },
  {
   "cell_type": "code",
   "execution_count": 4,
   "metadata": {
    "collapsed": false
   },
   "outputs": [
    {
     "name": "stdout",
     "output_type": "stream",
     "text": [
      "[1, 2, 3, 4, 5]\n",
      "[1, 2, 3, 4, 5]\n",
      "[1, 2, 3, 4, 5]\n"
     ]
    }
   ],
   "source": [
    "# リストのコピー\n",
    "# ================\n",
    "# リストはイミュータブルなオブジェクトのため、一度変数に代入したオブジェクトを再び別の変数で参照することはしない\n",
    "sample = [1, 2, 3, 4, 5]\n",
    "print(sample.copy())\n",
    "print(list(sample))\n",
    "print(sample[:])"
   ]
  },
  {
   "cell_type": "code",
   "execution_count": 6,
   "metadata": {
    "collapsed": false
   },
   "outputs": [
    {
     "name": "stdout",
     "output_type": "stream",
     "text": [
      "1 2 3\n",
      "1 2 3\n"
     ]
    }
   ],
   "source": [
    "# リスト・タプルのアンパック\n",
    "# ===========================\n",
    "sample_list = [1,2,3]\n",
    "a, b, c = sample_list\n",
    "print(a, b, c)\n",
    "\n",
    "sample_tuple = (1,2,3)\n",
    "e, f, g = sample_tuple\n",
    "print(e, f, g)"
   ]
  },
  {
   "cell_type": "code",
   "execution_count": 17,
   "metadata": {
    "collapsed": false
   },
   "outputs": [
    {
     "name": "stdout",
     "output_type": "stream",
     "text": [
      "[1, 'two', 'three', 4, 5]\n",
      "[1, 2, 3, 4, 5, 6, 7, 8, 9]\n",
      "[-3, -2, -1, 0, 1, 2, 3, 4, 5]\n",
      "[1, 2, 3, 3, 4, 5]\n"
     ]
    }
   ],
   "source": [
    "# 要素の追加と削除と置換\n",
    "# ======================\n",
    "sample = [1, 2, 3, 4, 5]\n",
    "# スライスを使った要素の置換\n",
    "sample_list = sample.copy()\n",
    "sample_list[1:3] = [\"two\", \"three\"]\n",
    "print(sample_list)\n",
    "\n",
    "# 末尾に要素の追加\n",
    "sample_list = sample.copy()\n",
    "sample_list[5:] = [6, 7, 8, 9]\n",
    "print(sample_list)\n",
    "\n",
    "# 先頭に要素を追加\n",
    "sample_list = sample.copy()\n",
    "sample_list[:0] = [-3, -2, -1, 0]\n",
    "print(sample_list)\n",
    "\n",
    "# リストの間に要素を追加\n",
    "sample_list = sample.copy()\n",
    "sample_list[3:3] = [3]\n",
    "print(sample_list)"
   ]
  },
  {
   "cell_type": "code",
   "execution_count": 11,
   "metadata": {
    "collapsed": false
   },
   "outputs": [
    {
     "name": "stdout",
     "output_type": "stream",
     "text": [
      "[3, 4, 5]\n"
     ]
    }
   ],
   "source": [
    "# スライスを使った要素の削除\n",
    "sample_list = [0, 1, 2, 3, 4, 5]\n",
    "del sample_list[0:3]\n",
    "print(sample_list)"
   ]
  },
  {
   "cell_type": "code",
   "execution_count": 9,
   "metadata": {
    "collapsed": false
   },
   "outputs": [
    {
     "name": "stdout",
     "output_type": "stream",
     "text": [
      "True\n",
      "False\n"
     ]
    }
   ],
   "source": [
    "# inを使った要素の存在確認\n",
    "sample = [1, 2, 3]\n",
    "print(1 in sample)\n",
    "print(5 in sample)"
   ]
  },
  {
   "cell_type": "code",
   "execution_count": 42,
   "metadata": {
    "collapsed": false
   },
   "outputs": [
    {
     "name": "stdout",
     "output_type": "stream",
     "text": [
      "[5, 4, 3, 2, 1, 0]\n",
      "\n",
      "['!', '#', '$', '.', '1', '30', '4', '67', 'There', 'and', 'appear', 'are', 'data', 'many', 'sort', 'there', 'to', 'use', 'ways']\n",
      "\n",
      "['!', '#', '$', '.', '1', '30', '4', '67', 'and', 'appear', 'are', 'data', 'many', 'sort', 'There', 'there', 'to', 'use', 'ways']\n",
      "\n",
      "['ways', 'use', 'to', 'There', 'there', 'sort', 'many', 'data', 'are', 'appear', 'and', '67', '4', '30', '1', '.', '$', '#', '!']\n"
     ]
    }
   ],
   "source": [
    "# sort([key=None[, reverse=None]])\n",
    "# text : リストを並び替える(asciiコード順)。リスト自体を書き換える\n",
    "# param : key - 引数をひとつだけ持つ関数を指定(この関数をリストの全要素に適用したあとsortを行う), reverse - bool(Trueだと並び順を反転)\n",
    "# return : None\n",
    "text = \"There are many ways to use sort 4 67 1 30 data and there appear . # $ !\"\n",
    "num_list = list(range(6))\n",
    "text_list = text.split(\" \")\n",
    "\n",
    "num_list.sort(reverse=True)\n",
    "print(num_list, end=\"\\n\\n\")\n",
    "\n",
    "text_list.sort()\n",
    "print(text_list)\n",
    "#for i in text_list:\n",
    "#    print(\"{} : {}\".format(i, ord(i[0])))\n",
    "#print(\"\")\n",
    "\n",
    "text_list.sort(key=str.lower)\n",
    "print(text_list)\n",
    "\n",
    "text_list.sort(key=str.title, reverse=True)\n",
    "print(text_list)"
   ]
  },
  {
   "cell_type": "code",
   "execution_count": 48,
   "metadata": {
    "collapsed": false
   },
   "outputs": [
    {
     "name": "stdout",
     "output_type": "stream",
     "text": [
      "[0, 1, 2, 3, 4, 5]\n",
      "[5, 4, 3, 2, 1, 0]\n",
      "['!', '#', '$', '.', '1', '30', '4', '67', 'There', 'and', 'appear', 'are', 'data', 'many', 'sort', 'there', 'to', 'use', 'ways']\n",
      "['ways', 'use', 'to', 'there', 'sort', 'many', 'data', 'are', 'appear', 'and', 'There', '67', '4', '30', '1', '.', '$', '#', '!']\n",
      "['ways', 'use', 'to', 'There', 'there', 'sort', 'many', 'data', 'are', 'appear', 'and', '67', '4', '30', '1', '.', '$', '#', '!']\n",
      "['body', 'id', 'name']\n"
     ]
    }
   ],
   "source": [
    "# sorted(iter, [key=None[, reverse=None]])\n",
    "# text : リストを並び替える(asciiコード順)。\n",
    "# param : liter- 並び替え対象のiterable\n",
    "# param2 : key - 引数をひとつだけ持つ関数を指定(この関数をリストの全要素に適用したあとsortを行う), reverse - bool(Trueだと並び順を反転)\n",
    "# return : list(並び替え後のリスト)\n",
    "text = \"There are many ways to use sort 4 67 1 30 data and there appear . # $ !\"\n",
    "num_list = [4, 5, 1, 0, 3, 2]\n",
    "text_list = text.split(\" \")\n",
    "sample_dict = dict(id=1, name=\"midori\", body=\"Hello\")\n",
    "\n",
    "print(sorted(num_list))\n",
    "print(sorted(num_list, reverse=True))\n",
    "print(sorted(text_list))\n",
    "print(sorted(text_list, reverse=True))\n",
    "print(sorted(text_list, key=str.lower, reverse=True))\n",
    "print(sorted(sample_dict))"
   ]
  },
  {
   "cell_type": "code",
   "execution_count": 44,
   "metadata": {
    "collapsed": false
   },
   "outputs": [
    {
     "name": "stdout",
     "output_type": "stream",
     "text": [
      "[2, 3, 0, 1, 5, 4]\n",
      "['!', '$', '#', '.', 'appear', 'there', 'and', 'data', '30', '1', '67', '4', 'sort', 'use', 'to', 'ways', 'many', 'are', 'There']\n"
     ]
    }
   ],
   "source": [
    "# reverse()\n",
    "# text : リストの並びを反転する。リスト自体を書き換える\n",
    "# return : None\n",
    "text = \"There are many ways to use sort 4 67 1 30 data and there appear . # $ !\"\n",
    "num_list = [4, 5, 1, 0, 3, 2]\n",
    "text_list = text.split(\" \")\n",
    "\n",
    "num_list.reverse()\n",
    "print(num_list)\n",
    "\n",
    "text_list.reverse()\n",
    "print(text_list)"
   ]
  },
  {
   "cell_type": "code",
   "execution_count": 47,
   "metadata": {
    "collapsed": false
   },
   "outputs": [
    {
     "name": "stdout",
     "output_type": "stream",
     "text": [
      "[4, 5, 0, 3, 2, 1]\n",
      "['There', 'are', 'many', 'ways', 'use', 'sort', '4', '67', '1', '30', 'data', 'to', 'and', 'there', 'appear', '.', '#', '$', '!']\n"
     ]
    },
    {
     "ename": "ValueError",
     "evalue": "list.remove(x): x not in list",
     "output_type": "error",
     "traceback": [
      "\u001b[1;31m---------------------------------------------------------------------------\u001b[0m",
      "\u001b[1;31mValueError\u001b[0m                                Traceback (most recent call last)",
      "\u001b[1;32m<ipython-input-47-98ea7aa056b1>\u001b[0m in \u001b[0;36m<module>\u001b[1;34m()\u001b[0m\n\u001b[0;32m     13\u001b[0m \u001b[0mprint\u001b[0m\u001b[1;33m(\u001b[0m\u001b[0mtext_list\u001b[0m\u001b[1;33m)\u001b[0m\u001b[1;33m\u001b[0m\u001b[0m\n\u001b[0;32m     14\u001b[0m \u001b[1;33m\u001b[0m\u001b[0m\n\u001b[1;32m---> 15\u001b[1;33m \u001b[0mtext_list\u001b[0m\u001b[1;33m.\u001b[0m\u001b[0mremove\u001b[0m\u001b[1;33m(\u001b[0m\u001b[1;34m\"hello\"\u001b[0m\u001b[1;33m)\u001b[0m\u001b[1;33m\u001b[0m\u001b[0m\n\u001b[0m",
      "\u001b[1;31mValueError\u001b[0m: list.remove(x): x not in list"
     ]
    }
   ],
   "source": [
    "# remove(x)\n",
    "# text : リストの要素から、xを最初のひとつだけ削除する。リスト自体を書き換える。\n",
    "# text2 : xがリストの要素として存在しないとValueErrorを返す\n",
    "# param : x - 何でも(削除する要素)\n",
    "# return : None\n",
    "text = \"There are many ways to use sort 4 67 1 30 data to and there appear . # $ !\"\n",
    "num_list = [4, 5, 1, 0, 3, 2, 1]\n",
    "text_list = text.split(\" \")\n",
    "\n",
    "num_list.remove(1)\n",
    "print(num_list)\n",
    "\n",
    "text_list.remove(\"to\")\n",
    "print(text_list)\n",
    "\n",
    "text_list.remove(\"hello\")"
   ]
  },
  {
   "cell_type": "code",
   "execution_count": 46,
   "metadata": {
    "collapsed": false
   },
   "outputs": [
    {
     "name": "stdout",
     "output_type": "stream",
     "text": [
      "[4, 5, 1, 0, 3, 2, 1, 100]\n",
      "['There', 'are', 'many', 'ways', 'to', 'use', 'sort', '4', '67', '1', '30', 'data', 'to', 'and', 'there', 'appear', '.', '#', '$', '!', 'Hello!!']\n"
     ]
    }
   ],
   "source": [
    "# append(x)\n",
    "# text : リストの末尾ににxの要素を追加するリスト自体を書き換える\n",
    "# param : x - 何でも(追加する要素)\n",
    "# return : None\n",
    "text = \"There are many ways to use sort 4 67 1 30 data to and there appear . # $ !\"\n",
    "num_list = [4, 5, 1, 0, 3, 2, 1]\n",
    "text_list = text.split(\" \")\n",
    "\n",
    "num_list.append(100)\n",
    "print(num_list)\n",
    "\n",
    "text_list.append(\"Hello!!\")\n",
    "print(text_list)"
   ]
  },
  {
   "cell_type": "code",
   "execution_count": 49,
   "metadata": {
    "collapsed": false
   },
   "outputs": [
    {
     "name": "stdout",
     "output_type": "stream",
     "text": [
      "['There', 'are', 'many', 'ways', 'to', 'use', 'sort', '4', '67', '1', '30', 'data', 'to', 'and', 'there', 'appear', '.', '#', '$', '!', 4, 5, 1, 0, 3, 2, 1]\n",
      "[4, 5, 1, 0, 3, 2, 1]\n"
     ]
    }
   ],
   "source": [
    "# extend(list)\n",
    "# text : リストの末尾ににxの要素を追加する。複数の要素を追加したいときに用いるリスト自体を書き換える\n",
    "# param : list - 追加するシーケンス\n",
    "# return : None\n",
    "text = \"There are many ways to use sort 4 67 1 30 data to and there appear . # $ !\"\n",
    "num_list = [4, 5, 1, 0, 3, 2, 1]\n",
    "text_list = text.split(\" \")\n",
    "\n",
    "text_list.extend(num_list)\n",
    "print(text_list)\n",
    "print(num_list)"
   ]
  },
  {
   "cell_type": "code",
   "execution_count": 51,
   "metadata": {
    "collapsed": false
   },
   "outputs": [
    {
     "name": "stdout",
     "output_type": "stream",
     "text": [
      "['are', 'many', 'ways', 'to', 'use', 'sort', '4', '67', '1', '30', 'data', 'to', 'and', 'there', 'appear', '.', '#', '$', '!']\n",
      "[5, 1, 0, 3, 2, 1]\n"
     ]
    }
   ],
   "source": [
    "# pop(index)\n",
    "# text : リストの要素を1つだけ取り除き、戻り値として取り除いた要素を返す。\n",
    "# param : index - int(取り除きたい要素のインデックス)\n",
    "# return : 取り除いた要素\n",
    "text = \"There are many ways to use sort 4 67 1 30 data to and there appear . # $ !\"\n",
    "num_list = [4, 5, 1, 0, 3, 2, 1]\n",
    "text_list = text.split(\" \")\n",
    "\n",
    "text_list.pop(0)\n",
    "print(text_list)\n",
    "\n",
    "num_list.pop(0)\n",
    "print(num_list)"
   ]
  },
  {
   "cell_type": "code",
   "execution_count": 54,
   "metadata": {
    "collapsed": false
   },
   "outputs": [
    {
     "name": "stdout",
     "output_type": "stream",
     "text": [
      "4\n"
     ]
    }
   ],
   "source": [
    "# index(sub[, start[, end]])\n",
    "# text : 検索したい文字列を探し、そのインデックスを返す。値が見つからない場合はValueErrorを返す\n",
    "# param : sub - 検索したい文字列, start - 検索開始位置 , end - 検索終了位置\n",
    "# return : int(見つかった要素のインデックス)\n",
    "text = \"There are many ways to use sort 4 67 1 30 data to and there appear . # $ !\"\n",
    "text_list = text.split(\" \")\n",
    "\n",
    "print(text_list.index(\"to\"))"
   ]
  },
  {
   "cell_type": "code",
   "execution_count": 55,
   "metadata": {
    "collapsed": true
   },
   "outputs": [],
   "source": [
    "########################################\n",
    "# dict\n",
    "########################################"
   ]
  },
  {
   "cell_type": "code",
   "execution_count": 44,
   "metadata": {
    "collapsed": false
   },
   "outputs": [
    {
     "name": "stdout",
     "output_type": "stream",
     "text": [
      "{'name': 'mido', 'age': 25}\n",
      "{'name': 'mido', 'age': 25}\n"
     ]
    }
   ],
   "source": [
    "# dictのコピー\n",
    "# ================\n",
    "# dictはイミュータブルなオブジェクトのため、一度変数に代入したオブジェクトを再び別の変数で参照することはしない\n",
    "sample = dict(name=\"mido\", age=25)\n",
    "print(sample.copy())\n",
    "print(dict(sample))"
   ]
  },
  {
   "cell_type": "code",
   "execution_count": 45,
   "metadata": {
    "collapsed": false
   },
   "outputs": [
    {
     "name": "stdout",
     "output_type": "stream",
     "text": [
      "{'name': 'mido', 'age': 25}\n",
      "{'name': 'mido', 'age': 25}\n",
      "{'name': 'mido', 'age': 25}\n",
      "{'name': 'mido', 'age': 25}\n",
      "{'name': 'mido', 'age': 25}\n",
      "{'a': 'b', 'd': 'e', 'c': 'd'}\n",
      "{'a': 'b', 'd': 'e', 'c': 'd'}\n"
     ]
    }
   ],
   "source": [
    "# 辞書の作成\n",
    "# =================\n",
    "\n",
    "# {}による作成\n",
    "sample = {\"name\":\"mido\", \"age\":25}\n",
    "print(sample)\n",
    "\n",
    "#  dict()による作成\n",
    "print(dict(name=\"mido\", age=25))\n",
    "\n",
    "sample = [[\"name\", \"mido\"], [\"age\", 25]]\n",
    "print(dict(sample))\n",
    "\n",
    "sample = [(\"name\", \"mido\"), (\"age\", 25)]\n",
    "print(dict(sample))\n",
    "\n",
    "sample = ([\"name\", \"mido\"], [\"age\", 25])\n",
    "print(dict(sample))\n",
    "\n",
    "sample = [\"ab\", \"cd\", \"de\"]\n",
    "print(dict(sample))\n",
    "\n",
    "sample = (\"ab\", \"cd\", \"de\")\n",
    "print(dict(sample))"
   ]
  },
  {
   "cell_type": "code",
   "execution_count": 47,
   "metadata": {
    "collapsed": false
   },
   "outputs": [
    {
     "name": "stdout",
     "output_type": "stream",
     "text": [
      "mido\n",
      "{'name': 'k-ta', 'age': 25}\n",
      "{'name': 'mido', 'greet': 'hello', 'age': 25}\n",
      "{'age': 25}\n",
      "{}\n",
      "{}\n"
     ]
    }
   ],
   "source": [
    "# 要素の追加と削除\n",
    "# =================\n",
    "sample = dict(name=\"mido\", age=25)\n",
    "\n",
    "# valueの参照 ※keyが存在しない場合はKeyErrorとなる\n",
    "sample_dict = sample.copy()\n",
    "print(sample_dict[\"name\"])\n",
    "\n",
    "# valueの置換\n",
    "sample_dict = sample.copy()\n",
    "sample_dict[\"name\"] = \"k-ta\"\n",
    "print(sample_dict)\n",
    "\n",
    "# valueの追加\n",
    "sample_dict = sample.copy()\n",
    "sample_dict[\"greet\"] = \"hello\"\n",
    "print(sample_dict)\n",
    "\n",
    "# valueの削除 ※keyが存在しない場合はKeyErrorとなる\n",
    "sample_dict = sample.copy()\n",
    "del sample_dict[\"name\"]\n",
    "print(sample_dict)\n",
    "\n",
    "# 全ての要素の削除\n",
    "sample_dict = sample.copy()\n",
    "sample_dict.clear()\n",
    "print(sample_dict)\n",
    "\n",
    "sample_dict = sample.copy()\n",
    "sample_dict = {}\n",
    "print(sample_dict)\n"
   ]
  },
  {
   "cell_type": "code",
   "execution_count": 49,
   "metadata": {
    "collapsed": false
   },
   "outputs": [
    {
     "name": "stdout",
     "output_type": "stream",
     "text": [
      "True\n",
      "False\n"
     ]
    }
   ],
   "source": [
    "# in を使った要素の存在確認\n",
    "sample = dict(age=25, name=\"mido\")\n",
    "print(\"name\" in sample)\n",
    "print(\"greet\" in sample)"
   ]
  },
  {
   "cell_type": "code",
   "execution_count": 48,
   "metadata": {
    "collapsed": false
   },
   "outputs": [
    {
     "name": "stdout",
     "output_type": "stream",
     "text": [
      "dict_keys(['name', 'age'])\n",
      "<class 'dict_keys'>\n"
     ]
    }
   ],
   "source": [
    "# keys()\n",
    "# text : ディクショナリに登録されているキーの一覧を返す\n",
    "# return : dict_keysオブジェクト(iterable)\n",
    "sample_dict = dict(age=25, name=\"mido\")\n",
    "key = sample_dict.keys()\n",
    "print(key)\n",
    "print(type(key))"
   ]
  },
  {
   "cell_type": "code",
   "execution_count": 36,
   "metadata": {
    "collapsed": false
   },
   "outputs": [
    {
     "name": "stdout",
     "output_type": "stream",
     "text": [
      "mido\n",
      "-1\n"
     ]
    }
   ],
   "source": [
    "# get(key[, default])\n",
    "# text : dictからkeyに対応するvalueを返す。keyが存在しない場合はdefaultを返す\n",
    "# param : key - dictのkey, default - keyが存在しない場合にdefaultを返す\n",
    "# return : keyに対応するvalue\n",
    "sample_dict = dict(age=25, name=\"mido\")\n",
    "val = sample_dict.get(\"name\", -1)\n",
    "print(val)\n",
    "val = sample_dict.get(\"hey\", -1)\n",
    "print(val)"
   ]
  },
  {
   "cell_type": "code",
   "execution_count": 37,
   "metadata": {
    "collapsed": false
   },
   "outputs": [
    {
     "name": "stdout",
     "output_type": "stream",
     "text": [
      "mido\n",
      "hello\n",
      "{'name': 'mido', 'greet': 'hello', 'age': 25}\n"
     ]
    }
   ],
   "source": [
    "# setdefault(key[, default])\n",
    "# text : dictからkeyに対応するvalueを返す。keyが存在しない場合はdictにdefaultを登録し、defaultを返す\n",
    "# param : key - dictのkey, default - keyが存在しない場合にdefaultを返す\n",
    "# return : keyに対応するvalue\n",
    "sample_dict = dict(age=25, name=\"mido\")\n",
    "val = sample_dict.setdefault(\"name\", -1)\n",
    "print(val)\n",
    "\n",
    "val = sample_dict.setdefault(\"greet\", \"hello\")\n",
    "print(val)\n",
    "print(sample_dict)"
   ]
  },
  {
   "cell_type": "code",
   "execution_count": 38,
   "metadata": {
    "collapsed": false
   },
   "outputs": [
    {
     "name": "stdout",
     "output_type": "stream",
     "text": [
      "dict_items([('name', 'mido'), ('age', 25)])\n",
      "<class 'dict_items'>\n"
     ]
    }
   ],
   "source": [
    "# items()\n",
    "# text : dictに登録されているkeyとvalueをペアにしたタプルのリストを返す。\n",
    "# return : dict_items(タプルのリスト)\n",
    "sample_dict = dict(age=25, name=\"mido\")\n",
    "item = sample_dict.items()\n",
    "print(item)\n",
    "print(type(item))"
   ]
  },
  {
   "cell_type": "code",
   "execution_count": 39,
   "metadata": {
    "collapsed": false
   },
   "outputs": [
    {
     "name": "stdout",
     "output_type": "stream",
     "text": [
      "dict_values(['mido', 25])\n",
      "<class 'dict_values'>\n"
     ]
    }
   ],
   "source": [
    "# values()\n",
    "# text : dictに登録されているvalueの一覧を返す\n",
    "# return : dict_values(iterable)\n",
    "sample_dict = dict(age=25, name=\"mido\")\n",
    "value = sample_dict.values()\n",
    "print(value)\n",
    "print(type(value))"
   ]
  },
  {
   "cell_type": "code",
   "execution_count": 41,
   "metadata": {
    "collapsed": false
   },
   "outputs": [
    {
     "name": "stdout",
     "output_type": "stream",
     "text": [
      "{'name': 'keita', 'greet': 'hello', 'age': 25}\n",
      "{'name': 'keita', 'greet': 'hello', 'age': 25}\n"
     ]
    }
   ],
   "source": [
    "# update(element)\n",
    "# text : 引数のelementをdictに追加する。すでにkeyが存在している場合は上書きする。\n",
    "# param : element - [(key, value), (key1, value)...]もしくはkey=value, key=value\n",
    "# return : None\n",
    "sample_dict = dict(age=25, name=\"mido\")\n",
    "sample_dict.update([(\"greet\", \"hello\"), (\"name\", \"keita\")])\n",
    "print(sample_dict)\n",
    "\n",
    "sample_dict = dict(age=25, name=\"mido\")\n",
    "sample_dict.update(greet=\"hello\", name=\"keita\")\n",
    "print(sample_dict)"
   ]
  },
  {
   "cell_type": "code",
   "execution_count": 4,
   "metadata": {
    "collapsed": false
   },
   "outputs": [
    {
     "data": {
      "text/plain": [
       "[1, 12, 1234567, 'hello', 'spam']"
      ]
     },
     "execution_count": 4,
     "metadata": {},
     "output_type": "execute_result"
    }
   ],
   "source": [
    "sample_list = [1234567, 1, 12, \"hello\", \"spam\"]\n",
    "sorted(sample_list, key=str)"
   ]
  },
  {
   "cell_type": "code",
   "execution_count": 50,
   "metadata": {
    "collapsed": true
   },
   "outputs": [],
   "source": [
    "########################################\n",
    "# set\n",
    "########################################"
   ]
  },
  {
   "cell_type": "code",
   "execution_count": 55,
   "metadata": {
    "collapsed": false
   },
   "outputs": [
    {
     "name": "stdout",
     "output_type": "stream",
     "text": [
      "set()\n",
      "{1, 2, 3, 4, 5}\n",
      "{1, 2, 3, 4}\n",
      "{1, 2, 3, 4}\n",
      "{'name', 'age'}\n"
     ]
    }
   ],
   "source": [
    "# setの作成\n",
    "# =================\n",
    "\n",
    "# 空集合を作成する\n",
    "empty_set = set()\n",
    "print(empty_set)\n",
    "\n",
    "# リテラルによる集合の作成\n",
    "num_set = {1,2,3,4,5}\n",
    "print(num_set)\n",
    "\n",
    "# リストから作成する\n",
    "num_set = set([1,2,3,4,3,4])\n",
    "print(num_set)\n",
    "\n",
    "# タプルから作成する\n",
    "num_set = set((1,2,3,4,3,4))\n",
    "print(num_set)\n",
    "\n",
    "# dictから作成する ※keyの集合を作成する\n",
    "num_set = set(dict(name=\"mido\", age=\"25\"))\n",
    "print(num_set)"
   ]
  },
  {
   "cell_type": "code",
   "execution_count": 57,
   "metadata": {
    "collapsed": false
   },
   "outputs": [
    {
     "name": "stdout",
     "output_type": "stream",
     "text": [
      "True\n",
      "False\n"
     ]
    }
   ],
   "source": [
    "# inを使って値の存在確認をする\n",
    "print(1 in {1,2,3,4})\n",
    "print(10 in {1,2,3,4})"
   ]
  },
  {
   "cell_type": "code",
   "execution_count": 69,
   "metadata": {
    "collapsed": false
   },
   "outputs": [
    {
     "name": "stdout",
     "output_type": "stream",
     "text": [
      "{12}\n",
      "{12}\n",
      "{16, 9, 12}\n",
      "{16, 9, 12}\n",
      "{9}\n",
      "{9}\n",
      "{16, 9}\n",
      "{16, 9}\n"
     ]
    }
   ],
   "source": [
    "# 集合の計算\n",
    "a = {9, 12}\n",
    "b = {12, 16}\n",
    "\n",
    "# 積集合(aとbに共通してある要素)\n",
    "print(a & b)\n",
    "print(a.intersection(b))\n",
    "\n",
    "# 和集合(aとbのどちらかに存在している要素)\n",
    "print(a | b)\n",
    "print(a.union(b))\n",
    "\n",
    "# 差集合(aには含まれていて、bには含まれていない要素)\n",
    "print(a - b)\n",
    "print(a.difference(b))\n",
    "\n",
    "# 排他的論理和(aとbどちらか片方には含まれているが、両方には含まれていない要素)\n",
    "print(a ^ b)\n",
    "print(a.symmetric_difference(b))"
   ]
  },
  {
   "cell_type": "code",
   "execution_count": 79,
   "metadata": {
    "collapsed": false
   },
   "outputs": [
    {
     "name": "stdout",
     "output_type": "stream",
     "text": [
      "True\n",
      "True\n",
      "True\n",
      "True\n",
      "True\n",
      "True\n"
     ]
    }
   ],
   "source": [
    "a = {1,2,3,4,5,6,7,8,9}\n",
    "b = {2,4,6,8}\n",
    "c = {3,6,9}\n",
    "\n",
    "# 集合Bが集合Aの部分集合になっているか確かめる\n",
    "print(b <= a)\n",
    "print(b.issubset(b))\n",
    "\n",
    "# 集合Bが集合Aの真部分集合となっているか確かめる(集合AがBの全要素に加えて別の要素も持っている)\n",
    "print(b < a)\n",
    "\n",
    "# 集合Aが集合Bの上位集合になっているか確かめる\n",
    "print(a >= b)\n",
    "print(a.issuperset(b))\n",
    "\n",
    "# 集合Aが集合Bの真上位集合になっているか確かめる(集合AがBの全要素に加えて別の要素も持っている)\n",
    "print(a > b)"
   ]
  }
 ],
 "metadata": {
  "kernelspec": {
   "display_name": "Python 3",
   "language": "python",
   "name": "python3"
  },
  "language_info": {
   "codemirror_mode": {
    "name": "ipython",
    "version": 3
   },
   "file_extension": ".py",
   "mimetype": "text/x-python",
   "name": "python",
   "nbconvert_exporter": "python",
   "pygments_lexer": "ipython3",
   "version": "3.5.1+"
  }
 },
 "nbformat": 4,
 "nbformat_minor": 0
}
