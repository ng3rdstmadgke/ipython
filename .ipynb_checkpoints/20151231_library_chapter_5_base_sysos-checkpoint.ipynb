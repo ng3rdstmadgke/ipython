{
 "cells": [
  {
   "cell_type": "code",
   "execution_count": 4,
   "metadata": {
    "collapsed": true
   },
   "outputs": [],
   "source": [
    "#################################\n",
    "# sys(システムパラメータを取得)\n",
    "#################################\n",
    "import sys"
   ]
  },
  {
   "cell_type": "code",
   "execution_count": 5,
   "metadata": {
    "collapsed": true
   },
   "outputs": [],
   "source": [
    "# sys.argv\n",
    "# text : コマンドラインからスクリプトを起動した時に与えられた引数を受け取る。\n",
    "# text2 : sys.argv[1]で一番最初の引数を取得できる"
   ]
  },
  {
   "cell_type": "code",
   "execution_count": 6,
   "metadata": {
    "collapsed": true
   },
   "outputs": [],
   "source": [
    "# sys.exit(int)\n",
    "# text : Pythonを終了する\n",
    "# param : int - 終了フラグ(0は正常終了、0以外は異常終了)"
   ]
  },
  {
   "cell_type": "code",
   "execution_count": 7,
   "metadata": {
    "collapsed": false
   },
   "outputs": [
    {
     "data": {
      "text/plain": [
       "'utf-8'"
      ]
     },
     "execution_count": 7,
     "metadata": {},
     "output_type": "execute_result"
    }
   ],
   "source": [
    "# sys.getdefaultencoding()\n",
    "# text : エンコードを暗黙に変換するときのデフォルトエンコーディングを返す\n",
    "# return : str\n",
    "sys.getdefaultencoding()"
   ]
  },
  {
   "cell_type": "code",
   "execution_count": 11,
   "metadata": {
    "collapsed": false
   },
   "outputs": [
    {
     "name": "stdout",
     "output_type": "stream",
     "text": [
      "['', '/home/k-ta/.virtualenvs/k-ta/lib/python3.4', '/home/k-ta/.virtualenvs/k-ta/lib/python3.4/plat-x86_64-linux-gnu', '/home/k-ta/.virtualenvs/k-ta/lib/python3.4/lib-dynload', '/usr/lib/python3.4', '/usr/lib/python3.4/plat-x86_64-linux-gnu', '/home/k-ta/.virtualenvs/k-ta/lib/python3.4/site-packages', '/home/k-ta/.virtualenvs/k-ta/lib/python3.4/site-packages/IPython/extensions', '/home/k-ta/.ipython', '/home']\n",
      "['', '/home/k-ta/.virtualenvs/k-ta/lib/python3.4', '/home/k-ta/.virtualenvs/k-ta/lib/python3.4/plat-x86_64-linux-gnu', '/home/k-ta/.virtualenvs/k-ta/lib/python3.4/lib-dynload', '/usr/lib/python3.4', '/usr/lib/python3.4/plat-x86_64-linux-gnu', '/home/k-ta/.virtualenvs/k-ta/lib/python3.4/site-packages', '/home/k-ta/.virtualenvs/k-ta/lib/python3.4/site-packages/IPython/extensions', '/home/k-ta/.ipython', '/home/ipython']\n"
     ]
    }
   ],
   "source": [
    "# sys.path\n",
    "# text : モジュールをインポートするときに利用する、検索パスを保持したリスト。プログラム上で追加することもできる\n",
    "print(sys.path)\n",
    "sys.path = ['', \n",
    "            '/home/k-ta/.virtualenvs/k-ta/lib/python3.4',\n",
    "            '/home/k-ta/.virtualenvs/k-ta/lib/python3.4/plat-x86_64-linux-gnu',\n",
    "            '/home/k-ta/.virtualenvs/k-ta/lib/python3.4/lib-dynload',\n",
    "            '/usr/lib/python3.4',\n",
    "            '/usr/lib/python3.4/plat-x86_64-linux-gnu',\n",
    "            '/home/k-ta/.virtualenvs/k-ta/lib/python3.4/site-packages',\n",
    "            '/home/k-ta/.virtualenvs/k-ta/lib/python3.4/site-packages/IPython/extensions',\n",
    "            '/home/k-ta/.ipython',\n",
    "            '/home/ipython']\n",
    "print(sys.path)"
   ]
  },
  {
   "cell_type": "code",
   "execution_count": 14,
   "metadata": {
    "collapsed": false
   },
   "outputs": [
    {
     "name": "stdout",
     "output_type": "stream",
     "text": [
      "<_io.TextIOWrapper name='<stdin>' mode='r' encoding='UTF-8'>\n",
      "<ipykernel.iostream.OutStream object at 0x7f124dce7780>\n",
      "<ipykernel.iostream.OutStream object at 0x7f124dce7c88>\n"
     ]
    },
    {
     "data": {
      "text/plain": [
       "''"
      ]
     },
     "execution_count": 14,
     "metadata": {},
     "output_type": "execute_result"
    }
   ],
   "source": [
    "# sys.stdin, sys.stdout, sys.stderr\n",
    "# text : Pythonが利用している標準入出力に対応するファイルオブジェクトを返す。\n",
    "# text2 : ファイルオブジェクトに対して読み書きを行うメソッドを呼び出すことで、標準入出力をコントロールできる\n",
    "print(sys.stdin)\n",
    "print(sys.stdout)\n",
    "print(sys.stderr)\n",
    "sys.stdin.readline() # コマンドラインからの入力を受け付ける"
   ]
  },
  {
   "cell_type": "code",
   "execution_count": 15,
   "metadata": {
    "collapsed": true
   },
   "outputs": [],
   "source": [
    "##################################################################\n",
    "# os(ファイル、プロセス、依存情報を取得・操作)\n",
    "##################################################################\n",
    "import os"
   ]
  },
  {
   "cell_type": "code",
   "execution_count": 17,
   "metadata": {
    "collapsed": false
   },
   "outputs": [
    {
     "name": "stdout",
     "output_type": "stream",
     "text": [
      "environ({'QT_IM_MODULE': 'ibus', 'MDMSESSION': 'mate', 'PATH': '/home/k-ta/.virtualenvs/k-ta/bin:/usr/local/sbin:/usr/local/bin:/usr/sbin:/usr/bin:/sbin:/bin:/usr/games:/usr/local/games', 'DBUS_SESSION_BUS_ADDRESS': 'unix:abstract=/tmp/dbus-EFBNgW5aVU,guid=f6446d08893bf13bca2cae725691a961', 'GPG_AGENT_INFO': '/run/user/1000/keyring-L272Rv/gpg:0:1', 'MDM_XSERVER_LOCATION': 'local', 'LS_COLORS': 'rs=0:di=01;34:ln=01;36:mh=00:pi=40;33:so=01;35:do=01;35:bd=40;33;01:cd=40;33;01:or=40;31;01:su=37;41:sg=30;43:ca=30;41:tw=30;42:ow=34;42:st=37;44:ex=01;32:*.tar=01;31:*.tgz=01;31:*.arj=01;31:*.taz=01;31:*.lzh=01;31:*.lzma=01;31:*.tlz=01;31:*.txz=01;31:*.zip=01;31:*.z=01;31:*.Z=01;31:*.dz=01;31:*.gz=01;31:*.lz=01;31:*.xz=01;31:*.bz2=01;31:*.bz=01;31:*.tbz=01;31:*.tbz2=01;31:*.tz=01;31:*.deb=01;31:*.rpm=01;31:*.jar=01;31:*.war=01;31:*.ear=01;31:*.sar=01;31:*.rar=01;31:*.ace=01;31:*.zoo=01;31:*.cpio=01;31:*.7z=01;31:*.rz=01;31:*.jpg=01;35:*.jpeg=01;35:*.gif=01;35:*.bmp=01;35:*.pbm=01;35:*.pgm=01;35:*.ppm=01;35:*.tga=01;35:*.xbm=01;35:*.xpm=01;35:*.tif=01;35:*.tiff=01;35:*.png=01;35:*.svg=01;35:*.svgz=01;35:*.mng=01;35:*.pcx=01;35:*.mov=01;35:*.mpg=01;35:*.mpeg=01;35:*.m2v=01;35:*.mkv=01;35:*.webm=01;35:*.ogm=01;35:*.mp4=01;35:*.m4v=01;35:*.mp4v=01;35:*.vob=01;35:*.qt=01;35:*.nuv=01;35:*.wmv=01;35:*.asf=01;35:*.rm=01;35:*.rmvb=01;35:*.flc=01;35:*.avi=01;35:*.fli=01;35:*.flv=01;35:*.gl=01;35:*.dl=01;35:*.xcf=01;35:*.xwd=01;35:*.yuv=01;35:*.cgm=01;35:*.emf=01;35:*.axv=01;35:*.anx=01;35:*.ogv=01;35:*.ogx=01;35:*.aac=00;36:*.au=00;36:*.flac=00;36:*.mid=00;36:*.midi=00;36:*.mka=00;36:*.mp3=00;36:*.mpc=00;36:*.ogg=00;36:*.ra=00;36:*.wav=00;36:*.axa=00;36:*.oga=00;36:*.spx=00;36:*.xspf=00;36:', 'COLORTERM': 'mate-terminal', 'WORKON_HOME': '/home/k-ta/.virtualenvs', 'GNOME_KEYRING_PID': '1766', '_': '/home/k-ta/.virtualenvs/k-ta/bin/ipython', 'DISPLAY': ':0', 'SHLVL': '1', 'CLICOLOR': '1', 'PROJECT_HOME': '/home/k-ta/Devel', 'USERNAME': 'k-ta', 'LESSCLOSE': '/usr/bin/lesspipe %s %s', 'GDM_XSERVER_LOCATION': 'local', 'XDG_RUNTIME_DIR': '/run/user/1000', 'LOGNAME': 'k-ta', 'GNOME_KEYRING_CONTROL': '/run/user/1000/keyring-L272Rv', 'SSH_AUTH_SOCK': '/run/user/1000/keyring-L272Rv/ssh', 'XAUTHORITY': '/home/k-ta/.Xauthority', 'QT4_IM_MODULE': 'xim', 'XDG_DATA_DIRS': '/usr/share/mate:/usr/local/share/:/usr/share/:/usr/share/mdm/', 'DEFAULTS_PATH': '/usr/share/gconf/mate.default.path', 'XDG_VTNR': '8', 'MATE_DESKTOP_SESSION_ID': 'this-is-deprecated', 'SSH_AGENT_PID': '1905', 'XDG_SEAT': 'seat0', 'LANG': 'ja_JP.UTF-8', 'VIRTUAL_ENV': '/home/k-ta/.virtualenvs/k-ta', 'GDMSESSION': 'mate', 'HOME': '/home/k-ta', 'MANDATORY_PATH': '/usr/share/gconf/mate.mandatory.path', 'TEXTDOMAIN': 'im-config', 'TEXTDOMAINDIR': '/usr/share/locale/', 'VIRTUALENVWRAPPER_HOOK_DIR': '/home/k-ta/.virtualenvs', 'GTK_IM_MODULE': 'xim', 'GTK_OVERLAY_SCROLLING': '0', 'LESSOPEN': '| /usr/bin/lesspipe %s', 'PAGER': 'cat', 'DESKTOP_SESSION': 'mate', 'XDG_CONFIG_DIRS': '/etc/xdg/xdg-mate:/etc/xdg', 'WINDOWPATH': '8', 'USER': 'k-ta', 'SHELL': '/bin/bash', 'XDG_CURRENT_DESKTOP': 'MATE', 'GIT_PAGER': 'cat', 'VIRTUALENVWRAPPER_PROJECT_FILENAME': '.project', 'CLUTTER_IM_MODULE': 'xim', 'XDG_SESSION_ID': 'c1', 'WINDOWID': '54525982', 'SESSION_MANAGER': 'local/kta-dynabook-R632-F:@/tmp/.ICE-unix/1842,unix/kta-dynabook-R632-F:/tmp/.ICE-unix/1842', 'PWD': '/home/k-ta', 'TERM': 'xterm-color', 'VIRTUALENVWRAPPER_WORKON_CD': '1', 'JPY_PARENT_PID': '2478', 'XDG_SESSION_DESKTOP': 'mate', 'VIRTUALENVWRAPPER_SCRIPT': '/usr/local/bin/virtualenvwrapper.sh', 'PS1': '(k-ta)${debian_chroot:+($debian_chroot)}\\\\[\\\\033[01;32m\\\\]\\\\u@\\\\h\\\\[\\\\033[01;34m\\\\] \\\\w \\\\$\\\\[\\\\033[00m\\\\] ', 'XMODIFIERS': '@im=ibus', 'MDM_LANG': 'ja_JP.UTF-8', 'XDG_SESSION_COOKIE': 'a8bbe5e45c44b01239ae3012567ce555-1452386657.357436-15086388', 'IBUS_ENABLE_SYNC_MODE': '1'})\n",
      "/home/k-ta/.virtualenvs/k-ta/bin:/usr/local/sbin:/usr/local/bin:/usr/sbin:/usr/bin:/sbin:/bin:/usr/games:/usr/local/games\n"
     ]
    }
   ],
   "source": [
    "# os.environ\n",
    "# text : 環境変数の内容を保持した、dictのようなオブジェクト\n",
    "# text2 : この変数が作られるのはPythonを起動した直後なのでputenv()などで書き換えてもos.environには反映されない\n",
    "print(os.environ)\n",
    "print(os.environ[\"PATH\"])"
   ]
  },
  {
   "cell_type": "code",
   "execution_count": 18,
   "metadata": {
    "collapsed": false
   },
   "outputs": [
    {
     "name": "stdout",
     "output_type": "stream",
     "text": [
      "ja_JP.UTF-8\n"
     ]
    }
   ],
   "source": [
    "# os.getenv(key[, default])\n",
    "# text : 引数で設定した環境変数を返す\n",
    "# param : key - 環境変数名, default - keyが存在しなかった場合に返す値\n",
    "# return : keyに対応する環境変数\n",
    "print(os.getenv(\"LANG\", -1))"
   ]
  },
  {
   "cell_type": "code",
   "execution_count": 23,
   "metadata": {
    "collapsed": false
   },
   "outputs": [
    {
     "name": "stdout",
     "output_type": "stream",
     "text": [
      "None\n"
     ]
    }
   ],
   "source": [
    "# os.chdir(path)\n",
    "# text : 引数として渡されたpathをカレントディレクトリとして指定する\n",
    "# param : path - str(パスを指定)\n",
    "# return : None\n",
    "print(os.chdir(\"/home/k-ta\"))"
   ]
  },
  {
   "cell_type": "code",
   "execution_count": 24,
   "metadata": {
    "collapsed": false
   },
   "outputs": [
    {
     "data": {
      "text/plain": [
       "'/home/k-ta'"
      ]
     },
     "execution_count": 24,
     "metadata": {},
     "output_type": "execute_result"
    }
   ],
   "source": [
    "# os.getcwd()\n",
    "# text : カレントディレクトリを取得する\n",
    "# return : str(カレントディレクトリ)\n",
    "os.getcwd()"
   ]
  },
  {
   "cell_type": "code",
   "execution_count": 36,
   "metadata": {
    "collapsed": false
   },
   "outputs": [],
   "source": [
    "# os.remove(path)\n",
    "# text : 引数に指定されたパスにあるファイルを削除する。引数にしていされたpathがディレクトリの場合はErrorを返す\n",
    "# param : path - 削除したいファイルパス\n",
    "# return : none\n",
    "with open(\"/home/k-ta/ipython/sample_file/hoge.txt\", \"w\") as f:\n",
    "    f.write(\"hello python\\nline2\")\n",
    "os.remove(\"/home/k-ta/ipython/sample_file/hoge.txt\")"
   ]
  },
  {
   "cell_type": "code",
   "execution_count": 38,
   "metadata": {
    "collapsed": false
   },
   "outputs": [],
   "source": [
    "# os.rename(path, path2)\n",
    "# text : ファイルまたはディレクトリの名前を変更する。変更後のファイル名を持つファイルがすでにある場合、そのファイルは削除される。\n",
    "# param : path - 元のファイルパス, path2 - 変更後のファイルパス\n",
    "# return : None\n",
    "with open(\"/home/k-ta/ipython/sample_file/hoge.txt\", \"w\") as f:\n",
    "    f.write(\"Hello World!\")\n",
    "os.rename(\"/home/k-ta/ipython/sample_file/hoge.txt\", \"/home/k-ta/ipython/sample_file/spam.txt\")"
   ]
  },
  {
   "cell_type": "code",
   "execution_count": 39,
   "metadata": {
    "collapsed": true
   },
   "outputs": [],
   "source": [
    "# os.mkdir(path[, mode])\n",
    "# text : ディレクトリを作成する。パス中に存在しないディレクトリがあるとエラーを出力\n",
    "# param : path - 作成するディレクトリ名, mode - 755など8進数で指定(指定しないと777になる)\n",
    "# return : None\n",
    "os.mkdir(\"/home/k-ta/ipython/sample_file/mydir\", 777)"
   ]
  },
  {
   "cell_type": "code",
   "execution_count": 45,
   "metadata": {
    "collapsed": false
   },
   "outputs": [],
   "source": [
    "# os.makedirs(path[, mode])\n",
    "# text : ディレクトリを作成する。パス中の存在しないディレクトリも含めて作成する。\n",
    "# param : path - 作成するディレクトリ名, mode - 755など8進数で指定\n",
    "# return : None\n",
    "os.makedirs(\"/home/k-ta/ipython/sample_file2/mydir2\")"
   ]
  },
  {
   "cell_type": "code",
   "execution_count": 46,
   "metadata": {
    "collapsed": true
   },
   "outputs": [],
   "source": [
    "# os.rmdir(path)\n",
    "# text : 引数として指定されたディレクトリを削除する\n",
    "# param : path - 削除するディレクトリ名\n",
    "# return : None\n",
    "os.rmdir(\"/home/k-ta/ipython/sample_file/mydir\")"
   ]
  },
  {
   "cell_type": "code",
   "execution_count": 48,
   "metadata": {
    "collapsed": false
   },
   "outputs": [
    {
     "ename": "OSError",
     "evalue": "[Errno 39] Directory not empty: '/home/k-ta/ipython/sample_file2'",
     "output_type": "error",
     "traceback": [
      "\u001b[1;31m---------------------------------------------------------------------------\u001b[0m",
      "\u001b[1;31mOSError\u001b[0m                                   Traceback (most recent call last)",
      "\u001b[1;32m<ipython-input-48-8313e5ec7e8a>\u001b[0m in \u001b[0;36m<module>\u001b[1;34m()\u001b[0m\n\u001b[0;32m      3\u001b[0m \u001b[1;31m# param : path - 削除するディレクトリ名\u001b[0m\u001b[1;33m\u001b[0m\u001b[1;33m\u001b[0m\u001b[0m\n\u001b[0;32m      4\u001b[0m \u001b[1;31m# return : None\u001b[0m\u001b[1;33m\u001b[0m\u001b[1;33m\u001b[0m\u001b[0m\n\u001b[1;32m----> 5\u001b[1;33m \u001b[0mos\u001b[0m\u001b[1;33m.\u001b[0m\u001b[0mremovedirs\u001b[0m\u001b[1;33m(\u001b[0m\u001b[1;34m\"/home/k-ta/ipython/sample_file2\"\u001b[0m\u001b[1;33m)\u001b[0m\u001b[1;33m\u001b[0m\u001b[0m\n\u001b[0m",
      "\u001b[1;32m/home/k-ta/.virtualenvs/k-ta/lib/python3.4/os.py\u001b[0m in \u001b[0;36mremovedirs\u001b[1;34m(name)\u001b[0m\n\u001b[0;32m    251\u001b[0m \u001b[1;33m\u001b[0m\u001b[0m\n\u001b[0;32m    252\u001b[0m     \"\"\"\n\u001b[1;32m--> 253\u001b[1;33m     \u001b[0mrmdir\u001b[0m\u001b[1;33m(\u001b[0m\u001b[0mname\u001b[0m\u001b[1;33m)\u001b[0m\u001b[1;33m\u001b[0m\u001b[0m\n\u001b[0m\u001b[0;32m    254\u001b[0m     \u001b[0mhead\u001b[0m\u001b[1;33m,\u001b[0m \u001b[0mtail\u001b[0m \u001b[1;33m=\u001b[0m \u001b[0mpath\u001b[0m\u001b[1;33m.\u001b[0m\u001b[0msplit\u001b[0m\u001b[1;33m(\u001b[0m\u001b[0mname\u001b[0m\u001b[1;33m)\u001b[0m\u001b[1;33m\u001b[0m\u001b[0m\n\u001b[0;32m    255\u001b[0m     \u001b[1;32mif\u001b[0m \u001b[1;32mnot\u001b[0m \u001b[0mtail\u001b[0m\u001b[1;33m:\u001b[0m\u001b[1;33m\u001b[0m\u001b[0m\n",
      "\u001b[1;31mOSError\u001b[0m: [Errno 39] Directory not empty: '/home/k-ta/ipython/sample_file2'"
     ]
    }
   ],
   "source": [
    "# os.removedirs(path)\n",
    "# text : 引数として指定されたディレクトリを削除する。ディレクトリ配下のファイルやディレクトリもできるだけ削除する\n",
    "# param : path - 削除するディレクトリ名\n",
    "# return : None\n",
    "os.removedirs(\"/home/k-ta/ipython/sample_file2\")"
   ]
  },
  {
   "cell_type": "code",
   "execution_count": 53,
   "metadata": {
    "collapsed": false
   },
   "outputs": [
    {
     "name": "stdout",
     "output_type": "stream",
     "text": [
      "0\n"
     ]
    }
   ],
   "source": [
    "# プロセスとの通信を必要としないコマンドを実行\n",
    "print(os.system(\"touch /home/k-ta/ipython/sample_file/ham.txt\"))"
   ]
  },
  {
   "cell_type": "code",
   "execution_count": 56,
   "metadata": {
    "collapsed": false
   },
   "outputs": [
    {
     "name": "stdout",
     "output_type": "stream",
     "text": [
      "True\n",
      "False\n"
     ]
    }
   ],
   "source": [
    "# 引数として渡されたパスが存在するかを調べる。結果はbool値で帰す\n",
    "print(os.path.exists(\"/home/k-ta/ipython/sample_file/ham.txt\"))\n",
    "print(os.path.exists(\"/home/keita\"))"
   ]
  },
  {
   "cell_type": "code",
   "execution_count": 57,
   "metadata": {
    "collapsed": false
   },
   "outputs": [
    {
     "name": "stdout",
     "output_type": "stream",
     "text": [
      "4096\n"
     ]
    }
   ],
   "source": [
    "# 引数として与えられたパスにあるファイルのサイズをバイトで返す\n",
    "print(os.path.getsize(\"/home/k-ta/ipython\"))"
   ]
  },
  {
   "cell_type": "code",
   "execution_count": 58,
   "metadata": {
    "collapsed": false
   },
   "outputs": [
    {
     "name": "stdout",
     "output_type": "stream",
     "text": [
      "True\n"
     ]
    }
   ],
   "source": [
    "# 引数のパスを調べ、ファイルであった場合はTrueを返す\n",
    "print(os.path.isfile(\"/home/k-ta/ipython/sample_file/ham.txt\"))"
   ]
  },
  {
   "cell_type": "code",
   "execution_count": 59,
   "metadata": {
    "collapsed": false
   },
   "outputs": [
    {
     "name": "stdout",
     "output_type": "stream",
     "text": [
      "True\n"
     ]
    }
   ],
   "source": [
    "# 引数のパスを調べ、ディレクトリであった場合はTrueを返す\n",
    "print(os.path.isdir(\"/home/k-ta/ipython\"))"
   ]
  },
  {
   "cell_type": "code",
   "execution_count": 64,
   "metadata": {
    "collapsed": false
   },
   "outputs": [
    {
     "name": "stdout",
     "output_type": "stream",
     "text": [
      "/home/k-ta/ipython/sample_file/ham.txt\n"
     ]
    }
   ],
   "source": [
    "# 引数として渡した複数のパスをうまくつなげる\n",
    "print(os.path.join(\"/home/k-ta/\", \"ipython/sample_file/ham.txt\"))"
   ]
  },
  {
   "cell_type": "code",
   "execution_count": 66,
   "metadata": {
    "collapsed": false
   },
   "outputs": [
    {
     "name": "stdout",
     "output_type": "stream",
     "text": [
      "('/home/k-ta/ipython/sample_file', 'ham.txt')\n"
     ]
    }
   ],
   "source": [
    "# 引数として渡したパスをディレクトリ部分と、ファイル部分に分割する\n",
    "print(os.path.split(\"/home/k-ta/ipython/sample_file/ham.txt\"))"
   ]
  },
  {
   "cell_type": "code",
   "execution_count": 67,
   "metadata": {
    "collapsed": false
   },
   "outputs": [
    {
     "name": "stdout",
     "output_type": "stream",
     "text": [
      "/home/k-ta/ipython/sample_file\n"
     ]
    }
   ],
   "source": [
    "# 引数として渡したパスのファイル部分を取り除き、ディレクトリ名のみを返す\n",
    "print(os.path.dirname(\"/home/k-ta/ipython/sample_file/ham.txt\"))"
   ]
  },
  {
   "cell_type": "code",
   "execution_count": null,
   "metadata": {
    "collapsed": true
   },
   "outputs": [],
   "source": []
  }
 ],
 "metadata": {
  "kernelspec": {
   "display_name": "Python 3",
   "language": "python",
   "name": "python3"
  },
  "language_info": {
   "codemirror_mode": {
    "name": "ipython",
    "version": 3
   },
   "file_extension": ".py",
   "mimetype": "text/x-python",
   "name": "python",
   "nbconvert_exporter": "python",
   "pygments_lexer": "ipython3",
   "version": "3.4.3"
  }
 },
 "nbformat": 4,
 "nbformat_minor": 0
}
