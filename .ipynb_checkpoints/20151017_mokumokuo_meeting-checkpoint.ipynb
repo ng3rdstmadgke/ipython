{
 "cells": [
  {
   "cell_type": "code",
   "execution_count": 1,
   "metadata": {
    "collapsed": false
   },
   "outputs": [],
   "source": [
    "import sqlalchemy as sq\n",
    "import sqlalchemy.orm\n",
    "import sqlalchemy.ext.declarative"
   ]
  },
  {
   "cell_type": "code",
   "execution_count": 2,
   "metadata": {
    "collapsed": true
   },
   "outputs": [],
   "source": [
    "engine = sq.create_engine(\"sqlite:///:memory:\",echo=False)\n",
    "Base = sqlalchemy.ext.declarative.declarative_base()\n",
    "class Data(Base):\n",
    "    __tablename__=\"data\"\n",
    "    id = sq.Column(sq.Integer,primary_key=True)\n",
    "    name = sq.Column(sq.String)\n",
    "    age = sq.Column(sq.Integer)\n",
    "    \n",
    "Base.metadata.create_all(engine)\n",
    "pre_session = sqlalchemy.orm.sessionmaker(bind=engine)\n",
    "session = pre_session()"
   ]
  },
  {
   "cell_type": "code",
   "execution_count": 5,
   "metadata": {
    "collapsed": false
   },
   "outputs": [],
   "source": [
    "session.add_all([Data(name=\"midorikawa\", age=24),\n",
    "               Data(name=\"suzuki\", age=23),\n",
    "               Data(name=\"tamura\", age=20)])"
   ]
  },
  {
   "cell_type": "code",
   "execution_count": null,
   "metadata": {
    "collapsed": true
   },
   "outputs": [],
   "source": []
  }
 ],
 "metadata": {
  "kernelspec": {
   "display_name": "Python 3",
   "language": "python",
   "name": "python3"
  },
  "language_info": {
   "codemirror_mode": {
    "name": "ipython",
    "version": 3
   },
   "file_extension": ".py",
   "mimetype": "text/x-python",
   "name": "python",
   "nbconvert_exporter": "python",
   "pygments_lexer": "ipython3",
   "version": "3.4.3"
  }
 },
 "nbformat": 4,
 "nbformat_minor": 0
}
