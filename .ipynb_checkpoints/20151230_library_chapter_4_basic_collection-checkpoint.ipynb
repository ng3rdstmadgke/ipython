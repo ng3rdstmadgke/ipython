{
 "cells": [
  {
   "cell_type": "code",
   "execution_count": 1,
   "metadata": {
    "collapsed": true
   },
   "outputs": [],
   "source": [
    "########################################\n",
    "# list\n",
    "########################################"
   ]
  },
  {
   "cell_type": "code",
   "execution_count": 10,
   "metadata": {
    "collapsed": false
   },
   "outputs": [
    {
     "name": "stdout",
     "output_type": "stream",
     "text": [
      "[1, 'two', 'three', 4, 5]\n",
      "[1, 2, 3, 4, 5, 6, 7, 8, 9]\n",
      "[-3, -2, -1, 0, 1, 2, 3, 4, 5]\n",
      "[0, 1, 2, 3, 4, 5]\n"
     ]
    }
   ],
   "source": [
    "# スライスを使った要素の置換\n",
    "sample_list = [1, 2, 3, 4, 5]\n",
    "sample_list[1:3] = [\"two\", \"three\"]\n",
    "print(sample_list)\n",
    "\n",
    "# 末尾に要素の追加\n",
    "sample_list = [1, 2, 3, 4, 5]\n",
    "sample_list[5:] = [6, 7, 8, 9]\n",
    "print(sample_list)\n",
    "\n",
    "# 先頭に要素を追加\n",
    "sample_list = [1, 2, 3, 4, 5]\n",
    "sample_list[:0] = [-3, -2, -1, 0]\n",
    "print(sample_list)\n",
    "\n",
    "# リストの間に要素を追加\n",
    "sample_list = [0, 1, 2, 4, 5]\n",
    "sample_list[3:3] = [3]\n",
    "print(sample_list)"
   ]
  },
  {
   "cell_type": "code",
   "execution_count": 11,
   "metadata": {
    "collapsed": false
   },
   "outputs": [
    {
     "name": "stdout",
     "output_type": "stream",
     "text": [
      "[3, 4, 5]\n"
     ]
    }
   ],
   "source": [
    "# スライスを使った要素の削除\n",
    "sample_list = [0, 1, 2, 3, 4, 5]\n",
    "del sample_list[0:3]\n",
    "print(sample_list)"
   ]
  },
  {
   "cell_type": "code",
   "execution_count": 42,
   "metadata": {
    "collapsed": false
   },
   "outputs": [
    {
     "name": "stdout",
     "output_type": "stream",
     "text": [
      "[5, 4, 3, 2, 1, 0]\n",
      "\n",
      "['!', '#', '$', '.', '1', '30', '4', '67', 'There', 'and', 'appear', 'are', 'data', 'many', 'sort', 'there', 'to', 'use', 'ways']\n",
      "\n",
      "['!', '#', '$', '.', '1', '30', '4', '67', 'and', 'appear', 'are', 'data', 'many', 'sort', 'There', 'there', 'to', 'use', 'ways']\n",
      "\n",
      "['ways', 'use', 'to', 'There', 'there', 'sort', 'many', 'data', 'are', 'appear', 'and', '67', '4', '30', '1', '.', '$', '#', '!']\n"
     ]
    }
   ],
   "source": [
    "# sort([key=None[, reverse=None]])\n",
    "# text : リストを並び替える(asciiコード順)。リスト自体を書き換える\n",
    "# param : key - 引数をひとつだけ持つ関数を指定(この関数をリストの全要素に適用したあとsortを行う), reverse - bool(Trueだと並び順を反転)\n",
    "# return : None\n",
    "text = \"There are many ways to use sort 4 67 1 30 data and there appear . # $ !\"\n",
    "num_list = list(range(6))\n",
    "text_list = text.split(\" \")\n",
    "\n",
    "num_list.sort(reverse=True)\n",
    "print(num_list, end=\"\\n\\n\")\n",
    "\n",
    "text_list.sort()\n",
    "print(text_list)\n",
    "#for i in text_list:\n",
    "#    print(\"{} : {}\".format(i, ord(i[0])))\n",
    "#print(\"\")\n",
    "\n",
    "text_list.sort(key=str.lower)\n",
    "print(text_list)\n",
    "\n",
    "text_list.sort(key=str.title, reverse=True)\n",
    "print(text_list)"
   ]
  },
  {
   "cell_type": "code",
   "execution_count": 48,
   "metadata": {
    "collapsed": false
   },
   "outputs": [
    {
     "name": "stdout",
     "output_type": "stream",
     "text": [
      "[0, 1, 2, 3, 4, 5]\n",
      "[5, 4, 3, 2, 1, 0]\n",
      "['!', '#', '$', '.', '1', '30', '4', '67', 'There', 'and', 'appear', 'are', 'data', 'many', 'sort', 'there', 'to', 'use', 'ways']\n",
      "['ways', 'use', 'to', 'there', 'sort', 'many', 'data', 'are', 'appear', 'and', 'There', '67', '4', '30', '1', '.', '$', '#', '!']\n",
      "['ways', 'use', 'to', 'There', 'there', 'sort', 'many', 'data', 'are', 'appear', 'and', '67', '4', '30', '1', '.', '$', '#', '!']\n",
      "['body', 'id', 'name']\n"
     ]
    }
   ],
   "source": [
    "# sorted(iter, [key=None[, reverse=None]])\n",
    "# text : リストを並び替える(asciiコード順)。\n",
    "# param : liter- 並び替え対象のiterable\n",
    "# param2 : key - 引数をひとつだけ持つ関数を指定(この関数をリストの全要素に適用したあとsortを行う), reverse - bool(Trueだと並び順を反転)\n",
    "# return : list(並び替え後のリスト)\n",
    "text = \"There are many ways to use sort 4 67 1 30 data and there appear . # $ !\"\n",
    "num_list = [4, 5, 1, 0, 3, 2]\n",
    "text_list = text.split(\" \")\n",
    "sample_dict = dict(id=1, name=\"midori\", body=\"Hello\")\n",
    "\n",
    "print(sorted(num_list))\n",
    "print(sorted(num_list, reverse=True))\n",
    "print(sorted(text_list))\n",
    "print(sorted(text_list, reverse=True))\n",
    "print(sorted(text_list, key=str.lower, reverse=True))\n",
    "print(sorted(sample_dict))"
   ]
  },
  {
   "cell_type": "code",
   "execution_count": 44,
   "metadata": {
    "collapsed": false
   },
   "outputs": [
    {
     "name": "stdout",
     "output_type": "stream",
     "text": [
      "[2, 3, 0, 1, 5, 4]\n",
      "['!', '$', '#', '.', 'appear', 'there', 'and', 'data', '30', '1', '67', '4', 'sort', 'use', 'to', 'ways', 'many', 'are', 'There']\n"
     ]
    }
   ],
   "source": [
    "# reverse()\n",
    "# text : リストの並びを反転する。リスト自体を書き換える\n",
    "# return : None\n",
    "text = \"There are many ways to use sort 4 67 1 30 data and there appear . # $ !\"\n",
    "num_list = [4, 5, 1, 0, 3, 2]\n",
    "text_list = text.split(\" \")\n",
    "\n",
    "num_list.reverse()\n",
    "print(num_list)\n",
    "\n",
    "text_list.reverse()\n",
    "print(text_list)"
   ]
  },
  {
   "cell_type": "code",
   "execution_count": 47,
   "metadata": {
    "collapsed": false
   },
   "outputs": [
    {
     "name": "stdout",
     "output_type": "stream",
     "text": [
      "[4, 5, 0, 3, 2, 1]\n",
      "['There', 'are', 'many', 'ways', 'use', 'sort', '4', '67', '1', '30', 'data', 'to', 'and', 'there', 'appear', '.', '#', '$', '!']\n"
     ]
    },
    {
     "ename": "ValueError",
     "evalue": "list.remove(x): x not in list",
     "output_type": "error",
     "traceback": [
      "\u001b[1;31m---------------------------------------------------------------------------\u001b[0m",
      "\u001b[1;31mValueError\u001b[0m                                Traceback (most recent call last)",
      "\u001b[1;32m<ipython-input-47-98ea7aa056b1>\u001b[0m in \u001b[0;36m<module>\u001b[1;34m()\u001b[0m\n\u001b[0;32m     13\u001b[0m \u001b[0mprint\u001b[0m\u001b[1;33m(\u001b[0m\u001b[0mtext_list\u001b[0m\u001b[1;33m)\u001b[0m\u001b[1;33m\u001b[0m\u001b[0m\n\u001b[0;32m     14\u001b[0m \u001b[1;33m\u001b[0m\u001b[0m\n\u001b[1;32m---> 15\u001b[1;33m \u001b[0mtext_list\u001b[0m\u001b[1;33m.\u001b[0m\u001b[0mremove\u001b[0m\u001b[1;33m(\u001b[0m\u001b[1;34m\"hello\"\u001b[0m\u001b[1;33m)\u001b[0m\u001b[1;33m\u001b[0m\u001b[0m\n\u001b[0m",
      "\u001b[1;31mValueError\u001b[0m: list.remove(x): x not in list"
     ]
    }
   ],
   "source": [
    "# remove(x)\n",
    "# text : リストの要素から、xを最初のひとつだけ削除する。リスト自体を書き換える。\n",
    "# text2 : xがリストの要素として存在しないとValueErrorを返す\n",
    "# param : x - 何でも(削除する要素)\n",
    "# return : None\n",
    "text = \"There are many ways to use sort 4 67 1 30 data to and there appear . # $ !\"\n",
    "num_list = [4, 5, 1, 0, 3, 2, 1]\n",
    "text_list = text.split(\" \")\n",
    "\n",
    "num_list.remove(1)\n",
    "print(num_list)\n",
    "\n",
    "text_list.remove(\"to\")\n",
    "print(text_list)\n",
    "\n",
    "text_list.remove(\"hello\")"
   ]
  },
  {
   "cell_type": "code",
   "execution_count": 46,
   "metadata": {
    "collapsed": false
   },
   "outputs": [
    {
     "name": "stdout",
     "output_type": "stream",
     "text": [
      "[4, 5, 1, 0, 3, 2, 1, 100]\n",
      "['There', 'are', 'many', 'ways', 'to', 'use', 'sort', '4', '67', '1', '30', 'data', 'to', 'and', 'there', 'appear', '.', '#', '$', '!', 'Hello!!']\n"
     ]
    }
   ],
   "source": [
    "# append(x)\n",
    "# text : リストの末尾ににxの要素を追加するリスト自体を書き換える\n",
    "# param : x - 何でも(追加する要素)\n",
    "# return : None\n",
    "text = \"There are many ways to use sort 4 67 1 30 data to and there appear . # $ !\"\n",
    "num_list = [4, 5, 1, 0, 3, 2, 1]\n",
    "text_list = text.split(\" \")\n",
    "\n",
    "num_list.append(100)\n",
    "print(num_list)\n",
    "\n",
    "text_list.append(\"Hello!!\")\n",
    "print(text_list)"
   ]
  },
  {
   "cell_type": "code",
   "execution_count": 49,
   "metadata": {
    "collapsed": false
   },
   "outputs": [
    {
     "name": "stdout",
     "output_type": "stream",
     "text": [
      "['There', 'are', 'many', 'ways', 'to', 'use', 'sort', '4', '67', '1', '30', 'data', 'to', 'and', 'there', 'appear', '.', '#', '$', '!', 4, 5, 1, 0, 3, 2, 1]\n",
      "[4, 5, 1, 0, 3, 2, 1]\n"
     ]
    }
   ],
   "source": [
    "# extend(list)\n",
    "# text : リストの末尾ににxの要素を追加する。複数の要素を追加したいときに用いるリスト自体を書き換える\n",
    "# param : list - 追加するシーケンス\n",
    "# return : None\n",
    "text = \"There are many ways to use sort 4 67 1 30 data to and there appear . # $ !\"\n",
    "num_list = [4, 5, 1, 0, 3, 2, 1]\n",
    "text_list = text.split(\" \")\n",
    "\n",
    "text_list.extend(num_list)\n",
    "print(text_list)\n",
    "print(num_list)"
   ]
  },
  {
   "cell_type": "code",
   "execution_count": 51,
   "metadata": {
    "collapsed": false
   },
   "outputs": [
    {
     "name": "stdout",
     "output_type": "stream",
     "text": [
      "['are', 'many', 'ways', 'to', 'use', 'sort', '4', '67', '1', '30', 'data', 'to', 'and', 'there', 'appear', '.', '#', '$', '!']\n",
      "[5, 1, 0, 3, 2, 1]\n"
     ]
    }
   ],
   "source": [
    "# pop(index)\n",
    "# text : リストの要素を1つだけ取り除き、戻り値として取り除いた要素を返す。\n",
    "# param : index - int(取り除きたい要素のインデックス)\n",
    "# return : 取り除いた要素\n",
    "text = \"There are many ways to use sort 4 67 1 30 data to and there appear . # $ !\"\n",
    "num_list = [4, 5, 1, 0, 3, 2, 1]\n",
    "text_list = text.split(\" \")\n",
    "\n",
    "text_list.pop(0)\n",
    "print(text_list)\n",
    "\n",
    "num_list.pop(0)\n",
    "print(num_list)"
   ]
  },
  {
   "cell_type": "code",
   "execution_count": 54,
   "metadata": {
    "collapsed": false
   },
   "outputs": [
    {
     "name": "stdout",
     "output_type": "stream",
     "text": [
      "4\n"
     ]
    }
   ],
   "source": [
    "# index(sub[, start[, end]])\n",
    "# text : 検索したい文字列を探し、そのインデックスを返す。値が見つからない場合はValueErrorを返す\n",
    "# param : sub - 検索したい文字列, start - 検索開始位置 , end - 検索終了位置\n",
    "# return : int(見つかった要素のインデックス)\n",
    "text = \"There are many ways to use sort 4 67 1 30 data to and there appear . # $ !\"\n",
    "text_list = text.split(\" \")\n",
    "\n",
    "print(text_list.index(\"to\"))"
   ]
  },
  {
   "cell_type": "code",
   "execution_count": 55,
   "metadata": {
    "collapsed": true
   },
   "outputs": [],
   "source": [
    "########################################\n",
    "# dict\n",
    "########################################"
   ]
  },
  {
   "cell_type": "code",
   "execution_count": 59,
   "metadata": {
    "collapsed": false
   },
   "outputs": [
    {
     "name": "stdout",
     "output_type": "stream",
     "text": [
      "dict_keys(['name', 'body', 'id', 'title'])\n",
      "<class 'dict_keys'>\n",
      "name\n",
      "body\n",
      "id\n",
      "title\n"
     ]
    }
   ],
   "source": [
    "# keys()\n",
    "# text : ディクショナリに登録されているキーの一覧を返す\n",
    "# return : dict_keysオブジェクト(iterable)\n",
    "sample_dict = dict(id=1, name=\"midori\", title=\"Hello World\", body=\"Pythonista!\")\n",
    "key = sample_dict.keys()\n",
    "print(key)\n",
    "print(type(key))"
   ]
  },
  {
   "cell_type": "code",
   "execution_count": 64,
   "metadata": {
    "collapsed": false
   },
   "outputs": [
    {
     "name": "stdout",
     "output_type": "stream",
     "text": [
      "midori\n",
      "-1\n"
     ]
    }
   ],
   "source": [
    "# get(key[, default])\n",
    "# text : dictからkeyに対応するvalueを返す。keyが存在しない場合はdefaultを返す\n",
    "# param : key - dictのkey, default - keyが存在しない場合にdefaultを返す\n",
    "# return : keyに対応するvalue\n",
    "sample_dict = dict(id=1, name=\"midori\", title=\"Hello World\", body=\"Pythonista!\")\n",
    "val = sample_dict.get(\"name\", -1)\n",
    "print(val)\n",
    "val = sample_dict.get(\"hey\", -1)\n",
    "print(val)"
   ]
  },
  {
   "cell_type": "code",
   "execution_count": 65,
   "metadata": {
    "collapsed": false
   },
   "outputs": [
    {
     "name": "stdout",
     "output_type": "stream",
     "text": [
      "midori\n",
      "202-0004\n",
      "{'name': 'midori', 'postcode': '202-0004', 'body': 'Pythonista!', 'id': 1, 'title': 'Hello World'}\n"
     ]
    }
   ],
   "source": [
    "# setdefault(key[, default])\n",
    "# text : dictからkeyに対応するvalueを返す。keyが存在しない場合はdictにdefaultを登録し、defaultを返す\n",
    "# param : key - dictのkey, default - keyが存在しない場合にdefaultを返す\n",
    "# return : keyに対応するvalue\n",
    "sample_dict = dict(id=1, name=\"midori\", title=\"Hello World\", body=\"Pythonista!\")\n",
    "val = sample_dict.setdefault(\"name\", -1)\n",
    "print(val)\n",
    "\n",
    "val = sample_dict.setdefault(\"postcode\", \"202-0004\")\n",
    "print(val)\n",
    "print(sample_dict)"
   ]
  },
  {
   "cell_type": "code",
   "execution_count": 69,
   "metadata": {
    "collapsed": false
   },
   "outputs": [
    {
     "name": "stdout",
     "output_type": "stream",
     "text": [
      "dict_items([('name', 'midori'), ('body', 'Pythonista!'), ('id', 1), ('title', 'Hello World')])\n",
      "<class 'dict_items'>\n"
     ]
    }
   ],
   "source": [
    "# items()\n",
    "# text : dictに登録されているkeyとvalueをペアにしたタプルのリストを返す。\n",
    "# return : dict_items(タプルのリスト)\n",
    "sample_dict = dict(id=1, name=\"midori\", title=\"Hello World\", body=\"Pythonista!\")\n",
    "item = sample_dict.items()\n",
    "print(item)\n",
    "print(type(item))"
   ]
  },
  {
   "cell_type": "code",
   "execution_count": 70,
   "metadata": {
    "collapsed": false
   },
   "outputs": [
    {
     "name": "stdout",
     "output_type": "stream",
     "text": [
      "dict_values(['midori', 'Pythonista!', 1, 'Hello World'])\n",
      "<class 'dict_values'>\n"
     ]
    }
   ],
   "source": [
    "# values()\n",
    "# text : dictに登録されているvalueの一覧を返す\n",
    "# return : dict_values(iterable)\n",
    "sample_dict = dict(id=1, name=\"midori\", title=\"Hello World\", body=\"Pythonista!\")\n",
    "value = sample_dict.values()\n",
    "print(value)\n",
    "print(type(value))"
   ]
  },
  {
   "cell_type": "code",
   "execution_count": 75,
   "metadata": {
    "collapsed": false
   },
   "outputs": [
    {
     "name": "stdout",
     "output_type": "stream",
     "text": [
      "{'postcode': '2020004', 'body': 'Pythonista!', 'name': 'keita', 'address': 'Tokyo', 'id': 1, 'title': 'Hello World'}\n",
      "{'postcode': '2020004', 'body': 'Pythonista!', 'name': 'keita', 'address': 'Tokyo', 'id': 1, 'title': 'Hello World'}\n"
     ]
    }
   ],
   "source": [
    "# update(element)\n",
    "# text : 引数のelementをdictに追加する。すでにkeyが存在している場合は上書きする。\n",
    "# param : element - [(key, value), (key1, value)...]もしくはkey=value, key=value\n",
    "# return : None\n",
    "sample_dict = dict(id=1, name=\"midori\", title=\"Hello World\", body=\"Pythonista!\")\n",
    "sample_dict.update([(\"postcode\", \"2020004\"), (\"address\", \"Tokyo\"), (\"name\", \"keita\")])\n",
    "print(sample_dict)\n",
    "\n",
    "sample_dict = dict(id=1, name=\"midori\", title=\"Hello World\", body=\"Pythonista!\")\n",
    "sample_dict.update(postcode=\"2020004\", address=\"Tokyo\", name=\"keita\")\n",
    "print(sample_dict)"
   ]
  },
  {
   "cell_type": "code",
   "execution_count": 2,
   "metadata": {
    "collapsed": false
   },
   "outputs": [
    {
     "name": "stdout",
     "output_type": "stream",
     "text": [
      "{'name': 'midorikawa', 'age': 25}\n",
      "{'name': 'keita', 'age': 25}\n",
      "keita\n",
      "{'name': 'keita'}\n"
     ]
    }
   ],
   "source": [
    "# dictの基本操作\n",
    "sample_dict = dict()\n",
    "sample_dict[\"name\"] = \"midorikawa\"\n",
    "sample_dict[\"age\"] = 25\n",
    "print(sample_dict)\n",
    "sample_dict[\"name\"] = \"keita\"\n",
    "print(sample_dict)\n",
    "print(sample_dict[\"name\"])\n",
    "#print(sample_dict[\"spam\"])\n",
    "del sample_dict[\"age\"]\n",
    "print(sample_dict)"
   ]
  },
  {
   "cell_type": "code",
   "execution_count": 4,
   "metadata": {
    "collapsed": false
   },
   "outputs": [
    {
     "data": {
      "text/plain": [
       "[1, 12, 1234567, 'hello', 'spam']"
      ]
     },
     "execution_count": 4,
     "metadata": {},
     "output_type": "execute_result"
    }
   ],
   "source": [
    "sample_list = [1234567, 1, 12, \"hello\", \"spam\"]\n",
    "sorted(sample_list, key=str)"
   ]
  },
  {
   "cell_type": "code",
   "execution_count": null,
   "metadata": {
    "collapsed": true
   },
   "outputs": [],
   "source": []
  }
 ],
 "metadata": {
  "kernelspec": {
   "display_name": "Python 3",
   "language": "python",
   "name": "python3"
  },
  "language_info": {
   "codemirror_mode": {
    "name": "ipython",
    "version": 3
   },
   "file_extension": ".py",
   "mimetype": "text/x-python",
   "name": "python",
   "nbconvert_exporter": "python",
   "pygments_lexer": "ipython3",
   "version": "3.4.3"
  }
 },
 "nbformat": 4,
 "nbformat_minor": 0
}
