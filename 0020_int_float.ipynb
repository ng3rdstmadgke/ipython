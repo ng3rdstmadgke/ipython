{
 "cells": [
  {
   "cell_type": "code",
   "execution_count": 1,
   "metadata": {
    "collapsed": true
   },
   "outputs": [],
   "source": [
    "#########################################################\n",
    "# 基本的な数値計算を行う(組み込み関数)\n",
    "#########################################################"
   ]
  },
  {
   "cell_type": "code",
   "execution_count": 2,
   "metadata": {
    "collapsed": false
   },
   "outputs": [
    {
     "name": "stdout",
     "output_type": "stream",
     "text": [
      "23\n",
      "1.5\n"
     ]
    }
   ],
   "source": [
    "# abs(x)\n",
    "# xの絶対値を求める\n",
    "# int, float\n",
    "print(abs(-23))\n",
    "print(abs(-1.5))"
   ]
  },
  {
   "cell_type": "code",
   "execution_count": 3,
   "metadata": {
    "collapsed": false
   },
   "outputs": [
    {
     "name": "stdout",
     "output_type": "stream",
     "text": [
      "1223\n",
      "4\n"
     ]
    }
   ],
   "source": [
    "# max(arg1, arg2, *args,[, key])\n",
    "# シーケンスの中で最大の値を返す。2つ以上の引数を与えるとその中で最大の値を返す\n",
    "# int, float\n",
    "print(max([1223, 23, 78]))\n",
    "print(max(1, 2, 3, 4))\n",
    "# print(max(1, 2, 3, [1223, 23])) >> Error"
   ]
  },
  {
   "cell_type": "code",
   "execution_count": 4,
   "metadata": {
    "collapsed": false
   },
   "outputs": [
    {
     "name": "stdout",
     "output_type": "stream",
     "text": [
      "23\n",
      "1\n"
     ]
    }
   ],
   "source": [
    "# min(arg1, arg2, *args,[, key])\n",
    "# シーケンスの中で最小の値を返す。2つ以上の引数を与えるとその中で最小の値を返す\n",
    "# int, float\n",
    "print(min([1223, 23, 78]))\n",
    "print(min(1, 2, 3, 4))"
   ]
  },
  {
   "cell_type": "code",
   "execution_count": 5,
   "metadata": {
    "collapsed": false
   },
   "outputs": [
    {
     "name": "stdout",
     "output_type": "stream",
     "text": [
      "55\n",
      "65\n"
     ]
    }
   ],
   "source": [
    "# sum(iterable[, start=0])\n",
    "# iterableに指定される数値の総和を求める。startに数値が与えられた場合、その数値も加算される\n",
    "# int, float\n",
    "num_list = list(range(1,11))\n",
    "print(sum(num_list))\n",
    "print(sum(num_list, 10))"
   ]
  },
  {
   "cell_type": "code",
   "execution_count": 6,
   "metadata": {
    "collapsed": false
   },
   "outputs": [
    {
     "name": "stdout",
     "output_type": "stream",
     "text": [
      "1024\n",
      "24\n"
     ]
    }
   ],
   "source": [
    "# pow(x, y[, z])\n",
    "# べき乗を求める。xのy乗を求める。zを指定した場合はべき乗の結果をzで割った時のあまりを求める\n",
    "# int, float\n",
    "print(pow(2, 10))\n",
    "print(pow(2, 10, 100))"
   ]
  },
  {
   "cell_type": "code",
   "execution_count": 7,
   "metadata": {
    "collapsed": true
   },
   "outputs": [],
   "source": [
    "#########################################################\n",
    "# 基本的な数値計算を行う(math)\n",
    "#########################################################\n",
    "import math"
   ]
  },
  {
   "cell_type": "code",
   "execution_count": 8,
   "metadata": {
    "collapsed": false
   },
   "outputs": [
    {
     "data": {
      "text/plain": [
       "2"
      ]
     },
     "execution_count": 8,
     "metadata": {},
     "output_type": "execute_result"
    }
   ],
   "source": [
    "# ceil(x)\n",
    "# float型の数値x以上の最小の整数値を求める。切り上げ\n",
    "# int\n",
    "math.ceil(1.234)"
   ]
  },
  {
   "cell_type": "code",
   "execution_count": 9,
   "metadata": {
    "collapsed": false
   },
   "outputs": [
    {
     "data": {
      "text/plain": [
       "1"
      ]
     },
     "execution_count": 9,
     "metadata": {},
     "output_type": "execute_result"
    }
   ],
   "source": [
    "# floor(x)\n",
    "# float型の数値x以下の最大の整数値を求める。切り下げ\n",
    "# int\n",
    "math.floor(1.234)"
   ]
  },
  {
   "cell_type": "code",
   "execution_count": 10,
   "metadata": {
    "collapsed": false
   },
   "outputs": [
    {
     "data": {
      "text/plain": [
       "1"
      ]
     },
     "execution_count": 10,
     "metadata": {},
     "output_type": "execute_result"
    }
   ],
   "source": [
    "# trunc(x)\n",
    "# float型の数値xの小数点以下を切り捨てる\n",
    "# int\n",
    "math.trunc(1.234)"
   ]
  },
  {
   "cell_type": "code",
   "execution_count": 11,
   "metadata": {
    "collapsed": false
   },
   "outputs": [
    {
     "name": "stdout",
     "output_type": "stream",
     "text": [
      "3.141592653589793\n"
     ]
    }
   ],
   "source": [
    "# pi\n",
    "# 円周率を取得する\n",
    "# float\n",
    "print(math.pi)"
   ]
  },
  {
   "cell_type": "code",
   "execution_count": 12,
   "metadata": {
    "collapsed": false
   },
   "outputs": [],
   "source": [
    "#########################################################\n",
    "# 固定少数型で計算を行う(Decimal)\n",
    "#########################################################\n",
    "from decimal import Decimal"
   ]
  },
  {
   "cell_type": "code",
   "execution_count": 13,
   "metadata": {
    "collapsed": false
   },
   "outputs": [
    {
     "name": "stdout",
     "output_type": "stream",
     "text": [
      "1\n",
      "3.141592653589793115997963468544185161590576171875\n",
      "3.14\n",
      "-1.414\n"
     ]
    }
   ],
   "source": [
    "# decimal.Decimal(value=\"0\", context=None)\n",
    "# 解説 : 引数に指定した値に基づいてDecimalオブジェクトを生成する\n",
    "# 引数 : value - 数値, context - 算術コンテキスト\n",
    "# 戻り値 : Decimalオブジェクト\n",
    "print(Decimal(\"1\"))\n",
    "print(Decimal(math.pi))\n",
    "print(Decimal((0, (3, 1, 4), -2)))\n",
    "print(Decimal((1, (1, 4, 1, 4), -3)))"
   ]
  },
  {
   "cell_type": "code",
   "execution_count": 14,
   "metadata": {
    "collapsed": false
   },
   "outputs": [
    {
     "name": "stdout",
     "output_type": "stream",
     "text": [
      "3.0\n"
     ]
    }
   ],
   "source": [
    "# Decimalオブジェクトは数値型と同じように計算操作が行える\n",
    "x = Decimal(\"2.4\")\n",
    "y = Decimal(\"0.6\")\n",
    "print(x + y)"
   ]
  },
  {
   "cell_type": "code",
   "execution_count": 15,
   "metadata": {
    "collapsed": false
   },
   "outputs": [
    {
     "name": "stdout",
     "output_type": "stream",
     "text": [
      "3.333333333333333333333333333\n"
     ]
    }
   ],
   "source": [
    "# デフォルトでは28桁の計算精度\n",
    "x = Decimal(10)\n",
    "y = Decimal(3)\n",
    "print(x / y)"
   ]
  },
  {
   "cell_type": "code",
   "execution_count": 16,
   "metadata": {
    "collapsed": false
   },
   "outputs": [
    {
     "name": "stdout",
     "output_type": "stream",
     "text": [
      "3.3333333\n"
     ]
    }
   ],
   "source": [
    "# getcontext().prec = int\n",
    "# 有効桁数を指定する。\n",
    "from decimal import getcontext\n",
    "getcontext().prec = 8\n",
    "print(x / y)\n",
    "getcontext().prec = 28"
   ]
  },
  {
   "cell_type": "code",
   "execution_count": 23,
   "metadata": {
    "collapsed": false
   },
   "outputs": [],
   "source": [
    "# quantize(exp[, rounding[, context[, watchexp]]])\n",
    "# 解説 : 数値の丸めを行う\n",
    "# 引数 : exp - 桁数, rounding - 丸め方法\n",
    "# 戻り値 : Decimalオブジェクト\n",
    "from decimal import *"
   ]
  },
  {
   "cell_type": "code",
   "execution_count": 33,
   "metadata": {
    "collapsed": false
   },
   "outputs": [
    {
     "name": "stdout",
     "output_type": "stream",
     "text": [
      "1.1\n",
      "1.1\n",
      "-1.1\n"
     ]
    }
   ],
   "source": [
    "# ROUND_UP 切り上げ\n",
    "exp = Decimal((0, (1, 0), -1))\n",
    "print(Decimal(\"1.04\").quantize(exp, rounding=ROUND_UP))\n",
    "print(Decimal(\"1.05\").quantize(Decimal(\"1.0\"), rounding=ROUND_UP))\n",
    "print(Decimal(\"-1.05\").quantize(Decimal(\"1.0\"), rounding=ROUND_UP))"
   ]
  },
  {
   "cell_type": "code",
   "execution_count": 34,
   "metadata": {
    "collapsed": false
   },
   "outputs": [
    {
     "name": "stdout",
     "output_type": "stream",
     "text": [
      "1.0\n",
      "-1.0\n"
     ]
    }
   ],
   "source": [
    "# ROUND_DOWN 切り捨て\n",
    "print(Decimal(\"1.05\").quantize(Decimal(\"1.0\"), rounding=ROUND_DOWN))\n",
    "print(Decimal(\"-1.05\").quantize(Decimal(\"1.0\"), rounding=ROUND_DOWN))"
   ]
  },
  {
   "cell_type": "code",
   "execution_count": 38,
   "metadata": {
    "collapsed": false
   },
   "outputs": [
    {
     "name": "stdout",
     "output_type": "stream",
     "text": [
      "1.1\n",
      "-1.0\n"
     ]
    }
   ],
   "source": [
    "# ROUND_CEILING 正の無限大方向へ丸め\n",
    "print(Decimal(\"1.05\").quantize(Decimal(\"1.0\"), rounding=ROUND_CEILING))\n",
    "print(Decimal(\"-1.05\").quantize(Decimal(\"1.0\"), rounding=ROUND_CEILING))"
   ]
  },
  {
   "cell_type": "code",
   "execution_count": 39,
   "metadata": {
    "collapsed": false
   },
   "outputs": [
    {
     "name": "stdout",
     "output_type": "stream",
     "text": [
      "1.0\n",
      "-1.1\n"
     ]
    }
   ],
   "source": [
    "# ROUND_FLOOR 負の無限大方向へ丸め\n",
    "print(Decimal(\"1.05\").quantize(Decimal(\"1.0\"), rounding=ROUND_FLOOR))\n",
    "print(Decimal(\"-1.05\").quantize(Decimal(\"1.0\"), rounding=ROUND_FLOOR))"
   ]
  },
  {
   "cell_type": "code",
   "execution_count": 40,
   "metadata": {
    "collapsed": false
   },
   "outputs": [
    {
     "name": "stdout",
     "output_type": "stream",
     "text": [
      "1.1\n",
      "1.0\n"
     ]
    }
   ],
   "source": [
    "# ROUND_HALF_UP 四捨五入\n",
    "print(Decimal(\"1.05\").quantize(Decimal(\"1.0\"), rounding=ROUND_HALF_UP))\n",
    "print(Decimal(\"1.04\").quantize(Decimal(\"1.0\"), rounding=ROUND_HALF_UP))"
   ]
  },
  {
   "cell_type": "code",
   "execution_count": 42,
   "metadata": {
    "collapsed": true
   },
   "outputs": [],
   "source": [
    "#########################################################\n",
    "# 擬似乱数を使う(rondom)\n",
    "#########################################################\n",
    "import random"
   ]
  },
  {
   "cell_type": "code",
   "execution_count": 46,
   "metadata": {
    "collapsed": false
   },
   "outputs": [
    {
     "data": {
      "text/plain": [
       "0.8148359800714832"
      ]
     },
     "execution_count": 46,
     "metadata": {},
     "output_type": "execute_result"
    }
   ],
   "source": [
    "# 0~1までのfloatを取得する\n",
    "random.random()"
   ]
  },
  {
   "cell_type": "code",
   "execution_count": 50,
   "metadata": {
    "collapsed": false
   },
   "outputs": [
    {
     "name": "stdout",
     "output_type": "stream",
     "text": [
      "10\n"
     ]
    }
   ],
   "source": [
    "# randint(x, y)\n",
    "# x~yまでの数値を取得する。floatは引数に指定できない。\n",
    "print(random.randint(1, 10))"
   ]
  },
  {
   "cell_type": "code",
   "execution_count": 52,
   "metadata": {
    "collapsed": false
   },
   "outputs": [
    {
     "name": "stdout",
     "output_type": "stream",
     "text": [
      "9.148684640431204\n",
      "1.8873625792067747\n"
     ]
    }
   ],
   "source": [
    "# uniform(x, y)\n",
    "# x~yまでの数値を取得する。戻り値はfloat。引数にはintとfloatどちらも指定できる。\n",
    "print(random.uniform(1, 10))\n",
    "print(random.uniform(1.5, 2.5))"
   ]
  },
  {
   "cell_type": "code",
   "execution_count": 59,
   "metadata": {
    "collapsed": false
   },
   "outputs": [
    {
     "name": "stdout",
     "output_type": "stream",
     "text": [
      "0.5714025946899135\n",
      "0.5714025946899135\n",
      "0.4288890546751146\n"
     ]
    }
   ],
   "source": [
    "# seed(int)\n",
    "# 取得した乱数を再現させたいときはseedメソッドを用いる\n",
    "random.seed(10)\n",
    "print(random.random())\n",
    "random.seed(10)\n",
    "print(random.random())\n",
    "print(random.random())"
   ]
  },
  {
   "cell_type": "code",
   "execution_count": 62,
   "metadata": {
    "collapsed": false
   },
   "outputs": [
    {
     "name": "stdout",
     "output_type": "stream",
     "text": [
      "4\n"
     ]
    }
   ],
   "source": [
    "# choice(seq)\n",
    "# シーケンスるの要素をひとつ返す\n",
    "seq = list(range(1, 11))\n",
    "print(random.choice(seq))"
   ]
  },
  {
   "cell_type": "code",
   "execution_count": 63,
   "metadata": {
    "collapsed": false
   },
   "outputs": [
    {
     "data": {
      "text/plain": [
       "[8, 10, 5]"
      ]
     },
     "execution_count": 63,
     "metadata": {},
     "output_type": "execute_result"
    }
   ],
   "source": [
    "# sample(population, k)\n",
    "# text : 母集団populationの中からkこのサンプルを取得する。\n",
    "# param : population - list, k - int\n",
    "# return : list\n",
    "random.sample(seq, 3)"
   ]
  },
  {
   "cell_type": "code",
   "execution_count": 64,
   "metadata": {
    "collapsed": false
   },
   "outputs": [
    {
     "name": "stdout",
     "output_type": "stream",
     "text": [
      "[4, 5, 6, 7, 2, 9, 10, 8, 1, 3]\n"
     ]
    }
   ],
   "source": [
    "# shuffle(seq[, random])\n",
    "# text : シーケンスの要素の順序をシャフルする。\n",
    "# param : seq - list, random - ?\n",
    "# return : なし\n",
    "random.shuffle(seq)\n",
    "print(seq)"
   ]
  },
  {
   "cell_type": "code",
   "execution_count": 66,
   "metadata": {
    "collapsed": true
   },
   "outputs": [],
   "source": [
    "#########################################################\n",
    "# 統計計算を行う(statistics)\n",
    "#########################################################\n",
    "import statistics"
   ]
  },
  {
   "cell_type": "code",
   "execution_count": 76,
   "metadata": {
    "collapsed": false
   },
   "outputs": [
    {
     "data": {
      "text/plain": [
       "38.52564102564103"
      ]
     },
     "execution_count": 76,
     "metadata": {},
     "output_type": "execute_result"
    }
   ],
   "source": [
    "# mean(data)\n",
    "# text : dataの平均を求める\n",
    "# param : data - list\n",
    "# retun : float\n",
    "data = list(range(1, 78))\n",
    "data.append(2)\n",
    "statistics.mean(data)"
   ]
  },
  {
   "cell_type": "code",
   "execution_count": 77,
   "metadata": {
    "collapsed": false
   },
   "outputs": [
    {
     "data": {
      "text/plain": [
       "38.5"
      ]
     },
     "execution_count": 77,
     "metadata": {},
     "output_type": "execute_result"
    }
   ],
   "source": [
    "# median(data)\n",
    "# text : dataの中央値を求める\n",
    "# param : data - list\n",
    "# retun : float\n",
    "statistics.median(data)"
   ]
  },
  {
   "cell_type": "code",
   "execution_count": 78,
   "metadata": {
    "collapsed": false
   },
   "outputs": [
    {
     "data": {
      "text/plain": [
       "2"
      ]
     },
     "execution_count": 78,
     "metadata": {},
     "output_type": "execute_result"
    }
   ],
   "source": [
    "# mode(data)\n",
    "# text : dataの最頻値を求める\n",
    "# param : data - list\n",
    "# retun : float\n",
    "statistics.mode(data)"
   ]
  },
  {
   "cell_type": "code",
   "execution_count": null,
   "metadata": {
    "collapsed": true
   },
   "outputs": [],
   "source": []
  }
 ],
 "metadata": {
  "kernelspec": {
   "display_name": "Python 3",
   "language": "python",
   "name": "python3"
  },
  "language_info": {
   "codemirror_mode": {
    "name": "ipython",
    "version": 3
   },
   "file_extension": ".py",
   "mimetype": "text/x-python",
   "name": "python",
   "nbconvert_exporter": "python",
   "pygments_lexer": "ipython3",
   "version": "3.5.1+"
  }
 },
 "nbformat": 4,
 "nbformat_minor": 0
}
