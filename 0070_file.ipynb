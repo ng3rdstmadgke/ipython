{
 "cells": [
  {
   "cell_type": "code",
   "execution_count": 92,
   "metadata": {
    "collapsed": true
   },
   "outputs": [],
   "source": [
    "##################################################################\n",
    "# ファイルの入出力\n",
    "##################################################################"
   ]
  },
  {
   "cell_type": "code",
   "execution_count": 93,
   "metadata": {
    "collapsed": true
   },
   "outputs": [],
   "source": [
    "# ファイルを開く\n",
    "#==================================================\n",
    "# open(filename, mode)\n",
    "# text : 引数としてファイル名と操作モードを受け取り、ファイルオブジェクトを返す\n",
    "# param : filename - str(ファイルのパスを指定)\n",
    "## mode - \n",
    "### ==1文字目(操作モードを指定)==\n",
    "#### r:読み出し\n",
    "#### w:書き込み(ファイルが存在しない場合は新しく作成、存在する場合は上書き)\n",
    "#### x:書き込み(ファイルが存在しない場合は新しく作成、存在する場合はエラー)\n",
    "#### a:書き込み(ファイルが存在しない場合は新しく作成、存在する場合は追記)\n",
    "### ==2文字目(ファイルタイプを指定)==\n",
    "#### t:テキストファイル(default)\n",
    "#### b:バイナリファイル\n",
    "# return : fileobj\n",
    "greet = \"hello world\\n\"\n",
    "myname = \"k-ta!\\n\"\n",
    "def read_file(filename, mode=\"t\"):\n",
    "    mode = \"r\" + mode\n",
    "    with open(filename, mode) as f:\n",
    "        print(f.read())"
   ]
  },
  {
   "cell_type": "code",
   "execution_count": 94,
   "metadata": {
    "collapsed": false
   },
   "outputs": [
    {
     "name": "stdout",
     "output_type": "stream",
     "text": [
      "hello world\n",
      "\n"
     ]
    }
   ],
   "source": [
    "# wで書き込み\n",
    "with open(\"hoge.txt\", \"wt\") as f:\n",
    "    f.write(greet)\n",
    "read_file(\"hoge.txt\")"
   ]
  },
  {
   "cell_type": "code",
   "execution_count": 95,
   "metadata": {
    "collapsed": false
   },
   "outputs": [
    {
     "ename": "FileExistsError",
     "evalue": "[Errno 17] File exists: 'hoge.txt'",
     "output_type": "error",
     "traceback": [
      "\u001b[0;31m---------------------------------------------------------------------\u001b[0m",
      "\u001b[0;31mFileExistsError\u001b[0m                     Traceback (most recent call last)",
      "\u001b[0;32m<ipython-input-95-a2db3f92e5b9>\u001b[0m in \u001b[0;36m<module>\u001b[0;34m()\u001b[0m\n\u001b[1;32m      1\u001b[0m \u001b[0;31m# すでに存在するファイルをxモードで開く\u001b[0m\u001b[0;34m\u001b[0m\u001b[0;34m\u001b[0m\u001b[0m\n\u001b[0;32m----> 2\u001b[0;31m \u001b[0;32mwith\u001b[0m \u001b[0mopen\u001b[0m\u001b[0;34m(\u001b[0m\u001b[0;34m\"hoge.txt\"\u001b[0m\u001b[0;34m,\u001b[0m \u001b[0;34m\"xt\"\u001b[0m\u001b[0;34m)\u001b[0m \u001b[0;32mas\u001b[0m \u001b[0mf\u001b[0m\u001b[0;34m:\u001b[0m\u001b[0;34m\u001b[0m\u001b[0m\n\u001b[0m\u001b[1;32m      3\u001b[0m     \u001b[0mf\u001b[0m\u001b[0;34m.\u001b[0m\u001b[0mwrite\u001b[0m\u001b[0;34m(\u001b[0m\u001b[0mmyname\u001b[0m\u001b[0;34m)\u001b[0m\u001b[0;34m\u001b[0m\u001b[0m\n",
      "\u001b[0;31mFileExistsError\u001b[0m: [Errno 17] File exists: 'hoge.txt'"
     ]
    }
   ],
   "source": [
    "# すでに存在するファイルをxモードで開く\n",
    "with open(\"hoge.txt\", \"xt\") as f:\n",
    "    f.write(myname)"
   ]
  },
  {
   "cell_type": "code",
   "execution_count": 96,
   "metadata": {
    "collapsed": false
   },
   "outputs": [
    {
     "name": "stdout",
     "output_type": "stream",
     "text": [
      "hello world\n",
      "k-ta!\n",
      "\n"
     ]
    }
   ],
   "source": [
    "# すでに存在するファイルをaモードで書き込み\n",
    "with open(\"hoge.txt\", \"at\") as f:\n",
    "    f.write(myname)\n",
    "read_file(\"hoge.txt\")"
   ]
  },
  {
   "cell_type": "code",
   "execution_count": 97,
   "metadata": {
    "collapsed": true
   },
   "outputs": [],
   "source": [
    "import os\n",
    "os.remove(\"hoge.txt\")"
   ]
  },
  {
   "cell_type": "code",
   "execution_count": 98,
   "metadata": {
    "collapsed": true
   },
   "outputs": [],
   "source": [
    "# ファイルの書き込み(テキストファイル)\n",
    "#==========================================="
   ]
  },
  {
   "cell_type": "code",
   "execution_count": 99,
   "metadata": {
    "collapsed": false
   },
   "outputs": [
    {
     "name": "stdout",
     "output_type": "stream",
     "text": [
      "Hello!\n",
      "World!\n",
      "あいうえお\n",
      "19\n"
     ]
    }
   ],
   "source": [
    "# fileobj.write(text)\n",
    "# text : 引数にとった文字列をファイルに書き込む\n",
    "# param : text - 書き込む文字列を指定\n",
    "# return : int - 書き込んだ文字数\n",
    "with open(\"hoge.txt\", \"wt\") as f:\n",
    "    ret = f.write(\"Hello!\\nWorld!\\nあいうえお\")\n",
    "read_file(\"hoge.txt\")\n",
    "print(ret)"
   ]
  },
  {
   "cell_type": "code",
   "execution_count": 100,
   "metadata": {
    "collapsed": true
   },
   "outputs": [],
   "source": [
    "# ファイルの読み込み(テキストファイル)\n",
    "#==========================================="
   ]
  },
  {
   "cell_type": "code",
   "execution_count": 101,
   "metadata": {
    "collapsed": false
   },
   "outputs": [
    {
     "name": "stdout",
     "output_type": "stream",
     "text": [
      "Hello!\n",
      "World!\n",
      "あいうえお\n"
     ]
    }
   ],
   "source": [
    "# fileobj.read(chunk)\n",
    "# text : ファイル全体を一度に読みだす。\n",
    "# param : int - 一度に読み込む文字数を指定する\n",
    "# return : str - 読み込んだファイルの内容\n",
    "with open(\"hoge.txt\", \"rt\") as f:\n",
    "    ret = f.read()\n",
    "print(ret)"
   ]
  },
  {
   "cell_type": "code",
   "execution_count": 102,
   "metadata": {
    "collapsed": false
   },
   "outputs": [
    {
     "name": "stdout",
     "output_type": "stream",
     "text": [
      "Hello!\n",
      "World!\n",
      "あいうえお\n"
     ]
    }
   ],
   "source": [
    "# chunckで文字数を指定して読み込む\n",
    "with open(\"hoge.txt\", \"rt\") as f:\n",
    "    ret = \"\"\n",
    "    chunck = 5\n",
    "    while True:\n",
    "        fragment = f.read(chunck)\n",
    "        if not fragment: # ファイルを全て読み込んだ後にread()を呼び出すと、\"\"が返ってくる\n",
    "            break\n",
    "        ret += fragment\n",
    "print(ret)"
   ]
  },
  {
   "cell_type": "code",
   "execution_count": 103,
   "metadata": {
    "collapsed": false
   },
   "outputs": [
    {
     "name": "stdout",
     "output_type": "stream",
     "text": [
      "Hello!\n",
      "World!\n",
      "あいうえお"
     ]
    }
   ],
   "source": [
    "# fileobj.readline()\n",
    "# text : ファイルを1行ずつ読みだす\n",
    "# return : str - ファイルの内容1行\n",
    "## ※注意 : 下のコードはファイルに空行があるとそこで読み込みが止まってしまう\n",
    "with open(\"hoge.txt\", \"rt\") as f:\n",
    "    while True:\n",
    "        line = f.readline()\n",
    "        if not line:\n",
    "            break\n",
    "        print(line, end=\"\")"
   ]
  },
  {
   "cell_type": "code",
   "execution_count": 104,
   "metadata": {
    "collapsed": false
   },
   "outputs": [
    {
     "name": "stdout",
     "output_type": "stream",
     "text": [
      "Hello!\n",
      "World!\n",
      "あいうえお"
     ]
    }
   ],
   "source": [
    "# イテレータを用いたファイルの読み込み\n",
    "# 1行ずつ文字列を返す\n",
    "with open(\"hoge.txt\", \"rt\") as f:\n",
    "    for i in f:\n",
    "        print(i, end=\"\")"
   ]
  },
  {
   "cell_type": "code",
   "execution_count": 105,
   "metadata": {
    "collapsed": false
   },
   "outputs": [
    {
     "name": "stdout",
     "output_type": "stream",
     "text": [
      "['Hello!\\n', 'World!\\n', 'あいうえお']\n"
     ]
    }
   ],
   "source": [
    "# fileobj.readlines()\n",
    "# text : ファイルを読み込み1行文字列のリストを返す\n",
    "# return : list - 1行文字列のリスト\n",
    "with open(\"hoge.txt\", \"rt\") as f:\n",
    "    print(f.readlines())"
   ]
  },
  {
   "cell_type": "code",
   "execution_count": 106,
   "metadata": {
    "collapsed": true
   },
   "outputs": [],
   "source": [
    "import os\n",
    "os.remove(\"hoge.txt\")"
   ]
  },
  {
   "cell_type": "code",
   "execution_count": 107,
   "metadata": {
    "collapsed": true
   },
   "outputs": [],
   "source": [
    "# ファイルの書き込み(バイナリファイル)\n",
    "#===========================================\n",
    "bdata = bytes(range(0,256))"
   ]
  },
  {
   "cell_type": "code",
   "execution_count": 108,
   "metadata": {
    "collapsed": false
   },
   "outputs": [
    {
     "name": "stdout",
     "output_type": "stream",
     "text": [
      "b'\\x00\\x01\\x02\\x03\\x04\\x05\\x06\\x07\\x08\\t\\n\\x0b\\x0c\\r\\x0e\\x0f\\x10\\x11\\x12\\x13\\x14\\x15\\x16\\x17\\x18\\x19\\x1a\\x1b\\x1c\\x1d\\x1e\\x1f !\"#$%&\\'()*+,-./0123456789:;<=>?@ABCDEFGHIJKLMNOPQRSTUVWXYZ[\\\\]^_`abcdefghijklmnopqrstuvwxyz{|}~\\x7f\\x80\\x81\\x82\\x83\\x84\\x85\\x86\\x87\\x88\\x89\\x8a\\x8b\\x8c\\x8d\\x8e\\x8f\\x90\\x91\\x92\\x93\\x94\\x95\\x96\\x97\\x98\\x99\\x9a\\x9b\\x9c\\x9d\\x9e\\x9f\\xa0\\xa1\\xa2\\xa3\\xa4\\xa5\\xa6\\xa7\\xa8\\xa9\\xaa\\xab\\xac\\xad\\xae\\xaf\\xb0\\xb1\\xb2\\xb3\\xb4\\xb5\\xb6\\xb7\\xb8\\xb9\\xba\\xbb\\xbc\\xbd\\xbe\\xbf\\xc0\\xc1\\xc2\\xc3\\xc4\\xc5\\xc6\\xc7\\xc8\\xc9\\xca\\xcb\\xcc\\xcd\\xce\\xcf\\xd0\\xd1\\xd2\\xd3\\xd4\\xd5\\xd6\\xd7\\xd8\\xd9\\xda\\xdb\\xdc\\xdd\\xde\\xdf\\xe0\\xe1\\xe2\\xe3\\xe4\\xe5\\xe6\\xe7\\xe8\\xe9\\xea\\xeb\\xec\\xed\\xee\\xef\\xf0\\xf1\\xf2\\xf3\\xf4\\xf5\\xf6\\xf7\\xf8\\xf9\\xfa\\xfb\\xfc\\xfd\\xfe\\xff'\n"
     ]
    }
   ],
   "source": [
    "with open(\"bin.txt\", \"wb\") as f:\n",
    "    f.write(bdata)\n",
    "read_file(\"bin.txt\", \"b\")"
   ]
  },
  {
   "cell_type": "code",
   "execution_count": 109,
   "metadata": {
    "collapsed": true
   },
   "outputs": [],
   "source": [
    "# ファイルの読み込み(バイナリファイル)\n",
    "#==========================================="
   ]
  },
  {
   "cell_type": "code",
   "execution_count": 110,
   "metadata": {
    "collapsed": false
   },
   "outputs": [
    {
     "name": "stdout",
     "output_type": "stream",
     "text": [
      "b'\\x00\\x01\\x02\\x03\\x04\\x05\\x06\\x07\\x08\\t\\n\\x0b\\x0c\\r\\x0e\\x0f\\x10\\x11\\x12\\x13\\x14\\x15\\x16\\x17\\x18\\x19\\x1a\\x1b\\x1c\\x1d\\x1e\\x1f !\"#$%&\\'()*+,-./0123456789:;<=>?@ABCDEFGHIJKLMNOPQRSTUVWXYZ[\\\\]^_`abcdefghijklmnopqrstuvwxyz{|}~\\x7f\\x80\\x81\\x82\\x83\\x84\\x85\\x86\\x87\\x88\\x89\\x8a\\x8b\\x8c\\x8d\\x8e\\x8f\\x90\\x91\\x92\\x93\\x94\\x95\\x96\\x97\\x98\\x99\\x9a\\x9b\\x9c\\x9d\\x9e\\x9f\\xa0\\xa1\\xa2\\xa3\\xa4\\xa5\\xa6\\xa7\\xa8\\xa9\\xaa\\xab\\xac\\xad\\xae\\xaf\\xb0\\xb1\\xb2\\xb3\\xb4\\xb5\\xb6\\xb7\\xb8\\xb9\\xba\\xbb\\xbc\\xbd\\xbe\\xbf\\xc0\\xc1\\xc2\\xc3\\xc4\\xc5\\xc6\\xc7\\xc8\\xc9\\xca\\xcb\\xcc\\xcd\\xce\\xcf\\xd0\\xd1\\xd2\\xd3\\xd4\\xd5\\xd6\\xd7\\xd8\\xd9\\xda\\xdb\\xdc\\xdd\\xde\\xdf\\xe0\\xe1\\xe2\\xe3\\xe4\\xe5\\xe6\\xe7\\xe8\\xe9\\xea\\xeb\\xec\\xed\\xee\\xef\\xf0\\xf1\\xf2\\xf3\\xf4\\xf5\\xf6\\xf7\\xf8\\xf9\\xfa\\xfb\\xfc\\xfd\\xfe\\xff'\n"
     ]
    }
   ],
   "source": [
    "with open(\"bin.txt\", \"rb\") as f:\n",
    "    print(f.read())"
   ]
  },
  {
   "cell_type": "code",
   "execution_count": 111,
   "metadata": {
    "collapsed": true
   },
   "outputs": [],
   "source": [
    "# seekによる位置の変更\n",
    "#==========================================="
   ]
  },
  {
   "cell_type": "code",
   "execution_count": 112,
   "metadata": {
    "collapsed": false
   },
   "outputs": [
    {
     "name": "stdout",
     "output_type": "stream",
     "text": [
      "0\n"
     ]
    }
   ],
   "source": [
    "# fileobj.tell()\n",
    "# text : 現在のファイルの先頭からのオフセットをバイト単位で返す\n",
    "# return : int - ファイルの先頭からのオフセット(何バイト目にいるか)\n",
    "with open(\"bin.txt\", \"rb\") as f:\n",
    "    print(f.tell())"
   ]
  },
  {
   "cell_type": "code",
   "execution_count": 113,
   "metadata": {
    "collapsed": false
   },
   "outputs": [
    {
     "name": "stdout",
     "output_type": "stream",
     "text": [
      "200\n",
      "230\n",
      "252\n",
      "b'\\xfc\\xfd\\xfe\\xff'\n",
      "4244504319\n"
     ]
    }
   ],
   "source": [
    "# fileobj.seek(offset, origin)\n",
    "# text : ファイル内の別のオフセットに移動する\n",
    "# param : \n",
    "## offset : int - オフセット(次に読み込むバイトを指定)\n",
    "## origin : 0 - 先頭からoffset目に移動、1 - 現在の位置からoffset目に移動、2 - 末尾からoffset目に移動\n",
    "# return : int - 現在のoffsetを返す\n",
    "with open(\"bin.txt\", \"rb\") as f:\n",
    "    print(f.seek(200, 0))\n",
    "    print(f.seek(30, 1))\n",
    "    print(f.seek(-4, 2)) # マイナスの値を指定するとオフセットが前に移動する。\n",
    "    ret = f.read()\n",
    "    print(ret)\n",
    "\n",
    "import struct\n",
    "byte_num = struct.unpack(\">L\", ret)\n",
    "print(byte_num[0])"
   ]
  },
  {
   "cell_type": "code",
   "execution_count": 114,
   "metadata": {
    "collapsed": true
   },
   "outputs": [],
   "source": [
    "import os\n",
    "os.remove(\"bin.txt\")"
   ]
  },
  {
   "cell_type": "code",
   "execution_count": null,
   "metadata": {
    "collapsed": true
   },
   "outputs": [],
   "source": []
  }
 ],
 "metadata": {
  "kernelspec": {
   "display_name": "Python 3",
   "language": "python",
   "name": "python3"
  },
  "language_info": {
   "codemirror_mode": {
    "name": "ipython",
    "version": 3
   },
   "file_extension": ".py",
   "mimetype": "text/x-python",
   "name": "python",
   "nbconvert_exporter": "python",
   "pygments_lexer": "ipython3",
   "version": "3.5.1+"
  }
 },
 "nbformat": 4,
 "nbformat_minor": 0
}
