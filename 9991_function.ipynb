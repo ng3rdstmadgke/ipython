{
 "cells": [
  {
   "cell_type": "code",
   "execution_count": 1,
   "metadata": {
    "collapsed": true
   },
   "outputs": [],
   "source": [
    "# ===================================\n",
    "# 関数\n",
    "# ==================================="
   ]
  },
  {
   "cell_type": "code",
   "execution_count": 2,
   "metadata": {
    "collapsed": false
   },
   "outputs": [
    {
     "data": {
      "text/plain": [
       "'We are the knights who say: Ni!'"
      ]
     },
     "execution_count": 2,
     "metadata": {},
     "output_type": "execute_result"
    }
   ],
   "source": [
    "# 関数内関数\n",
    "# ===================================\n",
    "# 関数を他の関数の中で定義する。ループやコードの重複を避けるために役立つ\n",
    "def knights(saying):\n",
    "    def inner(quote):\n",
    "        return \"We are the knights who say: {}\".format(quote)\n",
    "    return inner(saying)\n",
    "knights(\"Ni!\")"
   ]
  },
  {
   "cell_type": "code",
   "execution_count": 3,
   "metadata": {
    "collapsed": false
   },
   "outputs": [
    {
     "name": "stdout",
     "output_type": "stream",
     "text": [
      "<class 'function'> We are the knights who say: Hello\n",
      "<class 'function'> We are the knights who say: World\n"
     ]
    }
   ],
   "source": [
    "# クロージャー\n",
    "# ===================================\n",
    "# 他の関数によって動的に生成される関数。関数の外で作られた変数の値を覚えておいたり、変えたりすることができる\n",
    "# 先ほどとの違いは2点\n",
    "# 1. innerは引数を要求せず、外側の関数に対するsaying引数を直接扱う\n",
    "# 2. innerを呼び出すのではなく、その関数名を返す\n",
    "def knights(saying):\n",
    "    def inner():\n",
    "        return \"We are the knights who say: {}\".format(saying)\n",
    "    return inner\n",
    "\n",
    "a = knights(\"Hello\")\n",
    "b = knights(\"World\")\n",
    "print(type(a), a())\n",
    "print(type(b), b())\n",
    "# aとbは自分たちが作られるときに使われていたsayingの内容を覚えている"
   ]
  },
  {
   "cell_type": "code",
   "execution_count": 4,
   "metadata": {
    "collapsed": false
   },
   "outputs": [
    {
     "name": "stdout",
     "output_type": "stream",
     "text": [
      "Spam!\n",
      "Ham!\n",
      "Egg!\n",
      "Spam!\n",
      "Ham!\n",
      "Egg!\n"
     ]
    }
   ],
   "source": [
    "# 無名関数・ラムダ\n",
    "# ===================================\n",
    "# ラムダ関数とはひとつの文で表現される無名関数\n",
    "words = [\"spam\", \"ham\", \"egg\"]\n",
    "def edit_story(words, func):\n",
    "    for word in words:\n",
    "        print(func(word))\n",
    "\n",
    "# ラムダを使わない例\n",
    "def enliven(word):\n",
    "    return word.capitalize() + \"!\"\n",
    "\n",
    "edit_story(words, enliven)\n",
    "\n",
    "# ラムダを使用\n",
    "# lambda <引数>: <return値>\n",
    "edit_story(words, lambda word: word.capitalize() + \"!\")"
   ]
  },
  {
   "cell_type": "code",
   "execution_count": 5,
   "metadata": {
    "collapsed": false
   },
   "outputs": [
    {
     "name": "stdout",
     "output_type": "stream",
     "text": [
      "<generator object my_range at 0x7f346d7b5830>\n",
      "1\n",
      "2\n",
      "3\n",
      "4\n"
     ]
    }
   ],
   "source": [
    "# ジェネレータ\n",
    "# ===================================\n",
    "# Pyhonのシーケンスを作成するオブジェクト。\n",
    "# ジェネレータは通常の関数と異なり、値がメモリ上に保存されない。\n",
    "# 呼び出されるたびに値を生成して、その値を返す。最後まで値を生成し終わると終了する。\n",
    "# そのため、ジェネレータは一度しか実行できない。\n",
    "def my_range(first=0, last=10, step=1):\n",
    "    number = first\n",
    "    while number < last:\n",
    "        yield number\n",
    "        number += step\n",
    "\n",
    "ranger = my_range(1,5)\n",
    "print(ranger)\n",
    "\n",
    "# ジェネレータオブジェクトを対象としてforによる反復処理を行うことができる\n",
    "for i in ranger:\n",
    "    print(i)"
   ]
  },
  {
   "cell_type": "code",
   "execution_count": 6,
   "metadata": {
    "collapsed": false
   },
   "outputs": [
    {
     "name": "stdout",
     "output_type": "stream",
     "text": [
      "Running function: add_ints\n",
      "Positional arguments: (5, 3)\n",
      "Keyword arguments: {}\n",
      "Result: 8\n",
      "Running function: add_ints\n",
      "Positional arguments: (5, 8)\n",
      "Keyword arguments: {}\n",
      "Result: 13\n"
     ]
    },
    {
     "data": {
      "text/plain": [
       "13"
      ]
     },
     "execution_count": 6,
     "metadata": {},
     "output_type": "execute_result"
    }
   ],
   "source": [
    "# デコレータ\n",
    "# ===================================\n",
    "# 関数を引数としてとり、前後に処理を加えた別の関数を返す。\n",
    "\n",
    "# デコレータ\n",
    "def document_it(func):\n",
    "    def new_function(*args, **kwargs):\n",
    "        print(\"Running function:\", func.__name__)\n",
    "        print(\"Positional arguments:\", args)\n",
    "        print(\"Keyword arguments:\", kwargs)\n",
    "        result = func(*args, **kwargs)\n",
    "        print(\"Result:\", result)\n",
    "        return result\n",
    "    return new_function\n",
    "\n",
    "\n",
    "#### デコレータを実行1(手動で実行)\n",
    "def add_ints(a, b):\n",
    "    return a + b\n",
    "# new_functionという関数オブジェクトを返す\n",
    "cooler_add_ints = document_it(add_ints)\n",
    "# 関数オブジェクトに()をつけて実行する\n",
    "cooler_add_ints(5, 3)\n",
    "\n",
    "#### デコレータを実行2\n",
    "@document_it\n",
    "def add_ints(a, b):\n",
    "    return a + b\n",
    "\n",
    "add_ints(5, 8)"
   ]
  },
  {
   "cell_type": "code",
   "execution_count": 7,
   "metadata": {
    "collapsed": true
   },
   "outputs": [],
   "source": [
    "# 引数\n",
    "# ==================================="
   ]
  },
  {
   "cell_type": "code",
   "execution_count": 8,
   "metadata": {
    "collapsed": false
   },
   "outputs": [
    {
     "name": "stdout",
     "output_type": "stream",
     "text": [
      "id : 1, name: mido, greet: hey\n",
      "id : 1, name: mido, greet: hey\n",
      "id : 1, name: mido, greet: hello\n"
     ]
    }
   ],
   "source": [
    "def student(id, name, greet=\"hello\"):\n",
    "    print(\"id : {}, name: {}, greet: {}\".format(id, name, greet))\n",
    "\n",
    "# 位置引数(仮引数の順番通りに実引数を入力する)\n",
    "student(1, \"mido\", \"hey\")\n",
    "\n",
    "# キーワード引数(仮引数を指定して実引数を入力する)\n",
    "student(name=\"mido\", id=1, greet=\"hey\")\n",
    "    \n",
    "# デフォルト引数\n",
    "student(1, \"mido\")"
   ]
  },
  {
   "cell_type": "code",
   "execution_count": 11,
   "metadata": {
    "collapsed": false
   },
   "outputs": [
    {
     "name": "stdout",
     "output_type": "stream",
     "text": [
      "(1, 'mido', [1, 2])\n",
      "{'name': 'k-ta', 'point': [1, 2, 3], 'id': 1}\n"
     ]
    }
   ],
   "source": [
    "# 可変長引数\n",
    "# 仮引数に*hogeを取ると、位置引数はhogeにタプルとしてまとめられる。\n",
    "# 仮引数に**hogeを取ると、キーワード引数はhogeにdictとしてまとめられる。\n",
    "def sample(*args, **kwargs):\n",
    "    arg_tuple = args\n",
    "    arg_dict = kwargs\n",
    "    print(arg_tuple)\n",
    "    print(arg_dict)\n",
    "\n",
    "sample(1, \"mido\", [1,2], id=1, name=\"k-ta\", point=[1,2,3])"
   ]
  },
  {
   "cell_type": "code",
   "execution_count": 12,
   "metadata": {
    "collapsed": true
   },
   "outputs": [],
   "source": [
    "# docstring\n",
    "# ==================================="
   ]
  },
  {
   "cell_type": "code",
   "execution_count": 14,
   "metadata": {
    "collapsed": false
   },
   "outputs": [
    {
     "name": "stdout",
     "output_type": "stream",
     "text": [
      "hello\n",
      "\n",
      "    echoは与えられた引数を表示する\n",
      "    \n"
     ]
    }
   ],
   "source": [
    "# 関数定義のドキュメントを表示する\n",
    "def echo(body):\n",
    "    \"\"\"\n",
    "    echoは与えられた引数を表示する\n",
    "    \"\"\"\n",
    "    print(body)\n",
    "    print(echo.__doc__)\n",
    "\n",
    "echo(\"hello\")"
   ]
  },
  {
   "cell_type": "code",
   "execution_count": 15,
   "metadata": {
    "collapsed": true
   },
   "outputs": [],
   "source": [
    "# 名前空間\n",
    "# ==================================="
   ]
  },
  {
   "cell_type": "code",
   "execution_count": 16,
   "metadata": {
    "collapsed": false
   },
   "outputs": [
    {
     "name": "stdout",
     "output_type": "stream",
     "text": [
      "fruitbat\n",
      "wombat\n",
      "wombat\n"
     ]
    },
    {
     "name": "stderr",
     "output_type": "stream",
     "text": [
      "<ipython-input-16-dda455f1f196>:6: SyntaxWarning: name 'animal' is used prior to global declaration\n",
      "  global animal\n"
     ]
    }
   ],
   "source": [
    "### 関数内からグローバル変数を書き換える\n",
    "# global <hoge>でローカル名前空間からグローバル変数にアクセスする。\n",
    "animal = \"fruitbat\"\n",
    "def change_global():\n",
    "    print(animal)\n",
    "    global animal\n",
    "    animal = \"wombat\"\n",
    "    print(animal)\n",
    "change_global()\n",
    "print(animal)"
   ]
  },
  {
   "cell_type": "code",
   "execution_count": 17,
   "metadata": {
    "collapsed": false
   },
   "outputs": [
    {
     "name": "stdout",
     "output_type": "stream",
     "text": [
      "{'animal': 'wombat'}\n",
      "fruitbat\n"
     ]
    }
   ],
   "source": [
    "# local()はローカル名前空間の内容を示す辞書を返す\n",
    "# global()はグローバル名前空間の内容を示す辞書を返す\n",
    "animal = \"fruitbat\"\n",
    "def change_local():\n",
    "    animal = \"wombat\"\n",
    "    print(locals())\n",
    "change_local()\n",
    "print(globals()[\"animal\"])"
   ]
  },
  {
   "cell_type": "code",
   "execution_count": 18,
   "metadata": {
    "collapsed": false
   },
   "outputs": [
    {
     "data": {
      "text/plain": [
       "dict_keys(['ranger', '_i12', '_sh', 'echo', 'cooler_add_ints', 'get_ipython', '_i', '__spec__', '_oh', 'change_global', 'my_range', '_i15', '_6', '_iii', '__', '_i8', '_i9', '_i13', '_2', 'add_ints', '__loader__', '_i10', '_i6', '__name__', 'b', 'knights', '_i17', 'enliven', '_i2', '_i14', '__builtins__', '_i11', 'words', '__doc__', 'document_it', '__package__', 'i', 'In', 'edit_story', '_i1', '_dh', 'animal', 'quit', 'exit', 'student', '_', '_i18', '_i5', 'Out', '__builtin__', 'change_local', '_i3', '_ih', 'sample', '___', '_i16', '_i7', '_i4', 'a', '_ii'])"
      ]
     },
     "execution_count": 18,
     "metadata": {},
     "output_type": "execute_result"
    }
   ],
   "source": [
    "globals().keys()"
   ]
  },
  {
   "cell_type": "code",
   "execution_count": 19,
   "metadata": {
    "collapsed": false
   },
   "outputs": [
    {
     "name": "stdout",
     "output_type": "stream",
     "text": [
      "function name :  __main__\n",
      "docstring :  Automatically created module for IPython interactive environment\n"
     ]
    }
   ],
   "source": [
    "# pythonが使う変数\n",
    "# 前後が__になっている名前はpythonが使う変数として予約されている\n",
    "def amazing():\n",
    "    \"\"\"\n",
    "    it's amazing\n",
    "    \"\"\"\n",
    "    print(\"function name : \", __name__)\n",
    "    print(\"docstring : \", __doc__)\n",
    "amazing()"
   ]
  },
  {
   "cell_type": "code",
   "execution_count": null,
   "metadata": {
    "collapsed": true
   },
   "outputs": [],
   "source": []
  }
 ],
 "metadata": {
  "kernelspec": {
   "display_name": "Python 3",
   "language": "python",
   "name": "python3"
  },
  "language_info": {
   "codemirror_mode": {
    "name": "ipython",
    "version": 3
   },
   "file_extension": ".py",
   "mimetype": "text/x-python",
   "name": "python",
   "nbconvert_exporter": "python",
   "pygments_lexer": "ipython3",
   "version": "3.5.1+"
  }
 },
 "nbformat": 4,
 "nbformat_minor": 0
}
